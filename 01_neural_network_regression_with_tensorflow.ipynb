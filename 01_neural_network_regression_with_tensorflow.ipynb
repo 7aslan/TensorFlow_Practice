{
  "nbformat": 4,
  "nbformat_minor": 0,
  "metadata": {
    "colab": {
      "provenance": [],
      "toc_visible": true,
      "mount_file_id": "1SqvIps_6k-CJxLNiEUzA2TGGtUqkAusb",
      "authorship_tag": "ABX9TyM458fodYg5jv0HMP20JnNA",
      "include_colab_link": true
    },
    "kernelspec": {
      "name": "python3",
      "display_name": "Python 3"
    },
    "language_info": {
      "name": "python"
    },
    "accelerator": "GPU",
    "gpuClass": "standard"
  },
  "cells": [
    {
      "cell_type": "markdown",
      "metadata": {
        "id": "view-in-github",
        "colab_type": "text"
      },
      "source": [
        "<a href=\"https://colab.research.google.com/github/7aslan/TensrFlow_Practice/blob/main/01_neural_network_regression_with_tensorflow.ipynb\" target=\"_parent\"><img src=\"https://colab.research.google.com/assets/colab-badge.svg\" alt=\"Open In Colab\"/></a>"
      ]
    },
    {
      "cell_type": "markdown",
      "source": [
        "### Introduction to regression with neural netwoks in Tensorflow\n",
        "Regression : Predicting a numerical variable based on some other combination of variables , even shorter..... predicting a number"
      ],
      "metadata": {
        "id": "r-RQj4HnZeom"
      }
    },
    {
      "cell_type": "code",
      "source": [
        "# Import TensorFlow\n",
        "import tensorflow as tf\n",
        "print(tf.__version__)"
      ],
      "metadata": {
        "colab": {
          "base_uri": "https://localhost:8080/"
        },
        "id": "ZJmxtPMEZz2k",
        "outputId": "0194b73c-8ccd-4121-ec73-447b9754d393"
      },
      "execution_count": null,
      "outputs": [
        {
          "output_type": "stream",
          "name": "stdout",
          "text": [
            "2.11.0\n"
          ]
        }
      ]
    },
    {
      "cell_type": "markdown",
      "source": [
        "## Creatin data to view and fit"
      ],
      "metadata": {
        "id": "Bo-XWsRDaFuf"
      }
    },
    {
      "cell_type": "code",
      "source": [
        "import numpy as np\n",
        "import matplotlib.pyplot as plt\n",
        "\n",
        "# Create features\n",
        "X = np.array([-7.0, -4.0, -1.0, 2.0, 5.0, 8.0, 11.0, 14.0])\n",
        "\n",
        "# create labels\n",
        "y = np.array([3.0, 6.0, 9.0, 12.0, 15.0, 18.0, 21.0, 24.0])\n",
        "\n",
        "#Visualize it\n",
        "plt.scatter(X,y)"
      ],
      "metadata": {
        "colab": {
          "base_uri": "https://localhost:8080/",
          "height": 452
        },
        "id": "xBAAbLuQaQKl",
        "outputId": "1af0ffbb-9d25-480f-f87a-6104d0665779"
      },
      "execution_count": null,
      "outputs": [
        {
          "output_type": "execute_result",
          "data": {
            "text/plain": [
              "<matplotlib.collections.PathCollection at 0x7fc237801130>"
            ]
          },
          "metadata": {},
          "execution_count": 5
        },
        {
          "output_type": "display_data",
          "data": {
            "text/plain": [
              "<Figure size 640x480 with 1 Axes>"
            ],
            "image/png": "[encoded data removed]"
          },
          "metadata": {}
        }
      ]
    },
    {
      "cell_type": "code",
      "source": [
        "y == X +10"
      ],
      "metadata": {
        "colab": {
          "base_uri": "https://localhost:8080/"
        },
        "id": "pXMeD6-ka31f",
        "outputId": "197d8faa-e983-4a4e-a502-8fcd6a9cbf2e"
      },
      "execution_count": null,
      "outputs": [
        {
          "output_type": "execute_result",
          "data": {
            "text/plain": [
              "array([ True,  True,  True,  True,  True,  True,  True,  True])"
            ]
          },
          "metadata": {},
          "execution_count": 6
        }
      ]
    },
    {
      "cell_type": "markdown",
      "source": [
        "## Input and Output Shapes"
      ],
      "metadata": {
        "id": "QiykcLVYbJi4"
      }
    },
    {
      "cell_type": "code",
      "source": [
        "# Create a demo tensor for our housing price prediction problem\n",
        "house_info = tf.constant([\"bedroom\", \"bathroom\",\"garage\"])\n",
        "house_price = tf.constant([939700])\n",
        "house_info , house_price"
      ],
      "metadata": {
        "colab": {
          "base_uri": "https://localhost:8080/"
        },
        "id": "7T39MGr2bTwH",
        "outputId": "9734594c-a968-4203-c39d-49521c880448"
      },
      "execution_count": null,
      "outputs": [
        {
          "output_type": "execute_result",
          "data": {
            "text/plain": [
              "(<tf.Tensor: shape=(3,), dtype=string, numpy=array([b'bedroom', b'bathroom', b'garage'], dtype=object)>,\n",
              " <tf.Tensor: shape=(1,), dtype=int32, numpy=array([939700], dtype=int32)>)"
            ]
          },
          "metadata": {},
          "execution_count": 7
        }
      ]
    },
    {
      "cell_type": "code",
      "source": [
        "X[0], y[0]"
      ],
      "metadata": {
        "colab": {
          "base_uri": "https://localhost:8080/"
        },
        "id": "pu-nquYPcNSj",
        "outputId": "6c37c1ea-18b2-49e9-8ade-98bef6d066ae"
      },
      "execution_count": null,
      "outputs": [
        {
          "output_type": "execute_result",
          "data": {
            "text/plain": [
              "(-7.0, 3.0)"
            ]
          },
          "metadata": {},
          "execution_count": 8
        }
      ]
    },
    {
      "cell_type": "code",
      "source": [
        "X[1], y[1]"
      ],
      "metadata": {
        "colab": {
          "base_uri": "https://localhost:8080/"
        },
        "id": "KUrxWZgtc7ch",
        "outputId": "9929c75a-c688-4a97-84d3-52ad0e164b82"
      },
      "execution_count": null,
      "outputs": [
        {
          "output_type": "execute_result",
          "data": {
            "text/plain": [
              "(-4.0, 6.0)"
            ]
          },
          "metadata": {},
          "execution_count": 9
        }
      ]
    },
    {
      "cell_type": "code",
      "source": [
        "input_shape = X[0].shape\n",
        "output_shape = y[0].shape\n",
        "input_shape , output_shape"
      ],
      "metadata": {
        "colab": {
          "base_uri": "https://localhost:8080/"
        },
        "id": "a7RLCkxMbysr",
        "outputId": "a8bb5db9-a789-45b6-c989-aede48c000f4"
      },
      "execution_count": null,
      "outputs": [
        {
          "output_type": "execute_result",
          "data": {
            "text/plain": [
              "((), ())"
            ]
          },
          "metadata": {},
          "execution_count": 10
        }
      ]
    },
    {
      "cell_type": "code",
      "source": [
        "X[0].ndim\n"
      ],
      "metadata": {
        "colab": {
          "base_uri": "https://localhost:8080/"
        },
        "id": "DWJGajmzcDbI",
        "outputId": "c439ce87-bad9-4660-96d0-d07ee9c93958"
      },
      "execution_count": null,
      "outputs": [
        {
          "output_type": "execute_result",
          "data": {
            "text/plain": [
              "0"
            ]
          },
          "metadata": {},
          "execution_count": 11
        }
      ]
    },
    {
      "cell_type": "code",
      "source": [
        "X[0],y[0]"
      ],
      "metadata": {
        "colab": {
          "base_uri": "https://localhost:8080/"
        },
        "id": "pPnKuJ_CdQXf",
        "outputId": "aba8eb45-090d-4a6c-976c-2fd9227cb4c2"
      },
      "execution_count": null,
      "outputs": [
        {
          "output_type": "execute_result",
          "data": {
            "text/plain": [
              "(-7.0, 3.0)"
            ]
          },
          "metadata": {},
          "execution_count": 12
        }
      ]
    },
    {
      "cell_type": "code",
      "source": [
        "# Turn our numpy arrays into tensors:\n",
        "X = tf.cast(tf.constant(X), dtype=tf.float32)\n",
        "y = tf.cast(tf.constant(y), dtype=tf.float32)\n",
        "X, y"
      ],
      "metadata": {
        "colab": {
          "base_uri": "https://localhost:8080/"
        },
        "id": "BCMbVxcFdTSl",
        "outputId": "4238e2cb-2939-49f2-a71a-0d0914605757"
      },
      "execution_count": null,
      "outputs": [
        {
          "output_type": "execute_result",
          "data": {
            "text/plain": [
              "(<tf.Tensor: shape=(8,), dtype=float32, numpy=array([-7., -4., -1.,  2.,  5.,  8., 11., 14.], dtype=float32)>,\n",
              " <tf.Tensor: shape=(8,), dtype=float32, numpy=array([ 3.,  6.,  9., 12., 15., 18., 21., 24.], dtype=float32)>)"
            ]
          },
          "metadata": {},
          "execution_count": 13
        }
      ]
    },
    {
      "cell_type": "code",
      "source": [
        "input_shape = X[0].shape\n",
        "output_Shape = y[0].shape\n",
        "input_shape, output_shape"
      ],
      "metadata": {
        "colab": {
          "base_uri": "https://localhost:8080/"
        },
        "id": "wMwd2DuPXYY5",
        "outputId": "dbc9abd9-9d60-4b31-c7a8-068e8eb393ed"
      },
      "execution_count": null,
      "outputs": [
        {
          "output_type": "execute_result",
          "data": {
            "text/plain": [
              "(TensorShape([]), ())"
            ]
          },
          "metadata": {},
          "execution_count": 14
        }
      ]
    },
    {
      "cell_type": "code",
      "source": [
        "plt.scatter(X,y)"
      ],
      "metadata": {
        "colab": {
          "base_uri": "https://localhost:8080/",
          "height": 452
        },
        "id": "19l-iYtxYJor",
        "outputId": "0c79294d-5492-4918-cc57-8eb8ff899c0c"
      },
      "execution_count": null,
      "outputs": [
        {
          "output_type": "execute_result",
          "data": {
            "text/plain": [
              "<matplotlib.collections.PathCollection at 0x7fc22c983f10>"
            ]
          },
          "metadata": {},
          "execution_count": 15
        },
        {
          "output_type": "display_data",
          "data": {
            "text/plain": [
              "<Figure size 640x480 with 1 Axes>"
            ],
            "image/png": "[encoded data removed]"
          },
          "metadata": {}
        }
      ]
    },
    {
      "cell_type": "markdown",
      "source": [
        "## Steps in modelling with TensorFlow\n",
        "1. ** Creating a model** - define the input and output layers , as well as the hidden layers of a deep learning model.\n",
        "2. **Compiling a model** - define the loss function ( in other words , the function which tells our model how wrong it is) and the optimizer (tells our model how to improve the patterns its learning) and evaluation metrics (what we can use to interpret the performance of or model).\n",
        "3. **Fitting a model** - letting the model try to find patterns between X & Y (features and labels)."
      ],
      "metadata": {
        "id": "46aGhlF8YTyC"
      }
    },
    {
      "cell_type": "code",
      "source": [
        "# Set random seed\n",
        "tf.random.set_seed(42)\n",
        "\n",
        "# 1. Create a model using the Sequential API\n",
        "model = tf.keras.Sequential([\n",
        "    tf.keras.layers.Dense(1,)\n",
        "])\n",
        "\n",
        "# Compile the model\n",
        "model.compile(loss=tf.keras.losses.mae, # mae is short for mean absolute error\n",
        "              optimizer = tf.keras.optimizers.SGD(),# sgd is short for stochastic gradient descent  \n",
        "              metrics=[\"mae\"] ) \n",
        "\n",
        "# 3. Fit the model\n",
        "model.fit(tf.expand_dims(X, axis=-1), y, epochs=5)"
      ],
      "metadata": {
        "colab": {
          "base_uri": "https://localhost:8080/"
        },
        "id": "iNLt-Wk3YhX3",
        "outputId": "0d014b90-d510-4390-8699-887afff2eb18"
      },
      "execution_count": null,
      "outputs": [
        {
          "output_type": "stream",
          "name": "stdout",
          "text": [
            "Epoch 1/5\n",
            "1/1 [==============================] - 4s 4s/step - loss: 10.9939 - mae: 10.9939\n",
            "Epoch 2/5\n",
            "1/1 [==============================] - 0s 11ms/step - loss: 10.8614 - mae: 10.8614\n",
            "Epoch 3/5\n",
            "1/1 [==============================] - 0s 10ms/step - loss: 10.7289 - mae: 10.7289\n",
            "Epoch 4/5\n",
            "1/1 [==============================] - 0s 10ms/step - loss: 10.5964 - mae: 10.5964\n",
            "Epoch 5/5\n",
            "1/1 [==============================] - 0s 10ms/step - loss: 10.4639 - mae: 10.4639\n"
          ]
        },
        {
          "output_type": "execute_result",
          "data": {
            "text/plain": [
              "<keras.callbacks.History at 0x7fc2bc1269a0>"
            ]
          },
          "metadata": {},
          "execution_count": 16
        }
      ]
    },
    {
      "cell_type": "code",
      "source": [
        "# Check out X and y\n",
        "X, y"
      ],
      "metadata": {
        "colab": {
          "base_uri": "https://localhost:8080/"
        },
        "id": "JDVsVDagZ6yj",
        "outputId": "51b0dba5-c603-4aad-b72a-9fd3fb4f0c0e"
      },
      "execution_count": null,
      "outputs": [
        {
          "output_type": "execute_result",
          "data": {
            "text/plain": [
              "(<tf.Tensor: shape=(8,), dtype=float32, numpy=array([-7., -4., -1.,  2.,  5.,  8., 11., 14.], dtype=float32)>,\n",
              " <tf.Tensor: shape=(8,), dtype=float32, numpy=array([ 3.,  6.,  9., 12., 15., 18., 21., 24.], dtype=float32)>)"
            ]
          },
          "metadata": {},
          "execution_count": 17
        }
      ]
    },
    {
      "cell_type": "code",
      "source": [
        "# Try and make a prediction using our model\n",
        "y_pred = model.predict([17.0])\n",
        "y_pred"
      ],
      "metadata": {
        "colab": {
          "base_uri": "https://localhost:8080/"
        },
        "id": "6NBnycd2gVx-",
        "outputId": "59a9e901-319b-4c20-cf75-a13f862e4f54"
      },
      "execution_count": null,
      "outputs": [
        {
          "output_type": "stream",
          "name": "stdout",
          "text": [
            "1/1 [==============================] - 0s 137ms/step\n"
          ]
        },
        {
          "output_type": "execute_result",
          "data": {
            "text/plain": [
              "array([[15.197509]], dtype=float32)"
            ]
          },
          "metadata": {},
          "execution_count": 18
        }
      ]
    },
    {
      "cell_type": "markdown",
      "source": [
        "## Improving our model\n",
        "\n",
        "We can improve our model by altering the steps we took to create a model:\n",
        "\n",
        "1. **Creating a model** - here we might add more layers , increase the number of hidden units ( all called neurons) within each of the hidden layers , change the activation function of each layer\n",
        "2. **Compiling model** - here we might change the optimization function or perhaps the **learning rate ** of the optimization function.\n",
        "3. **Fitting a model** - here we might fit a model for more epochs (leave it training for longer) or on more data (give the model more examples to learn from )\n",
        "\n"
      ],
      "metadata": {
        "id": "T8SEASn-ghKQ"
      }
    },
    {
      "cell_type": "code",
      "source": [
        "# Let's rebuild the model:\n",
        "# 1. Create the model\n",
        "model = tf.keras.Sequential([\n",
        "    tf.keras.layers.Dense(1)\n",
        "])\n",
        "\n",
        "# 2. Compile the model\n",
        "model.compile(loss=tf.keras.losses.mae, \n",
        "              optimizer = tf.keras.optimizers.SGD(),\n",
        "              metrics=[\"mae\"])\n",
        "# 3. Fit the model:\n",
        "model.fit(tf.expand_dims(X, axis=-1), y, epochs = 100)"
      ],
      "metadata": {
        "colab": {
          "base_uri": "https://localhost:8080/"
        },
        "id": "8jGAVYxVjuLo",
        "outputId": "65c937b1-dec6-40e1-8856-5513a484b7b0"
      },
      "execution_count": null,
      "outputs": [
        {
          "output_type": "stream",
          "name": "stdout",
          "text": [
            "Epoch 1/100\n",
            "1/1 [==============================] - 0s 294ms/step - loss: 10.3734 - mae: 10.3734\n",
            "Epoch 2/100\n",
            "1/1 [==============================] - 0s 13ms/step - loss: 10.2409 - mae: 10.2409\n",
            "Epoch 3/100\n",
            "1/1 [==============================] - 0s 10ms/step - loss: 10.1084 - mae: 10.1084\n",
            "Epoch 4/100\n",
            "1/1 [==============================] - 0s 11ms/step - loss: 9.9759 - mae: 9.9759\n",
            "Epoch 5/100\n",
            "1/1 [==============================] - 0s 10ms/step - loss: 9.8434 - mae: 9.8434\n",
            "Epoch 6/100\n",
            "1/1 [==============================] - 0s 9ms/step - loss: 9.7109 - mae: 9.7109\n",
            "Epoch 7/100\n",
            "1/1 [==============================] - 0s 10ms/step - loss: 9.5784 - mae: 9.5784\n",
            "Epoch 8/100\n",
            "1/1 [==============================] - 0s 9ms/step - loss: 9.4459 - mae: 9.4459\n",
            "Epoch 9/100\n",
            "1/1 [==============================] - 0s 10ms/step - loss: 9.3134 - mae: 9.3134\n",
            "Epoch 10/100\n",
            "1/1 [==============================] - 0s 11ms/step - loss: 9.1809 - mae: 9.1809\n",
            "Epoch 11/100\n",
            "1/1 [==============================] - 0s 13ms/step - loss: 9.0484 - mae: 9.0484\n",
            "Epoch 12/100\n",
            "1/1 [==============================] - 0s 9ms/step - loss: 8.9159 - mae: 8.9159\n",
            "Epoch 13/100\n",
            "1/1 [==============================] - 0s 9ms/step - loss: 8.7834 - mae: 8.7834\n",
            "Epoch 14/100\n",
            "1/1 [==============================] - 0s 10ms/step - loss: 8.6509 - mae: 8.6509\n",
            "Epoch 15/100\n",
            "1/1 [==============================] - 0s 9ms/step - loss: 8.5184 - mae: 8.5184\n",
            "Epoch 16/100\n",
            "1/1 [==============================] - 0s 10ms/step - loss: 8.3859 - mae: 8.3859\n",
            "Epoch 17/100\n",
            "1/1 [==============================] - 0s 12ms/step - loss: 8.2534 - mae: 8.2534\n",
            "Epoch 18/100\n",
            "1/1 [==============================] - 0s 10ms/step - loss: 8.1209 - mae: 8.1209\n",
            "Epoch 19/100\n",
            "1/1 [==============================] - 0s 10ms/step - loss: 7.9884 - mae: 7.9884\n",
            "Epoch 20/100\n",
            "1/1 [==============================] - 0s 15ms/step - loss: 7.8559 - mae: 7.8559\n",
            "Epoch 21/100\n",
            "1/1 [==============================] - 0s 10ms/step - loss: 7.7234 - mae: 7.7234\n",
            "Epoch 22/100\n",
            "1/1 [==============================] - 0s 10ms/step - loss: 7.5909 - mae: 7.5909\n",
            "Epoch 23/100\n",
            "1/1 [==============================] - 0s 9ms/step - loss: 7.4584 - mae: 7.4584\n",
            "Epoch 24/100\n",
            "1/1 [==============================] - 0s 10ms/step - loss: 7.3275 - mae: 7.3275\n",
            "Epoch 25/100\n",
            "1/1 [==============================] - 0s 9ms/step - loss: 7.3219 - mae: 7.3219\n",
            "Epoch 26/100\n",
            "1/1 [==============================] - 0s 9ms/step - loss: 7.3162 - mae: 7.3162\n",
            "Epoch 27/100\n",
            "1/1 [==============================] - 0s 14ms/step - loss: 7.3106 - mae: 7.3106\n",
            "Epoch 28/100\n",
            "1/1 [==============================] - 0s 9ms/step - loss: 7.3050 - mae: 7.3050\n",
            "Epoch 29/100\n",
            "1/1 [==============================] - 0s 10ms/step - loss: 7.2994 - mae: 7.2994\n",
            "Epoch 30/100\n",
            "1/1 [==============================] - 0s 11ms/step - loss: 7.2938 - mae: 7.2938\n",
            "Epoch 31/100\n",
            "1/1 [==============================] - 0s 10ms/step - loss: 7.2881 - mae: 7.2881\n",
            "Epoch 32/100\n",
            "1/1 [==============================] - 0s 10ms/step - loss: 7.2825 - mae: 7.2825\n",
            "Epoch 33/100\n",
            "1/1 [==============================] - 0s 9ms/step - loss: 7.2769 - mae: 7.2769\n",
            "Epoch 34/100\n",
            "1/1 [==============================] - 0s 18ms/step - loss: 7.2712 - mae: 7.2712\n",
            "Epoch 35/100\n",
            "1/1 [==============================] - 0s 11ms/step - loss: 7.2656 - mae: 7.2656\n",
            "Epoch 36/100\n",
            "1/1 [==============================] - 0s 10ms/step - loss: 7.2600 - mae: 7.2600\n",
            "Epoch 37/100\n",
            "1/1 [==============================] - 0s 9ms/step - loss: 7.2544 - mae: 7.2544\n",
            "Epoch 38/100\n",
            "1/1 [==============================] - 0s 10ms/step - loss: 7.2488 - mae: 7.2488\n",
            "Epoch 39/100\n",
            "1/1 [==============================] - 0s 17ms/step - loss: 7.2431 - mae: 7.2431\n",
            "Epoch 40/100\n",
            "1/1 [==============================] - 0s 8ms/step - loss: 7.2375 - mae: 7.2375\n",
            "Epoch 41/100\n",
            "1/1 [==============================] - 0s 10ms/step - loss: 7.2319 - mae: 7.2319\n",
            "Epoch 42/100\n",
            "1/1 [==============================] - 0s 9ms/step - loss: 7.2263 - mae: 7.2263\n",
            "Epoch 43/100\n",
            "1/1 [==============================] - 0s 9ms/step - loss: 7.2206 - mae: 7.2206\n",
            "Epoch 44/100\n",
            "1/1 [==============================] - 0s 10ms/step - loss: 7.2150 - mae: 7.2150\n",
            "Epoch 45/100\n",
            "1/1 [==============================] - 0s 10ms/step - loss: 7.2094 - mae: 7.2094\n",
            "Epoch 46/100\n",
            "1/1 [==============================] - 0s 10ms/step - loss: 7.2038 - mae: 7.2038\n",
            "Epoch 47/100\n",
            "1/1 [==============================] - 0s 11ms/step - loss: 7.1981 - mae: 7.1981\n",
            "Epoch 48/100\n",
            "1/1 [==============================] - 0s 9ms/step - loss: 7.1925 - mae: 7.1925\n",
            "Epoch 49/100\n",
            "1/1 [==============================] - 0s 9ms/step - loss: 7.1869 - mae: 7.1869\n",
            "Epoch 50/100\n",
            "1/1 [==============================] - 0s 10ms/step - loss: 7.1813 - mae: 7.1813\n",
            "Epoch 51/100\n",
            "1/1 [==============================] - 0s 10ms/step - loss: 7.1756 - mae: 7.1756\n",
            "Epoch 52/100\n",
            "1/1 [==============================] - 0s 10ms/step - loss: 7.1700 - mae: 7.1700\n",
            "Epoch 53/100\n",
            "1/1 [==============================] - 0s 10ms/step - loss: 7.1644 - mae: 7.1644\n",
            "Epoch 54/100\n",
            "1/1 [==============================] - 0s 10ms/step - loss: 7.1588 - mae: 7.1588\n",
            "Epoch 55/100\n",
            "1/1 [==============================] - 0s 10ms/step - loss: 7.1531 - mae: 7.1531\n",
            "Epoch 56/100\n",
            "1/1 [==============================] - 0s 9ms/step - loss: 7.1475 - mae: 7.1475\n",
            "Epoch 57/100\n",
            "1/1 [==============================] - 0s 10ms/step - loss: 7.1419 - mae: 7.1419\n",
            "Epoch 58/100\n",
            "1/1 [==============================] - 0s 9ms/step - loss: 7.1363 - mae: 7.1363\n",
            "Epoch 59/100\n",
            "1/1 [==============================] - 0s 10ms/step - loss: 7.1306 - mae: 7.1306\n",
            "Epoch 60/100\n",
            "1/1 [==============================] - 0s 12ms/step - loss: 7.1250 - mae: 7.1250\n",
            "Epoch 61/100\n",
            "1/1 [==============================] - 0s 10ms/step - loss: 7.1194 - mae: 7.1194\n",
            "Epoch 62/100\n",
            "1/1 [==============================] - 0s 9ms/step - loss: 7.1138 - mae: 7.1138\n",
            "Epoch 63/100\n",
            "1/1 [==============================] - 0s 9ms/step - loss: 7.1081 - mae: 7.1081\n",
            "Epoch 64/100\n",
            "1/1 [==============================] - 0s 10ms/step - loss: 7.1025 - mae: 7.1025\n",
            "Epoch 65/100\n",
            "1/1 [==============================] - 0s 10ms/step - loss: 7.0969 - mae: 7.0969\n",
            "Epoch 66/100\n",
            "1/1 [==============================] - 0s 9ms/step - loss: 7.0913 - mae: 7.0913\n",
            "Epoch 67/100\n",
            "1/1 [==============================] - 0s 11ms/step - loss: 7.0856 - mae: 7.0856\n",
            "Epoch 68/100\n",
            "1/1 [==============================] - 0s 14ms/step - loss: 7.0800 - mae: 7.0800\n",
            "Epoch 69/100\n",
            "1/1 [==============================] - 0s 12ms/step - loss: 7.0744 - mae: 7.0744\n",
            "Epoch 70/100\n",
            "1/1 [==============================] - 0s 12ms/step - loss: 7.0688 - mae: 7.0688\n",
            "Epoch 71/100\n",
            "1/1 [==============================] - 0s 8ms/step - loss: 7.0631 - mae: 7.0631\n",
            "Epoch 72/100\n",
            "1/1 [==============================] - 0s 9ms/step - loss: 7.0575 - mae: 7.0575\n",
            "Epoch 73/100\n",
            "1/1 [==============================] - 0s 9ms/step - loss: 7.0519 - mae: 7.0519\n",
            "Epoch 74/100\n",
            "1/1 [==============================] - 0s 11ms/step - loss: 7.0463 - mae: 7.0463\n",
            "Epoch 75/100\n",
            "1/1 [==============================] - 0s 10ms/step - loss: 7.0406 - mae: 7.0406\n",
            "Epoch 76/100\n",
            "1/1 [==============================] - 0s 10ms/step - loss: 7.0350 - mae: 7.0350\n",
            "Epoch 77/100\n",
            "1/1 [==============================] - 0s 10ms/step - loss: 7.0294 - mae: 7.0294\n",
            "Epoch 78/100\n",
            "1/1 [==============================] - 0s 10ms/step - loss: 7.0238 - mae: 7.0238\n",
            "Epoch 79/100\n",
            "1/1 [==============================] - 0s 9ms/step - loss: 7.0181 - mae: 7.0181\n",
            "Epoch 80/100\n",
            "1/1 [==============================] - 0s 10ms/step - loss: 7.0125 - mae: 7.0125\n",
            "Epoch 81/100\n",
            "1/1 [==============================] - 0s 9ms/step - loss: 7.0069 - mae: 7.0069\n",
            "Epoch 82/100\n",
            "1/1 [==============================] - 0s 9ms/step - loss: 7.0013 - mae: 7.0013\n",
            "Epoch 83/100\n",
            "1/1 [==============================] - 0s 10ms/step - loss: 6.9956 - mae: 6.9956\n",
            "Epoch 84/100\n",
            "1/1 [==============================] - 0s 10ms/step - loss: 6.9900 - mae: 6.9900\n",
            "Epoch 85/100\n",
            "1/1 [==============================] - 0s 10ms/step - loss: 6.9844 - mae: 6.9844\n",
            "Epoch 86/100\n",
            "1/1 [==============================] - 0s 11ms/step - loss: 6.9788 - mae: 6.9788\n",
            "Epoch 87/100\n",
            "1/1 [==============================] - 0s 10ms/step - loss: 6.9731 - mae: 6.9731\n",
            "Epoch 88/100\n",
            "1/1 [==============================] - 0s 20ms/step - loss: 6.9675 - mae: 6.9675\n",
            "Epoch 89/100\n",
            "1/1 [==============================] - 0s 20ms/step - loss: 6.9619 - mae: 6.9619\n",
            "Epoch 90/100\n",
            "1/1 [==============================] - 0s 9ms/step - loss: 6.9563 - mae: 6.9563\n",
            "Epoch 91/100\n",
            "1/1 [==============================] - 0s 9ms/step - loss: 6.9506 - mae: 6.9506\n",
            "Epoch 92/100\n",
            "1/1 [==============================] - 0s 9ms/step - loss: 6.9450 - mae: 6.9450\n",
            "Epoch 93/100\n",
            "1/1 [==============================] - 0s 10ms/step - loss: 6.9394 - mae: 6.9394\n",
            "Epoch 94/100\n",
            "1/1 [==============================] - 0s 11ms/step - loss: 6.9338 - mae: 6.9338\n",
            "Epoch 95/100\n",
            "1/1 [==============================] - 0s 11ms/step - loss: 6.9281 - mae: 6.9281\n",
            "Epoch 96/100\n",
            "1/1 [==============================] - 0s 9ms/step - loss: 6.9225 - mae: 6.9225\n",
            "Epoch 97/100\n",
            "1/1 [==============================] - 0s 10ms/step - loss: 6.9169 - mae: 6.9169\n",
            "Epoch 98/100\n",
            "1/1 [==============================] - 0s 9ms/step - loss: 6.9113 - mae: 6.9113\n",
            "Epoch 99/100\n",
            "1/1 [==============================] - 0s 10ms/step - loss: 6.9056 - mae: 6.9056\n",
            "Epoch 100/100\n",
            "1/1 [==============================] - 0s 10ms/step - loss: 6.9000 - mae: 6.9000\n"
          ]
        },
        {
          "output_type": "execute_result",
          "data": {
            "text/plain": [
              "<keras.callbacks.History at 0x7fc220659940>"
            ]
          },
          "metadata": {},
          "execution_count": 19
        }
      ]
    },
    {
      "cell_type": "code",
      "source": [
        "\n",
        "# Remind ourselves of the data\n",
        "X, y"
      ],
      "metadata": {
        "colab": {
          "base_uri": "https://localhost:8080/"
        },
        "id": "p53k1FIjmsvj",
        "outputId": "9eab22d3-eca3-4360-b198-3cbe0d743276"
      },
      "execution_count": null,
      "outputs": [
        {
          "output_type": "execute_result",
          "data": {
            "text/plain": [
              "(<tf.Tensor: shape=(8,), dtype=float32, numpy=array([-7., -4., -1.,  2.,  5.,  8., 11., 14.], dtype=float32)>,\n",
              " <tf.Tensor: shape=(8,), dtype=float32, numpy=array([ 3.,  6.,  9., 12., 15., 18., 21., 24.], dtype=float32)>)"
            ]
          },
          "metadata": {},
          "execution_count": 20
        }
      ]
    },
    {
      "cell_type": "code",
      "source": [
        "# Lets see if our model 's prediction has improved\n",
        "model.predict([17.0])"
      ],
      "metadata": {
        "colab": {
          "base_uri": "https://localhost:8080/"
        },
        "id": "2IqQ1KgcnMPb",
        "outputId": "bc9600ef-eee2-4ac6-96e1-0585f96f82a4"
      },
      "execution_count": null,
      "outputs": [
        {
          "output_type": "stream",
          "name": "stdout",
          "text": [
            "1/1 [==============================] - 0s 111ms/step\n"
          ]
        },
        {
          "output_type": "execute_result",
          "data": {
            "text/plain": [
              "array([[29.678726]], dtype=float32)"
            ]
          },
          "metadata": {},
          "execution_count": 21
        }
      ]
    },
    {
      "cell_type": "code",
      "source": [
        "# Lets see if we can make another to improve the model \n",
        "#  1. Create the model ( this time with extra hidden layer with 00 hidden units:\n",
        "model = tf.keras.Sequential([\n",
        "    tf.keras.layers.Dense(50, activation = None),\n",
        "    tf.keras.layers.Dense(1)\n",
        "])\n",
        "\n",
        "# 2. Compile the model: \n",
        "model.compile(loss=tf.keras.losses.mae,\n",
        "              optimizer = tf.keras.optimizers.Adam(learning_rate=0.01),\n",
        "              metrics=[\"mae\"])\n",
        "\n",
        "#3. Fit the model\n",
        "model.fit(tf.expand_dims(X,axis=-1), y, epochs=100)"
      ],
      "metadata": {
        "colab": {
          "base_uri": "https://localhost:8080/"
        },
        "id": "MT4uBZ-knWRg",
        "outputId": "fb9ba0ab-307a-432a-d72b-14bed3d3e331"
      },
      "execution_count": null,
      "outputs": [
        {
          "output_type": "stream",
          "name": "stdout",
          "text": [
            "Epoch 1/100\n",
            "1/1 [==============================] - 1s 1s/step - loss: 14.6929 - mae: 14.6929\n",
            "Epoch 2/100\n",
            "1/1 [==============================] - 0s 10ms/step - loss: 13.9804 - mae: 13.9804\n",
            "Epoch 3/100\n",
            "1/1 [==============================] - 0s 10ms/step - loss: 13.2735 - mae: 13.2735\n",
            "Epoch 4/100\n",
            "1/1 [==============================] - 0s 10ms/step - loss: 12.5707 - mae: 12.5707\n",
            "Epoch 5/100\n",
            "1/1 [==============================] - 0s 10ms/step - loss: 11.8692 - mae: 11.8692\n",
            "Epoch 6/100\n",
            "1/1 [==============================] - 0s 12ms/step - loss: 11.1662 - mae: 11.1662\n",
            "Epoch 7/100\n",
            "1/1 [==============================] - 0s 9ms/step - loss: 10.4586 - mae: 10.4586\n",
            "Epoch 8/100\n",
            "1/1 [==============================] - 0s 11ms/step - loss: 9.7436 - mae: 9.7436\n",
            "Epoch 9/100\n",
            "1/1 [==============================] - 0s 10ms/step - loss: 9.0180 - mae: 9.0180\n",
            "Epoch 10/100\n",
            "1/1 [==============================] - 0s 10ms/step - loss: 8.2787 - mae: 8.2787\n",
            "Epoch 11/100\n",
            "1/1 [==============================] - 0s 12ms/step - loss: 7.5226 - mae: 7.5226\n",
            "Epoch 12/100\n",
            "1/1 [==============================] - 0s 10ms/step - loss: 6.7467 - mae: 6.7467\n",
            "Epoch 13/100\n",
            "1/1 [==============================] - 0s 10ms/step - loss: 6.5782 - mae: 6.5782\n",
            "Epoch 14/100\n",
            "1/1 [==============================] - 0s 10ms/step - loss: 6.9248 - mae: 6.9248\n",
            "Epoch 15/100\n",
            "1/1 [==============================] - 0s 9ms/step - loss: 7.1618 - mae: 7.1618\n",
            "Epoch 16/100\n",
            "1/1 [==============================] - 0s 10ms/step - loss: 7.4534 - mae: 7.4534\n",
            "Epoch 17/100\n",
            "1/1 [==============================] - 0s 9ms/step - loss: 7.5282 - mae: 7.5282\n",
            "Epoch 18/100\n",
            "1/1 [==============================] - 0s 9ms/step - loss: 7.4224 - mae: 7.4224\n",
            "Epoch 19/100\n",
            "1/1 [==============================] - 0s 11ms/step - loss: 7.1773 - mae: 7.1773\n",
            "Epoch 20/100\n",
            "1/1 [==============================] - 0s 10ms/step - loss: 6.8254 - mae: 6.8254\n",
            "Epoch 21/100\n",
            "1/1 [==============================] - 0s 11ms/step - loss: 6.5781 - mae: 6.5781\n",
            "Epoch 22/100\n",
            "1/1 [==============================] - 0s 10ms/step - loss: 6.3146 - mae: 6.3146\n",
            "Epoch 23/100\n",
            "1/1 [==============================] - 0s 10ms/step - loss: 6.0386 - mae: 6.0386\n",
            "Epoch 24/100\n",
            "1/1 [==============================] - 0s 10ms/step - loss: 5.8957 - mae: 5.8957\n",
            "Epoch 25/100\n",
            "1/1 [==============================] - 0s 10ms/step - loss: 5.8506 - mae: 5.8506\n",
            "Epoch 26/100\n",
            "1/1 [==============================] - 0s 9ms/step - loss: 5.9585 - mae: 5.9585\n",
            "Epoch 27/100\n",
            "1/1 [==============================] - 0s 10ms/step - loss: 6.0306 - mae: 6.0306\n",
            "Epoch 28/100\n",
            "1/1 [==============================] - 0s 9ms/step - loss: 6.0030 - mae: 6.0030\n",
            "Epoch 29/100\n",
            "1/1 [==============================] - 0s 15ms/step - loss: 5.8879 - mae: 5.8879\n",
            "Epoch 30/100\n",
            "1/1 [==============================] - 0s 11ms/step - loss: 5.6943 - mae: 5.6943\n",
            "Epoch 31/100\n",
            "1/1 [==============================] - 0s 9ms/step - loss: 5.4285 - mae: 5.4285\n",
            "Epoch 32/100\n",
            "1/1 [==============================] - 0s 8ms/step - loss: 5.2781 - mae: 5.2781\n",
            "Epoch 33/100\n",
            "1/1 [==============================] - 0s 10ms/step - loss: 5.1638 - mae: 5.1638\n",
            "Epoch 34/100\n",
            "1/1 [==============================] - 0s 10ms/step - loss: 5.1579 - mae: 5.1579\n",
            "Epoch 35/100\n",
            "1/1 [==============================] - 0s 10ms/step - loss: 5.1633 - mae: 5.1633\n",
            "Epoch 36/100\n",
            "1/1 [==============================] - 0s 9ms/step - loss: 5.1249 - mae: 5.1249\n",
            "Epoch 37/100\n",
            "1/1 [==============================] - 0s 10ms/step - loss: 5.0459 - mae: 5.0459\n",
            "Epoch 38/100\n",
            "1/1 [==============================] - 0s 9ms/step - loss: 4.9294 - mae: 4.9294\n",
            "Epoch 39/100\n",
            "1/1 [==============================] - 0s 14ms/step - loss: 4.7786 - mae: 4.7786\n",
            "Epoch 40/100\n",
            "1/1 [==============================] - 0s 17ms/step - loss: 4.5964 - mae: 4.5964\n",
            "Epoch 41/100\n",
            "1/1 [==============================] - 0s 12ms/step - loss: 4.3853 - mae: 4.3853\n",
            "Epoch 42/100\n",
            "1/1 [==============================] - 0s 9ms/step - loss: 4.2521 - mae: 4.2521\n",
            "Epoch 43/100\n",
            "1/1 [==============================] - 0s 9ms/step - loss: 4.1544 - mae: 4.1544\n",
            "Epoch 44/100\n",
            "1/1 [==============================] - 0s 10ms/step - loss: 4.1094 - mae: 4.1094\n",
            "Epoch 45/100\n",
            "1/1 [==============================] - 0s 9ms/step - loss: 4.0260 - mae: 4.0260\n",
            "Epoch 46/100\n",
            "1/1 [==============================] - 0s 14ms/step - loss: 3.8308 - mae: 3.8308\n",
            "Epoch 47/100\n",
            "1/1 [==============================] - 0s 10ms/step - loss: 3.6220 - mae: 3.6220\n",
            "Epoch 48/100\n",
            "1/1 [==============================] - 0s 10ms/step - loss: 3.4560 - mae: 3.4560\n",
            "Epoch 49/100\n",
            "1/1 [==============================] - 0s 10ms/step - loss: 3.3424 - mae: 3.3424\n",
            "Epoch 50/100\n",
            "1/1 [==============================] - 0s 11ms/step - loss: 3.2414 - mae: 3.2414\n",
            "Epoch 51/100\n",
            "1/1 [==============================] - 0s 9ms/step - loss: 3.0906 - mae: 3.0906\n",
            "Epoch 52/100\n",
            "1/1 [==============================] - 0s 10ms/step - loss: 2.8921 - mae: 2.8921\n",
            "Epoch 53/100\n",
            "1/1 [==============================] - 0s 10ms/step - loss: 2.6483 - mae: 2.6483\n",
            "Epoch 54/100\n",
            "1/1 [==============================] - 0s 9ms/step - loss: 2.4586 - mae: 2.4586\n",
            "Epoch 55/100\n",
            "1/1 [==============================] - 0s 10ms/step - loss: 2.3349 - mae: 2.3349\n",
            "Epoch 56/100\n",
            "1/1 [==============================] - 0s 10ms/step - loss: 2.1583 - mae: 2.1583\n",
            "Epoch 57/100\n",
            "1/1 [==============================] - 0s 9ms/step - loss: 1.8661 - mae: 1.8661\n",
            "Epoch 58/100\n",
            "1/1 [==============================] - 0s 12ms/step - loss: 1.6352 - mae: 1.6352\n",
            "Epoch 59/100\n",
            "1/1 [==============================] - 0s 11ms/step - loss: 1.4800 - mae: 1.4800\n",
            "Epoch 60/100\n",
            "1/1 [==============================] - 0s 10ms/step - loss: 1.2744 - mae: 1.2744\n",
            "Epoch 61/100\n",
            "1/1 [==============================] - 0s 10ms/step - loss: 1.0050 - mae: 1.0050\n",
            "Epoch 62/100\n",
            "1/1 [==============================] - 0s 10ms/step - loss: 0.6769 - mae: 0.6769\n",
            "Epoch 63/100\n",
            "1/1 [==============================] - 0s 10ms/step - loss: 0.4834 - mae: 0.4834\n",
            "Epoch 64/100\n",
            "1/1 [==============================] - 0s 10ms/step - loss: 0.1677 - mae: 0.1677\n",
            "Epoch 65/100\n",
            "1/1 [==============================] - 0s 10ms/step - loss: 0.3151 - mae: 0.3151\n",
            "Epoch 66/100\n",
            "1/1 [==============================] - 0s 10ms/step - loss: 0.5463 - mae: 0.5463\n",
            "Epoch 67/100\n",
            "1/1 [==============================] - 0s 9ms/step - loss: 0.5492 - mae: 0.5492\n",
            "Epoch 68/100\n",
            "1/1 [==============================] - 0s 11ms/step - loss: 0.8103 - mae: 0.8103\n",
            "Epoch 69/100\n",
            "1/1 [==============================] - 0s 13ms/step - loss: 0.9560 - mae: 0.9560\n",
            "Epoch 70/100\n",
            "1/1 [==============================] - 0s 9ms/step - loss: 0.8596 - mae: 0.8596\n",
            "Epoch 71/100\n",
            "1/1 [==============================] - 0s 10ms/step - loss: 0.7244 - mae: 0.7244\n",
            "Epoch 72/100\n",
            "1/1 [==============================] - 0s 11ms/step - loss: 0.7661 - mae: 0.7661\n",
            "Epoch 73/100\n",
            "1/1 [==============================] - 0s 9ms/step - loss: 0.6167 - mae: 0.6167\n",
            "Epoch 74/100\n",
            "1/1 [==============================] - 0s 10ms/step - loss: 0.6203 - mae: 0.6203\n",
            "Epoch 75/100\n",
            "1/1 [==============================] - 0s 10ms/step - loss: 0.5613 - mae: 0.5613\n",
            "Epoch 76/100\n",
            "1/1 [==============================] - 0s 11ms/step - loss: 0.3186 - mae: 0.3186\n",
            "Epoch 77/100\n",
            "1/1 [==============================] - 0s 10ms/step - loss: 0.2692 - mae: 0.2692\n",
            "Epoch 78/100\n",
            "1/1 [==============================] - 0s 10ms/step - loss: 0.3199 - mae: 0.3199\n",
            "Epoch 79/100\n",
            "1/1 [==============================] - 0s 10ms/step - loss: 0.1536 - mae: 0.1536\n",
            "Epoch 80/100\n",
            "1/1 [==============================] - 0s 11ms/step - loss: 0.4180 - mae: 0.4180\n",
            "Epoch 81/100\n",
            "1/1 [==============================] - 0s 11ms/step - loss: 0.5293 - mae: 0.5293\n",
            "Epoch 82/100\n",
            "1/1 [==============================] - 0s 10ms/step - loss: 0.4771 - mae: 0.4771\n",
            "Epoch 83/100\n",
            "1/1 [==============================] - 0s 11ms/step - loss: 0.2794 - mae: 0.2794\n",
            "Epoch 84/100\n",
            "1/1 [==============================] - 0s 10ms/step - loss: 0.4533 - mae: 0.4533\n",
            "Epoch 85/100\n",
            "1/1 [==============================] - 0s 10ms/step - loss: 0.5375 - mae: 0.5375\n",
            "Epoch 86/100\n",
            "1/1 [==============================] - 0s 16ms/step - loss: 0.3222 - mae: 0.3222\n",
            "Epoch 87/100\n",
            "1/1 [==============================] - 0s 9ms/step - loss: 0.1673 - mae: 0.1673\n",
            "Epoch 88/100\n",
            "1/1 [==============================] - 0s 11ms/step - loss: 0.3069 - mae: 0.3069\n",
            "Epoch 89/100\n",
            "1/1 [==============================] - 0s 9ms/step - loss: 0.1563 - mae: 0.1563\n",
            "Epoch 90/100\n",
            "1/1 [==============================] - 0s 10ms/step - loss: 0.3172 - mae: 0.3172\n",
            "Epoch 91/100\n",
            "1/1 [==============================] - 0s 9ms/step - loss: 0.4267 - mae: 0.4267\n",
            "Epoch 92/100\n",
            "1/1 [==============================] - 0s 8ms/step - loss: 0.2732 - mae: 0.2732\n",
            "Epoch 93/100\n",
            "1/1 [==============================] - 0s 10ms/step - loss: 0.1708 - mae: 0.1708\n",
            "Epoch 94/100\n",
            "1/1 [==============================] - 0s 12ms/step - loss: 0.2544 - mae: 0.2544\n",
            "Epoch 95/100\n",
            "1/1 [==============================] - 0s 12ms/step - loss: 0.0699 - mae: 0.0699\n",
            "Epoch 96/100\n",
            "1/1 [==============================] - 0s 9ms/step - loss: 0.3569 - mae: 0.3569\n",
            "Epoch 97/100\n",
            "1/1 [==============================] - 0s 9ms/step - loss: 0.4749 - mae: 0.4749\n",
            "Epoch 98/100\n",
            "1/1 [==============================] - 0s 12ms/step - loss: 0.3228 - mae: 0.3228\n",
            "Epoch 99/100\n",
            "1/1 [==============================] - 0s 10ms/step - loss: 0.1679 - mae: 0.1679\n",
            "Epoch 100/100\n",
            "1/1 [==============================] - 0s 9ms/step - loss: 0.2926 - mae: 0.2926\n"
          ]
        },
        {
          "output_type": "execute_result",
          "data": {
            "text/plain": [
              "<keras.callbacks.History at 0x7fc2205b8b50>"
            ]
          },
          "metadata": {},
          "execution_count": 22
        }
      ]
    },
    {
      "cell_type": "code",
      "source": [
        "# Lets remind ourselves of the data:\n",
        "X,y"
      ],
      "metadata": {
        "colab": {
          "base_uri": "https://localhost:8080/"
        },
        "id": "3LArvPaEpERK",
        "outputId": "6ebab5b8-c55e-4716-be98-9e0139114815"
      },
      "execution_count": null,
      "outputs": [
        {
          "output_type": "execute_result",
          "data": {
            "text/plain": [
              "(<tf.Tensor: shape=(8,), dtype=float32, numpy=array([-7., -4., -1.,  2.,  5.,  8., 11., 14.], dtype=float32)>,\n",
              " <tf.Tensor: shape=(8,), dtype=float32, numpy=array([ 3.,  6.,  9., 12., 15., 18., 21., 24.], dtype=float32)>)"
            ]
          },
          "metadata": {},
          "execution_count": 23
        }
      ]
    },
    {
      "cell_type": "code",
      "source": [
        "# Lets try to make a prediction\n",
        "model.predict([17.0])"
      ],
      "metadata": {
        "colab": {
          "base_uri": "https://localhost:8080/"
        },
        "id": "IeHn87GFpmz-",
        "outputId": "5ec3e7ac-6426-4188-b077-ae61b6daf922"
      },
      "execution_count": null,
      "outputs": [
        {
          "output_type": "stream",
          "name": "stdout",
          "text": [
            "1/1 [==============================] - 0s 97ms/step\n"
          ]
        },
        {
          "output_type": "execute_result",
          "data": {
            "text/plain": [
              "array([[26.383268]], dtype=float32)"
            ]
          },
          "metadata": {},
          "execution_count": 24
        }
      ]
    },
    {
      "cell_type": "markdown",
      "source": [
        "## Evaluating model\n",
        "In practice ,  a typical workflow you'll go through when building neural network is:\n",
        "Build a model -> fit it -> evaluate it -> tweak a model -> fit it -> evaluate it ..."
      ],
      "metadata": {
        "id": "eEvKBnl0pqig"
      }
    },
    {
      "cell_type": "markdown",
      "source": [
        "When it comes to evaluation ... there are 3 words you should memorize: \n",
        "\"Visualize, visualize, visualize\"\n",
        "It is a good ide to visualize \n",
        "* The data - what data we working with ? What does it look like?\n",
        "* The model itself - What does our model look like ?\n",
        "* The training of a model - How does a model perform while it learns? \n",
        "* The prediction of the model - How do the predictions of a model line up against the ground truth (the original label)?"
      ],
      "metadata": {
        "id": "b-XWgwiyrwWa"
      }
    },
    {
      "cell_type": "code",
      "source": [
        "# make a bigger dataset\n",
        "X = tf.range(-100, 100, 4)\n",
        "X"
      ],
      "metadata": {
        "colab": {
          "base_uri": "https://localhost:8080/"
        },
        "id": "TQAxZHyQ7ZP6",
        "outputId": "861bcc6c-7b80-4897-c0f3-51453f583540"
      },
      "execution_count": null,
      "outputs": [
        {
          "output_type": "execute_result",
          "data": {
            "text/plain": [
              "<tf.Tensor: shape=(50,), dtype=int32, numpy=\n",
              "array([-100,  -96,  -92,  -88,  -84,  -80,  -76,  -72,  -68,  -64,  -60,\n",
              "        -56,  -52,  -48,  -44,  -40,  -36,  -32,  -28,  -24,  -20,  -16,\n",
              "        -12,   -8,   -4,    0,    4,    8,   12,   16,   20,   24,   28,\n",
              "         32,   36,   40,   44,   48,   52,   56,   60,   64,   68,   72,\n",
              "         76,   80,   84,   88,   92,   96], dtype=int32)>"
            ]
          },
          "metadata": {},
          "execution_count": 25
        }
      ]
    },
    {
      "cell_type": "code",
      "source": [
        "# Make labels for the dataset\n",
        "y = X + 10\n",
        "y"
      ],
      "metadata": {
        "colab": {
          "base_uri": "https://localhost:8080/"
        },
        "id": "294ZKrbx7r6A",
        "outputId": "ca5e20d5-eca7-4e8a-9c40-a6c7f49d23fd"
      },
      "execution_count": null,
      "outputs": [
        {
          "output_type": "execute_result",
          "data": {
            "text/plain": [
              "<tf.Tensor: shape=(50,), dtype=int32, numpy=\n",
              "array([-90, -86, -82, -78, -74, -70, -66, -62, -58, -54, -50, -46, -42,\n",
              "       -38, -34, -30, -26, -22, -18, -14, -10,  -6,  -2,   2,   6,  10,\n",
              "        14,  18,  22,  26,  30,  34,  38,  42,  46,  50,  54,  58,  62,\n",
              "        66,  70,  74,  78,  82,  86,  90,  94,  98, 102, 106], dtype=int32)>"
            ]
          },
          "metadata": {},
          "execution_count": 26
        }
      ]
    },
    {
      "cell_type": "code",
      "source": [
        "# Visaize the dataa\n",
        "import matplotlib.pyplot as plt\n",
        "plt.scatter(X,y)"
      ],
      "metadata": {
        "colab": {
          "base_uri": "https://localhost:8080/",
          "height": 447
        },
        "id": "ik9B_AB87xfW",
        "outputId": "309d40fc-08c3-45d5-e083-8007283e9d67"
      },
      "execution_count": null,
      "outputs": [
        {
          "output_type": "execute_result",
          "data": {
            "text/plain": [
              "<matplotlib.collections.PathCollection at 0x7fc220477e80>"
            ]
          },
          "metadata": {},
          "execution_count": 27
        },
        {
          "output_type": "display_data",
          "data": {
            "text/plain": [
              "<Figure size 640x480 with 1 Axes>"
            ],
            "image/png": "[encoded data removed]"
          },
          "metadata": {}
        }
      ]
    },
    {
      "cell_type": "markdown",
      "source": [
        "### The 3 sets... \n",
        "* **Training set** - the model learns from this data , which is typically 70-80% of the total data you have available\n",
        "* **Validation set** - the model gets tuned on this data , which is typically 10-15%  of the data available\n",
        "* **Test set** - the model gets evaluated on this data to test what is has learned , this set is typically 10-15% of the total data available."
      ],
      "metadata": {
        "id": "cF1XxKAr76sk"
      }
    },
    {
      "cell_type": "code",
      "source": [
        "# Check the length of how may samples we have\n",
        "len(X)"
      ],
      "metadata": {
        "colab": {
          "base_uri": "https://localhost:8080/"
        },
        "id": "5zfhOfD19zvS",
        "outputId": "c6fb2532-bbec-40b7-e218-d2009500632d"
      },
      "execution_count": null,
      "outputs": [
        {
          "output_type": "execute_result",
          "data": {
            "text/plain": [
              "50"
            ]
          },
          "metadata": {},
          "execution_count": 28
        }
      ]
    },
    {
      "cell_type": "code",
      "source": [
        "# Split the data into train and test sets:\n",
        "X_train = X[:40]  # First 40 are training samples(80% of the data)\n",
        "y_train = y[:40]\n",
        "X_test = X[40:] # Last 10 are testing samples(20% of data)\n",
        "y_test = y[40:]\n",
        "len(X_train), len(X_test), len(y_train) , len(y_test)"
      ],
      "metadata": {
        "colab": {
          "base_uri": "https://localhost:8080/"
        },
        "id": "ue96nHNr-IRu",
        "outputId": "157636ad-b43c-446e-d944-19300f793042"
      },
      "execution_count": null,
      "outputs": [
        {
          "output_type": "execute_result",
          "data": {
            "text/plain": [
              "(40, 10, 40, 10)"
            ]
          },
          "metadata": {},
          "execution_count": 29
        }
      ]
    },
    {
      "cell_type": "markdown",
      "source": [
        "### Visualizing the data\n",
        "Now we have got our data in training and test sets... Lets viasualize it again."
      ],
      "metadata": {
        "id": "ZAqqg9mp-y-K"
      }
    },
    {
      "cell_type": "code",
      "source": [
        "plt.figure(figsize=(10,7))\n",
        "# Plot training data in blue\n",
        "plt.scatter(X_train, y_train, c=\"b\", label=\"Training data\")\n",
        "# Plot test data in green\n",
        "plt.scatter(X_test , y_test, c=\"g\", label =\"Test set\")\n",
        "# Show a legend\n",
        "plt.legend();"
      ],
      "metadata": {
        "colab": {
          "base_uri": "https://localhost:8080/",
          "height": 599
        },
        "id": "IvFpw0aB_Kqz",
        "outputId": "cbcf8d9e-163c-47f8-86d6-3957123838eb"
      },
      "execution_count": null,
      "outputs": [
        {
          "output_type": "display_data",
          "data": {
            "text/plain": [
              "<Figure size 1000x700 with 1 Axes>"
            ],
            "image/png": "[encoded data removed]"
          },
          "metadata": {}
        }
      ]
    },
    {
      "cell_type": "code",
      "source": [
        "# Lets have a look at how to build a neural network for our data \n",
        "#1. Create a model\n",
        "model = tf.keras.Sequential([\n",
        "    tf.keras.layers.Dense(1)\n",
        "\n",
        "])\n",
        "# 2. Compile the model\n",
        "model.compile(loss=tf.keras.losses.mae,\n",
        "              optimizer=tf.keras.optimizers.SGD(),\n",
        "              metrics=[\"mae\"])\n",
        "# 3. Fit model\n",
        "# model.fit(tf.expand_dims(X_train , axis=-1),y_train, epochs=100)\n"
      ],
      "metadata": {
        "id": "GVMx4r0v_v4V"
      },
      "execution_count": null,
      "outputs": []
    },
    {
      "cell_type": "markdown",
      "source": [
        "### Vİsualizing the model"
      ],
      "metadata": {
        "id": "milD7_mdB8LD"
      }
    },
    {
      "cell_type": "code",
      "source": [
        "model.summary()"
      ],
      "metadata": {
        "colab": {
          "base_uri": "https://localhost:8080/",
          "height": 321
        },
        "id": "Hp-KKTWZCCwh",
        "outputId": "aa8a031a-cbb1-4d3a-e03b-6a47f308e6ec"
      },
      "execution_count": null,
      "outputs": [
        {
          "output_type": "error",
          "ename": "ValueError",
          "evalue": "ignored",
          "traceback": [
            "\u001b[0;31m---------------------------------------------------------------------------\u001b[0m",
            "\u001b[0;31mValueError\u001b[0m                                Traceback (most recent call last)",
            "\u001b[0;32m<ipython-input-32-5f15418b3570>\u001b[0m in \u001b[0;36m<cell line: 1>\u001b[0;34m()\u001b[0m\n\u001b[0;32m----> 1\u001b[0;31m \u001b[0mmodel\u001b[0m\u001b[0;34m.\u001b[0m\u001b[0msummary\u001b[0m\u001b[0;34m(\u001b[0m\u001b[0;34m)\u001b[0m\u001b[0;34m\u001b[0m\u001b[0;34m\u001b[0m\u001b[0m\n\u001b[0m",
            "\u001b[0;32m/usr/local/lib/python3.9/dist-packages/keras/engine/training.py\u001b[0m in \u001b[0;36msummary\u001b[0;34m(self, line_length, positions, print_fn, expand_nested, show_trainable, layer_range)\u001b[0m\n\u001b[1;32m   3290\u001b[0m         \"\"\"\n\u001b[1;32m   3291\u001b[0m         \u001b[0;32mif\u001b[0m \u001b[0;32mnot\u001b[0m \u001b[0mself\u001b[0m\u001b[0;34m.\u001b[0m\u001b[0mbuilt\u001b[0m\u001b[0;34m:\u001b[0m\u001b[0;34m\u001b[0m\u001b[0;34m\u001b[0m\u001b[0m\n\u001b[0;32m-> 3292\u001b[0;31m             raise ValueError(\n\u001b[0m\u001b[1;32m   3293\u001b[0m                 \u001b[0;34m\"This model has not yet been built. \"\u001b[0m\u001b[0;34m\u001b[0m\u001b[0;34m\u001b[0m\u001b[0m\n\u001b[1;32m   3294\u001b[0m                 \u001b[0;34m\"Build the model first by calling `build()` or by calling \"\u001b[0m\u001b[0;34m\u001b[0m\u001b[0;34m\u001b[0m\u001b[0m\n",
            "\u001b[0;31mValueError\u001b[0m: This model has not yet been built. Build the model first by calling `build()` or by calling the model on a batch of data."
          ]
        }
      ]
    },
    {
      "cell_type": "code",
      "source": [
        "X[0], y[0]"
      ],
      "metadata": {
        "colab": {
          "base_uri": "https://localhost:8080/"
        },
        "id": "OXS7tdgUC6h4",
        "outputId": "b2dfe348-f399-4577-9923-084690e73c6c"
      },
      "execution_count": null,
      "outputs": [
        {
          "output_type": "execute_result",
          "data": {
            "text/plain": [
              "(<tf.Tensor: shape=(), dtype=int32, numpy=-100>,\n",
              " <tf.Tensor: shape=(), dtype=int32, numpy=-90>)"
            ]
          },
          "metadata": {},
          "execution_count": 33
        }
      ]
    },
    {
      "cell_type": "code",
      "source": [
        "# Lets create a model which builds automatically by defining the input shape argument in the first layer\n",
        "tf.random.set_seed(42)\n",
        "# 1.Create a model (same as above)\n",
        "model = tf.keras.Sequential([\n",
        "    tf.keras.layers.Dense(10, input_shape =[1], name= \"input_layer\"), # input_Shape is 1 . coz we re passing at 1 number to predict one number\n",
        "    tf.keras.layers.Dense(1, name = \"output_layer\")\n",
        "], name = \"model_1\")\n",
        "# 2. Compile the model\n",
        "model.compile(loss=tf.keras.losses.mae,\n",
        "              optimizer=tf.keras.optimizers.Adam(learning_rate=0.01),\n",
        "              metrics=[\"mae\"])\n",
        "\n",
        "\n"
      ],
      "metadata": {
        "id": "ZeiPNXxJCFl9"
      },
      "execution_count": null,
      "outputs": []
    },
    {
      "cell_type": "code",
      "source": [
        "model.summary()"
      ],
      "metadata": {
        "colab": {
          "base_uri": "https://localhost:8080/"
        },
        "id": "yjE2-VooDu_p",
        "outputId": "a46a32d3-80f6-4b17-b52e-e6ea5c464c84"
      },
      "execution_count": null,
      "outputs": [
        {
          "output_type": "stream",
          "name": "stdout",
          "text": [
            "Model: \"model_1\"\n",
            "_________________________________________________________________\n",
            " Layer (type)                Output Shape              Param #   \n",
            "=================================================================\n",
            " input_layer (Dense)         (None, 10)                20        \n",
            "                                                                 \n",
            " output_layer (Dense)        (None, 1)                 11        \n",
            "                                                                 \n",
            "=================================================================\n",
            "Total params: 31\n",
            "Trainable params: 31\n",
            "Non-trainable params: 0\n",
            "_________________________________________________________________\n"
          ]
        }
      ]
    },
    {
      "cell_type": "markdown",
      "source": [
        " * Total params - total number of parametesrs in the model\n",
        " * Trainable parameters - these are the parameters(patterns) the model can update as it trains.\n",
        " * Non trainable params-  These params arent updated during training (this is typical when you bring in already learn patterns or parameters from other models during **transfer learning**\n",
        " "
      ],
      "metadata": {
        "id": "X_O-6WM0D3tP"
      }
    },
    {
      "cell_type": "code",
      "source": [
        "# Lets fit our model to training data\n",
        "model.fit(X_train, y_train, epochs=100)"
      ],
      "metadata": {
        "colab": {
          "base_uri": "https://localhost:8080/"
        },
        "id": "j80i9NoHEQyf",
        "outputId": "93bf14c2-7095-4a22-8412-c918663c7743"
      },
      "execution_count": null,
      "outputs": [
        {
          "output_type": "stream",
          "name": "stdout",
          "text": [
            "Epoch 1/100\n",
            "2/2 [==============================] - 1s 13ms/step - loss: 11.3425 - mae: 11.3425\n",
            "Epoch 2/100\n",
            "2/2 [==============================] - 0s 7ms/step - loss: 8.0960 - mae: 8.0960\n",
            "Epoch 3/100\n",
            "2/2 [==============================] - 0s 7ms/step - loss: 8.4144 - mae: 8.4144\n",
            "Epoch 4/100\n",
            "2/2 [==============================] - 0s 6ms/step - loss: 8.2698 - mae: 8.2698\n",
            "Epoch 5/100\n",
            "2/2 [==============================] - 0s 7ms/step - loss: 7.5138 - mae: 7.5138\n",
            "Epoch 6/100\n",
            "2/2 [==============================] - 0s 6ms/step - loss: 7.5715 - mae: 7.5715\n",
            "Epoch 7/100\n",
            "2/2 [==============================] - 0s 7ms/step - loss: 7.7371 - mae: 7.7371\n",
            "Epoch 8/100\n",
            "2/2 [==============================] - 0s 7ms/step - loss: 7.4100 - mae: 7.4100\n",
            "Epoch 9/100\n",
            "2/2 [==============================] - 0s 7ms/step - loss: 7.0796 - mae: 7.0796\n",
            "Epoch 10/100\n",
            "2/2 [==============================] - 0s 7ms/step - loss: 7.6121 - mae: 7.6121\n",
            "Epoch 11/100\n",
            "2/2 [==============================] - 0s 7ms/step - loss: 8.0106 - mae: 8.0106\n",
            "Epoch 12/100\n",
            "2/2 [==============================] - 0s 7ms/step - loss: 7.6032 - mae: 7.6032\n",
            "Epoch 13/100\n",
            "2/2 [==============================] - 0s 8ms/step - loss: 7.0243 - mae: 7.0243\n",
            "Epoch 14/100\n",
            "2/2 [==============================] - 0s 7ms/step - loss: 7.1217 - mae: 7.1217\n",
            "Epoch 15/100\n",
            "2/2 [==============================] - 0s 10ms/step - loss: 7.0105 - mae: 7.0105\n",
            "Epoch 16/100\n",
            "2/2 [==============================] - 0s 9ms/step - loss: 6.8170 - mae: 6.8170\n",
            "Epoch 17/100\n",
            "2/2 [==============================] - 0s 7ms/step - loss: 6.7021 - mae: 6.7021\n",
            "Epoch 18/100\n",
            "2/2 [==============================] - 0s 15ms/step - loss: 6.7101 - mae: 6.7101\n",
            "Epoch 19/100\n",
            "2/2 [==============================] - 0s 7ms/step - loss: 6.6217 - mae: 6.6217\n",
            "Epoch 20/100\n",
            "2/2 [==============================] - 0s 7ms/step - loss: 6.5176 - mae: 6.5176\n",
            "Epoch 21/100\n",
            "2/2 [==============================] - 0s 6ms/step - loss: 6.5148 - mae: 6.5148\n",
            "Epoch 22/100\n",
            "2/2 [==============================] - 0s 7ms/step - loss: 6.3834 - mae: 6.3834\n",
            "Epoch 23/100\n",
            "2/2 [==============================] - 0s 7ms/step - loss: 6.4190 - mae: 6.4190\n",
            "Epoch 24/100\n",
            "2/2 [==============================] - 0s 7ms/step - loss: 6.3807 - mae: 6.3807\n",
            "Epoch 25/100\n",
            "2/2 [==============================] - 0s 6ms/step - loss: 6.1913 - mae: 6.1913\n",
            "Epoch 26/100\n",
            "2/2 [==============================] - 0s 7ms/step - loss: 6.1312 - mae: 6.1312\n",
            "Epoch 27/100\n",
            "2/2 [==============================] - 0s 7ms/step - loss: 6.0781 - mae: 6.0781\n",
            "Epoch 28/100\n",
            "2/2 [==============================] - 0s 6ms/step - loss: 5.9993 - mae: 5.9993\n",
            "Epoch 29/100\n",
            "2/2 [==============================] - 0s 7ms/step - loss: 5.9327 - mae: 5.9327\n",
            "Epoch 30/100\n",
            "2/2 [==============================] - 0s 7ms/step - loss: 5.8631 - mae: 5.8631\n",
            "Epoch 31/100\n",
            "2/2 [==============================] - 0s 7ms/step - loss: 5.8036 - mae: 5.8036\n",
            "Epoch 32/100\n",
            "2/2 [==============================] - 0s 7ms/step - loss: 5.7305 - mae: 5.7305\n",
            "Epoch 33/100\n",
            "2/2 [==============================] - 0s 7ms/step - loss: 5.7312 - mae: 5.7312\n",
            "Epoch 34/100\n",
            "2/2 [==============================] - 0s 7ms/step - loss: 5.6675 - mae: 5.6675\n",
            "Epoch 35/100\n",
            "2/2 [==============================] - 0s 7ms/step - loss: 5.5822 - mae: 5.5822\n",
            "Epoch 36/100\n",
            "2/2 [==============================] - 0s 7ms/step - loss: 5.4371 - mae: 5.4371\n",
            "Epoch 37/100\n",
            "2/2 [==============================] - 0s 7ms/step - loss: 5.4345 - mae: 5.4345\n",
            "Epoch 38/100\n",
            "2/2 [==============================] - 0s 7ms/step - loss: 5.3262 - mae: 5.3262\n",
            "Epoch 39/100\n",
            "2/2 [==============================] - 0s 7ms/step - loss: 5.2182 - mae: 5.2182\n",
            "Epoch 40/100\n",
            "2/2 [==============================] - 0s 7ms/step - loss: 5.1507 - mae: 5.1507\n",
            "Epoch 41/100\n",
            "2/2 [==============================] - 0s 9ms/step - loss: 5.0231 - mae: 5.0231\n",
            "Epoch 42/100\n",
            "2/2 [==============================] - 0s 8ms/step - loss: 4.9454 - mae: 4.9454\n",
            "Epoch 43/100\n",
            "2/2 [==============================] - 0s 7ms/step - loss: 4.8530 - mae: 4.8530\n",
            "Epoch 44/100\n",
            "2/2 [==============================] - 0s 6ms/step - loss: 4.7745 - mae: 4.7745\n",
            "Epoch 45/100\n",
            "2/2 [==============================] - 0s 11ms/step - loss: 4.6117 - mae: 4.6117\n",
            "Epoch 46/100\n",
            "2/2 [==============================] - 0s 7ms/step - loss: 4.6720 - mae: 4.6720\n",
            "Epoch 47/100\n",
            "2/2 [==============================] - 0s 7ms/step - loss: 4.7225 - mae: 4.7225\n",
            "Epoch 48/100\n",
            "2/2 [==============================] - 0s 12ms/step - loss: 4.4112 - mae: 4.4112\n",
            "Epoch 49/100\n",
            "2/2 [==============================] - 0s 11ms/step - loss: 4.4841 - mae: 4.4841\n",
            "Epoch 50/100\n",
            "2/2 [==============================] - 0s 14ms/step - loss: 4.1731 - mae: 4.1731\n",
            "Epoch 51/100\n",
            "2/2 [==============================] - 0s 8ms/step - loss: 4.5294 - mae: 4.5294\n",
            "Epoch 52/100\n",
            "2/2 [==============================] - 0s 8ms/step - loss: 4.3069 - mae: 4.3069\n",
            "Epoch 53/100\n",
            "2/2 [==============================] - 0s 10ms/step - loss: 3.9155 - mae: 3.9155\n",
            "Epoch 54/100\n",
            "2/2 [==============================] - 0s 9ms/step - loss: 3.6469 - mae: 3.6469\n",
            "Epoch 55/100\n",
            "2/2 [==============================] - 0s 9ms/step - loss: 3.5885 - mae: 3.5885\n",
            "Epoch 56/100\n",
            "2/2 [==============================] - 0s 9ms/step - loss: 3.4431 - mae: 3.4431\n",
            "Epoch 57/100\n",
            "2/2 [==============================] - 0s 10ms/step - loss: 3.3844 - mae: 3.3844\n",
            "Epoch 58/100\n",
            "2/2 [==============================] - 0s 7ms/step - loss: 3.0659 - mae: 3.0659\n",
            "Epoch 59/100\n",
            "2/2 [==============================] - 0s 9ms/step - loss: 2.9193 - mae: 2.9193\n",
            "Epoch 60/100\n",
            "2/2 [==============================] - 0s 9ms/step - loss: 2.7682 - mae: 2.7682\n",
            "Epoch 61/100\n",
            "2/2 [==============================] - 0s 8ms/step - loss: 2.6021 - mae: 2.6021\n",
            "Epoch 62/100\n",
            "2/2 [==============================] - 0s 9ms/step - loss: 2.4293 - mae: 2.4293\n",
            "Epoch 63/100\n",
            "2/2 [==============================] - 0s 10ms/step - loss: 2.3576 - mae: 2.3576\n",
            "Epoch 64/100\n",
            "2/2 [==============================] - 0s 10ms/step - loss: 2.1949 - mae: 2.1949\n",
            "Epoch 65/100\n",
            "2/2 [==============================] - 0s 10ms/step - loss: 1.9387 - mae: 1.9387\n",
            "Epoch 66/100\n",
            "2/2 [==============================] - 0s 10ms/step - loss: 1.7011 - mae: 1.7011\n",
            "Epoch 67/100\n",
            "2/2 [==============================] - 0s 10ms/step - loss: 1.6666 - mae: 1.6666\n",
            "Epoch 68/100\n",
            "2/2 [==============================] - 0s 8ms/step - loss: 1.6472 - mae: 1.6472\n",
            "Epoch 69/100\n",
            "2/2 [==============================] - 0s 8ms/step - loss: 1.2255 - mae: 1.2255\n",
            "Epoch 70/100\n",
            "2/2 [==============================] - 0s 12ms/step - loss: 1.9984 - mae: 1.9984\n",
            "Epoch 71/100\n",
            "2/2 [==============================] - 0s 10ms/step - loss: 0.7689 - mae: 0.7689\n",
            "Epoch 72/100\n",
            "2/2 [==============================] - 0s 11ms/step - loss: 1.5355 - mae: 1.5355\n",
            "Epoch 73/100\n",
            "2/2 [==============================] - 0s 10ms/step - loss: 0.5929 - mae: 0.5929\n",
            "Epoch 74/100\n",
            "2/2 [==============================] - 0s 8ms/step - loss: 0.5030 - mae: 0.5030\n",
            "Epoch 75/100\n",
            "2/2 [==============================] - 0s 9ms/step - loss: 1.5752 - mae: 1.5752\n",
            "Epoch 76/100\n",
            "2/2 [==============================] - 0s 11ms/step - loss: 0.3638 - mae: 0.3638\n",
            "Epoch 77/100\n",
            "2/2 [==============================] - 0s 11ms/step - loss: 0.4394 - mae: 0.4394\n",
            "Epoch 78/100\n",
            "2/2 [==============================] - 0s 9ms/step - loss: 0.6305 - mae: 0.6305\n",
            "Epoch 79/100\n",
            "2/2 [==============================] - 0s 10ms/step - loss: 0.3207 - mae: 0.3207\n",
            "Epoch 80/100\n",
            "2/2 [==============================] - 0s 9ms/step - loss: 0.6257 - mae: 0.6257\n",
            "Epoch 81/100\n",
            "2/2 [==============================] - 0s 10ms/step - loss: 0.4974 - mae: 0.4974\n",
            "Epoch 82/100\n",
            "2/2 [==============================] - 0s 7ms/step - loss: 0.2383 - mae: 0.2383\n",
            "Epoch 83/100\n",
            "2/2 [==============================] - 0s 8ms/step - loss: 0.5531 - mae: 0.5531\n",
            "Epoch 84/100\n",
            "2/2 [==============================] - 0s 11ms/step - loss: 0.4426 - mae: 0.4426\n",
            "Epoch 85/100\n",
            "2/2 [==============================] - 0s 8ms/step - loss: 1.3496 - mae: 1.3496\n",
            "Epoch 86/100\n",
            "2/2 [==============================] - 0s 9ms/step - loss: 1.1379 - mae: 1.1379\n",
            "Epoch 87/100\n",
            "2/2 [==============================] - 0s 9ms/step - loss: 1.5256 - mae: 1.5256\n",
            "Epoch 88/100\n",
            "2/2 [==============================] - 0s 7ms/step - loss: 1.7911 - mae: 1.7911\n",
            "Epoch 89/100\n",
            "2/2 [==============================] - 0s 8ms/step - loss: 0.5963 - mae: 0.5963\n",
            "Epoch 90/100\n",
            "2/2 [==============================] - 0s 7ms/step - loss: 1.1864 - mae: 1.1864\n",
            "Epoch 91/100\n",
            "2/2 [==============================] - 0s 6ms/step - loss: 0.6606 - mae: 0.6606\n",
            "Epoch 92/100\n",
            "2/2 [==============================] - 0s 7ms/step - loss: 0.5731 - mae: 0.5731\n",
            "Epoch 93/100\n",
            "2/2 [==============================] - 0s 7ms/step - loss: 0.7443 - mae: 0.7443\n",
            "Epoch 94/100\n",
            "2/2 [==============================] - 0s 8ms/step - loss: 0.4431 - mae: 0.4431\n",
            "Epoch 95/100\n",
            "2/2 [==============================] - 0s 7ms/step - loss: 0.2048 - mae: 0.2048\n",
            "Epoch 96/100\n",
            "2/2 [==============================] - 0s 7ms/step - loss: 1.3508 - mae: 1.3508\n",
            "Epoch 97/100\n",
            "2/2 [==============================] - 0s 9ms/step - loss: 0.3505 - mae: 0.3505\n",
            "Epoch 98/100\n",
            "2/2 [==============================] - 0s 7ms/step - loss: 2.2219 - mae: 2.2219\n",
            "Epoch 99/100\n",
            "2/2 [==============================] - 0s 9ms/step - loss: 1.5167 - mae: 1.5167\n",
            "Epoch 100/100\n",
            "2/2 [==============================] - 0s 7ms/step - loss: 1.1882 - mae: 1.1882\n"
          ]
        },
        {
          "output_type": "execute_result",
          "data": {
            "text/plain": [
              "<keras.callbacks.History at 0x7fc2203076a0>"
            ]
          },
          "metadata": {},
          "execution_count": 36
        }
      ]
    },
    {
      "cell_type": "code",
      "source": [
        "# Get a summary of our model\n",
        "model.summary()"
      ],
      "metadata": {
        "colab": {
          "base_uri": "https://localhost:8080/"
        },
        "id": "_cYv6_VdQPmy",
        "outputId": "bd4c903c-cf65-497a-d06a-1765e66e29b1"
      },
      "execution_count": null,
      "outputs": [
        {
          "output_type": "stream",
          "name": "stdout",
          "text": [
            "Model: \"model_1\"\n",
            "_________________________________________________________________\n",
            " Layer (type)                Output Shape              Param #   \n",
            "=================================================================\n",
            " input_layer (Dense)         (None, 10)                20        \n",
            "                                                                 \n",
            " output_layer (Dense)        (None, 1)                 11        \n",
            "                                                                 \n",
            "=================================================================\n",
            "Total params: 31\n",
            "Trainable params: 31\n",
            "Non-trainable params: 0\n",
            "_________________________________________________________________\n"
          ]
        }
      ]
    },
    {
      "cell_type": "code",
      "source": [
        "from tensorflow.keras.utils import plot_model\n",
        "plot_model(model=model, show_shapes=True)"
      ],
      "metadata": {
        "colab": {
          "base_uri": "https://localhost:8080/",
          "height": 312
        },
        "id": "0v9p7VLxRt_8",
        "outputId": "a36646c2-a82e-4a33-b069-92f40fa4d238"
      },
      "execution_count": null,
      "outputs": [
        {
          "output_type": "execute_result",
          "data": {
            "image/png": "[encoded data removed]",
            "text/plain": [
              "<IPython.core.display.Image object>"
            ]
          },
          "metadata": {},
          "execution_count": 38
        }
      ]
    },
    {
      "cell_type": "markdown",
      "source": [
        "### Visualizing our models predictions\n",
        "To visualize predictions , it s a good ide to plot them against the ground truth labels.\n",
        "Often you will see this in the form of \"y_test\" or \"y_true\" versus \"y_pred\" (ground truth versus your model's prediction)"
      ],
      "metadata": {
        "id": "k7OqkhhkSK-h"
      }
    },
    {
      "cell_type": "code",
      "source": [
        "# Make some predictions to create y_pred\n",
        "y_pred = model.predict(X_test)\n",
        "y_pred"
      ],
      "metadata": {
        "colab": {
          "base_uri": "https://localhost:8080/"
        },
        "id": "DB4rzH2rUaei",
        "outputId": "e7fbaebc-de95-45bc-e201-5304101c1af4"
      },
      "execution_count": null,
      "outputs": [
        {
          "output_type": "stream",
          "name": "stdout",
          "text": [
            "1/1 [==============================] - 0s 72ms/step\n"
          ]
        },
        {
          "output_type": "execute_result",
          "data": {
            "text/plain": [
              "array([[ 73.05373],\n",
              "       [ 77.24863],\n",
              "       [ 81.44352],\n",
              "       [ 85.63842],\n",
              "       [ 89.83331],\n",
              "       [ 94.02821],\n",
              "       [ 98.2231 ],\n",
              "       [102.41801],\n",
              "       [106.6129 ],\n",
              "       [110.80779]], dtype=float32)"
            ]
          },
          "metadata": {},
          "execution_count": 39
        }
      ]
    },
    {
      "cell_type": "code",
      "source": [
        "y_test"
      ],
      "metadata": {
        "colab": {
          "base_uri": "https://localhost:8080/"
        },
        "id": "QUzBXE8TlyoF",
        "outputId": "36516681-6802-46cb-d155-b76149f879eb"
      },
      "execution_count": null,
      "outputs": [
        {
          "output_type": "execute_result",
          "data": {
            "text/plain": [
              "<tf.Tensor: shape=(10,), dtype=int32, numpy=array([ 70,  74,  78,  82,  86,  90,  94,  98, 102, 106], dtype=int32)>"
            ]
          },
          "metadata": {},
          "execution_count": 40
        }
      ]
    },
    {
      "cell_type": "markdown",
      "source": [
        "**Note:**  If you fell like you are going to resue some kind of funtionalitiy in the future , it is a good idea to turn it into a function"
      ],
      "metadata": {
        "id": "gheS7qANmFuC"
      }
    },
    {
      "cell_type": "code",
      "source": [
        "# Lets create a plotting function\n",
        "def plot_predictions(train_data = X_train,\n",
        "                     train_labels = y_train,\n",
        "                     test_data = X_test,\n",
        "                     test_labels = y_test,\n",
        "                     predictions=y_pred):\n",
        "  \"\"\"Plots training data , test data and compares predictions to ground truth labels\"\"\"\n",
        "  plt.figure(figsize=(10,7))\n",
        "  # Plot training data in blue\n",
        "  plt.scatter(train_data, train_labels, c=\"b\", label=\"Training data\")\n",
        "  # Plot testinf data in green\n",
        "  plt.scatter(test_data, test_labels, c=\"g\", label=\"Testing data\")\n",
        "  # Plot model's predictions in red\n",
        "  plt.scatter(test_data, predictions, c=\"r\", label=\"Predictions\")\n",
        "  # Show the legend\n",
        "  plt.legend()"
      ],
      "metadata": {
        "id": "XZ9uzN9vl26f"
      },
      "execution_count": null,
      "outputs": []
    },
    {
      "cell_type": "code",
      "source": [
        "plot_predictions()"
      ],
      "metadata": {
        "colab": {
          "base_uri": "https://localhost:8080/",
          "height": 599
        },
        "id": "UMidIKy3ndv4",
        "outputId": "f304fe3e-eb64-4b6e-ea03-fdbcd3aff0db"
      },
      "execution_count": null,
      "outputs": [
        {
          "output_type": "display_data",
          "data": {
            "text/plain": [
              "<Figure size 1000x700 with 1 Axes>"
            ],
            "image/png": "[encoded data removed]"
          },
          "metadata": {}
        }
      ]
    },
    {
      "cell_type": "markdown",
      "source": [
        "### Evaluating our models predictions with regression evaluation metrics\n",
        "Depending on the problem you are working on , there will be different evaluation  metrics to evaluate your model's performance.\n",
        "Since we are working on a regression , two of the main metrics:\n",
        "* MAE - mean absolute error, \"on average , how wrong is each of my model's predictions\" It is used when as a great starter metric for any regression problem.\n",
        "* MSE - mean squarred error , \"square the average errors\" . It is used when larger errors are more significant than smaller errors."
      ],
      "metadata": {
        "id": "DIkk7OMhnocP"
      }
    },
    {
      "cell_type": "code",
      "source": [
        "# Evaluate the model on the test set\n",
        "model.evaluate(X_test, y_test)"
      ],
      "metadata": {
        "colab": {
          "base_uri": "https://localhost:8080/"
        },
        "id": "iXHZP1UyqH4i",
        "outputId": "80001812-107a-491c-8651-5d6d718e5db9"
      },
      "execution_count": null,
      "outputs": [
        {
          "output_type": "stream",
          "name": "stdout",
          "text": [
            "1/1 [==============================] - 0s 136ms/step - loss: 3.9308 - mae: 3.9308\n"
          ]
        },
        {
          "output_type": "execute_result",
          "data": {
            "text/plain": [
              "[3.9307618141174316, 3.9307618141174316]"
            ]
          },
          "metadata": {},
          "execution_count": 43
        }
      ]
    },
    {
      "cell_type": "code",
      "source": [
        "# Calculate the mean absolute error\n",
        "mae = tf.metrics.mean_absolute_error(y_true=y_test, y_pred=tf.constant(y_pred))\n",
        "mae"
      ],
      "metadata": {
        "colab": {
          "base_uri": "https://localhost:8080/"
        },
        "id": "lHed5j7GsRDl",
        "outputId": "4a22f5a9-4bc2-4694-da90-58af8bb16eb5"
      },
      "execution_count": null,
      "outputs": [
        {
          "output_type": "execute_result",
          "data": {
            "text/plain": [
              "<tf.Tensor: shape=(10,), dtype=float32, numpy=\n",
              "array([15.557019, 12.850824, 11.022593, 10.072316, 10.      , 10.811285,\n",
              "       12.533859, 15.134405, 18.6129  , 22.807793], dtype=float32)>"
            ]
          },
          "metadata": {},
          "execution_count": 44
        }
      ]
    },
    {
      "cell_type": "code",
      "source": [
        "tf.constant(y_pred)"
      ],
      "metadata": {
        "colab": {
          "base_uri": "https://localhost:8080/"
        },
        "id": "c0seeU72r_Kr",
        "outputId": "8d100b1d-8369-43f8-8585-4b0494e3b297"
      },
      "execution_count": null,
      "outputs": [
        {
          "output_type": "execute_result",
          "data": {
            "text/plain": [
              "<tf.Tensor: shape=(10, 1), dtype=float32, numpy=\n",
              "array([[ 73.05373],\n",
              "       [ 77.24863],\n",
              "       [ 81.44352],\n",
              "       [ 85.63842],\n",
              "       [ 89.83331],\n",
              "       [ 94.02821],\n",
              "       [ 98.2231 ],\n",
              "       [102.41801],\n",
              "       [106.6129 ],\n",
              "       [110.80779]], dtype=float32)>"
            ]
          },
          "metadata": {},
          "execution_count": 45
        }
      ]
    },
    {
      "cell_type": "code",
      "source": [
        "y_test\n"
      ],
      "metadata": {
        "colab": {
          "base_uri": "https://localhost:8080/"
        },
        "id": "vV_dODiJsOpM",
        "outputId": "7a83ce4b-1f3a-45d2-ef23-0189c825befe"
      },
      "execution_count": null,
      "outputs": [
        {
          "output_type": "execute_result",
          "data": {
            "text/plain": [
              "<tf.Tensor: shape=(10,), dtype=int32, numpy=array([ 70,  74,  78,  82,  86,  90,  94,  98, 102, 106], dtype=int32)>"
            ]
          },
          "metadata": {},
          "execution_count": 46
        }
      ]
    },
    {
      "cell_type": "code",
      "source": [
        "tf.squeeze(y_pred)"
      ],
      "metadata": {
        "colab": {
          "base_uri": "https://localhost:8080/"
        },
        "id": "O5_9J2tXsPnW",
        "outputId": "8416824f-1fe6-47f8-b4b2-f453a22b7df9"
      },
      "execution_count": null,
      "outputs": [
        {
          "output_type": "execute_result",
          "data": {
            "text/plain": [
              "<tf.Tensor: shape=(10,), dtype=float32, numpy=\n",
              "array([ 73.05373,  77.24863,  81.44352,  85.63842,  89.83331,  94.02821,\n",
              "        98.2231 , 102.41801, 106.6129 , 110.80779], dtype=float32)>"
            ]
          },
          "metadata": {},
          "execution_count": 47
        }
      ]
    },
    {
      "cell_type": "code",
      "source": [
        "# Calculate the mae\n",
        "mae = tf.metrics.mean_absolute_error(y_true=y_test, y_pred=tf.squeeze(y_pred))\n",
        "mae"
      ],
      "metadata": {
        "colab": {
          "base_uri": "https://localhost:8080/"
        },
        "id": "Kff2BLDLtlB6",
        "outputId": "0ec6fad0-994f-4bc3-d74b-d54de49f900a"
      },
      "execution_count": null,
      "outputs": [
        {
          "output_type": "execute_result",
          "data": {
            "text/plain": [
              "<tf.Tensor: shape=(), dtype=float32, numpy=3.9307618>"
            ]
          },
          "metadata": {},
          "execution_count": 48
        }
      ]
    },
    {
      "cell_type": "code",
      "source": [
        "# Calculate the mean squared error :\n",
        "mse = tf.metrics.mean_squared_error(y_true=y_test,\n",
        "                                    y_pred=tf.squeeze(y_pred))\n",
        "mse"
      ],
      "metadata": {
        "colab": {
          "base_uri": "https://localhost:8080/"
        },
        "id": "OkuR9jclt0br",
        "outputId": "ca9342ee-216e-4770-d77f-151eb8b5583e"
      },
      "execution_count": null,
      "outputs": [
        {
          "output_type": "execute_result",
          "data": {
            "text/plain": [
              "<tf.Tensor: shape=(), dtype=float32, numpy=15.764261>"
            ]
          },
          "metadata": {},
          "execution_count": 49
        }
      ]
    },
    {
      "cell_type": "code",
      "source": [
        "# Make some functions to reuse mae and mse \n",
        "def mae(y_true, y_pred):\n",
        "  return tf.metrics.mean_absolute_error(y_true = y_true,\n",
        "                                        y_pred = tf.squeeze(y_pred))\n",
        "  \n",
        "def mse(y_true , y_pred):\n",
        "  return tf.metrics.mean_squared_error(y_true = y_true,\n",
        "                                       y_pred = tf.squeeze(y_pred))"
      ],
      "metadata": {
        "id": "OQ5mT45SuQUP"
      },
      "execution_count": null,
      "outputs": []
    },
    {
      "cell_type": "markdown",
      "source": [
        "### Running experiments to improve our model\n",
        "\n",
        "1. Get more data\n",
        "2. Make your model larger\n",
        "3. Train for longer\n",
        "\n",
        "Let's do 3 modeeling experiments:\n",
        "1. Model 1 - same as the original model , 1 layer , trained for 100 epochs\n",
        "2. Model 2 - 2 layers, trained for 100 epochs\n",
        "3. Model 3 - 2 layers , trained for 500 epochs"
      ],
      "metadata": {
        "id": "hLK9nStSvDR0"
      }
    },
    {
      "cell_type": "markdown",
      "source": [
        "### Build model_1"
      ],
      "metadata": {
        "id": "BhikqWdevXh-"
      }
    },
    {
      "cell_type": "code",
      "source": [
        "# Set random seed\n",
        "tf.random.set_seed(42)\n",
        "\n",
        "# 1. Create the model\n",
        "model_1 = tf.keras.Sequential([\n",
        "    tf.keras.layers.Dense(1)\n",
        "])\n",
        "# Compile the model\n",
        "model_1.compile(loss=tf.keras.losses.mae,\n",
        "                optimizer = tf.keras.optimizers.SGD(),\n",
        "                metrics=[mae])\n",
        "model_1.fit(tf.expand_dims(X_train, axis=-1), y_train , epochs=100)"
      ],
      "metadata": {
        "colab": {
          "base_uri": "https://localhost:8080/"
        },
        "id": "SCCPzjf0v94P",
        "outputId": "915f2339-ce54-49b8-8630-bf03e677d82c"
      },
      "execution_count": null,
      "outputs": [
        {
          "output_type": "stream",
          "name": "stdout",
          "text": [
            "Epoch 1/100\n",
            "2/2 [==============================] - 1s 16ms/step - loss: 11.8886 - mae: 48.4714\n",
            "Epoch 2/100\n",
            "2/2 [==============================] - 0s 9ms/step - loss: 8.9494 - mae: 49.6424\n",
            "Epoch 3/100\n",
            "2/2 [==============================] - 0s 9ms/step - loss: 12.7010 - mae: 47.7503\n",
            "Epoch 4/100\n",
            "2/2 [==============================] - 0s 11ms/step - loss: 8.3616 - mae: 49.1904\n",
            "Epoch 5/100\n",
            "2/2 [==============================] - 0s 8ms/step - loss: 11.8935 - mae: 52.7345\n",
            "Epoch 6/100\n",
            "2/2 [==============================] - 0s 7ms/step - loss: 11.0205 - mae: 55.4372\n",
            "Epoch 7/100\n",
            "2/2 [==============================] - 0s 8ms/step - loss: 8.4253 - mae: 50.6578\n",
            "Epoch 8/100\n",
            "2/2 [==============================] - 0s 9ms/step - loss: 8.8565 - mae: 47.1693\n",
            "Epoch 9/100\n",
            "2/2 [==============================] - 0s 10ms/step - loss: 16.9992 - mae: 43.2257\n",
            "Epoch 10/100\n",
            "2/2 [==============================] - 0s 9ms/step - loss: 12.5173 - mae: 52.7644\n",
            "Epoch 11/100\n",
            "2/2 [==============================] - 0s 9ms/step - loss: 10.2468 - mae: 52.7742\n",
            "Epoch 12/100\n",
            "2/2 [==============================] - 0s 8ms/step - loss: 18.6505 - mae: 43.6649\n",
            "Epoch 13/100\n",
            "2/2 [==============================] - 0s 10ms/step - loss: 9.7092 - mae: 51.9143\n",
            "Epoch 14/100\n",
            "2/2 [==============================] - 0s 8ms/step - loss: 15.5992 - mae: 61.0110\n",
            "Epoch 15/100\n",
            "2/2 [==============================] - 0s 9ms/step - loss: 11.3016 - mae: 48.3009\n",
            "Epoch 16/100\n",
            "2/2 [==============================] - 0s 8ms/step - loss: 8.5674 - mae: 50.2992\n",
            "Epoch 17/100\n",
            "2/2 [==============================] - 0s 9ms/step - loss: 13.7028 - mae: 53.9075\n",
            "Epoch 18/100\n",
            "2/2 [==============================] - 0s 9ms/step - loss: 11.5487 - mae: 54.9225\n",
            "Epoch 19/100\n",
            "2/2 [==============================] - 0s 7ms/step - loss: 17.8058 - mae: 44.2941\n",
            "Epoch 20/100\n",
            "2/2 [==============================] - 0s 8ms/step - loss: 14.9413 - mae: 45.9863\n",
            "Epoch 21/100\n",
            "2/2 [==============================] - 0s 7ms/step - loss: 10.8262 - mae: 48.6854\n",
            "Epoch 22/100\n",
            "2/2 [==============================] - 0s 7ms/step - loss: 8.5751 - mae: 48.1980\n",
            "Epoch 23/100\n",
            "2/2 [==============================] - 0s 7ms/step - loss: 9.7206 - mae: 53.4460\n",
            "Epoch 24/100\n",
            "2/2 [==============================] - 0s 7ms/step - loss: 10.9371 - mae: 48.6995\n",
            "Epoch 25/100\n",
            "2/2 [==============================] - 0s 6ms/step - loss: 9.1498 - mae: 49.4651\n",
            "Epoch 26/100\n",
            "2/2 [==============================] - 0s 7ms/step - loss: 13.1739 - mae: 47.1916\n",
            "Epoch 27/100\n",
            "2/2 [==============================] - 0s 7ms/step - loss: 10.6500 - mae: 48.5400\n",
            "Epoch 28/100\n",
            "2/2 [==============================] - 0s 7ms/step - loss: 12.8642 - mae: 47.9826\n",
            "Epoch 29/100\n",
            "2/2 [==============================] - 0s 7ms/step - loss: 9.5020 - mae: 46.1339\n",
            "Epoch 30/100\n",
            "2/2 [==============================] - 0s 7ms/step - loss: 16.3796 - mae: 37.3111\n",
            "Epoch 31/100\n",
            "2/2 [==============================] - 0s 7ms/step - loss: 23.6044 - mae: 68.7423\n",
            "Epoch 32/100\n",
            "2/2 [==============================] - 0s 7ms/step - loss: 7.6093 - mae: 49.5829\n",
            "Epoch 33/100\n",
            "2/2 [==============================] - 0s 7ms/step - loss: 9.3080 - mae: 52.0856\n",
            "Epoch 34/100\n",
            "2/2 [==============================] - 0s 7ms/step - loss: 13.6980 - mae: 58.4942\n",
            "Epoch 35/100\n",
            "2/2 [==============================] - 0s 7ms/step - loss: 11.1386 - mae: 47.1625\n",
            "Epoch 36/100\n",
            "2/2 [==============================] - 0s 7ms/step - loss: 13.3507 - mae: 46.7976\n",
            "Epoch 37/100\n",
            "2/2 [==============================] - 0s 7ms/step - loss: 9.4576 - mae: 52.0002\n",
            "Epoch 38/100\n",
            "2/2 [==============================] - 0s 10ms/step - loss: 10.1136 - mae: 54.6966\n",
            "Epoch 39/100\n",
            "2/2 [==============================] - 0s 7ms/step - loss: 10.1904 - mae: 49.2909\n",
            "Epoch 40/100\n",
            "2/2 [==============================] - 0s 7ms/step - loss: 10.9315 - mae: 49.1666\n",
            "Epoch 41/100\n",
            "2/2 [==============================] - 0s 7ms/step - loss: 7.9185 - mae: 47.8434\n",
            "Epoch 42/100\n",
            "2/2 [==============================] - 0s 7ms/step - loss: 10.0699 - mae: 53.8226\n",
            "Epoch 43/100\n",
            "2/2 [==============================] - 0s 7ms/step - loss: 8.6882 - mae: 50.7847\n",
            "Epoch 44/100\n",
            "2/2 [==============================] - 0s 7ms/step - loss: 12.1712 - mae: 57.6750\n",
            "Epoch 45/100\n",
            "2/2 [==============================] - 0s 8ms/step - loss: 13.8203 - mae: 46.9518\n",
            "Epoch 46/100\n",
            "2/2 [==============================] - 0s 7ms/step - loss: 8.4818 - mae: 49.0387\n",
            "Epoch 47/100\n",
            "2/2 [==============================] - 0s 7ms/step - loss: 9.1140 - mae: 51.8481\n",
            "Epoch 48/100\n",
            "2/2 [==============================] - 0s 7ms/step - loss: 10.5933 - mae: 53.1055\n",
            "Epoch 49/100\n",
            "2/2 [==============================] - 0s 6ms/step - loss: 7.7332 - mae: 50.1985\n",
            "Epoch 50/100\n",
            "2/2 [==============================] - 0s 7ms/step - loss: 9.5170 - mae: 51.0166\n",
            "Epoch 51/100\n",
            "2/2 [==============================] - 0s 6ms/step - loss: 9.1485 - mae: 50.4775\n",
            "Epoch 52/100\n",
            "2/2 [==============================] - 0s 7ms/step - loss: 16.3225 - mae: 60.6341\n",
            "Epoch 53/100\n",
            "2/2 [==============================] - 0s 8ms/step - loss: 14.1423 - mae: 40.9153\n",
            "Epoch 54/100\n",
            "2/2 [==============================] - 0s 10ms/step - loss: 21.1645 - mae: 40.5089\n",
            "Epoch 55/100\n",
            "2/2 [==============================] - 0s 7ms/step - loss: 16.3580 - mae: 62.0350\n",
            "Epoch 56/100\n",
            "2/2 [==============================] - 0s 7ms/step - loss: 10.0034 - mae: 48.3761\n",
            "Epoch 57/100\n",
            "2/2 [==============================] - 0s 7ms/step - loss: 9.9384 - mae: 51.3459\n",
            "Epoch 58/100\n",
            "2/2 [==============================] - 0s 7ms/step - loss: 9.2007 - mae: 53.1749\n",
            "Epoch 59/100\n",
            "2/2 [==============================] - 0s 6ms/step - loss: 8.4046 - mae: 50.7121\n",
            "Epoch 60/100\n",
            "2/2 [==============================] - 0s 7ms/step - loss: 9.4699 - mae: 53.5590\n",
            "Epoch 61/100\n",
            "2/2 [==============================] - 0s 7ms/step - loss: 11.4062 - mae: 56.5083\n",
            "Epoch 62/100\n",
            "2/2 [==============================] - 0s 7ms/step - loss: 11.7107 - mae: 48.7313\n",
            "Epoch 63/100\n",
            "2/2 [==============================] - 0s 7ms/step - loss: 7.0693 - mae: 49.3291\n",
            "Epoch 64/100\n",
            "2/2 [==============================] - 0s 7ms/step - loss: 16.9921 - mae: 45.0374\n",
            "Epoch 65/100\n",
            "2/2 [==============================] - 0s 7ms/step - loss: 12.4761 - mae: 47.2225\n",
            "Epoch 66/100\n",
            "2/2 [==============================] - 0s 7ms/step - loss: 13.0414 - mae: 47.3464\n",
            "Epoch 67/100\n",
            "2/2 [==============================] - 0s 7ms/step - loss: 8.0644 - mae: 50.8952\n",
            "Epoch 68/100\n",
            "2/2 [==============================] - 0s 7ms/step - loss: 10.2006 - mae: 48.7774\n",
            "Epoch 69/100\n",
            "2/2 [==============================] - 0s 7ms/step - loss: 12.3880 - mae: 47.8545\n",
            "Epoch 70/100\n",
            "2/2 [==============================] - 0s 8ms/step - loss: 9.0318 - mae: 49.8639\n",
            "Epoch 71/100\n",
            "2/2 [==============================] - 0s 7ms/step - loss: 10.0165 - mae: 52.8544\n",
            "Epoch 72/100\n",
            "2/2 [==============================] - 0s 7ms/step - loss: 10.0340 - mae: 54.1449\n",
            "Epoch 73/100\n",
            "2/2 [==============================] - 0s 7ms/step - loss: 12.5838 - mae: 56.5446\n",
            "Epoch 74/100\n",
            "2/2 [==============================] - 0s 7ms/step - loss: 10.4056 - mae: 48.8905\n",
            "Epoch 75/100\n",
            "2/2 [==============================] - 0s 7ms/step - loss: 9.7037 - mae: 53.0944\n",
            "Epoch 76/100\n",
            "2/2 [==============================] - 0s 7ms/step - loss: 11.2003 - mae: 55.4617\n",
            "Epoch 77/100\n",
            "2/2 [==============================] - 0s 7ms/step - loss: 8.3464 - mae: 50.9646\n",
            "Epoch 78/100\n",
            "2/2 [==============================] - 0s 7ms/step - loss: 9.0982 - mae: 51.6752\n",
            "Epoch 79/100\n",
            "2/2 [==============================] - 0s 7ms/step - loss: 19.5414 - mae: 41.7768\n",
            "Epoch 80/100\n",
            "2/2 [==============================] - 0s 6ms/step - loss: 14.8584 - mae: 60.0353\n",
            "Epoch 81/100\n",
            "2/2 [==============================] - 0s 7ms/step - loss: 9.0311 - mae: 46.2155\n",
            "Epoch 82/100\n",
            "2/2 [==============================] - 0s 11ms/step - loss: 12.9895 - mae: 57.2803\n",
            "Epoch 83/100\n",
            "2/2 [==============================] - 0s 9ms/step - loss: 7.9063 - mae: 50.8512\n",
            "Epoch 84/100\n",
            "2/2 [==============================] - 0s 9ms/step - loss: 7.6902 - mae: 49.8394\n",
            "Epoch 85/100\n",
            "2/2 [==============================] - 0s 8ms/step - loss: 10.0476 - mae: 48.9588\n",
            "Epoch 86/100\n",
            "2/2 [==============================] - 0s 8ms/step - loss: 9.2511 - mae: 48.5734\n",
            "Epoch 87/100\n",
            "2/2 [==============================] - 0s 7ms/step - loss: 12.0399 - mae: 46.9795\n",
            "Epoch 88/100\n",
            "2/2 [==============================] - 0s 8ms/step - loss: 10.6586 - mae: 48.7868\n",
            "Epoch 89/100\n",
            "2/2 [==============================] - 0s 7ms/step - loss: 7.2630 - mae: 50.3216\n",
            "Epoch 90/100\n",
            "2/2 [==============================] - 0s 7ms/step - loss: 12.8014 - mae: 47.5518\n",
            "Epoch 91/100\n",
            "2/2 [==============================] - 0s 10ms/step - loss: 7.4756 - mae: 50.4202\n",
            "Epoch 92/100\n",
            "2/2 [==============================] - 0s 10ms/step - loss: 6.7462 - mae: 50.6172\n",
            "Epoch 93/100\n",
            "2/2 [==============================] - 0s 9ms/step - loss: 11.9508 - mae: 48.5033\n",
            "Epoch 94/100\n",
            "2/2 [==============================] - 0s 9ms/step - loss: 8.8805 - mae: 50.4422\n",
            "Epoch 95/100\n",
            "2/2 [==============================] - 0s 7ms/step - loss: 7.7177 - mae: 50.8689\n",
            "Epoch 96/100\n",
            "2/2 [==============================] - 0s 7ms/step - loss: 6.7457 - mae: 49.7542\n",
            "Epoch 97/100\n",
            "2/2 [==============================] - 0s 7ms/step - loss: 8.6329 - mae: 49.9887\n",
            "Epoch 98/100\n",
            "2/2 [==============================] - 0s 10ms/step - loss: 9.3843 - mae: 52.6825\n",
            "Epoch 99/100\n",
            "2/2 [==============================] - 0s 7ms/step - loss: 9.1208 - mae: 53.4535\n",
            "Epoch 100/100\n",
            "2/2 [==============================] - 0s 7ms/step - loss: 10.4760 - mae: 55.8964\n"
          ]
        },
        {
          "output_type": "execute_result",
          "data": {
            "text/plain": [
              "<keras.callbacks.History at 0x7fc2c5a5ff40>"
            ]
          },
          "metadata": {},
          "execution_count": 51
        }
      ]
    },
    {
      "cell_type": "code",
      "source": [
        "# Make and plot predictions for model1\n",
        "y_preds_1 = model_1.predict(X_test)\n",
        "plot_predictions(predictions=y_preds_1)"
      ],
      "metadata": {
        "colab": {
          "base_uri": "https://localhost:8080/",
          "height": 654
        },
        "id": "dD7U_UgZx7ze",
        "outputId": "efee808a-853c-471f-b431-ef342029b8b4"
      },
      "execution_count": null,
      "outputs": [
        {
          "output_type": "stream",
          "name": "stderr",
          "text": [
            "WARNING:tensorflow:5 out of the last 5 calls to <function Model.make_predict_function.<locals>.predict_function at 0x7fc2201b7940> triggered tf.function retracing. Tracing is expensive and the excessive number of tracings could be due to (1) creating @tf.function repeatedly in a loop, (2) passing tensors with different shapes, (3) passing Python objects instead of tensors. For (1), please define your @tf.function outside of the loop. For (2), @tf.function has reduce_retracing=True option that can avoid unnecessary retracing. For (3), please refer to https://www.tensorflow.org/guide/function#controlling_retracing and https://www.tensorflow.org/api_docs/python/tf/function for  more details.\n"
          ]
        },
        {
          "output_type": "stream",
          "name": "stdout",
          "text": [
            "1/1 [==============================] - 0s 49ms/step\n"
          ]
        },
        {
          "output_type": "display_data",
          "data": {
            "text/plain": [
              "<Figure size 1000x700 with 1 Axes>"
            ],
            "image/png": "[encoded data removed]"
          },
          "metadata": {}
        }
      ]
    },
    {
      "cell_type": "code",
      "source": [
        "tf.constant(y_preds_1), tf.squeeze(y_preds_1)"
      ],
      "metadata": {
        "colab": {
          "base_uri": "https://localhost:8080/"
        },
        "id": "L0TeYHRDzSnE",
        "outputId": "a976f9eb-db06-4c70-d7ff-dcb32dd1a1a2"
      },
      "execution_count": null,
      "outputs": [
        {
          "output_type": "execute_result",
          "data": {
            "text/plain": [
              "(<tf.Tensor: shape=(10, 1), dtype=float32, numpy=\n",
              " array([[56.527664],\n",
              "        [60.209175],\n",
              "        [63.890686],\n",
              "        [67.5722  ],\n",
              "        [71.25371 ],\n",
              "        [74.93522 ],\n",
              "        [78.61673 ],\n",
              "        [82.29824 ],\n",
              "        [85.97975 ],\n",
              "        [89.66126 ]], dtype=float32)>,\n",
              " <tf.Tensor: shape=(10,), dtype=float32, numpy=\n",
              " array([56.527664, 60.209175, 63.890686, 67.5722  , 71.25371 , 74.93522 ,\n",
              "        78.61673 , 82.29824 , 85.97975 , 89.66126 ], dtype=float32)>)"
            ]
          },
          "metadata": {},
          "execution_count": 53
        }
      ]
    },
    {
      "cell_type": "code",
      "source": [
        "# Calculate model_1 evaluation metrics\n",
        "mae_1 = mae(y_test, y_preds_1)\n",
        "mse_1 = mse(y_test, y_preds_1)\n",
        "mae_1, mse_1"
      ],
      "metadata": {
        "colab": {
          "base_uri": "https://localhost:8080/"
        },
        "id": "PArTmwqdyuIh",
        "outputId": "32616cd7-6f26-4c7e-9758-aad6ca226943"
      },
      "execution_count": null,
      "outputs": [
        {
          "output_type": "execute_result",
          "data": {
            "text/plain": [
              "(<tf.Tensor: shape=(), dtype=float32, numpy=14.905536>,\n",
              " <tf.Tensor: shape=(), dtype=float32, numpy=223.01187>)"
            ]
          },
          "metadata": {},
          "execution_count": 54
        }
      ]
    },
    {
      "cell_type": "markdown",
      "source": [
        "Build model_2\n",
        "* 2 Dense layers, trained for 100 epochs\n"
      ],
      "metadata": {
        "id": "J5lenWE3y7lU"
      }
    },
    {
      "cell_type": "code",
      "source": [
        "# Set the random seed\n",
        "tf.random.set_seed(42)\n",
        "# Create the model \n",
        "model_2 = tf.keras.Sequential([\n",
        "    tf.keras.layers.Dense(10),\n",
        "    tf.keras.layers.Dense(1)\n",
        "    ])\n",
        "# Compile the model\n",
        "model_2.compile(loss=tf.keras.losses.mae,\n",
        "                optimizer=tf.keras.optimizers.SGD(),\n",
        "                metrics=[\"mae\"])\n",
        "# Fit the model\n",
        "model_2.fit(tf.expand_dims(X_train, axis =-1), y_train, epochs=100)"
      ],
      "metadata": {
        "colab": {
          "base_uri": "https://localhost:8080/"
        },
        "id": "0LD3n_QH0HZd",
        "outputId": "7e42fcf5-d817-42b9-abbc-0177f6a934b8"
      },
      "execution_count": null,
      "outputs": [
        {
          "output_type": "stream",
          "name": "stdout",
          "text": [
            "Epoch 1/100\n",
            "2/2 [==============================] - 1s 12ms/step - loss: 67.9655 - mae: 67.9655\n",
            "Epoch 2/100\n",
            "2/2 [==============================] - 0s 6ms/step - loss: 30.0270 - mae: 30.0270\n",
            "Epoch 3/100\n",
            "2/2 [==============================] - 0s 7ms/step - loss: 20.7405 - mae: 20.7405\n",
            "Epoch 4/100\n",
            "2/2 [==============================] - 0s 14ms/step - loss: 13.3553 - mae: 13.3553\n",
            "Epoch 5/100\n",
            "2/2 [==============================] - 0s 6ms/step - loss: 17.4639 - mae: 17.4639\n",
            "Epoch 6/100\n",
            "2/2 [==============================] - 0s 7ms/step - loss: 10.2191 - mae: 10.2191\n",
            "Epoch 7/100\n",
            "2/2 [==============================] - 0s 8ms/step - loss: 11.1860 - mae: 11.1860\n",
            "Epoch 8/100\n",
            "2/2 [==============================] - 0s 7ms/step - loss: 11.1203 - mae: 11.1203\n",
            "Epoch 9/100\n",
            "2/2 [==============================] - 0s 7ms/step - loss: 40.5129 - mae: 40.5129\n",
            "Epoch 10/100\n",
            "2/2 [==============================] - 0s 8ms/step - loss: 27.8978 - mae: 27.8978\n",
            "Epoch 11/100\n",
            "2/2 [==============================] - 0s 7ms/step - loss: 10.2632 - mae: 10.2632\n",
            "Epoch 12/100\n",
            "2/2 [==============================] - 0s 7ms/step - loss: 25.3024 - mae: 25.3024\n",
            "Epoch 13/100\n",
            "2/2 [==============================] - 0s 7ms/step - loss: 17.0063 - mae: 17.0063\n",
            "Epoch 14/100\n",
            "2/2 [==============================] - 0s 7ms/step - loss: 25.9354 - mae: 25.9354\n",
            "Epoch 15/100\n",
            "2/2 [==============================] - 0s 8ms/step - loss: 18.0088 - mae: 18.0088\n",
            "Epoch 16/100\n",
            "2/2 [==============================] - 0s 7ms/step - loss: 7.3659 - mae: 7.3659\n",
            "Epoch 17/100\n",
            "2/2 [==============================] - 0s 6ms/step - loss: 10.8672 - mae: 10.8672\n",
            "Epoch 18/100\n",
            "2/2 [==============================] - 0s 7ms/step - loss: 19.5372 - mae: 19.5372\n",
            "Epoch 19/100\n",
            "2/2 [==============================] - 0s 9ms/step - loss: 10.3600 - mae: 10.3600\n",
            "Epoch 20/100\n",
            "2/2 [==============================] - 0s 13ms/step - loss: 17.7076 - mae: 17.7076\n",
            "Epoch 21/100\n",
            "2/2 [==============================] - 0s 8ms/step - loss: 15.9106 - mae: 15.9106\n",
            "Epoch 22/100\n",
            "2/2 [==============================] - 0s 7ms/step - loss: 14.2151 - mae: 14.2151\n",
            "Epoch 23/100\n",
            "2/2 [==============================] - 0s 15ms/step - loss: 8.7784 - mae: 8.7784\n",
            "Epoch 24/100\n",
            "2/2 [==============================] - 0s 7ms/step - loss: 11.0623 - mae: 11.0623\n",
            "Epoch 25/100\n",
            "2/2 [==============================] - 0s 8ms/step - loss: 12.6791 - mae: 12.6791\n",
            "Epoch 26/100\n",
            "2/2 [==============================] - 0s 7ms/step - loss: 26.1416 - mae: 26.1416\n",
            "Epoch 27/100\n",
            "2/2 [==============================] - 0s 7ms/step - loss: 11.7474 - mae: 11.7474\n",
            "Epoch 28/100\n",
            "2/2 [==============================] - 0s 7ms/step - loss: 30.7197 - mae: 30.7197\n",
            "Epoch 29/100\n",
            "2/2 [==============================] - 0s 7ms/step - loss: 9.2953 - mae: 9.2953\n",
            "Epoch 30/100\n",
            "2/2 [==============================] - 0s 7ms/step - loss: 31.1191 - mae: 31.1191\n",
            "Epoch 31/100\n",
            "2/2 [==============================] - 0s 7ms/step - loss: 42.6252 - mae: 42.6252\n",
            "Epoch 32/100\n",
            "2/2 [==============================] - 0s 7ms/step - loss: 12.4513 - mae: 12.4513\n",
            "Epoch 33/100\n",
            "2/2 [==============================] - 0s 7ms/step - loss: 12.2410 - mae: 12.2410\n",
            "Epoch 34/100\n",
            "2/2 [==============================] - 0s 8ms/step - loss: 24.1023 - mae: 24.1023\n",
            "Epoch 35/100\n",
            "2/2 [==============================] - 0s 7ms/step - loss: 12.0151 - mae: 12.0151\n",
            "Epoch 36/100\n",
            "2/2 [==============================] - 0s 7ms/step - loss: 22.3435 - mae: 22.3435\n",
            "Epoch 37/100\n",
            "2/2 [==============================] - 0s 8ms/step - loss: 17.1731 - mae: 17.1731\n",
            "Epoch 38/100\n",
            "2/2 [==============================] - 0s 8ms/step - loss: 10.6045 - mae: 10.6045\n",
            "Epoch 39/100\n",
            "2/2 [==============================] - 0s 7ms/step - loss: 11.1187 - mae: 11.1187\n",
            "Epoch 40/100\n",
            "2/2 [==============================] - 0s 7ms/step - loss: 17.7176 - mae: 17.7176\n",
            "Epoch 41/100\n",
            "2/2 [==============================] - 0s 10ms/step - loss: 10.3007 - mae: 10.3007\n",
            "Epoch 42/100\n",
            "2/2 [==============================] - 0s 6ms/step - loss: 7.1704 - mae: 7.1704\n",
            "Epoch 43/100\n",
            "2/2 [==============================] - 0s 7ms/step - loss: 15.3706 - mae: 15.3706\n",
            "Epoch 44/100\n",
            "2/2 [==============================] - 0s 7ms/step - loss: 25.0881 - mae: 25.0881\n",
            "Epoch 45/100\n",
            "2/2 [==============================] - 0s 7ms/step - loss: 12.1437 - mae: 12.1437\n",
            "Epoch 46/100\n",
            "2/2 [==============================] - 0s 7ms/step - loss: 16.4724 - mae: 16.4724\n",
            "Epoch 47/100\n",
            "2/2 [==============================] - 0s 7ms/step - loss: 14.9456 - mae: 14.9456\n",
            "Epoch 48/100\n",
            "2/2 [==============================] - 0s 9ms/step - loss: 14.1504 - mae: 14.1504\n",
            "Epoch 49/100\n",
            "2/2 [==============================] - 0s 8ms/step - loss: 13.7223 - mae: 13.7223\n",
            "Epoch 50/100\n",
            "2/2 [==============================] - 0s 7ms/step - loss: 12.5954 - mae: 12.5954\n",
            "Epoch 51/100\n",
            "2/2 [==============================] - 0s 7ms/step - loss: 14.6680 - mae: 14.6680\n",
            "Epoch 52/100\n",
            "2/2 [==============================] - 0s 7ms/step - loss: 18.5911 - mae: 18.5911\n",
            "Epoch 53/100\n",
            "2/2 [==============================] - 0s 7ms/step - loss: 23.8594 - mae: 23.8594\n",
            "Epoch 54/100\n",
            "2/2 [==============================] - 0s 7ms/step - loss: 24.1455 - mae: 24.1455\n",
            "Epoch 55/100\n",
            "2/2 [==============================] - 0s 7ms/step - loss: 23.3889 - mae: 23.3889\n",
            "Epoch 56/100\n",
            "2/2 [==============================] - 0s 7ms/step - loss: 10.9704 - mae: 10.9704\n",
            "Epoch 57/100\n",
            "2/2 [==============================] - 0s 7ms/step - loss: 12.8468 - mae: 12.8468\n",
            "Epoch 58/100\n",
            "2/2 [==============================] - 0s 7ms/step - loss: 9.6640 - mae: 9.6640\n",
            "Epoch 59/100\n",
            "2/2 [==============================] - 0s 6ms/step - loss: 12.6002 - mae: 12.6002\n",
            "Epoch 60/100\n",
            "2/2 [==============================] - 0s 7ms/step - loss: 12.3968 - mae: 12.3968\n",
            "Epoch 61/100\n",
            "2/2 [==============================] - 0s 8ms/step - loss: 13.2907 - mae: 13.2907\n",
            "Epoch 62/100\n",
            "2/2 [==============================] - 0s 7ms/step - loss: 17.1226 - mae: 17.1226\n",
            "Epoch 63/100\n",
            "2/2 [==============================] - 0s 7ms/step - loss: 9.0899 - mae: 9.0899\n",
            "Epoch 64/100\n",
            "2/2 [==============================] - 0s 9ms/step - loss: 17.7576 - mae: 17.7576\n",
            "Epoch 65/100\n",
            "2/2 [==============================] - 0s 8ms/step - loss: 10.5624 - mae: 10.5624\n",
            "Epoch 66/100\n",
            "2/2 [==============================] - 0s 7ms/step - loss: 21.2261 - mae: 21.2261\n",
            "Epoch 67/100\n",
            "2/2 [==============================] - 0s 7ms/step - loss: 10.5536 - mae: 10.5536\n",
            "Epoch 68/100\n",
            "2/2 [==============================] - 0s 7ms/step - loss: 14.3799 - mae: 14.3799\n",
            "Epoch 69/100\n",
            "2/2 [==============================] - 0s 11ms/step - loss: 10.6364 - mae: 10.6364\n",
            "Epoch 70/100\n",
            "2/2 [==============================] - 0s 16ms/step - loss: 12.7189 - mae: 12.7189\n",
            "Epoch 71/100\n",
            "2/2 [==============================] - 0s 7ms/step - loss: 13.1393 - mae: 13.1393\n",
            "Epoch 72/100\n",
            "2/2 [==============================] - 0s 11ms/step - loss: 19.5923 - mae: 19.5923\n",
            "Epoch 73/100\n",
            "2/2 [==============================] - 0s 7ms/step - loss: 11.2088 - mae: 11.2088\n",
            "Epoch 74/100\n",
            "2/2 [==============================] - 0s 8ms/step - loss: 21.8369 - mae: 21.8369\n",
            "Epoch 75/100\n",
            "2/2 [==============================] - 0s 8ms/step - loss: 7.2289 - mae: 7.2289\n",
            "Epoch 76/100\n",
            "2/2 [==============================] - 0s 7ms/step - loss: 9.4425 - mae: 9.4425\n",
            "Epoch 77/100\n",
            "2/2 [==============================] - 0s 7ms/step - loss: 22.0943 - mae: 22.0943\n",
            "Epoch 78/100\n",
            "2/2 [==============================] - 0s 10ms/step - loss: 17.6194 - mae: 17.6194\n",
            "Epoch 79/100\n",
            "2/2 [==============================] - 0s 9ms/step - loss: 14.8195 - mae: 14.8195\n",
            "Epoch 80/100\n",
            "2/2 [==============================] - 0s 9ms/step - loss: 25.0718 - mae: 25.0718\n",
            "Epoch 81/100\n",
            "2/2 [==============================] - 0s 9ms/step - loss: 10.9008 - mae: 10.9008\n",
            "Epoch 82/100\n",
            "2/2 [==============================] - 0s 8ms/step - loss: 12.7866 - mae: 12.7866\n",
            "Epoch 83/100\n",
            "2/2 [==============================] - 0s 8ms/step - loss: 17.5762 - mae: 17.5762\n",
            "Epoch 84/100\n",
            "2/2 [==============================] - 0s 9ms/step - loss: 7.3169 - mae: 7.3169\n",
            "Epoch 85/100\n",
            "2/2 [==============================] - 0s 8ms/step - loss: 15.0918 - mae: 15.0918\n",
            "Epoch 86/100\n",
            "2/2 [==============================] - 0s 9ms/step - loss: 15.3914 - mae: 15.3914\n",
            "Epoch 87/100\n",
            "2/2 [==============================] - 0s 8ms/step - loss: 19.3097 - mae: 19.3097\n",
            "Epoch 88/100\n",
            "2/2 [==============================] - 0s 7ms/step - loss: 29.3070 - mae: 29.3070\n",
            "Epoch 89/100\n",
            "2/2 [==============================] - 0s 9ms/step - loss: 10.1255 - mae: 10.1255\n",
            "Epoch 90/100\n",
            "2/2 [==============================] - 0s 10ms/step - loss: 21.0872 - mae: 21.0872\n",
            "Epoch 91/100\n",
            "2/2 [==============================] - 0s 8ms/step - loss: 10.4907 - mae: 10.4907\n",
            "Epoch 92/100\n",
            "2/2 [==============================] - 0s 9ms/step - loss: 17.9965 - mae: 17.9965\n",
            "Epoch 93/100\n",
            "2/2 [==============================] - 0s 10ms/step - loss: 6.5759 - mae: 6.5759\n",
            "Epoch 94/100\n",
            "2/2 [==============================] - 0s 8ms/step - loss: 11.1402 - mae: 11.1402\n",
            "Epoch 95/100\n",
            "2/2 [==============================] - 0s 8ms/step - loss: 24.3547 - mae: 24.3547\n",
            "Epoch 96/100\n",
            "2/2 [==============================] - 0s 7ms/step - loss: 10.7446 - mae: 10.7446\n",
            "Epoch 97/100\n",
            "2/2 [==============================] - 0s 8ms/step - loss: 15.3490 - mae: 15.3490\n",
            "Epoch 98/100\n",
            "2/2 [==============================] - 0s 8ms/step - loss: 8.2584 - mae: 8.2584\n",
            "Epoch 99/100\n",
            "2/2 [==============================] - 0s 8ms/step - loss: 16.5102 - mae: 16.5102\n",
            "Epoch 100/100\n",
            "2/2 [==============================] - 0s 6ms/step - loss: 14.2970 - mae: 14.2970\n"
          ]
        },
        {
          "output_type": "execute_result",
          "data": {
            "text/plain": [
              "<keras.callbacks.History at 0x7fc2c59feb80>"
            ]
          },
          "metadata": {},
          "execution_count": 55
        }
      ]
    },
    {
      "cell_type": "code",
      "source": [
        "y_preds_2=model_2.predict(X_test)\n",
        "plot_predictions(predictions=y_preds_2)"
      ],
      "metadata": {
        "colab": {
          "base_uri": "https://localhost:8080/",
          "height": 654
        },
        "id": "0YFIoyrF0HsW",
        "outputId": "8c2b172a-2b55-4670-bb73-f34eb1982f6d"
      },
      "execution_count": null,
      "outputs": [
        {
          "output_type": "stream",
          "name": "stderr",
          "text": [
            "WARNING:tensorflow:6 out of the last 6 calls to <function Model.make_predict_function.<locals>.predict_function at 0x7fc2c58d1550> triggered tf.function retracing. Tracing is expensive and the excessive number of tracings could be due to (1) creating @tf.function repeatedly in a loop, (2) passing tensors with different shapes, (3) passing Python objects instead of tensors. For (1), please define your @tf.function outside of the loop. For (2), @tf.function has reduce_retracing=True option that can avoid unnecessary retracing. For (3), please refer to https://www.tensorflow.org/guide/function#controlling_retracing and https://www.tensorflow.org/api_docs/python/tf/function for  more details.\n"
          ]
        },
        {
          "output_type": "stream",
          "name": "stdout",
          "text": [
            "1/1 [==============================] - 0s 53ms/step\n"
          ]
        },
        {
          "output_type": "display_data",
          "data": {
            "text/plain": [
              "<Figure size 1000x700 with 1 Axes>"
            ],
            "image/png": "[encoded data removed]"
          },
          "metadata": {}
        }
      ]
    },
    {
      "cell_type": "code",
      "source": [
        "mae_2 = mae(X_test,y_preds_2)\n",
        "mse_2 = mse(X_test, y_preds_2)\n",
        "mae_2 , mse_2"
      ],
      "metadata": {
        "colab": {
          "base_uri": "https://localhost:8080/"
        },
        "id": "W7kfJspF18n9",
        "outputId": "3e68cce7-d92a-4eef-dd6c-083cf729b95a"
      },
      "execution_count": null,
      "outputs": [
        {
          "output_type": "execute_result",
          "data": {
            "text/plain": [
              "(<tf.Tensor: shape=(), dtype=float32, numpy=20.669298>,\n",
              " <tf.Tensor: shape=(), dtype=float32, numpy=435.01968>)"
            ]
          },
          "metadata": {},
          "execution_count": 57
        }
      ]
    },
    {
      "cell_type": "markdown",
      "source": [
        "** Build mode_3**\n",
        "* 2 layers , trained for 500 epochs"
      ],
      "metadata": {
        "id": "KEvPoa5G2pR7"
      }
    },
    {
      "cell_type": "code",
      "source": [
        "# Set the random sees\n",
        "tf.random.set_seed(42)\n",
        "# 1. Create a model\n",
        "model_3 = tf.keras.Sequential([\n",
        "    tf.keras.layers.Dense(10),\n",
        "    tf.keras.layers.Dense(1)\n",
        "])\n",
        "# 2. Compile the model\n",
        "model_3.compile(loss=tf.keras.losses.mae,\n",
        "                optimizer=tf.keras.optimizers.SGD(),\n",
        "                metrics=[\"mae\"])\n",
        "\n",
        "# 3. Fit the model\n",
        "model_3.fit(tf.expand_dims(X_train,axis=-1),y_train,epochs=500)"
      ],
      "metadata": {
        "colab": {
          "base_uri": "https://localhost:8080/"
        },
        "id": "o5EIOL-Z-xEd",
        "outputId": "345acda0-f624-4b21-d810-a5fc096f8dce"
      },
      "execution_count": null,
      "outputs": [
        {
          "output_type": "stream",
          "name": "stdout",
          "text": [
            "Epoch 1/500\n",
            "2/2 [==============================] - 0s 16ms/step - loss: 48.5715 - mae: 48.5715\n",
            "Epoch 2/500\n",
            "2/2 [==============================] - 0s 7ms/step - loss: 27.6537 - mae: 27.6537\n",
            "Epoch 3/500\n",
            "2/2 [==============================] - 0s 8ms/step - loss: 33.3486 - mae: 33.3486\n",
            "Epoch 4/500\n",
            "2/2 [==============================] - 0s 7ms/step - loss: 24.8363 - mae: 24.8363\n",
            "Epoch 5/500\n",
            "2/2 [==============================] - 0s 7ms/step - loss: 14.7168 - mae: 14.7168\n",
            "Epoch 6/500\n",
            "2/2 [==============================] - 0s 7ms/step - loss: 11.7207 - mae: 11.7207\n",
            "Epoch 7/500\n",
            "2/2 [==============================] - 0s 6ms/step - loss: 11.0677 - mae: 11.0677\n",
            "Epoch 8/500\n",
            "2/2 [==============================] - 0s 14ms/step - loss: 11.0616 - mae: 11.0616\n",
            "Epoch 9/500\n",
            "2/2 [==============================] - 0s 8ms/step - loss: 40.0073 - mae: 40.0073\n",
            "Epoch 10/500\n",
            "2/2 [==============================] - 0s 6ms/step - loss: 27.4584 - mae: 27.4584\n",
            "Epoch 11/500\n",
            "2/2 [==============================] - 0s 6ms/step - loss: 10.2491 - mae: 10.2491\n",
            "Epoch 12/500\n",
            "2/2 [==============================] - 0s 6ms/step - loss: 25.4177 - mae: 25.4177\n",
            "Epoch 13/500\n",
            "2/2 [==============================] - 0s 7ms/step - loss: 16.7964 - mae: 16.7964\n",
            "Epoch 14/500\n",
            "2/2 [==============================] - 0s 9ms/step - loss: 25.5653 - mae: 25.5653\n",
            "Epoch 15/500\n",
            "2/2 [==============================] - 0s 6ms/step - loss: 17.4621 - mae: 17.4621\n",
            "Epoch 16/500\n",
            "2/2 [==============================] - 0s 9ms/step - loss: 10.0125 - mae: 10.0125\n",
            "Epoch 17/500\n",
            "2/2 [==============================] - 0s 6ms/step - loss: 18.4869 - mae: 18.4869\n",
            "Epoch 18/500\n",
            "2/2 [==============================] - 0s 6ms/step - loss: 11.3378 - mae: 11.3378\n",
            "Epoch 19/500\n",
            "2/2 [==============================] - 0s 6ms/step - loss: 13.9061 - mae: 13.9061\n",
            "Epoch 20/500\n",
            "2/2 [==============================] - 0s 7ms/step - loss: 11.1829 - mae: 11.1829\n",
            "Epoch 21/500\n",
            "2/2 [==============================] - 0s 7ms/step - loss: 17.2201 - mae: 17.2201\n",
            "Epoch 22/500\n",
            "2/2 [==============================] - 0s 7ms/step - loss: 15.4559 - mae: 15.4559\n",
            "Epoch 23/500\n",
            "2/2 [==============================] - 0s 7ms/step - loss: 9.2415 - mae: 9.2415\n",
            "Epoch 24/500\n",
            "2/2 [==============================] - 0s 6ms/step - loss: 17.2889 - mae: 17.2889\n",
            "Epoch 25/500\n",
            "2/2 [==============================] - 0s 6ms/step - loss: 15.9552 - mae: 15.9552\n",
            "Epoch 26/500\n",
            "2/2 [==============================] - 0s 7ms/step - loss: 20.9736 - mae: 20.9736\n",
            "Epoch 27/500\n",
            "2/2 [==============================] - 0s 7ms/step - loss: 25.8681 - mae: 25.8681\n",
            "Epoch 28/500\n",
            "2/2 [==============================] - 0s 6ms/step - loss: 18.3776 - mae: 18.3776\n",
            "Epoch 29/500\n",
            "2/2 [==============================] - 0s 7ms/step - loss: 9.2386 - mae: 9.2386\n",
            "Epoch 30/500\n",
            "2/2 [==============================] - 0s 7ms/step - loss: 28.9864 - mae: 28.9864\n",
            "Epoch 31/500\n",
            "2/2 [==============================] - 0s 8ms/step - loss: 52.4883 - mae: 52.4883\n",
            "Epoch 32/500\n",
            "2/2 [==============================] - 0s 7ms/step - loss: 11.8848 - mae: 11.8848\n",
            "Epoch 33/500\n",
            "2/2 [==============================] - 0s 7ms/step - loss: 15.4505 - mae: 15.4505\n",
            "Epoch 34/500\n",
            "2/2 [==============================] - 0s 8ms/step - loss: 12.5618 - mae: 12.5618\n",
            "Epoch 35/500\n",
            "2/2 [==============================] - 0s 8ms/step - loss: 9.1793 - mae: 9.1793\n",
            "Epoch 36/500\n",
            "2/2 [==============================] - 0s 7ms/step - loss: 16.4156 - mae: 16.4156\n",
            "Epoch 37/500\n",
            "2/2 [==============================] - 0s 7ms/step - loss: 11.1005 - mae: 11.1005\n",
            "Epoch 38/500\n",
            "2/2 [==============================] - 0s 7ms/step - loss: 18.2323 - mae: 18.2323\n",
            "Epoch 39/500\n",
            "2/2 [==============================] - 0s 7ms/step - loss: 19.1627 - mae: 19.1627\n",
            "Epoch 40/500\n",
            "2/2 [==============================] - 0s 7ms/step - loss: 20.5462 - mae: 20.5462\n",
            "Epoch 41/500\n",
            "2/2 [==============================] - 0s 11ms/step - loss: 14.7628 - mae: 14.7628\n",
            "Epoch 42/500\n",
            "2/2 [==============================] - 0s 7ms/step - loss: 12.1681 - mae: 12.1681\n",
            "Epoch 43/500\n",
            "2/2 [==============================] - 0s 7ms/step - loss: 10.6788 - mae: 10.6788\n",
            "Epoch 44/500\n",
            "2/2 [==============================] - 0s 7ms/step - loss: 32.1585 - mae: 32.1585\n",
            "Epoch 45/500\n",
            "2/2 [==============================] - 0s 7ms/step - loss: 12.4352 - mae: 12.4352\n",
            "Epoch 46/500\n",
            "2/2 [==============================] - 0s 7ms/step - loss: 17.4279 - mae: 17.4279\n",
            "Epoch 47/500\n",
            "2/2 [==============================] - 0s 7ms/step - loss: 15.7876 - mae: 15.7876\n",
            "Epoch 48/500\n",
            "2/2 [==============================] - 0s 6ms/step - loss: 8.3933 - mae: 8.3933\n",
            "Epoch 49/500\n",
            "2/2 [==============================] - 0s 10ms/step - loss: 14.2463 - mae: 14.2463\n",
            "Epoch 50/500\n",
            "2/2 [==============================] - 0s 7ms/step - loss: 15.1786 - mae: 15.1786\n",
            "Epoch 51/500\n",
            "2/2 [==============================] - 0s 8ms/step - loss: 13.6918 - mae: 13.6918\n",
            "Epoch 52/500\n",
            "2/2 [==============================] - 0s 7ms/step - loss: 18.1067 - mae: 18.1067\n",
            "Epoch 53/500\n",
            "2/2 [==============================] - 0s 9ms/step - loss: 22.7724 - mae: 22.7724\n",
            "Epoch 54/500\n",
            "2/2 [==============================] - 0s 7ms/step - loss: 26.7995 - mae: 26.7995\n",
            "Epoch 55/500\n",
            "2/2 [==============================] - 0s 7ms/step - loss: 26.4322 - mae: 26.4322\n",
            "Epoch 56/500\n",
            "2/2 [==============================] - 0s 11ms/step - loss: 11.3542 - mae: 11.3542\n",
            "Epoch 57/500\n",
            "2/2 [==============================] - 0s 7ms/step - loss: 13.3754 - mae: 13.3754\n",
            "Epoch 58/500\n",
            "2/2 [==============================] - 0s 7ms/step - loss: 9.9557 - mae: 9.9557\n",
            "Epoch 59/500\n",
            "2/2 [==============================] - 0s 7ms/step - loss: 13.9283 - mae: 13.9283\n",
            "Epoch 60/500\n",
            "2/2 [==============================] - 0s 7ms/step - loss: 9.9963 - mae: 9.9963\n",
            "Epoch 61/500\n",
            "2/2 [==============================] - 0s 9ms/step - loss: 14.9806 - mae: 14.9806\n",
            "Epoch 62/500\n",
            "2/2 [==============================] - 0s 6ms/step - loss: 11.9307 - mae: 11.9307\n",
            "Epoch 63/500\n",
            "2/2 [==============================] - 0s 6ms/step - loss: 10.2898 - mae: 10.2898\n",
            "Epoch 64/500\n",
            "2/2 [==============================] - 0s 7ms/step - loss: 23.8918 - mae: 23.8918\n",
            "Epoch 65/500\n",
            "2/2 [==============================] - 0s 7ms/step - loss: 10.4653 - mae: 10.4653\n",
            "Epoch 66/500\n",
            "2/2 [==============================] - 0s 10ms/step - loss: 20.9330 - mae: 20.9330\n",
            "Epoch 67/500\n",
            "2/2 [==============================] - 0s 8ms/step - loss: 10.4418 - mae: 10.4418\n",
            "Epoch 68/500\n",
            "2/2 [==============================] - 0s 8ms/step - loss: 14.1732 - mae: 14.1732\n",
            "Epoch 69/500\n",
            "2/2 [==============================] - 0s 7ms/step - loss: 10.5107 - mae: 10.5107\n",
            "Epoch 70/500\n",
            "2/2 [==============================] - 0s 6ms/step - loss: 12.5803 - mae: 12.5803\n",
            "Epoch 71/500\n",
            "2/2 [==============================] - 0s 8ms/step - loss: 13.0087 - mae: 13.0087\n",
            "Epoch 72/500\n",
            "2/2 [==============================] - 0s 9ms/step - loss: 19.3432 - mae: 19.3432\n",
            "Epoch 73/500\n",
            "2/2 [==============================] - 0s 10ms/step - loss: 11.1239 - mae: 11.1239\n",
            "Epoch 74/500\n",
            "2/2 [==============================] - 0s 7ms/step - loss: 21.4225 - mae: 21.4225\n",
            "Epoch 75/500\n",
            "2/2 [==============================] - 0s 7ms/step - loss: 9.4519 - mae: 9.4519\n",
            "Epoch 76/500\n",
            "2/2 [==============================] - 0s 7ms/step - loss: 12.2729 - mae: 12.2729\n",
            "Epoch 77/500\n",
            "2/2 [==============================] - 0s 10ms/step - loss: 16.2976 - mae: 16.2976\n",
            "Epoch 78/500\n",
            "2/2 [==============================] - 0s 6ms/step - loss: 9.0050 - mae: 9.0050\n",
            "Epoch 79/500\n",
            "2/2 [==============================] - 0s 6ms/step - loss: 23.5369 - mae: 23.5369\n",
            "Epoch 80/500\n",
            "2/2 [==============================] - 0s 6ms/step - loss: 26.2260 - mae: 26.2260\n",
            "Epoch 81/500\n",
            "2/2 [==============================] - 0s 6ms/step - loss: 11.4217 - mae: 11.4217\n",
            "Epoch 82/500\n",
            "2/2 [==============================] - 0s 7ms/step - loss: 12.4546 - mae: 12.4546\n",
            "Epoch 83/500\n",
            "2/2 [==============================] - 0s 7ms/step - loss: 17.1251 - mae: 17.1251\n",
            "Epoch 84/500\n",
            "2/2 [==============================] - 0s 7ms/step - loss: 6.5567 - mae: 6.5567\n",
            "Epoch 85/500\n",
            "2/2 [==============================] - 0s 7ms/step - loss: 20.4021 - mae: 20.4021\n",
            "Epoch 86/500\n",
            "2/2 [==============================] - 0s 7ms/step - loss: 10.1673 - mae: 10.1673\n",
            "Epoch 87/500\n",
            "2/2 [==============================] - 0s 7ms/step - loss: 24.4622 - mae: 24.4622\n",
            "Epoch 88/500\n",
            "2/2 [==============================] - 0s 7ms/step - loss: 19.1217 - mae: 19.1217\n",
            "Epoch 89/500\n",
            "2/2 [==============================] - 0s 9ms/step - loss: 7.1442 - mae: 7.1442\n",
            "Epoch 90/500\n",
            "2/2 [==============================] - 0s 7ms/step - loss: 18.2092 - mae: 18.2092\n",
            "Epoch 91/500\n",
            "2/2 [==============================] - 0s 7ms/step - loss: 13.2578 - mae: 13.2578\n",
            "Epoch 92/500\n",
            "2/2 [==============================] - 0s 8ms/step - loss: 14.7921 - mae: 14.7921\n",
            "Epoch 93/500\n",
            "2/2 [==============================] - 0s 8ms/step - loss: 11.0866 - mae: 11.0866\n",
            "Epoch 94/500\n",
            "2/2 [==============================] - 0s 7ms/step - loss: 16.6778 - mae: 16.6778\n",
            "Epoch 95/500\n",
            "2/2 [==============================] - 0s 7ms/step - loss: 16.0475 - mae: 16.0475\n",
            "Epoch 96/500\n",
            "2/2 [==============================] - 0s 7ms/step - loss: 10.5662 - mae: 10.5662\n",
            "Epoch 97/500\n",
            "2/2 [==============================] - 0s 7ms/step - loss: 21.2178 - mae: 21.2178\n",
            "Epoch 98/500\n",
            "2/2 [==============================] - 0s 7ms/step - loss: 10.4279 - mae: 10.4279\n",
            "Epoch 99/500\n",
            "2/2 [==============================] - 0s 7ms/step - loss: 14.5075 - mae: 14.5075\n",
            "Epoch 100/500\n",
            "2/2 [==============================] - 0s 7ms/step - loss: 17.6622 - mae: 17.6622\n",
            "Epoch 101/500\n",
            "2/2 [==============================] - 0s 7ms/step - loss: 11.2074 - mae: 11.2074\n",
            "Epoch 102/500\n",
            "2/2 [==============================] - 0s 8ms/step - loss: 16.9268 - mae: 16.9268\n",
            "Epoch 103/500\n",
            "2/2 [==============================] - 0s 7ms/step - loss: 7.7299 - mae: 7.7299\n",
            "Epoch 104/500\n",
            "2/2 [==============================] - 0s 7ms/step - loss: 22.3509 - mae: 22.3509\n",
            "Epoch 105/500\n",
            "2/2 [==============================] - 0s 6ms/step - loss: 20.0991 - mae: 20.0991\n",
            "Epoch 106/500\n",
            "2/2 [==============================] - 0s 7ms/step - loss: 10.0816 - mae: 10.0816\n",
            "Epoch 107/500\n",
            "2/2 [==============================] - 0s 7ms/step - loss: 24.8481 - mae: 24.8481\n",
            "Epoch 108/500\n",
            "2/2 [==============================] - 0s 7ms/step - loss: 14.7683 - mae: 14.7683\n",
            "Epoch 109/500\n",
            "2/2 [==============================] - 0s 8ms/step - loss: 8.9361 - mae: 8.9361\n",
            "Epoch 110/500\n",
            "2/2 [==============================] - 0s 14ms/step - loss: 9.1970 - mae: 9.1970\n",
            "Epoch 111/500\n",
            "2/2 [==============================] - 0s 7ms/step - loss: 12.8100 - mae: 12.8100\n",
            "Epoch 112/500\n",
            "2/2 [==============================] - 0s 7ms/step - loss: 15.6602 - mae: 15.6602\n",
            "Epoch 113/500\n",
            "2/2 [==============================] - 0s 7ms/step - loss: 11.1774 - mae: 11.1774\n",
            "Epoch 114/500\n",
            "2/2 [==============================] - 0s 7ms/step - loss: 24.9012 - mae: 24.9012\n",
            "Epoch 115/500\n",
            "2/2 [==============================] - 0s 8ms/step - loss: 13.4868 - mae: 13.4868\n",
            "Epoch 116/500\n",
            "2/2 [==============================] - 0s 7ms/step - loss: 14.3779 - mae: 14.3779\n",
            "Epoch 117/500\n",
            "2/2 [==============================] - 0s 7ms/step - loss: 9.9447 - mae: 9.9447\n",
            "Epoch 118/500\n",
            "2/2 [==============================] - 0s 7ms/step - loss: 11.0675 - mae: 11.0675\n",
            "Epoch 119/500\n",
            "2/2 [==============================] - 0s 7ms/step - loss: 8.1059 - mae: 8.1059\n",
            "Epoch 120/500\n",
            "2/2 [==============================] - 0s 7ms/step - loss: 30.8644 - mae: 30.8644\n",
            "Epoch 121/500\n",
            "2/2 [==============================] - 0s 7ms/step - loss: 8.1291 - mae: 8.1291\n",
            "Epoch 122/500\n",
            "2/2 [==============================] - 0s 7ms/step - loss: 29.2603 - mae: 29.2603\n",
            "Epoch 123/500\n",
            "2/2 [==============================] - 0s 9ms/step - loss: 34.0750 - mae: 34.0750\n",
            "Epoch 124/500\n",
            "2/2 [==============================] - 0s 11ms/step - loss: 20.5162 - mae: 20.5162\n",
            "Epoch 125/500\n",
            "2/2 [==============================] - 0s 7ms/step - loss: 9.0954 - mae: 9.0954\n",
            "Epoch 126/500\n",
            "2/2 [==============================] - 0s 11ms/step - loss: 9.2466 - mae: 9.2466\n",
            "Epoch 127/500\n",
            "2/2 [==============================] - 0s 7ms/step - loss: 11.3423 - mae: 11.3423\n",
            "Epoch 128/500\n",
            "2/2 [==============================] - 0s 7ms/step - loss: 17.1580 - mae: 17.1580\n",
            "Epoch 129/500\n",
            "2/2 [==============================] - 0s 7ms/step - loss: 8.9816 - mae: 8.9816\n",
            "Epoch 130/500\n",
            "2/2 [==============================] - 0s 7ms/step - loss: 23.8945 - mae: 23.8945\n",
            "Epoch 131/500\n",
            "2/2 [==============================] - 0s 6ms/step - loss: 9.7135 - mae: 9.7135\n",
            "Epoch 132/500\n",
            "2/2 [==============================] - 0s 7ms/step - loss: 18.1671 - mae: 18.1671\n",
            "Epoch 133/500\n",
            "2/2 [==============================] - 0s 7ms/step - loss: 7.5592 - mae: 7.5592\n",
            "Epoch 134/500\n",
            "2/2 [==============================] - 0s 7ms/step - loss: 18.4415 - mae: 18.4415\n",
            "Epoch 135/500\n",
            "2/2 [==============================] - 0s 7ms/step - loss: 10.4878 - mae: 10.4878\n",
            "Epoch 136/500\n",
            "2/2 [==============================] - 0s 7ms/step - loss: 18.1552 - mae: 18.1552\n",
            "Epoch 137/500\n",
            "2/2 [==============================] - 0s 8ms/step - loss: 23.0034 - mae: 23.0034\n",
            "Epoch 138/500\n",
            "2/2 [==============================] - 0s 8ms/step - loss: 9.0700 - mae: 9.0700\n",
            "Epoch 139/500\n",
            "2/2 [==============================] - 0s 8ms/step - loss: 8.8754 - mae: 8.8754\n",
            "Epoch 140/500\n",
            "2/2 [==============================] - 0s 8ms/step - loss: 16.3511 - mae: 16.3511\n",
            "Epoch 141/500\n",
            "2/2 [==============================] - 0s 7ms/step - loss: 8.4101 - mae: 8.4101\n",
            "Epoch 142/500\n",
            "2/2 [==============================] - 0s 7ms/step - loss: 36.7255 - mae: 36.7255\n",
            "Epoch 143/500\n",
            "2/2 [==============================] - 0s 8ms/step - loss: 25.3927 - mae: 25.3927\n",
            "Epoch 144/500\n",
            "2/2 [==============================] - 0s 7ms/step - loss: 9.5420 - mae: 9.5420\n",
            "Epoch 145/500\n",
            "2/2 [==============================] - 0s 7ms/step - loss: 26.6601 - mae: 26.6601\n",
            "Epoch 146/500\n",
            "2/2 [==============================] - 0s 7ms/step - loss: 8.6392 - mae: 8.6392\n",
            "Epoch 147/500\n",
            "2/2 [==============================] - 0s 7ms/step - loss: 15.6629 - mae: 15.6629\n",
            "Epoch 148/500\n",
            "2/2 [==============================] - 0s 7ms/step - loss: 18.3731 - mae: 18.3731\n",
            "Epoch 149/500\n",
            "2/2 [==============================] - 0s 7ms/step - loss: 8.1371 - mae: 8.1371\n",
            "Epoch 150/500\n",
            "2/2 [==============================] - 0s 7ms/step - loss: 7.4701 - mae: 7.4701\n",
            "Epoch 151/500\n",
            "2/2 [==============================] - 0s 7ms/step - loss: 18.1860 - mae: 18.1860\n",
            "Epoch 152/500\n",
            "2/2 [==============================] - 0s 7ms/step - loss: 10.2466 - mae: 10.2466\n",
            "Epoch 153/500\n",
            "2/2 [==============================] - 0s 8ms/step - loss: 29.4071 - mae: 29.4071\n",
            "Epoch 154/500\n",
            "2/2 [==============================] - 0s 10ms/step - loss: 10.5980 - mae: 10.5980\n",
            "Epoch 155/500\n",
            "2/2 [==============================] - 0s 8ms/step - loss: 15.4936 - mae: 15.4936\n",
            "Epoch 156/500\n",
            "2/2 [==============================] - 0s 8ms/step - loss: 17.1112 - mae: 17.1112\n",
            "Epoch 157/500\n",
            "2/2 [==============================] - 0s 8ms/step - loss: 32.5730 - mae: 32.5730\n",
            "Epoch 158/500\n",
            "2/2 [==============================] - 0s 8ms/step - loss: 10.6238 - mae: 10.6238\n",
            "Epoch 159/500\n",
            "2/2 [==============================] - 0s 7ms/step - loss: 8.8664 - mae: 8.8664\n",
            "Epoch 160/500\n",
            "2/2 [==============================] - 0s 8ms/step - loss: 21.9492 - mae: 21.9492\n",
            "Epoch 161/500\n",
            "2/2 [==============================] - 0s 7ms/step - loss: 11.0966 - mae: 11.0966\n",
            "Epoch 162/500\n",
            "2/2 [==============================] - 0s 15ms/step - loss: 21.4825 - mae: 21.4825\n",
            "Epoch 163/500\n",
            "2/2 [==============================] - 0s 7ms/step - loss: 19.1602 - mae: 19.1602\n",
            "Epoch 164/500\n",
            "2/2 [==============================] - 0s 7ms/step - loss: 10.9530 - mae: 10.9530\n",
            "Epoch 165/500\n",
            "2/2 [==============================] - 0s 7ms/step - loss: 9.6314 - mae: 9.6314\n",
            "Epoch 166/500\n",
            "2/2 [==============================] - 0s 7ms/step - loss: 21.6382 - mae: 21.6382\n",
            "Epoch 167/500\n",
            "2/2 [==============================] - 0s 14ms/step - loss: 26.1684 - mae: 26.1684\n",
            "Epoch 168/500\n",
            "2/2 [==============================] - 0s 5ms/step - loss: 9.8224 - mae: 9.8224\n",
            "Epoch 169/500\n",
            "2/2 [==============================] - 0s 7ms/step - loss: 22.4465 - mae: 22.4465\n",
            "Epoch 170/500\n",
            "2/2 [==============================] - 0s 8ms/step - loss: 10.1646 - mae: 10.1646\n",
            "Epoch 171/500\n",
            "2/2 [==============================] - 0s 8ms/step - loss: 18.0965 - mae: 18.0965\n",
            "Epoch 172/500\n",
            "2/2 [==============================] - 0s 7ms/step - loss: 28.7174 - mae: 28.7174\n",
            "Epoch 173/500\n",
            "2/2 [==============================] - 0s 8ms/step - loss: 16.4305 - mae: 16.4305\n",
            "Epoch 174/500\n",
            "2/2 [==============================] - 0s 9ms/step - loss: 11.7246 - mae: 11.7246\n",
            "Epoch 175/500\n",
            "2/2 [==============================] - 0s 8ms/step - loss: 27.1683 - mae: 27.1683\n",
            "Epoch 176/500\n",
            "2/2 [==============================] - 0s 7ms/step - loss: 8.7401 - mae: 8.7401\n",
            "Epoch 177/500\n",
            "2/2 [==============================] - 0s 11ms/step - loss: 8.7556 - mae: 8.7556\n",
            "Epoch 178/500\n",
            "2/2 [==============================] - 0s 8ms/step - loss: 16.2125 - mae: 16.2125\n",
            "Epoch 179/500\n",
            "2/2 [==============================] - 0s 7ms/step - loss: 10.3900 - mae: 10.3900\n",
            "Epoch 180/500\n",
            "2/2 [==============================] - 0s 8ms/step - loss: 7.9760 - mae: 7.9760\n",
            "Epoch 181/500\n",
            "2/2 [==============================] - 0s 6ms/step - loss: 17.7930 - mae: 17.7930\n",
            "Epoch 182/500\n",
            "2/2 [==============================] - 0s 8ms/step - loss: 11.1826 - mae: 11.1826\n",
            "Epoch 183/500\n",
            "2/2 [==============================] - 0s 6ms/step - loss: 12.4086 - mae: 12.4086\n",
            "Epoch 184/500\n",
            "2/2 [==============================] - 0s 7ms/step - loss: 27.4249 - mae: 27.4249\n",
            "Epoch 185/500\n",
            "2/2 [==============================] - 0s 8ms/step - loss: 7.5369 - mae: 7.5369\n",
            "Epoch 186/500\n",
            "2/2 [==============================] - 0s 8ms/step - loss: 15.9216 - mae: 15.9216\n",
            "Epoch 187/500\n",
            "2/2 [==============================] - 0s 8ms/step - loss: 8.5774 - mae: 8.5774\n",
            "Epoch 188/500\n",
            "2/2 [==============================] - 0s 8ms/step - loss: 28.9400 - mae: 28.9400\n",
            "Epoch 189/500\n",
            "2/2 [==============================] - 0s 10ms/step - loss: 13.1266 - mae: 13.1266\n",
            "Epoch 190/500\n",
            "2/2 [==============================] - 0s 8ms/step - loss: 18.2638 - mae: 18.2638\n",
            "Epoch 191/500\n",
            "2/2 [==============================] - 0s 10ms/step - loss: 13.6845 - mae: 13.6845\n",
            "Epoch 192/500\n",
            "2/2 [==============================] - 0s 10ms/step - loss: 13.6885 - mae: 13.6885\n",
            "Epoch 193/500\n",
            "2/2 [==============================] - 0s 10ms/step - loss: 28.5425 - mae: 28.5425\n",
            "Epoch 194/500\n",
            "2/2 [==============================] - 0s 8ms/step - loss: 7.1153 - mae: 7.1153\n",
            "Epoch 195/500\n",
            "2/2 [==============================] - 0s 7ms/step - loss: 7.0493 - mae: 7.0493\n",
            "Epoch 196/500\n",
            "2/2 [==============================] - 0s 7ms/step - loss: 21.9468 - mae: 21.9468\n",
            "Epoch 197/500\n",
            "2/2 [==============================] - 0s 8ms/step - loss: 20.9678 - mae: 20.9678\n",
            "Epoch 198/500\n",
            "2/2 [==============================] - 0s 8ms/step - loss: 12.5418 - mae: 12.5418\n",
            "Epoch 199/500\n",
            "2/2 [==============================] - 0s 15ms/step - loss: 18.0143 - mae: 18.0143\n",
            "Epoch 200/500\n",
            "2/2 [==============================] - 0s 7ms/step - loss: 13.8447 - mae: 13.8447\n",
            "Epoch 201/500\n",
            "2/2 [==============================] - 0s 8ms/step - loss: 6.0279 - mae: 6.0279\n",
            "Epoch 202/500\n",
            "2/2 [==============================] - 0s 8ms/step - loss: 22.8673 - mae: 22.8673\n",
            "Epoch 203/500\n",
            "2/2 [==============================] - 0s 8ms/step - loss: 8.9451 - mae: 8.9451\n",
            "Epoch 204/500\n",
            "2/2 [==============================] - 0s 7ms/step - loss: 18.8401 - mae: 18.8401\n",
            "Epoch 205/500\n",
            "2/2 [==============================] - 0s 8ms/step - loss: 9.3511 - mae: 9.3511\n",
            "Epoch 206/500\n",
            "2/2 [==============================] - 0s 8ms/step - loss: 10.4190 - mae: 10.4190\n",
            "Epoch 207/500\n",
            "2/2 [==============================] - 0s 8ms/step - loss: 21.1204 - mae: 21.1204\n",
            "Epoch 208/500\n",
            "2/2 [==============================] - 0s 8ms/step - loss: 16.4760 - mae: 16.4760\n",
            "Epoch 209/500\n",
            "2/2 [==============================] - 0s 7ms/step - loss: 14.3811 - mae: 14.3811\n",
            "Epoch 210/500\n",
            "2/2 [==============================] - 0s 14ms/step - loss: 19.3962 - mae: 19.3962\n",
            "Epoch 211/500\n",
            "2/2 [==============================] - 0s 6ms/step - loss: 10.3004 - mae: 10.3004\n",
            "Epoch 212/500\n",
            "2/2 [==============================] - 0s 8ms/step - loss: 20.1847 - mae: 20.1847\n",
            "Epoch 213/500\n",
            "2/2 [==============================] - 0s 7ms/step - loss: 15.0572 - mae: 15.0572\n",
            "Epoch 214/500\n",
            "2/2 [==============================] - 0s 6ms/step - loss: 14.6007 - mae: 14.6007\n",
            "Epoch 215/500\n",
            "2/2 [==============================] - 0s 9ms/step - loss: 23.3272 - mae: 23.3272\n",
            "Epoch 216/500\n",
            "2/2 [==============================] - 0s 8ms/step - loss: 13.3201 - mae: 13.3201\n",
            "Epoch 217/500\n",
            "2/2 [==============================] - 0s 8ms/step - loss: 9.8223 - mae: 9.8223\n",
            "Epoch 218/500\n",
            "2/2 [==============================] - 0s 8ms/step - loss: 12.5803 - mae: 12.5803\n",
            "Epoch 219/500\n",
            "2/2 [==============================] - 0s 7ms/step - loss: 4.9513 - mae: 4.9513\n",
            "Epoch 220/500\n",
            "2/2 [==============================] - 0s 9ms/step - loss: 7.1223 - mae: 7.1223\n",
            "Epoch 221/500\n",
            "2/2 [==============================] - 0s 8ms/step - loss: 35.3509 - mae: 35.3509\n",
            "Epoch 222/500\n",
            "2/2 [==============================] - 0s 7ms/step - loss: 34.7320 - mae: 34.7320\n",
            "Epoch 223/500\n",
            "2/2 [==============================] - 0s 8ms/step - loss: 8.0053 - mae: 8.0053\n",
            "Epoch 224/500\n",
            "2/2 [==============================] - 0s 8ms/step - loss: 14.7253 - mae: 14.7253\n",
            "Epoch 225/500\n",
            "2/2 [==============================] - 0s 13ms/step - loss: 16.7492 - mae: 16.7492\n",
            "Epoch 226/500\n",
            "2/2 [==============================] - 0s 7ms/step - loss: 15.9612 - mae: 15.9612\n",
            "Epoch 227/500\n",
            "2/2 [==============================] - 0s 9ms/step - loss: 16.2034 - mae: 16.2034\n",
            "Epoch 228/500\n",
            "2/2 [==============================] - 0s 8ms/step - loss: 9.3475 - mae: 9.3475\n",
            "Epoch 229/500\n",
            "2/2 [==============================] - 0s 8ms/step - loss: 18.0193 - mae: 18.0193\n",
            "Epoch 230/500\n",
            "2/2 [==============================] - 0s 8ms/step - loss: 15.5894 - mae: 15.5894\n",
            "Epoch 231/500\n",
            "2/2 [==============================] - 0s 9ms/step - loss: 21.1583 - mae: 21.1583\n",
            "Epoch 232/500\n",
            "2/2 [==============================] - 0s 7ms/step - loss: 25.3925 - mae: 25.3925\n",
            "Epoch 233/500\n",
            "2/2 [==============================] - 0s 5ms/step - loss: 16.4092 - mae: 16.4092\n",
            "Epoch 234/500\n",
            "2/2 [==============================] - 0s 8ms/step - loss: 7.2979 - mae: 7.2979\n",
            "Epoch 235/500\n",
            "2/2 [==============================] - 0s 10ms/step - loss: 17.0555 - mae: 17.0555\n",
            "Epoch 236/500\n",
            "2/2 [==============================] - 0s 8ms/step - loss: 7.1543 - mae: 7.1543\n",
            "Epoch 237/500\n",
            "2/2 [==============================] - 0s 8ms/step - loss: 9.2471 - mae: 9.2471\n",
            "Epoch 238/500\n",
            "2/2 [==============================] - 0s 8ms/step - loss: 8.1191 - mae: 8.1191\n",
            "Epoch 239/500\n",
            "2/2 [==============================] - 0s 7ms/step - loss: 17.1237 - mae: 17.1237\n",
            "Epoch 240/500\n",
            "2/2 [==============================] - 0s 9ms/step - loss: 8.8927 - mae: 8.8927\n",
            "Epoch 241/500\n",
            "2/2 [==============================] - 0s 8ms/step - loss: 13.2192 - mae: 13.2192\n",
            "Epoch 242/500\n",
            "2/2 [==============================] - 0s 13ms/step - loss: 8.8097 - mae: 8.8097\n",
            "Epoch 243/500\n",
            "2/2 [==============================] - 0s 8ms/step - loss: 18.8823 - mae: 18.8823\n",
            "Epoch 244/500\n",
            "2/2 [==============================] - 0s 9ms/step - loss: 14.0364 - mae: 14.0364\n",
            "Epoch 245/500\n",
            "2/2 [==============================] - 0s 8ms/step - loss: 14.6691 - mae: 14.6691\n",
            "Epoch 246/500\n",
            "2/2 [==============================] - 0s 9ms/step - loss: 15.7928 - mae: 15.7928\n",
            "Epoch 247/500\n",
            "2/2 [==============================] - 0s 8ms/step - loss: 17.6670 - mae: 17.6670\n",
            "Epoch 248/500\n",
            "2/2 [==============================] - 0s 7ms/step - loss: 13.2247 - mae: 13.2247\n",
            "Epoch 249/500\n",
            "2/2 [==============================] - 0s 9ms/step - loss: 14.5006 - mae: 14.5006\n",
            "Epoch 250/500\n",
            "2/2 [==============================] - 0s 8ms/step - loss: 23.2206 - mae: 23.2206\n",
            "Epoch 251/500\n",
            "2/2 [==============================] - 0s 8ms/step - loss: 9.3104 - mae: 9.3104\n",
            "Epoch 252/500\n",
            "2/2 [==============================] - 0s 7ms/step - loss: 36.6956 - mae: 36.6956\n",
            "Epoch 253/500\n",
            "2/2 [==============================] - 0s 10ms/step - loss: 21.8496 - mae: 21.8496\n",
            "Epoch 254/500\n",
            "2/2 [==============================] - 0s 8ms/step - loss: 7.2855 - mae: 7.2855\n",
            "Epoch 255/500\n",
            "2/2 [==============================] - 0s 8ms/step - loss: 24.7350 - mae: 24.7350\n",
            "Epoch 256/500\n",
            "2/2 [==============================] - 0s 8ms/step - loss: 12.4345 - mae: 12.4345\n",
            "Epoch 257/500\n",
            "2/2 [==============================] - 0s 7ms/step - loss: 10.5906 - mae: 10.5906\n",
            "Epoch 258/500\n",
            "2/2 [==============================] - 0s 8ms/step - loss: 14.4949 - mae: 14.4949\n",
            "Epoch 259/500\n",
            "2/2 [==============================] - 0s 8ms/step - loss: 8.6176 - mae: 8.6176\n",
            "Epoch 260/500\n",
            "2/2 [==============================] - 0s 8ms/step - loss: 43.0601 - mae: 43.0601\n",
            "Epoch 261/500\n",
            "2/2 [==============================] - 0s 9ms/step - loss: 18.4644 - mae: 18.4644\n",
            "Epoch 262/500\n",
            "2/2 [==============================] - 0s 9ms/step - loss: 6.8837 - mae: 6.8837\n",
            "Epoch 263/500\n",
            "2/2 [==============================] - 0s 9ms/step - loss: 13.7228 - mae: 13.7228\n",
            "Epoch 264/500\n",
            "2/2 [==============================] - 0s 7ms/step - loss: 21.0195 - mae: 21.0195\n",
            "Epoch 265/500\n",
            "2/2 [==============================] - 0s 8ms/step - loss: 19.3650 - mae: 19.3650\n",
            "Epoch 266/500\n",
            "2/2 [==============================] - 0s 10ms/step - loss: 11.4800 - mae: 11.4800\n",
            "Epoch 267/500\n",
            "2/2 [==============================] - 0s 8ms/step - loss: 7.5326 - mae: 7.5326\n",
            "Epoch 268/500\n",
            "2/2 [==============================] - 0s 7ms/step - loss: 21.6538 - mae: 21.6538\n",
            "Epoch 269/500\n",
            "2/2 [==============================] - 0s 8ms/step - loss: 33.1549 - mae: 33.1549\n",
            "Epoch 270/500\n",
            "2/2 [==============================] - 0s 7ms/step - loss: 10.0762 - mae: 10.0762\n",
            "Epoch 271/500\n",
            "2/2 [==============================] - 0s 11ms/step - loss: 12.1062 - mae: 12.1062\n",
            "Epoch 272/500\n",
            "2/2 [==============================] - 0s 8ms/step - loss: 26.1480 - mae: 26.1480\n",
            "Epoch 273/500\n",
            "2/2 [==============================] - 0s 10ms/step - loss: 12.1537 - mae: 12.1537\n",
            "Epoch 274/500\n",
            "2/2 [==============================] - 0s 8ms/step - loss: 13.3328 - mae: 13.3328\n",
            "Epoch 275/500\n",
            "2/2 [==============================] - 0s 10ms/step - loss: 29.3892 - mae: 29.3892\n",
            "Epoch 276/500\n",
            "2/2 [==============================] - 0s 9ms/step - loss: 7.3324 - mae: 7.3324\n",
            "Epoch 277/500\n",
            "2/2 [==============================] - 0s 9ms/step - loss: 31.1474 - mae: 31.1474\n",
            "Epoch 278/500\n",
            "2/2 [==============================] - 0s 8ms/step - loss: 12.3149 - mae: 12.3149\n",
            "Epoch 279/500\n",
            "2/2 [==============================] - 0s 7ms/step - loss: 16.4211 - mae: 16.4211\n",
            "Epoch 280/500\n",
            "2/2 [==============================] - 0s 7ms/step - loss: 21.9365 - mae: 21.9365\n",
            "Epoch 281/500\n",
            "2/2 [==============================] - 0s 8ms/step - loss: 22.0927 - mae: 22.0927\n",
            "Epoch 282/500\n",
            "2/2 [==============================] - 0s 8ms/step - loss: 7.7282 - mae: 7.7282\n",
            "Epoch 283/500\n",
            "2/2 [==============================] - 0s 9ms/step - loss: 8.1354 - mae: 8.1354\n",
            "Epoch 284/500\n",
            "2/2 [==============================] - 0s 12ms/step - loss: 24.8780 - mae: 24.8780\n",
            "Epoch 285/500\n",
            "2/2 [==============================] - 0s 9ms/step - loss: 13.6453 - mae: 13.6453\n",
            "Epoch 286/500\n",
            "2/2 [==============================] - 0s 7ms/step - loss: 7.7605 - mae: 7.7605\n",
            "Epoch 287/500\n",
            "2/2 [==============================] - 0s 10ms/step - loss: 23.3392 - mae: 23.3392\n",
            "Epoch 288/500\n",
            "2/2 [==============================] - 0s 6ms/step - loss: 23.7028 - mae: 23.7028\n",
            "Epoch 289/500\n",
            "2/2 [==============================] - 0s 9ms/step - loss: 11.9740 - mae: 11.9740\n",
            "Epoch 290/500\n",
            "2/2 [==============================] - 0s 8ms/step - loss: 16.5481 - mae: 16.5481\n",
            "Epoch 291/500\n",
            "2/2 [==============================] - 0s 10ms/step - loss: 16.8151 - mae: 16.8151\n",
            "Epoch 292/500\n",
            "2/2 [==============================] - 0s 10ms/step - loss: 9.4727 - mae: 9.4727\n",
            "Epoch 293/500\n",
            "2/2 [==============================] - 0s 8ms/step - loss: 15.2803 - mae: 15.2803\n",
            "Epoch 294/500\n",
            "2/2 [==============================] - 0s 9ms/step - loss: 22.7376 - mae: 22.7376\n",
            "Epoch 295/500\n",
            "2/2 [==============================] - 0s 8ms/step - loss: 17.8855 - mae: 17.8855\n",
            "Epoch 296/500\n",
            "2/2 [==============================] - 0s 8ms/step - loss: 6.1591 - mae: 6.1591\n",
            "Epoch 297/500\n",
            "2/2 [==============================] - 0s 8ms/step - loss: 10.9527 - mae: 10.9527\n",
            "Epoch 298/500\n",
            "2/2 [==============================] - 0s 8ms/step - loss: 23.1742 - mae: 23.1742\n",
            "Epoch 299/500\n",
            "2/2 [==============================] - 0s 8ms/step - loss: 17.6884 - mae: 17.6884\n",
            "Epoch 300/500\n",
            "2/2 [==============================] - 0s 6ms/step - loss: 6.9759 - mae: 6.9759\n",
            "Epoch 301/500\n",
            "2/2 [==============================] - 0s 9ms/step - loss: 25.1300 - mae: 25.1300\n",
            "Epoch 302/500\n",
            "2/2 [==============================] - 0s 10ms/step - loss: 8.8846 - mae: 8.8846\n",
            "Epoch 303/500\n",
            "2/2 [==============================] - 0s 9ms/step - loss: 17.7177 - mae: 17.7177\n",
            "Epoch 304/500\n",
            "2/2 [==============================] - 0s 8ms/step - loss: 10.9758 - mae: 10.9758\n",
            "Epoch 305/500\n",
            "2/2 [==============================] - 0s 8ms/step - loss: 12.8763 - mae: 12.8763\n",
            "Epoch 306/500\n",
            "2/2 [==============================] - 0s 8ms/step - loss: 8.3826 - mae: 8.3826\n",
            "Epoch 307/500\n",
            "2/2 [==============================] - 0s 9ms/step - loss: 13.5615 - mae: 13.5615\n",
            "Epoch 308/500\n",
            "2/2 [==============================] - 0s 10ms/step - loss: 7.4188 - mae: 7.4188\n",
            "Epoch 309/500\n",
            "2/2 [==============================] - 0s 10ms/step - loss: 9.4326 - mae: 9.4326\n",
            "Epoch 310/500\n",
            "2/2 [==============================] - 0s 8ms/step - loss: 10.6524 - mae: 10.6524\n",
            "Epoch 311/500\n",
            "2/2 [==============================] - 0s 7ms/step - loss: 13.2907 - mae: 13.2907\n",
            "Epoch 312/500\n",
            "2/2 [==============================] - 0s 8ms/step - loss: 29.9987 - mae: 29.9987\n",
            "Epoch 313/500\n",
            "2/2 [==============================] - 0s 6ms/step - loss: 7.5937 - mae: 7.5937\n",
            "Epoch 314/500\n",
            "2/2 [==============================] - 0s 7ms/step - loss: 9.9237 - mae: 9.9237\n",
            "Epoch 315/500\n",
            "2/2 [==============================] - 0s 7ms/step - loss: 23.8032 - mae: 23.8032\n",
            "Epoch 316/500\n",
            "2/2 [==============================] - 0s 6ms/step - loss: 16.3263 - mae: 16.3263\n",
            "Epoch 317/500\n",
            "2/2 [==============================] - 0s 8ms/step - loss: 20.9877 - mae: 20.9877\n",
            "Epoch 318/500\n",
            "2/2 [==============================] - 0s 7ms/step - loss: 7.9128 - mae: 7.9128\n",
            "Epoch 319/500\n",
            "2/2 [==============================] - 0s 6ms/step - loss: 17.8918 - mae: 17.8918\n",
            "Epoch 320/500\n",
            "2/2 [==============================] - 0s 7ms/step - loss: 10.1860 - mae: 10.1860\n",
            "Epoch 321/500\n",
            "2/2 [==============================] - 0s 7ms/step - loss: 8.2921 - mae: 8.2921\n",
            "Epoch 322/500\n",
            "2/2 [==============================] - 0s 6ms/step - loss: 4.3469 - mae: 4.3469\n",
            "Epoch 323/500\n",
            "2/2 [==============================] - 0s 8ms/step - loss: 23.7681 - mae: 23.7681\n",
            "Epoch 324/500\n",
            "2/2 [==============================] - 0s 8ms/step - loss: 6.8814 - mae: 6.8814\n",
            "Epoch 325/500\n",
            "2/2 [==============================] - 0s 6ms/step - loss: 16.5724 - mae: 16.5724\n",
            "Epoch 326/500\n",
            "2/2 [==============================] - 0s 8ms/step - loss: 7.5536 - mae: 7.5536\n",
            "Epoch 327/500\n",
            "2/2 [==============================] - 0s 6ms/step - loss: 20.3078 - mae: 20.3078\n",
            "Epoch 328/500\n",
            "2/2 [==============================] - 0s 7ms/step - loss: 13.7078 - mae: 13.7078\n",
            "Epoch 329/500\n",
            "2/2 [==============================] - 0s 7ms/step - loss: 16.7446 - mae: 16.7446\n",
            "Epoch 330/500\n",
            "2/2 [==============================] - 0s 7ms/step - loss: 7.0850 - mae: 7.0850\n",
            "Epoch 331/500\n",
            "2/2 [==============================] - 0s 8ms/step - loss: 21.6930 - mae: 21.6930\n",
            "Epoch 332/500\n",
            "2/2 [==============================] - 0s 9ms/step - loss: 12.7379 - mae: 12.7379\n",
            "Epoch 333/500\n",
            "2/2 [==============================] - 0s 6ms/step - loss: 8.9983 - mae: 8.9983\n",
            "Epoch 334/500\n",
            "2/2 [==============================] - 0s 6ms/step - loss: 10.0665 - mae: 10.0665\n",
            "Epoch 335/500\n",
            "2/2 [==============================] - 0s 7ms/step - loss: 11.2463 - mae: 11.2463\n",
            "Epoch 336/500\n",
            "2/2 [==============================] - 0s 7ms/step - loss: 31.9728 - mae: 31.9728\n",
            "Epoch 337/500\n",
            "2/2 [==============================] - 0s 7ms/step - loss: 9.8237 - mae: 9.8237\n",
            "Epoch 338/500\n",
            "2/2 [==============================] - 0s 7ms/step - loss: 19.5605 - mae: 19.5605\n",
            "Epoch 339/500\n",
            "2/2 [==============================] - 0s 6ms/step - loss: 35.4287 - mae: 35.4287\n",
            "Epoch 340/500\n",
            "2/2 [==============================] - 0s 7ms/step - loss: 10.5369 - mae: 10.5369\n",
            "Epoch 341/500\n",
            "2/2 [==============================] - 0s 8ms/step - loss: 10.1261 - mae: 10.1261\n",
            "Epoch 342/500\n",
            "2/2 [==============================] - 0s 7ms/step - loss: 13.2811 - mae: 13.2811\n",
            "Epoch 343/500\n",
            "2/2 [==============================] - 0s 7ms/step - loss: 11.0299 - mae: 11.0299\n",
            "Epoch 344/500\n",
            "2/2 [==============================] - 0s 8ms/step - loss: 9.9028 - mae: 9.9028\n",
            "Epoch 345/500\n",
            "2/2 [==============================] - 0s 6ms/step - loss: 30.9940 - mae: 30.9940\n",
            "Epoch 346/500\n",
            "2/2 [==============================] - 0s 11ms/step - loss: 10.6697 - mae: 10.6697\n",
            "Epoch 347/500\n",
            "2/2 [==============================] - 0s 8ms/step - loss: 25.6737 - mae: 25.6737\n",
            "Epoch 348/500\n",
            "2/2 [==============================] - 0s 8ms/step - loss: 13.0035 - mae: 13.0035\n",
            "Epoch 349/500\n",
            "2/2 [==============================] - 0s 10ms/step - loss: 13.1004 - mae: 13.1004\n",
            "Epoch 350/500\n",
            "2/2 [==============================] - 0s 9ms/step - loss: 15.4086 - mae: 15.4086\n",
            "Epoch 351/500\n",
            "2/2 [==============================] - 0s 8ms/step - loss: 32.9310 - mae: 32.9310\n",
            "Epoch 352/500\n",
            "2/2 [==============================] - 0s 11ms/step - loss: 14.1442 - mae: 14.1442\n",
            "Epoch 353/500\n",
            "2/2 [==============================] - 0s 10ms/step - loss: 15.8727 - mae: 15.8727\n",
            "Epoch 354/500\n",
            "2/2 [==============================] - 0s 6ms/step - loss: 18.9909 - mae: 18.9909\n",
            "Epoch 355/500\n",
            "2/2 [==============================] - 0s 7ms/step - loss: 34.3883 - mae: 34.3883\n",
            "Epoch 356/500\n",
            "2/2 [==============================] - 0s 7ms/step - loss: 8.2863 - mae: 8.2863\n",
            "Epoch 357/500\n",
            "2/2 [==============================] - 0s 8ms/step - loss: 21.8967 - mae: 21.8967\n",
            "Epoch 358/500\n",
            "2/2 [==============================] - 0s 9ms/step - loss: 20.0299 - mae: 20.0299\n",
            "Epoch 359/500\n",
            "2/2 [==============================] - 0s 8ms/step - loss: 11.0231 - mae: 11.0231\n",
            "Epoch 360/500\n",
            "2/2 [==============================] - 0s 11ms/step - loss: 20.2569 - mae: 20.2569\n",
            "Epoch 361/500\n",
            "2/2 [==============================] - 0s 8ms/step - loss: 11.0162 - mae: 11.0162\n",
            "Epoch 362/500\n",
            "2/2 [==============================] - 0s 9ms/step - loss: 6.7857 - mae: 6.7857\n",
            "Epoch 363/500\n",
            "2/2 [==============================] - 0s 10ms/step - loss: 24.0378 - mae: 24.0378\n",
            "Epoch 364/500\n",
            "2/2 [==============================] - 0s 9ms/step - loss: 29.8100 - mae: 29.8100\n",
            "Epoch 365/500\n",
            "2/2 [==============================] - 0s 8ms/step - loss: 8.3339 - mae: 8.3339\n",
            "Epoch 366/500\n",
            "2/2 [==============================] - 0s 7ms/step - loss: 6.0585 - mae: 6.0585\n",
            "Epoch 367/500\n",
            "2/2 [==============================] - 0s 10ms/step - loss: 35.0151 - mae: 35.0151\n",
            "Epoch 368/500\n",
            "2/2 [==============================] - 0s 9ms/step - loss: 7.3914 - mae: 7.3914\n",
            "Epoch 369/500\n",
            "2/2 [==============================] - 0s 7ms/step - loss: 9.6274 - mae: 9.6274\n",
            "Epoch 370/500\n",
            "2/2 [==============================] - 0s 9ms/step - loss: 7.7461 - mae: 7.7461\n",
            "Epoch 371/500\n",
            "2/2 [==============================] - 0s 10ms/step - loss: 19.9909 - mae: 19.9909\n",
            "Epoch 372/500\n",
            "2/2 [==============================] - 0s 8ms/step - loss: 12.5252 - mae: 12.5252\n",
            "Epoch 373/500\n",
            "2/2 [==============================] - 0s 9ms/step - loss: 26.4485 - mae: 26.4485\n",
            "Epoch 374/500\n",
            "2/2 [==============================] - 0s 9ms/step - loss: 9.1949 - mae: 9.1949\n",
            "Epoch 375/500\n",
            "2/2 [==============================] - 0s 8ms/step - loss: 4.1913 - mae: 4.1913\n",
            "Epoch 376/500\n",
            "2/2 [==============================] - 0s 9ms/step - loss: 23.5685 - mae: 23.5685\n",
            "Epoch 377/500\n",
            "2/2 [==============================] - 0s 9ms/step - loss: 13.0504 - mae: 13.0504\n",
            "Epoch 378/500\n",
            "2/2 [==============================] - 0s 10ms/step - loss: 15.0920 - mae: 15.0920\n",
            "Epoch 379/500\n",
            "2/2 [==============================] - 0s 9ms/step - loss: 26.7955 - mae: 26.7955\n",
            "Epoch 380/500\n",
            "2/2 [==============================] - 0s 12ms/step - loss: 16.3516 - mae: 16.3516\n",
            "Epoch 381/500\n",
            "2/2 [==============================] - 0s 10ms/step - loss: 11.2519 - mae: 11.2519\n",
            "Epoch 382/500\n",
            "2/2 [==============================] - 0s 10ms/step - loss: 16.1715 - mae: 16.1715\n",
            "Epoch 383/500\n",
            "2/2 [==============================] - 0s 9ms/step - loss: 21.8351 - mae: 21.8351\n",
            "Epoch 384/500\n",
            "2/2 [==============================] - 0s 10ms/step - loss: 8.0000 - mae: 8.0000\n",
            "Epoch 385/500\n",
            "2/2 [==============================] - 0s 8ms/step - loss: 9.9663 - mae: 9.9663\n",
            "Epoch 386/500\n",
            "2/2 [==============================] - 0s 10ms/step - loss: 19.4457 - mae: 19.4457\n",
            "Epoch 387/500\n",
            "2/2 [==============================] - 0s 11ms/step - loss: 25.6982 - mae: 25.6982\n",
            "Epoch 388/500\n",
            "2/2 [==============================] - 0s 8ms/step - loss: 9.3916 - mae: 9.3916\n",
            "Epoch 389/500\n",
            "2/2 [==============================] - 0s 12ms/step - loss: 5.4453 - mae: 5.4453\n",
            "Epoch 390/500\n",
            "2/2 [==============================] - 0s 10ms/step - loss: 21.2807 - mae: 21.2807\n",
            "Epoch 391/500\n",
            "2/2 [==============================] - 0s 10ms/step - loss: 5.6140 - mae: 5.6140\n",
            "Epoch 392/500\n",
            "2/2 [==============================] - 0s 10ms/step - loss: 16.3981 - mae: 16.3981\n",
            "Epoch 393/500\n",
            "2/2 [==============================] - 0s 8ms/step - loss: 9.1874 - mae: 9.1874\n",
            "Epoch 394/500\n",
            "2/2 [==============================] - 0s 9ms/step - loss: 14.0716 - mae: 14.0716\n",
            "Epoch 395/500\n",
            "2/2 [==============================] - 0s 10ms/step - loss: 28.4474 - mae: 28.4474\n",
            "Epoch 396/500\n",
            "2/2 [==============================] - 0s 8ms/step - loss: 8.4445 - mae: 8.4445\n",
            "Epoch 397/500\n",
            "2/2 [==============================] - 0s 11ms/step - loss: 11.2873 - mae: 11.2873\n",
            "Epoch 398/500\n",
            "2/2 [==============================] - 0s 10ms/step - loss: 6.8521 - mae: 6.8521\n",
            "Epoch 399/500\n",
            "2/2 [==============================] - 0s 9ms/step - loss: 14.1790 - mae: 14.1790\n",
            "Epoch 400/500\n",
            "2/2 [==============================] - 0s 11ms/step - loss: 6.6586 - mae: 6.6586\n",
            "Epoch 401/500\n",
            "2/2 [==============================] - 0s 8ms/step - loss: 8.3812 - mae: 8.3812\n",
            "Epoch 402/500\n",
            "2/2 [==============================] - 0s 9ms/step - loss: 14.8870 - mae: 14.8870\n",
            "Epoch 403/500\n",
            "2/2 [==============================] - 0s 8ms/step - loss: 12.3018 - mae: 12.3018\n",
            "Epoch 404/500\n",
            "2/2 [==============================] - 0s 9ms/step - loss: 22.8761 - mae: 22.8761\n",
            "Epoch 405/500\n",
            "2/2 [==============================] - 0s 11ms/step - loss: 18.2076 - mae: 18.2076\n",
            "Epoch 406/500\n",
            "2/2 [==============================] - 0s 8ms/step - loss: 7.0197 - mae: 7.0197\n",
            "Epoch 407/500\n",
            "2/2 [==============================] - 0s 8ms/step - loss: 12.7100 - mae: 12.7100\n",
            "Epoch 408/500\n",
            "2/2 [==============================] - 0s 8ms/step - loss: 5.6089 - mae: 5.6089\n",
            "Epoch 409/500\n",
            "2/2 [==============================] - 0s 9ms/step - loss: 31.4529 - mae: 31.4529\n",
            "Epoch 410/500\n",
            "2/2 [==============================] - 0s 8ms/step - loss: 9.1685 - mae: 9.1685\n",
            "Epoch 411/500\n",
            "2/2 [==============================] - 0s 8ms/step - loss: 14.8123 - mae: 14.8123\n",
            "Epoch 412/500\n",
            "2/2 [==============================] - 0s 8ms/step - loss: 21.6690 - mae: 21.6690\n",
            "Epoch 413/500\n",
            "2/2 [==============================] - 0s 9ms/step - loss: 12.8818 - mae: 12.8818\n",
            "Epoch 414/500\n",
            "2/2 [==============================] - 0s 9ms/step - loss: 8.6998 - mae: 8.6998\n",
            "Epoch 415/500\n",
            "2/2 [==============================] - 0s 8ms/step - loss: 11.4716 - mae: 11.4716\n",
            "Epoch 416/500\n",
            "2/2 [==============================] - 0s 9ms/step - loss: 25.1539 - mae: 25.1539\n",
            "Epoch 417/500\n",
            "2/2 [==============================] - 0s 8ms/step - loss: 17.1179 - mae: 17.1179\n",
            "Epoch 418/500\n",
            "2/2 [==============================] - 0s 7ms/step - loss: 12.5769 - mae: 12.5769\n",
            "Epoch 419/500\n",
            "2/2 [==============================] - 0s 7ms/step - loss: 15.7071 - mae: 15.7071\n",
            "Epoch 420/500\n",
            "2/2 [==============================] - 0s 9ms/step - loss: 24.4258 - mae: 24.4258\n",
            "Epoch 421/500\n",
            "2/2 [==============================] - 0s 8ms/step - loss: 18.2692 - mae: 18.2692\n",
            "Epoch 422/500\n",
            "2/2 [==============================] - 0s 8ms/step - loss: 8.5911 - mae: 8.5911\n",
            "Epoch 423/500\n",
            "2/2 [==============================] - 0s 8ms/step - loss: 24.6185 - mae: 24.6185\n",
            "Epoch 424/500\n",
            "2/2 [==============================] - 0s 8ms/step - loss: 16.9249 - mae: 16.9249\n",
            "Epoch 425/500\n",
            "2/2 [==============================] - 0s 11ms/step - loss: 7.2751 - mae: 7.2751\n",
            "Epoch 426/500\n",
            "2/2 [==============================] - 0s 8ms/step - loss: 21.1205 - mae: 21.1205\n",
            "Epoch 427/500\n",
            "2/2 [==============================] - 0s 9ms/step - loss: 6.4687 - mae: 6.4687\n",
            "Epoch 428/500\n",
            "2/2 [==============================] - 0s 9ms/step - loss: 13.5611 - mae: 13.5611\n",
            "Epoch 429/500\n",
            "2/2 [==============================] - 0s 8ms/step - loss: 11.5395 - mae: 11.5395\n",
            "Epoch 430/500\n",
            "2/2 [==============================] - 0s 9ms/step - loss: 10.2915 - mae: 10.2915\n",
            "Epoch 431/500\n",
            "2/2 [==============================] - 0s 8ms/step - loss: 11.5808 - mae: 11.5808\n",
            "Epoch 432/500\n",
            "2/2 [==============================] - 0s 7ms/step - loss: 9.9879 - mae: 9.9879\n",
            "Epoch 433/500\n",
            "2/2 [==============================] - 0s 7ms/step - loss: 3.4948 - mae: 3.4948\n",
            "Epoch 434/500\n",
            "2/2 [==============================] - 0s 7ms/step - loss: 37.3340 - mae: 37.3340\n",
            "Epoch 435/500\n",
            "2/2 [==============================] - 0s 7ms/step - loss: 14.1502 - mae: 14.1502\n",
            "Epoch 436/500\n",
            "2/2 [==============================] - 0s 10ms/step - loss: 12.3662 - mae: 12.3662\n",
            "Epoch 437/500\n",
            "2/2 [==============================] - 0s 7ms/step - loss: 16.2496 - mae: 16.2496\n",
            "Epoch 438/500\n",
            "2/2 [==============================] - 0s 8ms/step - loss: 13.9316 - mae: 13.9316\n",
            "Epoch 439/500\n",
            "2/2 [==============================] - 0s 7ms/step - loss: 31.9865 - mae: 31.9865\n",
            "Epoch 440/500\n",
            "2/2 [==============================] - 0s 6ms/step - loss: 12.4743 - mae: 12.4743\n",
            "Epoch 441/500\n",
            "2/2 [==============================] - 0s 7ms/step - loss: 15.7628 - mae: 15.7628\n",
            "Epoch 442/500\n",
            "2/2 [==============================] - 0s 7ms/step - loss: 23.6852 - mae: 23.6852\n",
            "Epoch 443/500\n",
            "2/2 [==============================] - 0s 10ms/step - loss: 20.1612 - mae: 20.1612\n",
            "Epoch 444/500\n",
            "2/2 [==============================] - 0s 6ms/step - loss: 8.7934 - mae: 8.7934\n",
            "Epoch 445/500\n",
            "2/2 [==============================] - 0s 7ms/step - loss: 14.0025 - mae: 14.0025\n",
            "Epoch 446/500\n",
            "2/2 [==============================] - 0s 7ms/step - loss: 16.6722 - mae: 16.6722\n",
            "Epoch 447/500\n",
            "2/2 [==============================] - 0s 8ms/step - loss: 6.7668 - mae: 6.7668\n",
            "Epoch 448/500\n",
            "2/2 [==============================] - 0s 7ms/step - loss: 6.0126 - mae: 6.0126\n",
            "Epoch 449/500\n",
            "2/2 [==============================] - 0s 7ms/step - loss: 16.2388 - mae: 16.2388\n",
            "Epoch 450/500\n",
            "2/2 [==============================] - 0s 9ms/step - loss: 15.1585 - mae: 15.1585\n",
            "Epoch 451/500\n",
            "2/2 [==============================] - 0s 9ms/step - loss: 16.8391 - mae: 16.8391\n",
            "Epoch 452/500\n",
            "2/2 [==============================] - 0s 7ms/step - loss: 46.2377 - mae: 46.2377\n",
            "Epoch 453/500\n",
            "2/2 [==============================] - 0s 9ms/step - loss: 26.6725 - mae: 26.6725\n",
            "Epoch 454/500\n",
            "2/2 [==============================] - 0s 8ms/step - loss: 23.3451 - mae: 23.3451\n",
            "Epoch 455/500\n",
            "2/2 [==============================] - 0s 7ms/step - loss: 8.7811 - mae: 8.7811\n",
            "Epoch 456/500\n",
            "2/2 [==============================] - 0s 7ms/step - loss: 12.9521 - mae: 12.9521\n",
            "Epoch 457/500\n",
            "2/2 [==============================] - 0s 10ms/step - loss: 16.2369 - mae: 16.2369\n",
            "Epoch 458/500\n",
            "2/2 [==============================] - 0s 6ms/step - loss: 13.1539 - mae: 13.1539\n",
            "Epoch 459/500\n",
            "2/2 [==============================] - 0s 6ms/step - loss: 24.2253 - mae: 24.2253\n",
            "Epoch 460/500\n",
            "2/2 [==============================] - 0s 8ms/step - loss: 19.3877 - mae: 19.3877\n",
            "Epoch 461/500\n",
            "2/2 [==============================] - 0s 9ms/step - loss: 10.0375 - mae: 10.0375\n",
            "Epoch 462/500\n",
            "2/2 [==============================] - 0s 8ms/step - loss: 12.7951 - mae: 12.7951\n",
            "Epoch 463/500\n",
            "2/2 [==============================] - 0s 9ms/step - loss: 28.5011 - mae: 28.5011\n",
            "Epoch 464/500\n",
            "2/2 [==============================] - 0s 8ms/step - loss: 7.8451 - mae: 7.8451\n",
            "Epoch 465/500\n",
            "2/2 [==============================] - 0s 6ms/step - loss: 16.8620 - mae: 16.8620\n",
            "Epoch 466/500\n",
            "2/2 [==============================] - 0s 7ms/step - loss: 9.3590 - mae: 9.3590\n",
            "Epoch 467/500\n",
            "2/2 [==============================] - 0s 11ms/step - loss: 21.5442 - mae: 21.5442\n",
            "Epoch 468/500\n",
            "2/2 [==============================] - 0s 8ms/step - loss: 23.8029 - mae: 23.8029\n",
            "Epoch 469/500\n",
            "2/2 [==============================] - 0s 8ms/step - loss: 21.2311 - mae: 21.2311\n",
            "Epoch 470/500\n",
            "2/2 [==============================] - 0s 6ms/step - loss: 9.6203 - mae: 9.6203\n",
            "Epoch 471/500\n",
            "2/2 [==============================] - 0s 10ms/step - loss: 16.0022 - mae: 16.0022\n",
            "Epoch 472/500\n",
            "2/2 [==============================] - 0s 7ms/step - loss: 14.9181 - mae: 14.9181\n",
            "Epoch 473/500\n",
            "2/2 [==============================] - 0s 7ms/step - loss: 18.2694 - mae: 18.2694\n",
            "Epoch 474/500\n",
            "2/2 [==============================] - 0s 6ms/step - loss: 42.0425 - mae: 42.0425\n",
            "Epoch 475/500\n",
            "2/2 [==============================] - 0s 7ms/step - loss: 17.8730 - mae: 17.8730\n",
            "Epoch 476/500\n",
            "2/2 [==============================] - 0s 8ms/step - loss: 13.2005 - mae: 13.2005\n",
            "Epoch 477/500\n",
            "2/2 [==============================] - 0s 8ms/step - loss: 29.2836 - mae: 29.2836\n",
            "Epoch 478/500\n",
            "2/2 [==============================] - 0s 8ms/step - loss: 5.7120 - mae: 5.7120\n",
            "Epoch 479/500\n",
            "2/2 [==============================] - 0s 8ms/step - loss: 7.0730 - mae: 7.0730\n",
            "Epoch 480/500\n",
            "2/2 [==============================] - 0s 7ms/step - loss: 19.0736 - mae: 19.0736\n",
            "Epoch 481/500\n",
            "2/2 [==============================] - 0s 10ms/step - loss: 13.4807 - mae: 13.4807\n",
            "Epoch 482/500\n",
            "2/2 [==============================] - 0s 7ms/step - loss: 6.3615 - mae: 6.3615\n",
            "Epoch 483/500\n",
            "2/2 [==============================] - 0s 7ms/step - loss: 12.4077 - mae: 12.4077\n",
            "Epoch 484/500\n",
            "2/2 [==============================] - 0s 9ms/step - loss: 13.1222 - mae: 13.1222\n",
            "Epoch 485/500\n",
            "2/2 [==============================] - 0s 8ms/step - loss: 10.3911 - mae: 10.3911\n",
            "Epoch 486/500\n",
            "2/2 [==============================] - 0s 8ms/step - loss: 17.8603 - mae: 17.8603\n",
            "Epoch 487/500\n",
            "2/2 [==============================] - 0s 7ms/step - loss: 10.8268 - mae: 10.8268\n",
            "Epoch 488/500\n",
            "2/2 [==============================] - 0s 7ms/step - loss: 26.9491 - mae: 26.9491\n",
            "Epoch 489/500\n",
            "2/2 [==============================] - 0s 8ms/step - loss: 5.3791 - mae: 5.3791\n",
            "Epoch 490/500\n",
            "2/2 [==============================] - 0s 6ms/step - loss: 6.0814 - mae: 6.0814\n",
            "Epoch 491/500\n",
            "2/2 [==============================] - 0s 6ms/step - loss: 19.3928 - mae: 19.3928\n",
            "Epoch 492/500\n",
            "2/2 [==============================] - 0s 8ms/step - loss: 6.7467 - mae: 6.7467\n",
            "Epoch 493/500\n",
            "2/2 [==============================] - 0s 7ms/step - loss: 18.6589 - mae: 18.6589\n",
            "Epoch 494/500\n",
            "2/2 [==============================] - 0s 8ms/step - loss: 19.0864 - mae: 19.0864\n",
            "Epoch 495/500\n",
            "2/2 [==============================] - 0s 8ms/step - loss: 5.7085 - mae: 5.7085\n",
            "Epoch 496/500\n",
            "2/2 [==============================] - 0s 7ms/step - loss: 5.9363 - mae: 5.9363\n",
            "Epoch 497/500\n",
            "2/2 [==============================] - 0s 11ms/step - loss: 12.6500 - mae: 12.6500\n",
            "Epoch 498/500\n",
            "2/2 [==============================] - 0s 12ms/step - loss: 6.3386 - mae: 6.3386\n",
            "Epoch 499/500\n",
            "2/2 [==============================] - 0s 8ms/step - loss: 16.0576 - mae: 16.0576\n",
            "Epoch 500/500\n",
            "2/2 [==============================] - 0s 6ms/step - loss: 14.2963 - mae: 14.2963\n"
          ]
        },
        {
          "output_type": "execute_result",
          "data": {
            "text/plain": [
              "<keras.callbacks.History at 0x7fc2c5761730>"
            ]
          },
          "metadata": {},
          "execution_count": 58
        }
      ]
    },
    {
      "cell_type": "code",
      "source": [
        "# make and plot some predictions \n",
        "y_preds_3 = model_3.predict(X_test)\n",
        "plot_predictions(predictions=y_preds_3)"
      ],
      "metadata": {
        "colab": {
          "base_uri": "https://localhost:8080/",
          "height": 616
        },
        "id": "PV2Mf7uD_VPA",
        "outputId": "0140e1d8-b7dd-4f8d-face-d0bfa2f59ce6"
      },
      "execution_count": null,
      "outputs": [
        {
          "output_type": "stream",
          "name": "stdout",
          "text": [
            "1/1 [==============================] - 0s 98ms/step\n"
          ]
        },
        {
          "output_type": "display_data",
          "data": {
            "text/plain": [
              "<Figure size 1000x700 with 1 Axes>"
            ],
            "image/png": "[encoded data removed]"
          },
          "metadata": {}
        }
      ]
    },
    {
      "cell_type": "code",
      "source": [
        "# Calculate model 3 evaluation metrics\n",
        "mae_3 =  mae(y_test, y_preds_3)\n",
        "mse_3 = mse(y_test, y_preds_3)\n",
        "mae_3, mse_3"
      ],
      "metadata": {
        "colab": {
          "base_uri": "https://localhost:8080/"
        },
        "id": "5dZLHJR8_1UJ",
        "outputId": "d90b3ff1-2299-42f4-f729-ea3275fa2bde"
      },
      "execution_count": null,
      "outputs": [
        {
          "output_type": "execute_result",
          "data": {
            "text/plain": [
              "(<tf.Tensor: shape=(), dtype=float32, numpy=67.58922>,\n",
              " <tf.Tensor: shape=(), dtype=float32, numpy=4652.3086>)"
            ]
          },
          "metadata": {},
          "execution_count": 60
        }
      ]
    },
    {
      "cell_type": "markdown",
      "source": [
        "** Note: **  You want to start with small experiments (small models) and make sure they work and then increase their scale when necessary.\n",
        "\n",
        "\n",
        "\n"
      ],
      "metadata": {
        "id": "EuPl0Sz3Ayck"
      }
    },
    {
      "cell_type": "markdown",
      "source": [
        "## Comparing the results of our experiments\n",
        "We have run a few experiments, let's compare the results"
      ],
      "metadata": {
        "id": "A0uhGSkW_3l8"
      }
    },
    {
      "cell_type": "code",
      "source": [
        "# Lets compare our model's results unsing a pandas DataFrame\n",
        "import pandas as pd\n",
        "model_results = [[\"model_1\", mae_1.numpy() , mse_1.numpy()],\n",
        "                 [\"model_2\", mae_2.numpy() , mse_2.numpy()],\n",
        "                 [\"model_3\", mae_3.numpy() , mse_3.numpy()]]\n",
        "\n",
        "all_results = pd.DataFrame(model_results, columns=[\"model\",\"mae\",\"mse\"])\n",
        "all_results"
      ],
      "metadata": {
        "colab": {
          "base_uri": "https://localhost:8080/",
          "height": 143
        },
        "id": "MFLZyoFaBdM4",
        "outputId": "ff42c22d-85fa-42c0-f478-24ffb4d0a71f"
      },
      "execution_count": null,
      "outputs": [
        {
          "output_type": "execute_result",
          "data": {
            "text/plain": [
              "     model        mae          mse\n",
              "0  model_1  14.905536   223.011871\n",
              "1  model_2  20.669298   435.019684\n",
              "2  model_3  67.589218  4652.308594"
            ],
            "text/html": [
              "\n",
              "  <div id=\"df-c824c16e-cfe5-4fda-95b8-a30d01dbbda5\">\n",
              "    <div class=\"colab-df-container\">\n",
              "      <div>\n",
              "<style scoped>\n",
              "    .dataframe tbody tr th:only-of-type {\n",
              "        vertical-align: middle;\n",
              "    }\n",
              "\n",
              "    .dataframe tbody tr th {\n",
              "        vertical-align: top;\n",
              "    }\n",
              "\n",
              "    .dataframe thead th {\n",
              "        text-align: right;\n",
              "    }\n",
              "</style>\n",
              "<table border=\"1\" class=\"dataframe\">\n",
              "  <thead>\n",
              "    <tr style=\"text-align: right;\">\n",
              "      <th></th>\n",
              "      <th>model</th>\n",
              "      <th>mae</th>\n",
              "      <th>mse</th>\n",
              "    </tr>\n",
              "  </thead>\n",
              "  <tbody>\n",
              "    <tr>\n",
              "      <th>0</th>\n",
              "      <td>model_1</td>\n",
              "      <td>14.905536</td>\n",
              "      <td>223.011871</td>\n",
              "    </tr>\n",
              "    <tr>\n",
              "      <th>1</th>\n",
              "      <td>model_2</td>\n",
              "      <td>20.669298</td>\n",
              "      <td>435.019684</td>\n",
              "    </tr>\n",
              "    <tr>\n",
              "      <th>2</th>\n",
              "      <td>model_3</td>\n",
              "      <td>67.589218</td>\n",
              "      <td>4652.308594</td>\n",
              "    </tr>\n",
              "  </tbody>\n",
              "</table>\n",
              "</div>\n",
              "      <button class=\"colab-df-convert\" onclick=\"convertToInteractive('df-c824c16e-cfe5-4fda-95b8-a30d01dbbda5')\"\n",
              "              title=\"Convert this dataframe to an interactive table.\"\n",
              "              style=\"display:none;\">\n",
              "        \n",
              "  <svg xmlns=\"http://www.w3.org/2000/svg\" height=\"24px\"viewBox=\"0 0 24 24\"\n",
              "       width=\"24px\">\n",
              "    <path d=\"M0 0h24v24H0V0z\" fill=\"none\"/>\n",
              "    <path d=\"M18.56 5.44l.94 2.06.94-2.06 2.06-.94-2.06-.94-.94-2.06-.94 2.06-2.06.94zm-11 1L8.5 8.5l.94-2.06 2.06-.94-2.06-.94L8.5 2.5l-.94 2.06-2.06.94zm10 10l.94 2.06.94-2.06 2.06-.94-2.06-.94-.94-2.06-.94 2.06-2.06.94z\"/><path d=\"M17.41 7.96l-1.37-1.37c-.4-.4-.92-.59-1.43-.59-.52 0-1.04.2-1.43.59L10.3 9.45l-7.72 7.72c-.78.78-.78 2.05 0 2.83L4 21.41c.39.39.9.59 1.41.59.51 0 1.02-.2 1.41-.59l7.78-7.78 2.81-2.81c.8-.78.8-2.07 0-2.86zM5.41 20L4 18.59l7.72-7.72 1.47 1.35L5.41 20z\"/>\n",
              "  </svg>\n",
              "      </button>\n",
              "      \n",
              "  <style>\n",
              "    .colab-df-container {\n",
              "      display:flex;\n",
              "      flex-wrap:wrap;\n",
              "      gap: 12px;\n",
              "    }\n",
              "\n",
              "    .colab-df-convert {\n",
              "      background-color: #E8F0FE;\n",
              "      border: none;\n",
              "      border-radius: 50%;\n",
              "      cursor: pointer;\n",
              "      display: none;\n",
              "      fill: #1967D2;\n",
              "      height: 32px;\n",
              "      padding: 0 0 0 0;\n",
              "      width: 32px;\n",
              "    }\n",
              "\n",
              "    .colab-df-convert:hover {\n",
              "      background-color: #E2EBFA;\n",
              "      box-shadow: 0px 1px 2px rgba(60, 64, 67, 0.3), 0px 1px 3px 1px rgba(60, 64, 67, 0.15);\n",
              "      fill: #174EA6;\n",
              "    }\n",
              "\n",
              "    [theme=dark] .colab-df-convert {\n",
              "      background-color: #3B4455;\n",
              "      fill: #D2E3FC;\n",
              "    }\n",
              "\n",
              "    [theme=dark] .colab-df-convert:hover {\n",
              "      background-color: #434B5C;\n",
              "      box-shadow: 0px 1px 3px 1px rgba(0, 0, 0, 0.15);\n",
              "      filter: drop-shadow(0px 1px 2px rgba(0, 0, 0, 0.3));\n",
              "      fill: #FFFFFF;\n",
              "    }\n",
              "  </style>\n",
              "\n",
              "      <script>\n",
              "        const buttonEl =\n",
              "          document.querySelector('#df-c824c16e-cfe5-4fda-95b8-a30d01dbbda5 button.colab-df-convert');\n",
              "        buttonEl.style.display =\n",
              "          google.colab.kernel.accessAllowed ? 'block' : 'none';\n",
              "\n",
              "        async function convertToInteractive(key) {\n",
              "          const element = document.querySelector('#df-c824c16e-cfe5-4fda-95b8-a30d01dbbda5');\n",
              "          const dataTable =\n",
              "            await google.colab.kernel.invokeFunction('convertToInteractive',\n",
              "                                                     [key], {});\n",
              "          if (!dataTable) return;\n",
              "\n",
              "          const docLinkHtml = 'Like what you see? Visit the ' +\n",
              "            '<a target=\"_blank\" href=https://colab.research.google.com/notebooks/data_table.ipynb>data table notebook</a>'\n",
              "            + ' to learn more about interactive tables.';\n",
              "          element.innerHTML = '';\n",
              "          dataTable['output_type'] = 'display_data';\n",
              "          await google.colab.output.renderOutput(dataTable, element);\n",
              "          const docLink = document.createElement('div');\n",
              "          docLink.innerHTML = docLinkHtml;\n",
              "          element.appendChild(docLink);\n",
              "        }\n",
              "      </script>\n",
              "    </div>\n",
              "  </div>\n",
              "  "
            ]
          },
          "metadata": {},
          "execution_count": 61
        }
      ]
    },
    {
      "cell_type": "markdown",
      "source": [
        "Looks like model 2 perform the best"
      ],
      "metadata": {
        "id": "5QSE4XdRCulc"
      }
    },
    {
      "cell_type": "code",
      "source": [
        "model_1.summary()"
      ],
      "metadata": {
        "colab": {
          "base_uri": "https://localhost:8080/"
        },
        "id": "tETpZefNB_Uh",
        "outputId": "c038cab6-838c-43bb-92b3-20c8afd060e1"
      },
      "execution_count": null,
      "outputs": [
        {
          "output_type": "stream",
          "name": "stdout",
          "text": [
            "Model: \"sequential_4\"\n",
            "_________________________________________________________________\n",
            " Layer (type)                Output Shape              Param #   \n",
            "=================================================================\n",
            " dense_5 (Dense)             (None, 1)                 2         \n",
            "                                                                 \n",
            "=================================================================\n",
            "Total params: 2\n",
            "Trainable params: 2\n",
            "Non-trainable params: 0\n",
            "_________________________________________________________________\n"
          ]
        }
      ]
    },
    {
      "cell_type": "markdown",
      "source": [
        "**Note:** One of your main goals should be to minimize the time between your experiments. The more experiments you do, the more things you will figure out which dont work and\n",
        "in turn, get closer to figuring out what does work. Remember the ML practioners's motto : \"Experiment, Experiment, Experiment\""
      ],
      "metadata": {
        "id": "yfHNIMOkCevc"
      }
    },
    {
      "cell_type": "markdown",
      "source": [
        "## Tracking your experiments \n",
        "One really good habit in ML modelling is to track the results of your experiments.\n",
        "\n",
        "And When doing so , it can be tedious if you are running lots of experiments\n",
        "Luckily, there are tools to help us!\n",
        "**REsource:** As you buil more models , You will want to look into usinf:\n",
        "* TensorBoard - a component of the TensorFlow library to help track modelling experiments.\n",
        "* Weights & Biases - a tool for tracking all o kinds ıd ML experiments (plugs straight into TensorBoard)"
      ],
      "metadata": {
        "id": "IQFz6ueiDWw4"
      }
    },
    {
      "cell_type": "markdown",
      "source": [
        "## Saving our models\n",
        "Saving our models allows us to use them outside of Google Colab (or wherever they were trained) such as in a web application or a mobile app.\n",
        "\n",
        "There aare 2 ain ormats we can save our model's too:\n",
        "1. The SavedModel Format\n",
        "2. The HDF5 format"
      ],
      "metadata": {
        "id": "zk3hzL8pD5AE"
      }
    },
    {
      "cell_type": "code",
      "source": [
        "# Save our model using the SavedModel format\n",
        "model_1.save(\"best_model_SavedModel_format\")"
      ],
      "metadata": {
        "colab": {
          "base_uri": "https://localhost:8080/"
        },
        "id": "RPQPraNhEne4",
        "outputId": "fc764616-c3d9-4dcf-af84-7e1bd215395f"
      },
      "execution_count": null,
      "outputs": [
        {
          "output_type": "stream",
          "name": "stderr",
          "text": [
            "WARNING:absl:Found untraced functions such as _update_step_xla while saving (showing 1 of 1). These functions will not be directly callable after loading.\n"
          ]
        }
      ]
    },
    {
      "cell_type": "code",
      "source": [
        "# SAve model using the hdf5 format\n",
        "model_1.save(\"best_model_HDF5_format.h5\")"
      ],
      "metadata": {
        "id": "13QaZs53F2lh"
      },
      "execution_count": null,
      "outputs": []
    },
    {
      "cell_type": "markdown",
      "source": [
        "## Loading a saved model"
      ],
      "metadata": {
        "id": "NeIMWLRFLYnB"
      }
    },
    {
      "cell_type": "code",
      "source": [
        "# Load in the SavedModel format model\n",
        "loaded_SavedModel_format = tf.keras.models.load_model(\"/content/best_model_SavedModel_format\")\n",
        "loaded_SavedModel_format.summary()"
      ],
      "metadata": {
        "colab": {
          "base_uri": "https://localhost:8080/"
        },
        "id": "g_yJIzbjZt1P",
        "outputId": "071cd924-86f1-435c-ba43-442094cae74d"
      },
      "execution_count": null,
      "outputs": [
        {
          "output_type": "stream",
          "name": "stdout",
          "text": [
            "Model: \"sequential_8\"\n",
            "_________________________________________________________________\n",
            " Layer (type)                Output Shape              Param #   \n",
            "=================================================================\n",
            " dense_10 (Dense)            (None, 1)                 2         \n",
            "                                                                 \n",
            "=================================================================\n",
            "Total params: 2\n",
            "Trainable params: 2\n",
            "Non-trainable params: 0\n",
            "_________________________________________________________________\n"
          ]
        }
      ]
    },
    {
      "cell_type": "code",
      "source": [
        "model_1.summary()"
      ],
      "metadata": {
        "colab": {
          "base_uri": "https://localhost:8080/"
        },
        "id": "oXlW8-aTaIcO",
        "outputId": "e526e81b-1749-47e3-e6ca-cbd944c3cfd6"
      },
      "execution_count": null,
      "outputs": [
        {
          "output_type": "stream",
          "name": "stdout",
          "text": [
            "Model: \"sequential_8\"\n",
            "_________________________________________________________________\n",
            " Layer (type)                Output Shape              Param #   \n",
            "=================================================================\n",
            " dense_10 (Dense)            (None, 1)                 2         \n",
            "                                                                 \n",
            "=================================================================\n",
            "Total params: 2\n",
            "Trainable params: 2\n",
            "Non-trainable params: 0\n",
            "_________________________________________________________________\n"
          ]
        }
      ]
    },
    {
      "cell_type": "code",
      "source": [
        "# Compare model_1 predictions with SavedModel format model preditions\n",
        "model_1_preds = model_1.predict(X_test)\n",
        "loaded_SavedModel_format_preds=loaded_SavedModel_format.predict(X_test)\n",
        "model_1_preds==loaded_SavedModel_format_preds"
      ],
      "metadata": {
        "colab": {
          "base_uri": "https://localhost:8080/"
        },
        "id": "Z8ER43wNaQpN",
        "outputId": "f3b5d2d2-8b19-45bb-9731-d30aacfd5dd4"
      },
      "execution_count": null,
      "outputs": [
        {
          "output_type": "stream",
          "name": "stdout",
          "text": [
            "1/1 [==============================] - 0s 339ms/step\n",
            "1/1 [==============================] - 0s 269ms/step\n"
          ]
        },
        {
          "output_type": "execute_result",
          "data": {
            "text/plain": [
              "array([[ True],\n",
              "       [ True],\n",
              "       [ True],\n",
              "       [ True],\n",
              "       [ True],\n",
              "       [ True],\n",
              "       [ True],\n",
              "       [ True],\n",
              "       [ True],\n",
              "       [ True]])"
            ]
          },
          "metadata": {},
          "execution_count": 95
        }
      ]
    },
    {
      "cell_type": "code",
      "source": [
        "# Compare the MAE of model_1 preds and loaded_SavedModel_preds\n",
        "mae(y_true=y_test, y_pred=model_1_preds) == mae(y_true=y_test, y_pred=loaded_SavedModel_format_preds)"
      ],
      "metadata": {
        "colab": {
          "base_uri": "https://localhost:8080/"
        },
        "id": "TeTji_ggavVq",
        "outputId": "c3b3babf-90f9-4cf4-e08e-d2d0a9b113cf"
      },
      "execution_count": null,
      "outputs": [
        {
          "output_type": "execute_result",
          "data": {
            "text/plain": [
              "<tf.Tensor: shape=(), dtype=bool, numpy=True>"
            ]
          },
          "metadata": {},
          "execution_count": 96
        }
      ]
    },
    {
      "cell_type": "code",
      "source": [
        "# Load in a model using the h5 format\n",
        "loaded_h5_model = tf.keras.models.load_model(\"/content/best_model_HDF5_format.h5\")\n",
        "loaded_h5_model.summary()"
      ],
      "metadata": {
        "colab": {
          "base_uri": "https://localhost:8080/"
        },
        "id": "nizsIh_cb7ad",
        "outputId": "10bfcd00-014f-4de4-af41-2f8bf7c663d3"
      },
      "execution_count": null,
      "outputs": [
        {
          "output_type": "stream",
          "name": "stdout",
          "text": [
            "Model: \"sequential_8\"\n",
            "_________________________________________________________________\n",
            " Layer (type)                Output Shape              Param #   \n",
            "=================================================================\n",
            " dense_10 (Dense)            (None, 1)                 2         \n",
            "                                                                 \n",
            "=================================================================\n",
            "Total params: 2\n",
            "Trainable params: 2\n",
            "Non-trainable params: 0\n",
            "_________________________________________________________________\n"
          ]
        }
      ]
    },
    {
      "cell_type": "code",
      "source": [
        "# Check to see if loaded .h5 model predictions match model_1\n",
        "model_1_preds =  model_1.predict(X_test)\n",
        "loaded_h5_model_preds = loaded_h5_model.predict(X_test)\n",
        "model_1_preds == loaded_h5_model_preds"
      ],
      "metadata": {
        "colab": {
          "base_uri": "https://localhost:8080/"
        },
        "id": "GfsY7bnLcVWi",
        "outputId": "5c92cf10-515e-450a-c085-48bb0ab6599a"
      },
      "execution_count": null,
      "outputs": [
        {
          "output_type": "stream",
          "name": "stdout",
          "text": [
            "1/1 [==============================] - 0s 169ms/step\n",
            "1/1 [==============================] - 1s 537ms/step\n"
          ]
        },
        {
          "output_type": "execute_result",
          "data": {
            "text/plain": [
              "array([[ True],\n",
              "       [ True],\n",
              "       [ True],\n",
              "       [ True],\n",
              "       [ True],\n",
              "       [ True],\n",
              "       [ True],\n",
              "       [ True],\n",
              "       [ True],\n",
              "       [ True]])"
            ]
          },
          "metadata": {},
          "execution_count": 98
        }
      ]
    },
    {
      "cell_type": "markdown",
      "source": [
        "## Download a model ( or any other file) from Colab\n",
        " If you want to download your files from Colab:\n",
        "1. You can go to the \"files\" tab and right click on the file you are after and click \"download\"\n",
        "2. Use code (see the cell below)\n",
        "3. Save it to Google Drive by connecting Drive and copying it there (see 2nd code cell below)"
      ],
      "metadata": {
        "id": "WiiIEC7CbpiK"
      }
    },
    {
      "cell_type": "code",
      "source": [
        "# Download a file from Colab\n",
        "#from google.colab import files\n",
        "#files.download(\"/content/best_model_HDF5_format.h5\")"
      ],
      "metadata": {
        "colab": {
          "base_uri": "https://localhost:8080/",
          "height": 17
        },
        "id": "isOwawC7dYGQ",
        "outputId": "2ef4d685-d805-419e-82f3-d3100769d610"
      },
      "execution_count": null,
      "outputs": [
        {
          "output_type": "display_data",
          "data": {
            "text/plain": [
              "<IPython.core.display.Javascript object>"
            ],
            "application/javascript": [
              "\n",
              "    async function download(id, filename, size) {\n",
              "      if (!google.colab.kernel.accessAllowed) {\n",
              "        return;\n",
              "      }\n",
              "      const div = document.createElement('div');\n",
              "      const label = document.createElement('label');\n",
              "      label.textContent = `Downloading \"${filename}\": `;\n",
              "      div.appendChild(label);\n",
              "      const progress = document.createElement('progress');\n",
              "      progress.max = size;\n",
              "      div.appendChild(progress);\n",
              "      document.body.appendChild(div);\n",
              "\n",
              "      const buffers = [];\n",
              "      let downloaded = 0;\n",
              "\n",
              "      const channel = await google.colab.kernel.comms.open(id);\n",
              "      // Send a message to notify the kernel that we're ready.\n",
              "      channel.send({})\n",
              "\n",
              "      for await (const message of channel.messages) {\n",
              "        // Send a message to notify the kernel that we're ready.\n",
              "        channel.send({})\n",
              "        if (message.buffers) {\n",
              "          for (const buffer of message.buffers) {\n",
              "            buffers.push(buffer);\n",
              "            downloaded += buffer.byteLength;\n",
              "            progress.value = downloaded;\n",
              "          }\n",
              "        }\n",
              "      }\n",
              "      const blob = new Blob(buffers, {type: 'application/binary'});\n",
              "      const a = document.createElement('a');\n",
              "      a.href = window.URL.createObjectURL(blob);\n",
              "      a.download = filename;\n",
              "      div.appendChild(a);\n",
              "      a.click();\n",
              "      div.remove();\n",
              "    }\n",
              "  "
            ]
          },
          "metadata": {}
        },
        {
          "output_type": "display_data",
          "data": {
            "text/plain": [
              "<IPython.core.display.Javascript object>"
            ],
            "application/javascript": [
              "download(\"download_a6233d3b-5471-46d3-8f41-f3e47be901d8\", \"best_model_HDF5_format.h5\", 17600)"
            ]
          },
          "metadata": {}
        }
      ]
    },
    {
      "cell_type": "code",
      "source": [
        "# SAve a file from Colab to Drive \n",
        "#!cp /content/best_model_HDF5_format.h5 /content/drive/MyDrive/els"
      ],
      "metadata": {
        "id": "Vaqsv6-neCuL"
      },
      "execution_count": null,
      "outputs": []
    },
    {
      "cell_type": "code",
      "source": [
        "#!ls /content/drive/MyDrive/els"
      ],
      "metadata": {
        "colab": {
          "base_uri": "https://localhost:8080/"
        },
        "id": "EkjPvGzEfHmL",
        "outputId": "18933cf4-8d50-4623-ccc9-5bad9a72e2ea"
      },
      "execution_count": null,
      "outputs": [
        {
          "output_type": "stream",
          "name": "stdout",
          "text": [
            "best_model_HDF5_format.h5  ELS\n"
          ]
        }
      ]
    },
    {
      "cell_type": "markdown",
      "source": [
        "## A larger example"
      ],
      "metadata": {
        "id": "8DuESOGnfNsZ"
      }
    },
    {
      "cell_type": "code",
      "source": [
        "# Import required libraries\n",
        "import tensorflow as tf\n",
        "import pandas as pd\n",
        "import matplotlib.pyplot as plt\n"
      ],
      "metadata": {
        "id": "k4iY8nOSf6Rz"
      },
      "execution_count": null,
      "outputs": []
    },
    {
      "cell_type": "code",
      "source": [
        "# Read in the insurance dataset\n",
        "insurance = pd.read_csv(\"https://raw.githubusercontent.com/stedy/Machine-Learning-with-R-datasets/master/insurance.csv\")\n",
        "insurance"
      ],
      "metadata": {
        "colab": {
          "base_uri": "https://localhost:8080/",
          "height": 423
        },
        "id": "IUsECZJKD7mG",
        "outputId": "de2d6e4f-9b5d-4b3a-f80e-3841db828c07"
      },
      "execution_count": null,
      "outputs": [
        {
          "output_type": "execute_result",
          "data": {
            "text/plain": [
              "      age     sex     bmi  children smoker     region      charges\n",
              "0      19  female  27.900         0    yes  southwest  16884.92400\n",
              "1      18    male  33.770         1     no  southeast   1725.55230\n",
              "2      28    male  33.000         3     no  southeast   4449.46200\n",
              "3      33    male  22.705         0     no  northwest  21984.47061\n",
              "4      32    male  28.880         0     no  northwest   3866.85520\n",
              "...   ...     ...     ...       ...    ...        ...          ...\n",
              "1333   50    male  30.970         3     no  northwest  10600.54830\n",
              "1334   18  female  31.920         0     no  northeast   2205.98080\n",
              "1335   18  female  36.850         0     no  southeast   1629.83350\n",
              "1336   21  female  25.800         0     no  southwest   2007.94500\n",
              "1337   61  female  29.070         0    yes  northwest  29141.36030\n",
              "\n",
              "[1338 rows x 7 columns]"
            ],
            "text/html": [
              "\n",
              "  <div id=\"df-e114fca2-360c-488b-8ad6-9d6d3d81dac4\">\n",
              "    <div class=\"colab-df-container\">\n",
              "      <div>\n",
              "<style scoped>\n",
              "    .dataframe tbody tr th:only-of-type {\n",
              "        vertical-align: middle;\n",
              "    }\n",
              "\n",
              "    .dataframe tbody tr th {\n",
              "        vertical-align: top;\n",
              "    }\n",
              "\n",
              "    .dataframe thead th {\n",
              "        text-align: right;\n",
              "    }\n",
              "</style>\n",
              "<table border=\"1\" class=\"dataframe\">\n",
              "  <thead>\n",
              "    <tr style=\"text-align: right;\">\n",
              "      <th></th>\n",
              "      <th>age</th>\n",
              "      <th>sex</th>\n",
              "      <th>bmi</th>\n",
              "      <th>children</th>\n",
              "      <th>smoker</th>\n",
              "      <th>region</th>\n",
              "      <th>charges</th>\n",
              "    </tr>\n",
              "  </thead>\n",
              "  <tbody>\n",
              "    <tr>\n",
              "      <th>0</th>\n",
              "      <td>19</td>\n",
              "      <td>female</td>\n",
              "      <td>27.900</td>\n",
              "      <td>0</td>\n",
              "      <td>yes</td>\n",
              "      <td>southwest</td>\n",
              "      <td>16884.92400</td>\n",
              "    </tr>\n",
              "    <tr>\n",
              "      <th>1</th>\n",
              "      <td>18</td>\n",
              "      <td>male</td>\n",
              "      <td>33.770</td>\n",
              "      <td>1</td>\n",
              "      <td>no</td>\n",
              "      <td>southeast</td>\n",
              "      <td>1725.55230</td>\n",
              "    </tr>\n",
              "    <tr>\n",
              "      <th>2</th>\n",
              "      <td>28</td>\n",
              "      <td>male</td>\n",
              "      <td>33.000</td>\n",
              "      <td>3</td>\n",
              "      <td>no</td>\n",
              "      <td>southeast</td>\n",
              "      <td>4449.46200</td>\n",
              "    </tr>\n",
              "    <tr>\n",
              "      <th>3</th>\n",
              "      <td>33</td>\n",
              "      <td>male</td>\n",
              "      <td>22.705</td>\n",
              "      <td>0</td>\n",
              "      <td>no</td>\n",
              "      <td>northwest</td>\n",
              "      <td>21984.47061</td>\n",
              "    </tr>\n",
              "    <tr>\n",
              "      <th>4</th>\n",
              "      <td>32</td>\n",
              "      <td>male</td>\n",
              "      <td>28.880</td>\n",
              "      <td>0</td>\n",
              "      <td>no</td>\n",
              "      <td>northwest</td>\n",
              "      <td>3866.85520</td>\n",
              "    </tr>\n",
              "    <tr>\n",
              "      <th>...</th>\n",
              "      <td>...</td>\n",
              "      <td>...</td>\n",
              "      <td>...</td>\n",
              "      <td>...</td>\n",
              "      <td>...</td>\n",
              "      <td>...</td>\n",
              "      <td>...</td>\n",
              "    </tr>\n",
              "    <tr>\n",
              "      <th>1333</th>\n",
              "      <td>50</td>\n",
              "      <td>male</td>\n",
              "      <td>30.970</td>\n",
              "      <td>3</td>\n",
              "      <td>no</td>\n",
              "      <td>northwest</td>\n",
              "      <td>10600.54830</td>\n",
              "    </tr>\n",
              "    <tr>\n",
              "      <th>1334</th>\n",
              "      <td>18</td>\n",
              "      <td>female</td>\n",
              "      <td>31.920</td>\n",
              "      <td>0</td>\n",
              "      <td>no</td>\n",
              "      <td>northeast</td>\n",
              "      <td>2205.98080</td>\n",
              "    </tr>\n",
              "    <tr>\n",
              "      <th>1335</th>\n",
              "      <td>18</td>\n",
              "      <td>female</td>\n",
              "      <td>36.850</td>\n",
              "      <td>0</td>\n",
              "      <td>no</td>\n",
              "      <td>southeast</td>\n",
              "      <td>1629.83350</td>\n",
              "    </tr>\n",
              "    <tr>\n",
              "      <th>1336</th>\n",
              "      <td>21</td>\n",
              "      <td>female</td>\n",
              "      <td>25.800</td>\n",
              "      <td>0</td>\n",
              "      <td>no</td>\n",
              "      <td>southwest</td>\n",
              "      <td>2007.94500</td>\n",
              "    </tr>\n",
              "    <tr>\n",
              "      <th>1337</th>\n",
              "      <td>61</td>\n",
              "      <td>female</td>\n",
              "      <td>29.070</td>\n",
              "      <td>0</td>\n",
              "      <td>yes</td>\n",
              "      <td>northwest</td>\n",
              "      <td>29141.36030</td>\n",
              "    </tr>\n",
              "  </tbody>\n",
              "</table>\n",
              "<p>1338 rows × 7 columns</p>\n",
              "</div>\n",
              "      <button class=\"colab-df-convert\" onclick=\"convertToInteractive('df-e114fca2-360c-488b-8ad6-9d6d3d81dac4')\"\n",
              "              title=\"Convert this dataframe to an interactive table.\"\n",
              "              style=\"display:none;\">\n",
              "        \n",
              "  <svg xmlns=\"http://www.w3.org/2000/svg\" height=\"24px\"viewBox=\"0 0 24 24\"\n",
              "       width=\"24px\">\n",
              "    <path d=\"M0 0h24v24H0V0z\" fill=\"none\"/>\n",
              "    <path d=\"M18.56 5.44l.94 2.06.94-2.06 2.06-.94-2.06-.94-.94-2.06-.94 2.06-2.06.94zm-11 1L8.5 8.5l.94-2.06 2.06-.94-2.06-.94L8.5 2.5l-.94 2.06-2.06.94zm10 10l.94 2.06.94-2.06 2.06-.94-2.06-.94-.94-2.06-.94 2.06-2.06.94z\"/><path d=\"M17.41 7.96l-1.37-1.37c-.4-.4-.92-.59-1.43-.59-.52 0-1.04.2-1.43.59L10.3 9.45l-7.72 7.72c-.78.78-.78 2.05 0 2.83L4 21.41c.39.39.9.59 1.41.59.51 0 1.02-.2 1.41-.59l7.78-7.78 2.81-2.81c.8-.78.8-2.07 0-2.86zM5.41 20L4 18.59l7.72-7.72 1.47 1.35L5.41 20z\"/>\n",
              "  </svg>\n",
              "      </button>\n",
              "      \n",
              "  <style>\n",
              "    .colab-df-container {\n",
              "      display:flex;\n",
              "      flex-wrap:wrap;\n",
              "      gap: 12px;\n",
              "    }\n",
              "\n",
              "    .colab-df-convert {\n",
              "      background-color: #E8F0FE;\n",
              "      border: none;\n",
              "      border-radius: 50%;\n",
              "      cursor: pointer;\n",
              "      display: none;\n",
              "      fill: #1967D2;\n",
              "      height: 32px;\n",
              "      padding: 0 0 0 0;\n",
              "      width: 32px;\n",
              "    }\n",
              "\n",
              "    .colab-df-convert:hover {\n",
              "      background-color: #E2EBFA;\n",
              "      box-shadow: 0px 1px 2px rgba(60, 64, 67, 0.3), 0px 1px 3px 1px rgba(60, 64, 67, 0.15);\n",
              "      fill: #174EA6;\n",
              "    }\n",
              "\n",
              "    [theme=dark] .colab-df-convert {\n",
              "      background-color: #3B4455;\n",
              "      fill: #D2E3FC;\n",
              "    }\n",
              "\n",
              "    [theme=dark] .colab-df-convert:hover {\n",
              "      background-color: #434B5C;\n",
              "      box-shadow: 0px 1px 3px 1px rgba(0, 0, 0, 0.15);\n",
              "      filter: drop-shadow(0px 1px 2px rgba(0, 0, 0, 0.3));\n",
              "      fill: #FFFFFF;\n",
              "    }\n",
              "  </style>\n",
              "\n",
              "      <script>\n",
              "        const buttonEl =\n",
              "          document.querySelector('#df-e114fca2-360c-488b-8ad6-9d6d3d81dac4 button.colab-df-convert');\n",
              "        buttonEl.style.display =\n",
              "          google.colab.kernel.accessAllowed ? 'block' : 'none';\n",
              "\n",
              "        async function convertToInteractive(key) {\n",
              "          const element = document.querySelector('#df-e114fca2-360c-488b-8ad6-9d6d3d81dac4');\n",
              "          const dataTable =\n",
              "            await google.colab.kernel.invokeFunction('convertToInteractive',\n",
              "                                                     [key], {});\n",
              "          if (!dataTable) return;\n",
              "\n",
              "          const docLinkHtml = 'Like what you see? Visit the ' +\n",
              "            '<a target=\"_blank\" href=https://colab.research.google.com/notebooks/data_table.ipynb>data table notebook</a>'\n",
              "            + ' to learn more about interactive tables.';\n",
              "          element.innerHTML = '';\n",
              "          dataTable['output_type'] = 'display_data';\n",
              "          await google.colab.output.renderOutput(dataTable, element);\n",
              "          const docLink = document.createElement('div');\n",
              "          docLink.innerHTML = docLinkHtml;\n",
              "          element.appendChild(docLink);\n",
              "        }\n",
              "      </script>\n",
              "    </div>\n",
              "  </div>\n",
              "  "
            ]
          },
          "metadata": {},
          "execution_count": 64
        }
      ]
    },
    {
      "cell_type": "code",
      "source": [
        "insurance[\"smoker\"], insurance[\"age\"]"
      ],
      "metadata": {
        "colab": {
          "base_uri": "https://localhost:8080/"
        },
        "id": "HFDFQJ-DFXr_",
        "outputId": "9e05836f-d049-4d40-d278-0866e3841e87"
      },
      "execution_count": null,
      "outputs": [
        {
          "output_type": "execute_result",
          "data": {
            "text/plain": [
              "(0       yes\n",
              " 1        no\n",
              " 2        no\n",
              " 3        no\n",
              " 4        no\n",
              "        ... \n",
              " 1333     no\n",
              " 1334     no\n",
              " 1335     no\n",
              " 1336     no\n",
              " 1337    yes\n",
              " Name: smoker, Length: 1338, dtype: object,\n",
              " 0       19\n",
              " 1       18\n",
              " 2       28\n",
              " 3       33\n",
              " 4       32\n",
              "         ..\n",
              " 1333    50\n",
              " 1334    18\n",
              " 1335    18\n",
              " 1336    21\n",
              " 1337    61\n",
              " Name: age, Length: 1338, dtype: int64)"
            ]
          },
          "metadata": {},
          "execution_count": 65
        }
      ]
    },
    {
      "cell_type": "code",
      "source": [
        "# LEts try one-hot encode our DataFrame so it is all numbers\n",
        "\n",
        "insurance_one_hot=pd.get_dummies(insurance)\n",
        "insurance_one_hot.head()"
      ],
      "metadata": {
        "colab": {
          "base_uri": "https://localhost:8080/",
          "height": 270
        },
        "id": "KJueFjogF5da",
        "outputId": "77ef18cf-f912-4111-90b8-f2640715e892"
      },
      "execution_count": null,
      "outputs": [
        {
          "output_type": "execute_result",
          "data": {
            "text/plain": [
              "   age     bmi  children      charges  sex_female  sex_male  smoker_no  \\\n",
              "0   19  27.900         0  16884.92400           1         0          0   \n",
              "1   18  33.770         1   1725.55230           0         1          1   \n",
              "2   28  33.000         3   4449.46200           0         1          1   \n",
              "3   33  22.705         0  21984.47061           0         1          1   \n",
              "4   32  28.880         0   3866.85520           0         1          1   \n",
              "\n",
              "   smoker_yes  region_northeast  region_northwest  region_southeast  \\\n",
              "0           1                 0                 0                 0   \n",
              "1           0                 0                 0                 1   \n",
              "2           0                 0                 0                 1   \n",
              "3           0                 0                 1                 0   \n",
              "4           0                 0                 1                 0   \n",
              "\n",
              "   region_southwest  \n",
              "0                 1  \n",
              "1                 0  \n",
              "2                 0  \n",
              "3                 0  \n",
              "4                 0  "
            ],
            "text/html": [
              "\n",
              "  <div id=\"df-248de8a5-9f57-4840-a014-2da690e2d011\">\n",
              "    <div class=\"colab-df-container\">\n",
              "      <div>\n",
              "<style scoped>\n",
              "    .dataframe tbody tr th:only-of-type {\n",
              "        vertical-align: middle;\n",
              "    }\n",
              "\n",
              "    .dataframe tbody tr th {\n",
              "        vertical-align: top;\n",
              "    }\n",
              "\n",
              "    .dataframe thead th {\n",
              "        text-align: right;\n",
              "    }\n",
              "</style>\n",
              "<table border=\"1\" class=\"dataframe\">\n",
              "  <thead>\n",
              "    <tr style=\"text-align: right;\">\n",
              "      <th></th>\n",
              "      <th>age</th>\n",
              "      <th>bmi</th>\n",
              "      <th>children</th>\n",
              "      <th>charges</th>\n",
              "      <th>sex_female</th>\n",
              "      <th>sex_male</th>\n",
              "      <th>smoker_no</th>\n",
              "      <th>smoker_yes</th>\n",
              "      <th>region_northeast</th>\n",
              "      <th>region_northwest</th>\n",
              "      <th>region_southeast</th>\n",
              "      <th>region_southwest</th>\n",
              "    </tr>\n",
              "  </thead>\n",
              "  <tbody>\n",
              "    <tr>\n",
              "      <th>0</th>\n",
              "      <td>19</td>\n",
              "      <td>27.900</td>\n",
              "      <td>0</td>\n",
              "      <td>16884.92400</td>\n",
              "      <td>1</td>\n",
              "      <td>0</td>\n",
              "      <td>0</td>\n",
              "      <td>1</td>\n",
              "      <td>0</td>\n",
              "      <td>0</td>\n",
              "      <td>0</td>\n",
              "      <td>1</td>\n",
              "    </tr>\n",
              "    <tr>\n",
              "      <th>1</th>\n",
              "      <td>18</td>\n",
              "      <td>33.770</td>\n",
              "      <td>1</td>\n",
              "      <td>1725.55230</td>\n",
              "      <td>0</td>\n",
              "      <td>1</td>\n",
              "      <td>1</td>\n",
              "      <td>0</td>\n",
              "      <td>0</td>\n",
              "      <td>0</td>\n",
              "      <td>1</td>\n",
              "      <td>0</td>\n",
              "    </tr>\n",
              "    <tr>\n",
              "      <th>2</th>\n",
              "      <td>28</td>\n",
              "      <td>33.000</td>\n",
              "      <td>3</td>\n",
              "      <td>4449.46200</td>\n",
              "      <td>0</td>\n",
              "      <td>1</td>\n",
              "      <td>1</td>\n",
              "      <td>0</td>\n",
              "      <td>0</td>\n",
              "      <td>0</td>\n",
              "      <td>1</td>\n",
              "      <td>0</td>\n",
              "    </tr>\n",
              "    <tr>\n",
              "      <th>3</th>\n",
              "      <td>33</td>\n",
              "      <td>22.705</td>\n",
              "      <td>0</td>\n",
              "      <td>21984.47061</td>\n",
              "      <td>0</td>\n",
              "      <td>1</td>\n",
              "      <td>1</td>\n",
              "      <td>0</td>\n",
              "      <td>0</td>\n",
              "      <td>1</td>\n",
              "      <td>0</td>\n",
              "      <td>0</td>\n",
              "    </tr>\n",
              "    <tr>\n",
              "      <th>4</th>\n",
              "      <td>32</td>\n",
              "      <td>28.880</td>\n",
              "      <td>0</td>\n",
              "      <td>3866.85520</td>\n",
              "      <td>0</td>\n",
              "      <td>1</td>\n",
              "      <td>1</td>\n",
              "      <td>0</td>\n",
              "      <td>0</td>\n",
              "      <td>1</td>\n",
              "      <td>0</td>\n",
              "      <td>0</td>\n",
              "    </tr>\n",
              "  </tbody>\n",
              "</table>\n",
              "</div>\n",
              "      <button class=\"colab-df-convert\" onclick=\"convertToInteractive('df-248de8a5-9f57-4840-a014-2da690e2d011')\"\n",
              "              title=\"Convert this dataframe to an interactive table.\"\n",
              "              style=\"display:none;\">\n",
              "        \n",
              "  <svg xmlns=\"http://www.w3.org/2000/svg\" height=\"24px\"viewBox=\"0 0 24 24\"\n",
              "       width=\"24px\">\n",
              "    <path d=\"M0 0h24v24H0V0z\" fill=\"none\"/>\n",
              "    <path d=\"M18.56 5.44l.94 2.06.94-2.06 2.06-.94-2.06-.94-.94-2.06-.94 2.06-2.06.94zm-11 1L8.5 8.5l.94-2.06 2.06-.94-2.06-.94L8.5 2.5l-.94 2.06-2.06.94zm10 10l.94 2.06.94-2.06 2.06-.94-2.06-.94-.94-2.06-.94 2.06-2.06.94z\"/><path d=\"M17.41 7.96l-1.37-1.37c-.4-.4-.92-.59-1.43-.59-.52 0-1.04.2-1.43.59L10.3 9.45l-7.72 7.72c-.78.78-.78 2.05 0 2.83L4 21.41c.39.39.9.59 1.41.59.51 0 1.02-.2 1.41-.59l7.78-7.78 2.81-2.81c.8-.78.8-2.07 0-2.86zM5.41 20L4 18.59l7.72-7.72 1.47 1.35L5.41 20z\"/>\n",
              "  </svg>\n",
              "      </button>\n",
              "      \n",
              "  <style>\n",
              "    .colab-df-container {\n",
              "      display:flex;\n",
              "      flex-wrap:wrap;\n",
              "      gap: 12px;\n",
              "    }\n",
              "\n",
              "    .colab-df-convert {\n",
              "      background-color: #E8F0FE;\n",
              "      border: none;\n",
              "      border-radius: 50%;\n",
              "      cursor: pointer;\n",
              "      display: none;\n",
              "      fill: #1967D2;\n",
              "      height: 32px;\n",
              "      padding: 0 0 0 0;\n",
              "      width: 32px;\n",
              "    }\n",
              "\n",
              "    .colab-df-convert:hover {\n",
              "      background-color: #E2EBFA;\n",
              "      box-shadow: 0px 1px 2px rgba(60, 64, 67, 0.3), 0px 1px 3px 1px rgba(60, 64, 67, 0.15);\n",
              "      fill: #174EA6;\n",
              "    }\n",
              "\n",
              "    [theme=dark] .colab-df-convert {\n",
              "      background-color: #3B4455;\n",
              "      fill: #D2E3FC;\n",
              "    }\n",
              "\n",
              "    [theme=dark] .colab-df-convert:hover {\n",
              "      background-color: #434B5C;\n",
              "      box-shadow: 0px 1px 3px 1px rgba(0, 0, 0, 0.15);\n",
              "      filter: drop-shadow(0px 1px 2px rgba(0, 0, 0, 0.3));\n",
              "      fill: #FFFFFF;\n",
              "    }\n",
              "  </style>\n",
              "\n",
              "      <script>\n",
              "        const buttonEl =\n",
              "          document.querySelector('#df-248de8a5-9f57-4840-a014-2da690e2d011 button.colab-df-convert');\n",
              "        buttonEl.style.display =\n",
              "          google.colab.kernel.accessAllowed ? 'block' : 'none';\n",
              "\n",
              "        async function convertToInteractive(key) {\n",
              "          const element = document.querySelector('#df-248de8a5-9f57-4840-a014-2da690e2d011');\n",
              "          const dataTable =\n",
              "            await google.colab.kernel.invokeFunction('convertToInteractive',\n",
              "                                                     [key], {});\n",
              "          if (!dataTable) return;\n",
              "\n",
              "          const docLinkHtml = 'Like what you see? Visit the ' +\n",
              "            '<a target=\"_blank\" href=https://colab.research.google.com/notebooks/data_table.ipynb>data table notebook</a>'\n",
              "            + ' to learn more about interactive tables.';\n",
              "          element.innerHTML = '';\n",
              "          dataTable['output_type'] = 'display_data';\n",
              "          await google.colab.output.renderOutput(dataTable, element);\n",
              "          const docLink = document.createElement('div');\n",
              "          docLink.innerHTML = docLinkHtml;\n",
              "          element.appendChild(docLink);\n",
              "        }\n",
              "      </script>\n",
              "    </div>\n",
              "  </div>\n",
              "  "
            ]
          },
          "metadata": {},
          "execution_count": 66
        }
      ]
    },
    {
      "cell_type": "code",
      "source": [
        "# Create X & y values (features and labels)\n",
        "X = insurance_one_hot.drop(\"charges\",axis=1)\n",
        "y = insurance_one_hot[\"charges\"]"
      ],
      "metadata": {
        "id": "yO-jcUdwHHZz"
      },
      "execution_count": null,
      "outputs": []
    },
    {
      "cell_type": "code",
      "source": [
        "# View X\n",
        "X.head()"
      ],
      "metadata": {
        "colab": {
          "base_uri": "https://localhost:8080/",
          "height": 270
        },
        "id": "jG6QskCOInZb",
        "outputId": "6d668223-1744-4c70-8dc9-2b4057f548fd"
      },
      "execution_count": null,
      "outputs": [
        {
          "output_type": "execute_result",
          "data": {
            "text/plain": [
              "   age     bmi  children  sex_female  sex_male  smoker_no  smoker_yes  \\\n",
              "0   19  27.900         0           1         0          0           1   \n",
              "1   18  33.770         1           0         1          1           0   \n",
              "2   28  33.000         3           0         1          1           0   \n",
              "3   33  22.705         0           0         1          1           0   \n",
              "4   32  28.880         0           0         1          1           0   \n",
              "\n",
              "   region_northeast  region_northwest  region_southeast  region_southwest  \n",
              "0                 0                 0                 0                 1  \n",
              "1                 0                 0                 1                 0  \n",
              "2                 0                 0                 1                 0  \n",
              "3                 0                 1                 0                 0  \n",
              "4                 0                 1                 0                 0  "
            ],
            "text/html": [
              "\n",
              "  <div id=\"df-333dccf7-9f43-41cf-9ac5-eb42d25d9078\">\n",
              "    <div class=\"colab-df-container\">\n",
              "      <div>\n",
              "<style scoped>\n",
              "    .dataframe tbody tr th:only-of-type {\n",
              "        vertical-align: middle;\n",
              "    }\n",
              "\n",
              "    .dataframe tbody tr th {\n",
              "        vertical-align: top;\n",
              "    }\n",
              "\n",
              "    .dataframe thead th {\n",
              "        text-align: right;\n",
              "    }\n",
              "</style>\n",
              "<table border=\"1\" class=\"dataframe\">\n",
              "  <thead>\n",
              "    <tr style=\"text-align: right;\">\n",
              "      <th></th>\n",
              "      <th>age</th>\n",
              "      <th>bmi</th>\n",
              "      <th>children</th>\n",
              "      <th>sex_female</th>\n",
              "      <th>sex_male</th>\n",
              "      <th>smoker_no</th>\n",
              "      <th>smoker_yes</th>\n",
              "      <th>region_northeast</th>\n",
              "      <th>region_northwest</th>\n",
              "      <th>region_southeast</th>\n",
              "      <th>region_southwest</th>\n",
              "    </tr>\n",
              "  </thead>\n",
              "  <tbody>\n",
              "    <tr>\n",
              "      <th>0</th>\n",
              "      <td>19</td>\n",
              "      <td>27.900</td>\n",
              "      <td>0</td>\n",
              "      <td>1</td>\n",
              "      <td>0</td>\n",
              "      <td>0</td>\n",
              "      <td>1</td>\n",
              "      <td>0</td>\n",
              "      <td>0</td>\n",
              "      <td>0</td>\n",
              "      <td>1</td>\n",
              "    </tr>\n",
              "    <tr>\n",
              "      <th>1</th>\n",
              "      <td>18</td>\n",
              "      <td>33.770</td>\n",
              "      <td>1</td>\n",
              "      <td>0</td>\n",
              "      <td>1</td>\n",
              "      <td>1</td>\n",
              "      <td>0</td>\n",
              "      <td>0</td>\n",
              "      <td>0</td>\n",
              "      <td>1</td>\n",
              "      <td>0</td>\n",
              "    </tr>\n",
              "    <tr>\n",
              "      <th>2</th>\n",
              "      <td>28</td>\n",
              "      <td>33.000</td>\n",
              "      <td>3</td>\n",
              "      <td>0</td>\n",
              "      <td>1</td>\n",
              "      <td>1</td>\n",
              "      <td>0</td>\n",
              "      <td>0</td>\n",
              "      <td>0</td>\n",
              "      <td>1</td>\n",
              "      <td>0</td>\n",
              "    </tr>\n",
              "    <tr>\n",
              "      <th>3</th>\n",
              "      <td>33</td>\n",
              "      <td>22.705</td>\n",
              "      <td>0</td>\n",
              "      <td>0</td>\n",
              "      <td>1</td>\n",
              "      <td>1</td>\n",
              "      <td>0</td>\n",
              "      <td>0</td>\n",
              "      <td>1</td>\n",
              "      <td>0</td>\n",
              "      <td>0</td>\n",
              "    </tr>\n",
              "    <tr>\n",
              "      <th>4</th>\n",
              "      <td>32</td>\n",
              "      <td>28.880</td>\n",
              "      <td>0</td>\n",
              "      <td>0</td>\n",
              "      <td>1</td>\n",
              "      <td>1</td>\n",
              "      <td>0</td>\n",
              "      <td>0</td>\n",
              "      <td>1</td>\n",
              "      <td>0</td>\n",
              "      <td>0</td>\n",
              "    </tr>\n",
              "  </tbody>\n",
              "</table>\n",
              "</div>\n",
              "      <button class=\"colab-df-convert\" onclick=\"convertToInteractive('df-333dccf7-9f43-41cf-9ac5-eb42d25d9078')\"\n",
              "              title=\"Convert this dataframe to an interactive table.\"\n",
              "              style=\"display:none;\">\n",
              "        \n",
              "  <svg xmlns=\"http://www.w3.org/2000/svg\" height=\"24px\"viewBox=\"0 0 24 24\"\n",
              "       width=\"24px\">\n",
              "    <path d=\"M0 0h24v24H0V0z\" fill=\"none\"/>\n",
              "    <path d=\"M18.56 5.44l.94 2.06.94-2.06 2.06-.94-2.06-.94-.94-2.06-.94 2.06-2.06.94zm-11 1L8.5 8.5l.94-2.06 2.06-.94-2.06-.94L8.5 2.5l-.94 2.06-2.06.94zm10 10l.94 2.06.94-2.06 2.06-.94-2.06-.94-.94-2.06-.94 2.06-2.06.94z\"/><path d=\"M17.41 7.96l-1.37-1.37c-.4-.4-.92-.59-1.43-.59-.52 0-1.04.2-1.43.59L10.3 9.45l-7.72 7.72c-.78.78-.78 2.05 0 2.83L4 21.41c.39.39.9.59 1.41.59.51 0 1.02-.2 1.41-.59l7.78-7.78 2.81-2.81c.8-.78.8-2.07 0-2.86zM5.41 20L4 18.59l7.72-7.72 1.47 1.35L5.41 20z\"/>\n",
              "  </svg>\n",
              "      </button>\n",
              "      \n",
              "  <style>\n",
              "    .colab-df-container {\n",
              "      display:flex;\n",
              "      flex-wrap:wrap;\n",
              "      gap: 12px;\n",
              "    }\n",
              "\n",
              "    .colab-df-convert {\n",
              "      background-color: #E8F0FE;\n",
              "      border: none;\n",
              "      border-radius: 50%;\n",
              "      cursor: pointer;\n",
              "      display: none;\n",
              "      fill: #1967D2;\n",
              "      height: 32px;\n",
              "      padding: 0 0 0 0;\n",
              "      width: 32px;\n",
              "    }\n",
              "\n",
              "    .colab-df-convert:hover {\n",
              "      background-color: #E2EBFA;\n",
              "      box-shadow: 0px 1px 2px rgba(60, 64, 67, 0.3), 0px 1px 3px 1px rgba(60, 64, 67, 0.15);\n",
              "      fill: #174EA6;\n",
              "    }\n",
              "\n",
              "    [theme=dark] .colab-df-convert {\n",
              "      background-color: #3B4455;\n",
              "      fill: #D2E3FC;\n",
              "    }\n",
              "\n",
              "    [theme=dark] .colab-df-convert:hover {\n",
              "      background-color: #434B5C;\n",
              "      box-shadow: 0px 1px 3px 1px rgba(0, 0, 0, 0.15);\n",
              "      filter: drop-shadow(0px 1px 2px rgba(0, 0, 0, 0.3));\n",
              "      fill: #FFFFFF;\n",
              "    }\n",
              "  </style>\n",
              "\n",
              "      <script>\n",
              "        const buttonEl =\n",
              "          document.querySelector('#df-333dccf7-9f43-41cf-9ac5-eb42d25d9078 button.colab-df-convert');\n",
              "        buttonEl.style.display =\n",
              "          google.colab.kernel.accessAllowed ? 'block' : 'none';\n",
              "\n",
              "        async function convertToInteractive(key) {\n",
              "          const element = document.querySelector('#df-333dccf7-9f43-41cf-9ac5-eb42d25d9078');\n",
              "          const dataTable =\n",
              "            await google.colab.kernel.invokeFunction('convertToInteractive',\n",
              "                                                     [key], {});\n",
              "          if (!dataTable) return;\n",
              "\n",
              "          const docLinkHtml = 'Like what you see? Visit the ' +\n",
              "            '<a target=\"_blank\" href=https://colab.research.google.com/notebooks/data_table.ipynb>data table notebook</a>'\n",
              "            + ' to learn more about interactive tables.';\n",
              "          element.innerHTML = '';\n",
              "          dataTable['output_type'] = 'display_data';\n",
              "          await google.colab.output.renderOutput(dataTable, element);\n",
              "          const docLink = document.createElement('div');\n",
              "          docLink.innerHTML = docLinkHtml;\n",
              "          element.appendChild(docLink);\n",
              "        }\n",
              "      </script>\n",
              "    </div>\n",
              "  </div>\n",
              "  "
            ]
          },
          "metadata": {},
          "execution_count": 68
        }
      ]
    },
    {
      "cell_type": "code",
      "source": [
        "# View y:\n",
        "y.head()"
      ],
      "metadata": {
        "colab": {
          "base_uri": "https://localhost:8080/"
        },
        "id": "biYR9vVtJOZM",
        "outputId": "56192bff-3bfe-4501-c9b9-6e22bb555ce1"
      },
      "execution_count": null,
      "outputs": [
        {
          "output_type": "execute_result",
          "data": {
            "text/plain": [
              "0    16884.92400\n",
              "1     1725.55230\n",
              "2     4449.46200\n",
              "3    21984.47061\n",
              "4     3866.85520\n",
              "Name: charges, dtype: float64"
            ]
          },
          "metadata": {},
          "execution_count": 69
        }
      ]
    },
    {
      "cell_type": "code",
      "source": [
        "# Create training and test sets\n",
        "from sklearn.model_selection import train_test_split\n",
        "X_train, X_test, y_train, y_test = train_test_split(X, y, test_size=0.2, random_state=42)\n",
        "len(X), len(X_train) , len(X_test)"
      ],
      "metadata": {
        "colab": {
          "base_uri": "https://localhost:8080/"
        },
        "id": "mrA79p6gIPTS",
        "outputId": "7ea65a0c-be22-4867-e2ee-d5254dcc76c6"
      },
      "execution_count": null,
      "outputs": [
        {
          "output_type": "execute_result",
          "data": {
            "text/plain": [
              "(1338, 1070, 268)"
            ]
          },
          "metadata": {},
          "execution_count": 70
        }
      ]
    },
    {
      "cell_type": "code",
      "source": [
        "\n",
        "X\n"
      ],
      "metadata": {
        "colab": {
          "base_uri": "https://localhost:8080/",
          "height": 487
        },
        "id": "Bzu153EAKSOY",
        "outputId": "88048ced-8ec9-4d16-fdd4-e176d6d01f6e"
      },
      "execution_count": null,
      "outputs": [
        {
          "output_type": "execute_result",
          "data": {
            "text/plain": [
              "      age     bmi  children  sex_female  sex_male  smoker_no  smoker_yes  \\\n",
              "0      19  27.900         0           1         0          0           1   \n",
              "1      18  33.770         1           0         1          1           0   \n",
              "2      28  33.000         3           0         1          1           0   \n",
              "3      33  22.705         0           0         1          1           0   \n",
              "4      32  28.880         0           0         1          1           0   \n",
              "...   ...     ...       ...         ...       ...        ...         ...   \n",
              "1333   50  30.970         3           0         1          1           0   \n",
              "1334   18  31.920         0           1         0          1           0   \n",
              "1335   18  36.850         0           1         0          1           0   \n",
              "1336   21  25.800         0           1         0          1           0   \n",
              "1337   61  29.070         0           1         0          0           1   \n",
              "\n",
              "      region_northeast  region_northwest  region_southeast  region_southwest  \n",
              "0                    0                 0                 0                 1  \n",
              "1                    0                 0                 1                 0  \n",
              "2                    0                 0                 1                 0  \n",
              "3                    0                 1                 0                 0  \n",
              "4                    0                 1                 0                 0  \n",
              "...                ...               ...               ...               ...  \n",
              "1333                 0                 1                 0                 0  \n",
              "1334                 1                 0                 0                 0  \n",
              "1335                 0                 0                 1                 0  \n",
              "1336                 0                 0                 0                 1  \n",
              "1337                 0                 1                 0                 0  \n",
              "\n",
              "[1338 rows x 11 columns]"
            ],
            "text/html": [
              "\n",
              "  <div id=\"df-e9bc607a-86b5-433a-8c83-fafb54bc5711\">\n",
              "    <div class=\"colab-df-container\">\n",
              "      <div>\n",
              "<style scoped>\n",
              "    .dataframe tbody tr th:only-of-type {\n",
              "        vertical-align: middle;\n",
              "    }\n",
              "\n",
              "    .dataframe tbody tr th {\n",
              "        vertical-align: top;\n",
              "    }\n",
              "\n",
              "    .dataframe thead th {\n",
              "        text-align: right;\n",
              "    }\n",
              "</style>\n",
              "<table border=\"1\" class=\"dataframe\">\n",
              "  <thead>\n",
              "    <tr style=\"text-align: right;\">\n",
              "      <th></th>\n",
              "      <th>age</th>\n",
              "      <th>bmi</th>\n",
              "      <th>children</th>\n",
              "      <th>sex_female</th>\n",
              "      <th>sex_male</th>\n",
              "      <th>smoker_no</th>\n",
              "      <th>smoker_yes</th>\n",
              "      <th>region_northeast</th>\n",
              "      <th>region_northwest</th>\n",
              "      <th>region_southeast</th>\n",
              "      <th>region_southwest</th>\n",
              "    </tr>\n",
              "  </thead>\n",
              "  <tbody>\n",
              "    <tr>\n",
              "      <th>0</th>\n",
              "      <td>19</td>\n",
              "      <td>27.900</td>\n",
              "      <td>0</td>\n",
              "      <td>1</td>\n",
              "      <td>0</td>\n",
              "      <td>0</td>\n",
              "      <td>1</td>\n",
              "      <td>0</td>\n",
              "      <td>0</td>\n",
              "      <td>0</td>\n",
              "      <td>1</td>\n",
              "    </tr>\n",
              "    <tr>\n",
              "      <th>1</th>\n",
              "      <td>18</td>\n",
              "      <td>33.770</td>\n",
              "      <td>1</td>\n",
              "      <td>0</td>\n",
              "      <td>1</td>\n",
              "      <td>1</td>\n",
              "      <td>0</td>\n",
              "      <td>0</td>\n",
              "      <td>0</td>\n",
              "      <td>1</td>\n",
              "      <td>0</td>\n",
              "    </tr>\n",
              "    <tr>\n",
              "      <th>2</th>\n",
              "      <td>28</td>\n",
              "      <td>33.000</td>\n",
              "      <td>3</td>\n",
              "      <td>0</td>\n",
              "      <td>1</td>\n",
              "      <td>1</td>\n",
              "      <td>0</td>\n",
              "      <td>0</td>\n",
              "      <td>0</td>\n",
              "      <td>1</td>\n",
              "      <td>0</td>\n",
              "    </tr>\n",
              "    <tr>\n",
              "      <th>3</th>\n",
              "      <td>33</td>\n",
              "      <td>22.705</td>\n",
              "      <td>0</td>\n",
              "      <td>0</td>\n",
              "      <td>1</td>\n",
              "      <td>1</td>\n",
              "      <td>0</td>\n",
              "      <td>0</td>\n",
              "      <td>1</td>\n",
              "      <td>0</td>\n",
              "      <td>0</td>\n",
              "    </tr>\n",
              "    <tr>\n",
              "      <th>4</th>\n",
              "      <td>32</td>\n",
              "      <td>28.880</td>\n",
              "      <td>0</td>\n",
              "      <td>0</td>\n",
              "      <td>1</td>\n",
              "      <td>1</td>\n",
              "      <td>0</td>\n",
              "      <td>0</td>\n",
              "      <td>1</td>\n",
              "      <td>0</td>\n",
              "      <td>0</td>\n",
              "    </tr>\n",
              "    <tr>\n",
              "      <th>...</th>\n",
              "      <td>...</td>\n",
              "      <td>...</td>\n",
              "      <td>...</td>\n",
              "      <td>...</td>\n",
              "      <td>...</td>\n",
              "      <td>...</td>\n",
              "      <td>...</td>\n",
              "      <td>...</td>\n",
              "      <td>...</td>\n",
              "      <td>...</td>\n",
              "      <td>...</td>\n",
              "    </tr>\n",
              "    <tr>\n",
              "      <th>1333</th>\n",
              "      <td>50</td>\n",
              "      <td>30.970</td>\n",
              "      <td>3</td>\n",
              "      <td>0</td>\n",
              "      <td>1</td>\n",
              "      <td>1</td>\n",
              "      <td>0</td>\n",
              "      <td>0</td>\n",
              "      <td>1</td>\n",
              "      <td>0</td>\n",
              "      <td>0</td>\n",
              "    </tr>\n",
              "    <tr>\n",
              "      <th>1334</th>\n",
              "      <td>18</td>\n",
              "      <td>31.920</td>\n",
              "      <td>0</td>\n",
              "      <td>1</td>\n",
              "      <td>0</td>\n",
              "      <td>1</td>\n",
              "      <td>0</td>\n",
              "      <td>1</td>\n",
              "      <td>0</td>\n",
              "      <td>0</td>\n",
              "      <td>0</td>\n",
              "    </tr>\n",
              "    <tr>\n",
              "      <th>1335</th>\n",
              "      <td>18</td>\n",
              "      <td>36.850</td>\n",
              "      <td>0</td>\n",
              "      <td>1</td>\n",
              "      <td>0</td>\n",
              "      <td>1</td>\n",
              "      <td>0</td>\n",
              "      <td>0</td>\n",
              "      <td>0</td>\n",
              "      <td>1</td>\n",
              "      <td>0</td>\n",
              "    </tr>\n",
              "    <tr>\n",
              "      <th>1336</th>\n",
              "      <td>21</td>\n",
              "      <td>25.800</td>\n",
              "      <td>0</td>\n",
              "      <td>1</td>\n",
              "      <td>0</td>\n",
              "      <td>1</td>\n",
              "      <td>0</td>\n",
              "      <td>0</td>\n",
              "      <td>0</td>\n",
              "      <td>0</td>\n",
              "      <td>1</td>\n",
              "    </tr>\n",
              "    <tr>\n",
              "      <th>1337</th>\n",
              "      <td>61</td>\n",
              "      <td>29.070</td>\n",
              "      <td>0</td>\n",
              "      <td>1</td>\n",
              "      <td>0</td>\n",
              "      <td>0</td>\n",
              "      <td>1</td>\n",
              "      <td>0</td>\n",
              "      <td>1</td>\n",
              "      <td>0</td>\n",
              "      <td>0</td>\n",
              "    </tr>\n",
              "  </tbody>\n",
              "</table>\n",
              "<p>1338 rows × 11 columns</p>\n",
              "</div>\n",
              "      <button class=\"colab-df-convert\" onclick=\"convertToInteractive('df-e9bc607a-86b5-433a-8c83-fafb54bc5711')\"\n",
              "              title=\"Convert this dataframe to an interactive table.\"\n",
              "              style=\"display:none;\">\n",
              "        \n",
              "  <svg xmlns=\"http://www.w3.org/2000/svg\" height=\"24px\"viewBox=\"0 0 24 24\"\n",
              "       width=\"24px\">\n",
              "    <path d=\"M0 0h24v24H0V0z\" fill=\"none\"/>\n",
              "    <path d=\"M18.56 5.44l.94 2.06.94-2.06 2.06-.94-2.06-.94-.94-2.06-.94 2.06-2.06.94zm-11 1L8.5 8.5l.94-2.06 2.06-.94-2.06-.94L8.5 2.5l-.94 2.06-2.06.94zm10 10l.94 2.06.94-2.06 2.06-.94-2.06-.94-.94-2.06-.94 2.06-2.06.94z\"/><path d=\"M17.41 7.96l-1.37-1.37c-.4-.4-.92-.59-1.43-.59-.52 0-1.04.2-1.43.59L10.3 9.45l-7.72 7.72c-.78.78-.78 2.05 0 2.83L4 21.41c.39.39.9.59 1.41.59.51 0 1.02-.2 1.41-.59l7.78-7.78 2.81-2.81c.8-.78.8-2.07 0-2.86zM5.41 20L4 18.59l7.72-7.72 1.47 1.35L5.41 20z\"/>\n",
              "  </svg>\n",
              "      </button>\n",
              "      \n",
              "  <style>\n",
              "    .colab-df-container {\n",
              "      display:flex;\n",
              "      flex-wrap:wrap;\n",
              "      gap: 12px;\n",
              "    }\n",
              "\n",
              "    .colab-df-convert {\n",
              "      background-color: #E8F0FE;\n",
              "      border: none;\n",
              "      border-radius: 50%;\n",
              "      cursor: pointer;\n",
              "      display: none;\n",
              "      fill: #1967D2;\n",
              "      height: 32px;\n",
              "      padding: 0 0 0 0;\n",
              "      width: 32px;\n",
              "    }\n",
              "\n",
              "    .colab-df-convert:hover {\n",
              "      background-color: #E2EBFA;\n",
              "      box-shadow: 0px 1px 2px rgba(60, 64, 67, 0.3), 0px 1px 3px 1px rgba(60, 64, 67, 0.15);\n",
              "      fill: #174EA6;\n",
              "    }\n",
              "\n",
              "    [theme=dark] .colab-df-convert {\n",
              "      background-color: #3B4455;\n",
              "      fill: #D2E3FC;\n",
              "    }\n",
              "\n",
              "    [theme=dark] .colab-df-convert:hover {\n",
              "      background-color: #434B5C;\n",
              "      box-shadow: 0px 1px 3px 1px rgba(0, 0, 0, 0.15);\n",
              "      filter: drop-shadow(0px 1px 2px rgba(0, 0, 0, 0.3));\n",
              "      fill: #FFFFFF;\n",
              "    }\n",
              "  </style>\n",
              "\n",
              "      <script>\n",
              "        const buttonEl =\n",
              "          document.querySelector('#df-e9bc607a-86b5-433a-8c83-fafb54bc5711 button.colab-df-convert');\n",
              "        buttonEl.style.display =\n",
              "          google.colab.kernel.accessAllowed ? 'block' : 'none';\n",
              "\n",
              "        async function convertToInteractive(key) {\n",
              "          const element = document.querySelector('#df-e9bc607a-86b5-433a-8c83-fafb54bc5711');\n",
              "          const dataTable =\n",
              "            await google.colab.kernel.invokeFunction('convertToInteractive',\n",
              "                                                     [key], {});\n",
              "          if (!dataTable) return;\n",
              "\n",
              "          const docLinkHtml = 'Like what you see? Visit the ' +\n",
              "            '<a target=\"_blank\" href=https://colab.research.google.com/notebooks/data_table.ipynb>data table notebook</a>'\n",
              "            + ' to learn more about interactive tables.';\n",
              "          element.innerHTML = '';\n",
              "          dataTable['output_type'] = 'display_data';\n",
              "          await google.colab.output.renderOutput(dataTable, element);\n",
              "          const docLink = document.createElement('div');\n",
              "          docLink.innerHTML = docLinkHtml;\n",
              "          element.appendChild(docLink);\n",
              "        }\n",
              "      </script>\n",
              "    </div>\n",
              "  </div>\n",
              "  "
            ]
          },
          "metadata": {},
          "execution_count": 86
        }
      ]
    },
    {
      "cell_type": "code",
      "source": [
        "# Build a neural network (sort of like model_2 above)\n",
        "tf.random.set_seed(42)\n",
        "\n",
        "# 1. Create a model\n",
        "insurance_model = tf.keras.Sequential([\n",
        "    tf.keras.layers.Dense(10),\n",
        "    tf.keras.layers.Dense(1)\n",
        "])\n",
        "# 2. Compile the model\n",
        "insurance_model.compile(loss=tf.keras.losses.mae,\n",
        "                        optimizer=tf.keras.optimizers.SGD(),\n",
        "                        metrics=[\"mae\"])\n",
        "# 3. Fit the model\n",
        "insurance_model.fit(X_train, y_train, epochs=100)"
      ],
      "metadata": {
        "colab": {
          "base_uri": "https://localhost:8080/"
        },
        "id": "pVOi8MIUIR4B",
        "outputId": "c2801388-12db-49e4-9ed0-8aa1f2b51b05"
      },
      "execution_count": null,
      "outputs": [
        {
          "output_type": "stream",
          "name": "stdout",
          "text": [
            "Epoch 1/100\n",
            "34/34 [==============================] - 1s 3ms/step - loss: 8719.2666 - mae: 8719.2666\n",
            "Epoch 2/100\n",
            "34/34 [==============================] - 0s 2ms/step - loss: 7888.4849 - mae: 7888.4849\n",
            "Epoch 3/100\n",
            "34/34 [==============================] - 0s 2ms/step - loss: 7607.5747 - mae: 7607.5747\n",
            "Epoch 4/100\n",
            "34/34 [==============================] - 0s 3ms/step - loss: 7712.5381 - mae: 7712.5381\n",
            "Epoch 5/100\n",
            "34/34 [==============================] - 0s 3ms/step - loss: 7666.2627 - mae: 7666.2627\n",
            "Epoch 6/100\n",
            "34/34 [==============================] - 0s 3ms/step - loss: 7608.2993 - mae: 7608.2993\n",
            "Epoch 7/100\n",
            "34/34 [==============================] - 0s 3ms/step - loss: 7575.4087 - mae: 7575.4087\n",
            "Epoch 8/100\n",
            "34/34 [==============================] - 0s 3ms/step - loss: 7788.5225 - mae: 7788.5225\n",
            "Epoch 9/100\n",
            "34/34 [==============================] - 0s 3ms/step - loss: 7589.9771 - mae: 7589.9771\n",
            "Epoch 10/100\n",
            "34/34 [==============================] - 0s 3ms/step - loss: 7727.8530 - mae: 7727.8530\n",
            "Epoch 11/100\n",
            "34/34 [==============================] - 0s 3ms/step - loss: 7504.4043 - mae: 7504.4043\n",
            "Epoch 12/100\n",
            "34/34 [==============================] - 0s 3ms/step - loss: 7574.0303 - mae: 7574.0303\n",
            "Epoch 13/100\n",
            "34/34 [==============================] - 0s 3ms/step - loss: 7773.9526 - mae: 7773.9526\n",
            "Epoch 14/100\n",
            "34/34 [==============================] - 0s 3ms/step - loss: 7806.3701 - mae: 7806.3701\n",
            "Epoch 15/100\n",
            "34/34 [==============================] - 0s 3ms/step - loss: 7564.5151 - mae: 7564.5151\n",
            "Epoch 16/100\n",
            "34/34 [==============================] - 0s 2ms/step - loss: 7701.0288 - mae: 7701.0288\n",
            "Epoch 17/100\n",
            "34/34 [==============================] - 0s 3ms/step - loss: 7634.4580 - mae: 7634.4580\n",
            "Epoch 18/100\n",
            "34/34 [==============================] - 0s 3ms/step - loss: 7689.7148 - mae: 7689.7148\n",
            "Epoch 19/100\n",
            "34/34 [==============================] - 0s 3ms/step - loss: 7661.8535 - mae: 7661.8535\n",
            "Epoch 20/100\n",
            "34/34 [==============================] - 0s 3ms/step - loss: 7864.3506 - mae: 7864.3506\n",
            "Epoch 21/100\n",
            "34/34 [==============================] - 0s 3ms/step - loss: 7575.9209 - mae: 7575.9209\n",
            "Epoch 22/100\n",
            "34/34 [==============================] - 0s 3ms/step - loss: 7833.2988 - mae: 7833.2988\n",
            "Epoch 23/100\n",
            "34/34 [==============================] - 0s 3ms/step - loss: 7503.3262 - mae: 7503.3262\n",
            "Epoch 24/100\n",
            "34/34 [==============================] - 0s 3ms/step - loss: 7573.3140 - mae: 7573.3140\n",
            "Epoch 25/100\n",
            "34/34 [==============================] - 0s 3ms/step - loss: 7543.5161 - mae: 7543.5161\n",
            "Epoch 26/100\n",
            "34/34 [==============================] - 0s 3ms/step - loss: 7661.3833 - mae: 7661.3833\n",
            "Epoch 27/100\n",
            "34/34 [==============================] - 0s 3ms/step - loss: 7685.9185 - mae: 7685.9185\n",
            "Epoch 28/100\n",
            "34/34 [==============================] - 0s 3ms/step - loss: 7369.8477 - mae: 7369.8477\n",
            "Epoch 29/100\n",
            "34/34 [==============================] - 0s 3ms/step - loss: 7655.6060 - mae: 7655.6060\n",
            "Epoch 30/100\n",
            "34/34 [==============================] - 0s 3ms/step - loss: 7660.9468 - mae: 7660.9468\n",
            "Epoch 31/100\n",
            "34/34 [==============================] - 0s 3ms/step - loss: 7560.5938 - mae: 7560.5938\n",
            "Epoch 32/100\n",
            "34/34 [==============================] - 0s 2ms/step - loss: 7468.2964 - mae: 7468.2964\n",
            "Epoch 33/100\n",
            "34/34 [==============================] - 0s 2ms/step - loss: 7509.6108 - mae: 7509.6108\n",
            "Epoch 34/100\n",
            "34/34 [==============================] - 0s 3ms/step - loss: 7469.6543 - mae: 7469.6543\n",
            "Epoch 35/100\n",
            "34/34 [==============================] - 0s 3ms/step - loss: 7545.0391 - mae: 7545.0391\n",
            "Epoch 36/100\n",
            "34/34 [==============================] - 0s 3ms/step - loss: 7420.7925 - mae: 7420.7925\n",
            "Epoch 37/100\n",
            "34/34 [==============================] - 0s 3ms/step - loss: 7631.0269 - mae: 7631.0269\n",
            "Epoch 38/100\n",
            "34/34 [==============================] - 0s 3ms/step - loss: 7367.7139 - mae: 7367.7139\n",
            "Epoch 39/100\n",
            "34/34 [==============================] - 0s 3ms/step - loss: 7552.3340 - mae: 7552.3340\n",
            "Epoch 40/100\n",
            "34/34 [==============================] - 0s 2ms/step - loss: 7206.3589 - mae: 7206.3589\n",
            "Epoch 41/100\n",
            "34/34 [==============================] - 0s 3ms/step - loss: 7758.5591 - mae: 7758.5591\n",
            "Epoch 42/100\n",
            "34/34 [==============================] - 0s 3ms/step - loss: 7398.6602 - mae: 7398.6602\n",
            "Epoch 43/100\n",
            "34/34 [==============================] - 0s 3ms/step - loss: 7571.8530 - mae: 7571.8530\n",
            "Epoch 44/100\n",
            "34/34 [==============================] - 0s 3ms/step - loss: 7458.3950 - mae: 7458.3950\n",
            "Epoch 45/100\n",
            "34/34 [==============================] - 0s 3ms/step - loss: 7447.1460 - mae: 7447.1460\n",
            "Epoch 46/100\n",
            "34/34 [==============================] - 0s 3ms/step - loss: 7413.1226 - mae: 7413.1226\n",
            "Epoch 47/100\n",
            "34/34 [==============================] - 0s 4ms/step - loss: 7534.5181 - mae: 7534.5181\n",
            "Epoch 48/100\n",
            "34/34 [==============================] - 0s 4ms/step - loss: 7491.6655 - mae: 7491.6655\n",
            "Epoch 49/100\n",
            "34/34 [==============================] - 0s 4ms/step - loss: 7556.5376 - mae: 7556.5376\n",
            "Epoch 50/100\n",
            "34/34 [==============================] - 0s 5ms/step - loss: 7462.5752 - mae: 7462.5752\n",
            "Epoch 51/100\n",
            "34/34 [==============================] - 0s 4ms/step - loss: 7391.5591 - mae: 7391.5591\n",
            "Epoch 52/100\n",
            "34/34 [==============================] - 0s 4ms/step - loss: 7592.3989 - mae: 7592.3989\n",
            "Epoch 53/100\n",
            "34/34 [==============================] - 0s 4ms/step - loss: 7623.8965 - mae: 7623.8965\n",
            "Epoch 54/100\n",
            "34/34 [==============================] - 0s 4ms/step - loss: 7198.4136 - mae: 7198.4136\n",
            "Epoch 55/100\n",
            "34/34 [==============================] - 0s 4ms/step - loss: 7291.7026 - mae: 7291.7026\n",
            "Epoch 56/100\n",
            "34/34 [==============================] - 0s 4ms/step - loss: 7358.3115 - mae: 7358.3115\n",
            "Epoch 57/100\n",
            "34/34 [==============================] - 0s 4ms/step - loss: 7275.3096 - mae: 7275.3096\n",
            "Epoch 58/100\n",
            "34/34 [==============================] - 0s 4ms/step - loss: 7600.0039 - mae: 7600.0039\n",
            "Epoch 59/100\n",
            "34/34 [==============================] - 0s 4ms/step - loss: 7639.7012 - mae: 7639.7012\n",
            "Epoch 60/100\n",
            "34/34 [==============================] - 0s 4ms/step - loss: 7495.3857 - mae: 7495.3857\n",
            "Epoch 61/100\n",
            "34/34 [==============================] - 0s 4ms/step - loss: 7496.1182 - mae: 7496.1182\n",
            "Epoch 62/100\n",
            "34/34 [==============================] - 0s 4ms/step - loss: 7304.3818 - mae: 7304.3818\n",
            "Epoch 63/100\n",
            "34/34 [==============================] - 0s 4ms/step - loss: 7318.9995 - mae: 7318.9995\n",
            "Epoch 64/100\n",
            "34/34 [==============================] - 0s 4ms/step - loss: 7277.9482 - mae: 7277.9482\n",
            "Epoch 65/100\n",
            "34/34 [==============================] - 0s 4ms/step - loss: 7335.0229 - mae: 7335.0229\n",
            "Epoch 66/100\n",
            "34/34 [==============================] - 0s 4ms/step - loss: 7327.1367 - mae: 7327.1367\n",
            "Epoch 67/100\n",
            "34/34 [==============================] - 0s 4ms/step - loss: 7275.2334 - mae: 7275.2334\n",
            "Epoch 68/100\n",
            "34/34 [==============================] - 0s 4ms/step - loss: 7604.1533 - mae: 7604.1533\n",
            "Epoch 69/100\n",
            "34/34 [==============================] - 0s 4ms/step - loss: 7550.7065 - mae: 7550.7065\n",
            "Epoch 70/100\n",
            "34/34 [==============================] - 0s 4ms/step - loss: 7623.8599 - mae: 7623.8599\n",
            "Epoch 71/100\n",
            "34/34 [==============================] - 0s 4ms/step - loss: 7273.8359 - mae: 7273.8359\n",
            "Epoch 72/100\n",
            "34/34 [==============================] - 0s 4ms/step - loss: 7445.3892 - mae: 7445.3892\n",
            "Epoch 73/100\n",
            "34/34 [==============================] - 0s 3ms/step - loss: 7501.5259 - mae: 7501.5259\n",
            "Epoch 74/100\n",
            "34/34 [==============================] - 0s 3ms/step - loss: 7397.3022 - mae: 7397.3022\n",
            "Epoch 75/100\n",
            "34/34 [==============================] - 0s 3ms/step - loss: 7306.3516 - mae: 7306.3516\n",
            "Epoch 76/100\n",
            "34/34 [==============================] - 0s 3ms/step - loss: 6905.1514 - mae: 6905.1514\n",
            "Epoch 77/100\n",
            "34/34 [==============================] - 0s 3ms/step - loss: 7432.5278 - mae: 7432.5278\n",
            "Epoch 78/100\n",
            "34/34 [==============================] - 0s 3ms/step - loss: 7356.2607 - mae: 7356.2607\n",
            "Epoch 79/100\n",
            "34/34 [==============================] - 0s 3ms/step - loss: 7414.2773 - mae: 7414.2773\n",
            "Epoch 80/100\n",
            "34/34 [==============================] - 0s 3ms/step - loss: 7184.0190 - mae: 7184.0190\n",
            "Epoch 81/100\n",
            "34/34 [==============================] - 0s 3ms/step - loss: 7230.7847 - mae: 7230.7847\n",
            "Epoch 82/100\n",
            "34/34 [==============================] - 0s 3ms/step - loss: 7186.0571 - mae: 7186.0571\n",
            "Epoch 83/100\n",
            "34/34 [==============================] - 0s 3ms/step - loss: 7541.1543 - mae: 7541.1543\n",
            "Epoch 84/100\n",
            "34/34 [==============================] - 0s 3ms/step - loss: 7240.6074 - mae: 7240.6074\n",
            "Epoch 85/100\n",
            "34/34 [==============================] - 0s 3ms/step - loss: 7307.7495 - mae: 7307.7495\n",
            "Epoch 86/100\n",
            "34/34 [==============================] - 0s 3ms/step - loss: 7530.5688 - mae: 7530.5688\n",
            "Epoch 87/100\n",
            "34/34 [==============================] - 0s 4ms/step - loss: 7075.8970 - mae: 7075.8970\n",
            "Epoch 88/100\n",
            "34/34 [==============================] - 0s 3ms/step - loss: 7355.5513 - mae: 7355.5513\n",
            "Epoch 89/100\n",
            "34/34 [==============================] - 0s 3ms/step - loss: 7348.9043 - mae: 7348.9043\n",
            "Epoch 90/100\n",
            "34/34 [==============================] - 0s 3ms/step - loss: 7281.4521 - mae: 7281.4521\n",
            "Epoch 91/100\n",
            "34/34 [==============================] - 0s 3ms/step - loss: 7261.0781 - mae: 7261.0781\n",
            "Epoch 92/100\n",
            "34/34 [==============================] - 0s 3ms/step - loss: 7256.2065 - mae: 7256.2065\n",
            "Epoch 93/100\n",
            "34/34 [==============================] - 0s 3ms/step - loss: 7574.0718 - mae: 7574.0718\n",
            "Epoch 94/100\n",
            "34/34 [==============================] - 0s 3ms/step - loss: 7166.5981 - mae: 7166.5981\n",
            "Epoch 95/100\n",
            "34/34 [==============================] - 0s 3ms/step - loss: 7231.5674 - mae: 7231.5674\n",
            "Epoch 96/100\n",
            "34/34 [==============================] - 0s 3ms/step - loss: 7377.4971 - mae: 7377.4971\n",
            "Epoch 97/100\n",
            "34/34 [==============================] - 0s 3ms/step - loss: 7231.9175 - mae: 7231.9175\n",
            "Epoch 98/100\n",
            "34/34 [==============================] - 0s 3ms/step - loss: 7306.3438 - mae: 7306.3438\n",
            "Epoch 99/100\n",
            "34/34 [==============================] - 0s 3ms/step - loss: 7478.1943 - mae: 7478.1943\n",
            "Epoch 100/100\n",
            "34/34 [==============================] - 0s 3ms/step - loss: 7070.6606 - mae: 7070.6606\n"
          ]
        },
        {
          "output_type": "execute_result",
          "data": {
            "text/plain": [
              "<keras.callbacks.History at 0x7fc190136d60>"
            ]
          },
          "metadata": {},
          "execution_count": 72
        }
      ]
    },
    {
      "cell_type": "code",
      "source": [
        "# Check the resuls of the insurance model on the test data\n",
        "insurance_model.evaluate(X_test, y_test)"
      ],
      "metadata": {
        "colab": {
          "base_uri": "https://localhost:8080/"
        },
        "id": "1b9XBc0bIUdo",
        "outputId": "1e5079b3-d5ae-4877-d095-df5a38dab040"
      },
      "execution_count": null,
      "outputs": [
        {
          "output_type": "stream",
          "name": "stdout",
          "text": [
            "9/9 [==============================] - 0s 3ms/step - loss: 7384.4209 - mae: 7384.4209\n"
          ]
        },
        {
          "output_type": "execute_result",
          "data": {
            "text/plain": [
              "[7384.4208984375, 7384.4208984375]"
            ]
          },
          "metadata": {},
          "execution_count": 73
        }
      ]
    },
    {
      "cell_type": "code",
      "source": [
        "y_train.median(), y_train.mean()"
      ],
      "metadata": {
        "colab": {
          "base_uri": "https://localhost:8080/"
        },
        "id": "sUqEfchvLpoq",
        "outputId": "eae5e832-4bcc-4884-9254-3e10d42139af"
      },
      "execution_count": null,
      "outputs": [
        {
          "output_type": "execute_result",
          "data": {
            "text/plain": [
              "(9575.4421, 13346.089736364485)"
            ]
          },
          "metadata": {},
          "execution_count": 74
        }
      ]
    },
    {
      "cell_type": "markdown",
      "source": [
        "Right now, it looks like our model isn't performing to well... Let's try and improve it!\n",
        "\n",
        "To (try) improve our model , we'll run 2 experiments:\n",
        "1. Add an extra layer with more hidden units and use the Adam optimizer\n",
        "2. Train for longer (200 epochs)\n",
        "3. (insert your own experiment here)"
      ],
      "metadata": {
        "id": "mZugPWznLwU0"
      }
    },
    {
      "cell_type": "code",
      "source": [
        "# Set random seed\n",
        "tf.random.set_seed(42)\n",
        "# 1. Create model\n",
        "insurance_model_2=tf.keras.Sequential([\n",
        "    tf.keras.layers.Dense(100),\n",
        "    tf.keras.layers.Dense(10),\n",
        "    tf.keras.layers.Dense(1)\n",
        "])\n",
        "#2. Compile the model\n",
        "insurance_model_2.compile(loss=tf.keras.losses.mae,\n",
        "                        optimizer=tf.keras.optimizers.Adam(),\n",
        "                        metrics=[\"mae\"])\n",
        "# 3. Fit the model\n",
        "insurance_model_2.fit(X_train, y_train, epochs=100, verbose=1)"
      ],
      "metadata": {
        "colab": {
          "base_uri": "https://localhost:8080/"
        },
        "id": "71lBhm_SMSIB",
        "outputId": "404e8bbc-53bf-4607-ab5e-0cb04d926649"
      },
      "execution_count": null,
      "outputs": [
        {
          "output_type": "stream",
          "name": "stdout",
          "text": [
            "Epoch 1/100\n",
            "34/34 [==============================] - 1s 3ms/step - loss: 13289.6133 - mae: 13289.6133\n",
            "Epoch 2/100\n",
            "34/34 [==============================] - 0s 3ms/step - loss: 13138.9443 - mae: 13138.9443\n",
            "Epoch 3/100\n",
            "34/34 [==============================] - 0s 3ms/step - loss: 12817.9736 - mae: 12817.9736\n",
            "Epoch 4/100\n",
            "34/34 [==============================] - 0s 3ms/step - loss: 12179.0889 - mae: 12179.0889\n",
            "Epoch 5/100\n",
            "34/34 [==============================] - 0s 3ms/step - loss: 11088.9678 - mae: 11088.9678\n",
            "Epoch 6/100\n",
            "34/34 [==============================] - 0s 3ms/step - loss: 9651.4121 - mae: 9651.4121\n",
            "Epoch 7/100\n",
            "34/34 [==============================] - 0s 3ms/step - loss: 8282.9551 - mae: 8282.9551\n",
            "Epoch 8/100\n",
            "34/34 [==============================] - 0s 3ms/step - loss: 7562.5674 - mae: 7562.5674\n",
            "Epoch 9/100\n",
            "34/34 [==============================] - 0s 3ms/step - loss: 7426.2466 - mae: 7426.2466\n",
            "Epoch 10/100\n",
            "34/34 [==============================] - 0s 3ms/step - loss: 7405.3301 - mae: 7405.3301\n",
            "Epoch 11/100\n",
            "34/34 [==============================] - 0s 3ms/step - loss: 7386.9463 - mae: 7386.9463\n",
            "Epoch 12/100\n",
            "34/34 [==============================] - 0s 3ms/step - loss: 7365.8657 - mae: 7365.8657\n",
            "Epoch 13/100\n",
            "34/34 [==============================] - 0s 3ms/step - loss: 7346.2764 - mae: 7346.2764\n",
            "Epoch 14/100\n",
            "34/34 [==============================] - 0s 3ms/step - loss: 7324.6782 - mae: 7324.6782\n",
            "Epoch 15/100\n",
            "34/34 [==============================] - 0s 3ms/step - loss: 7306.5850 - mae: 7306.5850\n",
            "Epoch 16/100\n",
            "34/34 [==============================] - 0s 3ms/step - loss: 7285.0938 - mae: 7285.0938\n",
            "Epoch 17/100\n",
            "34/34 [==============================] - 0s 3ms/step - loss: 7265.7915 - mae: 7265.7915\n",
            "Epoch 18/100\n",
            "34/34 [==============================] - 0s 3ms/step - loss: 7243.2573 - mae: 7243.2573\n",
            "Epoch 19/100\n",
            "34/34 [==============================] - 0s 3ms/step - loss: 7221.5811 - mae: 7221.5811\n",
            "Epoch 20/100\n",
            "34/34 [==============================] - 0s 3ms/step - loss: 7198.9966 - mae: 7198.9966\n",
            "Epoch 21/100\n",
            "34/34 [==============================] - 0s 3ms/step - loss: 7181.0200 - mae: 7181.0200\n",
            "Epoch 22/100\n",
            "34/34 [==============================] - 0s 3ms/step - loss: 7154.3853 - mae: 7154.3853\n",
            "Epoch 23/100\n",
            "34/34 [==============================] - 0s 3ms/step - loss: 7130.1187 - mae: 7130.1187\n",
            "Epoch 24/100\n",
            "34/34 [==============================] - 0s 3ms/step - loss: 7106.2114 - mae: 7106.2114\n",
            "Epoch 25/100\n",
            "34/34 [==============================] - 0s 3ms/step - loss: 7089.1265 - mae: 7089.1265\n",
            "Epoch 26/100\n",
            "34/34 [==============================] - 0s 3ms/step - loss: 7057.7412 - mae: 7057.7412\n",
            "Epoch 27/100\n",
            "34/34 [==============================] - 0s 3ms/step - loss: 7030.4580 - mae: 7030.4580\n",
            "Epoch 28/100\n",
            "34/34 [==============================] - 0s 3ms/step - loss: 7003.2554 - mae: 7003.2554\n",
            "Epoch 29/100\n",
            "34/34 [==============================] - 0s 3ms/step - loss: 6975.8438 - mae: 6975.8438\n",
            "Epoch 30/100\n",
            "34/34 [==============================] - 0s 3ms/step - loss: 6949.9658 - mae: 6949.9658\n",
            "Epoch 31/100\n",
            "34/34 [==============================] - 0s 3ms/step - loss: 6919.4868 - mae: 6919.4868\n",
            "Epoch 32/100\n",
            "34/34 [==============================] - 0s 3ms/step - loss: 6892.7471 - mae: 6892.7471\n",
            "Epoch 33/100\n",
            "34/34 [==============================] - 0s 3ms/step - loss: 6861.9038 - mae: 6861.9038\n",
            "Epoch 34/100\n",
            "34/34 [==============================] - 0s 3ms/step - loss: 6831.5786 - mae: 6831.5786\n",
            "Epoch 35/100\n",
            "34/34 [==============================] - 0s 3ms/step - loss: 6799.3530 - mae: 6799.3530\n",
            "Epoch 36/100\n",
            "34/34 [==============================] - 0s 3ms/step - loss: 6765.9702 - mae: 6765.9702\n",
            "Epoch 37/100\n",
            "34/34 [==============================] - 0s 3ms/step - loss: 6730.7495 - mae: 6730.7495\n",
            "Epoch 38/100\n",
            "34/34 [==============================] - 0s 3ms/step - loss: 6699.9761 - mae: 6699.9761\n",
            "Epoch 39/100\n",
            "34/34 [==============================] - 0s 3ms/step - loss: 6662.5654 - mae: 6662.5654\n",
            "Epoch 40/100\n",
            "34/34 [==============================] - 0s 3ms/step - loss: 6628.0312 - mae: 6628.0312\n",
            "Epoch 41/100\n",
            "34/34 [==============================] - 0s 3ms/step - loss: 6595.0811 - mae: 6595.0811\n",
            "Epoch 42/100\n",
            "34/34 [==============================] - 0s 3ms/step - loss: 6566.6177 - mae: 6566.6177\n",
            "Epoch 43/100\n",
            "34/34 [==============================] - 0s 3ms/step - loss: 6537.6797 - mae: 6537.6797\n",
            "Epoch 44/100\n",
            "34/34 [==============================] - 0s 3ms/step - loss: 6513.5361 - mae: 6513.5361\n",
            "Epoch 45/100\n",
            "34/34 [==============================] - 0s 3ms/step - loss: 6496.7822 - mae: 6496.7822\n",
            "Epoch 46/100\n",
            "34/34 [==============================] - 0s 4ms/step - loss: 6479.5293 - mae: 6479.5293\n",
            "Epoch 47/100\n",
            "34/34 [==============================] - 0s 3ms/step - loss: 6463.2788 - mae: 6463.2788\n",
            "Epoch 48/100\n",
            "34/34 [==============================] - 0s 3ms/step - loss: 6448.9067 - mae: 6448.9067\n",
            "Epoch 49/100\n",
            "34/34 [==============================] - 0s 4ms/step - loss: 6435.9600 - mae: 6435.9600\n",
            "Epoch 50/100\n",
            "34/34 [==============================] - 0s 3ms/step - loss: 6422.2598 - mae: 6422.2598\n",
            "Epoch 51/100\n",
            "34/34 [==============================] - 0s 3ms/step - loss: 6408.7339 - mae: 6408.7339\n",
            "Epoch 52/100\n",
            "34/34 [==============================] - 0s 3ms/step - loss: 6397.5381 - mae: 6397.5381\n",
            "Epoch 53/100\n",
            "34/34 [==============================] - 0s 3ms/step - loss: 6383.6128 - mae: 6383.6128\n",
            "Epoch 54/100\n",
            "34/34 [==============================] - 0s 3ms/step - loss: 6370.3965 - mae: 6370.3965\n",
            "Epoch 55/100\n",
            "34/34 [==============================] - 0s 3ms/step - loss: 6357.4390 - mae: 6357.4390\n",
            "Epoch 56/100\n",
            "34/34 [==============================] - 0s 3ms/step - loss: 6343.4707 - mae: 6343.4707\n",
            "Epoch 57/100\n",
            "34/34 [==============================] - 0s 3ms/step - loss: 6331.3887 - mae: 6331.3887\n",
            "Epoch 58/100\n",
            "34/34 [==============================] - 0s 3ms/step - loss: 6317.4077 - mae: 6317.4077\n",
            "Epoch 59/100\n",
            "34/34 [==============================] - 0s 3ms/step - loss: 6302.7456 - mae: 6302.7456\n",
            "Epoch 60/100\n",
            "34/34 [==============================] - 0s 3ms/step - loss: 6292.8647 - mae: 6292.8647\n",
            "Epoch 61/100\n",
            "34/34 [==============================] - 0s 4ms/step - loss: 6273.2988 - mae: 6273.2988\n",
            "Epoch 62/100\n",
            "34/34 [==============================] - 0s 5ms/step - loss: 6262.3750 - mae: 6262.3750\n",
            "Epoch 63/100\n",
            "34/34 [==============================] - 0s 5ms/step - loss: 6244.0220 - mae: 6244.0220\n",
            "Epoch 64/100\n",
            "34/34 [==============================] - 0s 4ms/step - loss: 6228.2832 - mae: 6228.2832\n",
            "Epoch 65/100\n",
            "34/34 [==============================] - 0s 4ms/step - loss: 6211.8613 - mae: 6211.8613\n",
            "Epoch 66/100\n",
            "34/34 [==============================] - 0s 4ms/step - loss: 6195.1826 - mae: 6195.1826\n",
            "Epoch 67/100\n",
            "34/34 [==============================] - 0s 5ms/step - loss: 6183.2227 - mae: 6183.2227\n",
            "Epoch 68/100\n",
            "34/34 [==============================] - 0s 5ms/step - loss: 6161.3228 - mae: 6161.3228\n",
            "Epoch 69/100\n",
            "34/34 [==============================] - 0s 5ms/step - loss: 6145.8633 - mae: 6145.8633\n",
            "Epoch 70/100\n",
            "34/34 [==============================] - 0s 4ms/step - loss: 6126.4102 - mae: 6126.4102\n",
            "Epoch 71/100\n",
            "34/34 [==============================] - 0s 5ms/step - loss: 6107.6191 - mae: 6107.6191\n",
            "Epoch 72/100\n",
            "34/34 [==============================] - 0s 5ms/step - loss: 6090.1108 - mae: 6090.1108\n",
            "Epoch 73/100\n",
            "34/34 [==============================] - 0s 4ms/step - loss: 6074.5688 - mae: 6074.5688\n",
            "Epoch 74/100\n",
            "34/34 [==============================] - 0s 4ms/step - loss: 6049.3662 - mae: 6049.3662\n",
            "Epoch 75/100\n",
            "34/34 [==============================] - 0s 4ms/step - loss: 6028.8496 - mae: 6028.8496\n",
            "Epoch 76/100\n",
            "34/34 [==============================] - 0s 4ms/step - loss: 6016.1460 - mae: 6016.1460\n",
            "Epoch 77/100\n",
            "34/34 [==============================] - 0s 4ms/step - loss: 5983.7744 - mae: 5983.7744\n",
            "Epoch 78/100\n",
            "34/34 [==============================] - 0s 4ms/step - loss: 5962.7520 - mae: 5962.7520\n",
            "Epoch 79/100\n",
            "34/34 [==============================] - 0s 4ms/step - loss: 5939.5181 - mae: 5939.5181\n",
            "Epoch 80/100\n",
            "34/34 [==============================] - 0s 4ms/step - loss: 5913.7642 - mae: 5913.7642\n",
            "Epoch 81/100\n",
            "34/34 [==============================] - 0s 4ms/step - loss: 5889.2480 - mae: 5889.2480\n",
            "Epoch 82/100\n",
            "34/34 [==============================] - 0s 4ms/step - loss: 5863.3306 - mae: 5863.3306\n",
            "Epoch 83/100\n",
            "34/34 [==============================] - 0s 4ms/step - loss: 5836.5186 - mae: 5836.5186\n",
            "Epoch 84/100\n",
            "34/34 [==============================] - 0s 5ms/step - loss: 5804.1914 - mae: 5804.1914\n",
            "Epoch 85/100\n",
            "34/34 [==============================] - 0s 5ms/step - loss: 5781.3789 - mae: 5781.3789\n",
            "Epoch 86/100\n",
            "34/34 [==============================] - 0s 4ms/step - loss: 5747.0054 - mae: 5747.0054\n",
            "Epoch 87/100\n",
            "34/34 [==============================] - 0s 3ms/step - loss: 5712.7827 - mae: 5712.7827\n",
            "Epoch 88/100\n",
            "34/34 [==============================] - 0s 3ms/step - loss: 5681.9253 - mae: 5681.9253\n",
            "Epoch 89/100\n",
            "34/34 [==============================] - 0s 3ms/step - loss: 5644.2227 - mae: 5644.2227\n",
            "Epoch 90/100\n",
            "34/34 [==============================] - 0s 3ms/step - loss: 5606.1060 - mae: 5606.1060\n",
            "Epoch 91/100\n",
            "34/34 [==============================] - 0s 3ms/step - loss: 5573.6660 - mae: 5573.6660\n",
            "Epoch 92/100\n",
            "34/34 [==============================] - 0s 3ms/step - loss: 5526.8936 - mae: 5526.8936\n",
            "Epoch 93/100\n",
            "34/34 [==============================] - 0s 3ms/step - loss: 5488.9814 - mae: 5488.9814\n",
            "Epoch 94/100\n",
            "34/34 [==============================] - 0s 3ms/step - loss: 5448.7852 - mae: 5448.7852\n",
            "Epoch 95/100\n",
            "34/34 [==============================] - 0s 4ms/step - loss: 5398.1313 - mae: 5398.1313\n",
            "Epoch 96/100\n",
            "34/34 [==============================] - 0s 3ms/step - loss: 5356.8989 - mae: 5356.8989\n",
            "Epoch 97/100\n",
            "34/34 [==============================] - 0s 3ms/step - loss: 5305.5571 - mae: 5305.5571\n",
            "Epoch 98/100\n",
            "34/34 [==============================] - 0s 3ms/step - loss: 5250.1904 - mae: 5250.1904\n",
            "Epoch 99/100\n",
            "34/34 [==============================] - 0s 3ms/step - loss: 5194.9897 - mae: 5194.9897\n",
            "Epoch 100/100\n",
            "34/34 [==============================] - 0s 3ms/step - loss: 5140.1406 - mae: 5140.1406\n"
          ]
        },
        {
          "output_type": "execute_result",
          "data": {
            "text/plain": [
              "<keras.callbacks.History at 0x7fc2c573d520>"
            ]
          },
          "metadata": {},
          "execution_count": 75
        }
      ]
    },
    {
      "cell_type": "code",
      "source": [
        "# Evaluate the larger model\n",
        "insurance_model_2.evaluate(X_test,y_test)"
      ],
      "metadata": {
        "colab": {
          "base_uri": "https://localhost:8080/"
        },
        "id": "ttcN6dtTNoNK",
        "outputId": "69d7bbc3-6baf-49dd-ba46-59678feaa4bb"
      },
      "execution_count": null,
      "outputs": [
        {
          "output_type": "stream",
          "name": "stdout",
          "text": [
            "9/9 [==============================] - 0s 3ms/step - loss: 5009.2417 - mae: 5009.2417\n"
          ]
        },
        {
          "output_type": "execute_result",
          "data": {
            "text/plain": [
              "[5009.24169921875, 5009.24169921875]"
            ]
          },
          "metadata": {},
          "execution_count": 76
        }
      ]
    },
    {
      "cell_type": "code",
      "source": [
        "# Set random seed\n",
        "tf.random.set_seed(42)\n",
        "# Create model\n",
        "insurance_model_3 = tf.keras.Sequential([\n",
        "    tf.keras.layers.Dense(100),\n",
        "    tf.keras.layers.Dense(10),\n",
        "    tf.keras.layers.Dense(1)\n",
        "])\n",
        "\n",
        "# 2. Compile the model\n",
        "insurance_model_3.compile(loss=tf.keras.losses.mae,\n",
        "                          optimizer=tf.keras.optimizers.Adam(),\n",
        "                          metrics=[\"mae\"]\n",
        "                          )\n",
        "# Fit the model\n",
        "history = insurance_model_3.fit(X_train, y_train, epochs=200, verbose= 1)"
      ],
      "metadata": {
        "colab": {
          "base_uri": "https://localhost:8080/"
        },
        "id": "aFJIhsfnN1xn",
        "outputId": "d299684a-9385-4e5a-bea6-767bf05969e1"
      },
      "execution_count": null,
      "outputs": [
        {
          "output_type": "stream",
          "name": "stdout",
          "text": [
            "Epoch 1/200\n",
            "34/34 [==============================] - 1s 3ms/step - loss: 13283.7744 - mae: 13283.7744\n",
            "Epoch 2/200\n",
            "34/34 [==============================] - 0s 3ms/step - loss: 13108.5908 - mae: 13108.5908\n",
            "Epoch 3/200\n",
            "34/34 [==============================] - 0s 3ms/step - loss: 12754.0039 - mae: 12754.0039\n",
            "Epoch 4/200\n",
            "34/34 [==============================] - 0s 4ms/step - loss: 12065.6641 - mae: 12065.6641\n",
            "Epoch 5/200\n",
            "34/34 [==============================] - 0s 3ms/step - loss: 10925.4980 - mae: 10925.4980\n",
            "Epoch 6/200\n",
            "34/34 [==============================] - 0s 3ms/step - loss: 9487.1934 - mae: 9487.1934\n",
            "Epoch 7/200\n",
            "34/34 [==============================] - 0s 3ms/step - loss: 8178.0806 - mae: 8178.0806\n",
            "Epoch 8/200\n",
            "34/34 [==============================] - 0s 3ms/step - loss: 7546.5142 - mae: 7546.5142\n",
            "Epoch 9/200\n",
            "34/34 [==============================] - 0s 3ms/step - loss: 7438.7476 - mae: 7438.7476\n",
            "Epoch 10/200\n",
            "34/34 [==============================] - 0s 3ms/step - loss: 7417.4971 - mae: 7417.4971\n",
            "Epoch 11/200\n",
            "34/34 [==============================] - 0s 3ms/step - loss: 7398.8721 - mae: 7398.8721\n",
            "Epoch 12/200\n",
            "34/34 [==============================] - 0s 3ms/step - loss: 7376.7188 - mae: 7376.7188\n",
            "Epoch 13/200\n",
            "34/34 [==============================] - 0s 3ms/step - loss: 7356.4995 - mae: 7356.4995\n",
            "Epoch 14/200\n",
            "34/34 [==============================] - 0s 3ms/step - loss: 7334.2549 - mae: 7334.2549\n",
            "Epoch 15/200\n",
            "34/34 [==============================] - 0s 3ms/step - loss: 7315.1709 - mae: 7315.1709\n",
            "Epoch 16/200\n",
            "34/34 [==============================] - 0s 4ms/step - loss: 7292.8311 - mae: 7292.8311\n",
            "Epoch 17/200\n",
            "34/34 [==============================] - 0s 3ms/step - loss: 7272.9395 - mae: 7272.9395\n",
            "Epoch 18/200\n",
            "34/34 [==============================] - 0s 3ms/step - loss: 7249.2559 - mae: 7249.2559\n",
            "Epoch 19/200\n",
            "34/34 [==============================] - 0s 3ms/step - loss: 7226.7808 - mae: 7226.7808\n",
            "Epoch 20/200\n",
            "34/34 [==============================] - 0s 3ms/step - loss: 7203.4116 - mae: 7203.4116\n",
            "Epoch 21/200\n",
            "34/34 [==============================] - 0s 3ms/step - loss: 7183.4795 - mae: 7183.4795\n",
            "Epoch 22/200\n",
            "34/34 [==============================] - 0s 3ms/step - loss: 7156.5513 - mae: 7156.5513\n",
            "Epoch 23/200\n",
            "34/34 [==============================] - 0s 3ms/step - loss: 7131.2012 - mae: 7131.2012\n",
            "Epoch 24/200\n",
            "34/34 [==============================] - 0s 3ms/step - loss: 7105.9478 - mae: 7105.9478\n",
            "Epoch 25/200\n",
            "34/34 [==============================] - 0s 3ms/step - loss: 7087.3564 - mae: 7087.3564\n",
            "Epoch 26/200\n",
            "34/34 [==============================] - 0s 3ms/step - loss: 7054.8677 - mae: 7054.8677\n",
            "Epoch 27/200\n",
            "34/34 [==============================] - 0s 3ms/step - loss: 7025.4980 - mae: 7025.4980\n",
            "Epoch 28/200\n",
            "34/34 [==============================] - 0s 3ms/step - loss: 6996.4214 - mae: 6996.4214\n",
            "Epoch 29/200\n",
            "34/34 [==============================] - 0s 3ms/step - loss: 6967.1519 - mae: 6967.1519\n",
            "Epoch 30/200\n",
            "34/34 [==============================] - 0s 3ms/step - loss: 6938.4707 - mae: 6938.4707\n",
            "Epoch 31/200\n",
            "34/34 [==============================] - 0s 3ms/step - loss: 6905.9097 - mae: 6905.9097\n",
            "Epoch 32/200\n",
            "34/34 [==============================] - 0s 4ms/step - loss: 6876.4507 - mae: 6876.4507\n",
            "Epoch 33/200\n",
            "34/34 [==============================] - 0s 3ms/step - loss: 6843.6587 - mae: 6843.6587\n",
            "Epoch 34/200\n",
            "34/34 [==============================] - 0s 3ms/step - loss: 6810.5513 - mae: 6810.5513\n",
            "Epoch 35/200\n",
            "34/34 [==============================] - 0s 3ms/step - loss: 6774.1211 - mae: 6774.1211\n",
            "Epoch 36/200\n",
            "34/34 [==============================] - 0s 3ms/step - loss: 6738.0688 - mae: 6738.0688\n",
            "Epoch 37/200\n",
            "34/34 [==============================] - 0s 3ms/step - loss: 6699.5977 - mae: 6699.5972\n",
            "Epoch 38/200\n",
            "34/34 [==============================] - 0s 3ms/step - loss: 6666.4946 - mae: 6666.4946\n",
            "Epoch 39/200\n",
            "34/34 [==============================] - 0s 3ms/step - loss: 6627.4619 - mae: 6627.4619\n",
            "Epoch 40/200\n",
            "34/34 [==============================] - 0s 3ms/step - loss: 6590.7515 - mae: 6590.7515\n",
            "Epoch 41/200\n",
            "34/34 [==============================] - 0s 3ms/step - loss: 6558.7290 - mae: 6558.7290\n",
            "Epoch 42/200\n",
            "34/34 [==============================] - 0s 3ms/step - loss: 6534.0771 - mae: 6534.0771\n",
            "Epoch 43/200\n",
            "34/34 [==============================] - 0s 3ms/step - loss: 6504.8950 - mae: 6504.8950\n",
            "Epoch 44/200\n",
            "34/34 [==============================] - 0s 3ms/step - loss: 6482.8286 - mae: 6482.8286\n",
            "Epoch 45/200\n",
            "34/34 [==============================] - 0s 3ms/step - loss: 6472.2314 - mae: 6472.2314\n",
            "Epoch 46/200\n",
            "34/34 [==============================] - 0s 3ms/step - loss: 6453.9004 - mae: 6453.9004\n",
            "Epoch 47/200\n",
            "34/34 [==============================] - 0s 3ms/step - loss: 6437.0342 - mae: 6437.0342\n",
            "Epoch 48/200\n",
            "34/34 [==============================] - 0s 3ms/step - loss: 6422.0947 - mae: 6422.0947\n",
            "Epoch 49/200\n",
            "34/34 [==============================] - 0s 3ms/step - loss: 6409.8604 - mae: 6409.8604\n",
            "Epoch 50/200\n",
            "34/34 [==============================] - 0s 4ms/step - loss: 6395.4580 - mae: 6395.4580\n",
            "Epoch 51/200\n",
            "34/34 [==============================] - 0s 3ms/step - loss: 6382.5562 - mae: 6382.5562\n",
            "Epoch 52/200\n",
            "34/34 [==============================] - 0s 3ms/step - loss: 6369.0371 - mae: 6369.0371\n",
            "Epoch 53/200\n",
            "34/34 [==============================] - 0s 3ms/step - loss: 6354.6470 - mae: 6354.6470\n",
            "Epoch 54/200\n",
            "34/34 [==============================] - 0s 3ms/step - loss: 6340.4531 - mae: 6340.4531\n",
            "Epoch 55/200\n",
            "34/34 [==============================] - 0s 3ms/step - loss: 6326.2896 - mae: 6326.2896\n",
            "Epoch 56/200\n",
            "34/34 [==============================] - 0s 3ms/step - loss: 6311.4614 - mae: 6311.4614\n",
            "Epoch 57/200\n",
            "34/34 [==============================] - 0s 3ms/step - loss: 6298.0718 - mae: 6298.0718\n",
            "Epoch 58/200\n",
            "34/34 [==============================] - 0s 3ms/step - loss: 6284.6162 - mae: 6284.6162\n",
            "Epoch 59/200\n",
            "34/34 [==============================] - 0s 3ms/step - loss: 6267.2256 - mae: 6267.2256\n",
            "Epoch 60/200\n",
            "34/34 [==============================] - 0s 3ms/step - loss: 6256.2026 - mae: 6256.2026\n",
            "Epoch 61/200\n",
            "34/34 [==============================] - 0s 3ms/step - loss: 6235.6250 - mae: 6235.6250\n",
            "Epoch 62/200\n",
            "34/34 [==============================] - 0s 3ms/step - loss: 6223.1724 - mae: 6223.1724\n",
            "Epoch 63/200\n",
            "34/34 [==============================] - 0s 3ms/step - loss: 6204.3999 - mae: 6204.3999\n",
            "Epoch 64/200\n",
            "34/34 [==============================] - 0s 3ms/step - loss: 6186.4448 - mae: 6186.4448\n",
            "Epoch 65/200\n",
            "34/34 [==============================] - 0s 3ms/step - loss: 6168.5005 - mae: 6168.5005\n",
            "Epoch 66/200\n",
            "34/34 [==============================] - 0s 3ms/step - loss: 6150.2515 - mae: 6150.2515\n",
            "Epoch 67/200\n",
            "34/34 [==============================] - 0s 3ms/step - loss: 6137.4775 - mae: 6137.4775\n",
            "Epoch 68/200\n",
            "34/34 [==============================] - 0s 3ms/step - loss: 6113.7842 - mae: 6113.7842\n",
            "Epoch 69/200\n",
            "34/34 [==============================] - 0s 3ms/step - loss: 6096.3291 - mae: 6096.3291\n",
            "Epoch 70/200\n",
            "34/34 [==============================] - 0s 3ms/step - loss: 6075.2427 - mae: 6075.2427\n",
            "Epoch 71/200\n",
            "34/34 [==============================] - 0s 3ms/step - loss: 6054.9648 - mae: 6054.9648\n",
            "Epoch 72/200\n",
            "34/34 [==============================] - 0s 3ms/step - loss: 6033.3442 - mae: 6033.3442\n",
            "Epoch 73/200\n",
            "34/34 [==============================] - 0s 3ms/step - loss: 6019.8867 - mae: 6019.8867\n",
            "Epoch 74/200\n",
            "34/34 [==============================] - 0s 3ms/step - loss: 5989.1035 - mae: 5989.1035\n",
            "Epoch 75/200\n",
            "34/34 [==============================] - 0s 3ms/step - loss: 5967.0024 - mae: 5967.0024\n",
            "Epoch 76/200\n",
            "34/34 [==============================] - 0s 3ms/step - loss: 5951.0073 - mae: 5951.0073\n",
            "Epoch 77/200\n",
            "34/34 [==============================] - 0s 6ms/step - loss: 5918.3452 - mae: 5918.3452\n",
            "Epoch 78/200\n",
            "34/34 [==============================] - 0s 4ms/step - loss: 5893.1655 - mae: 5893.1655\n",
            "Epoch 79/200\n",
            "34/34 [==============================] - 0s 4ms/step - loss: 5867.2603 - mae: 5867.2603\n",
            "Epoch 80/200\n",
            "34/34 [==============================] - 0s 4ms/step - loss: 5837.9932 - mae: 5837.9932\n",
            "Epoch 81/200\n",
            "34/34 [==============================] - 0s 4ms/step - loss: 5811.7559 - mae: 5811.7559\n",
            "Epoch 82/200\n",
            "34/34 [==============================] - 0s 4ms/step - loss: 5780.8350 - mae: 5780.8350\n",
            "Epoch 83/200\n",
            "34/34 [==============================] - 0s 5ms/step - loss: 5751.3540 - mae: 5751.3540\n",
            "Epoch 84/200\n",
            "34/34 [==============================] - 0s 4ms/step - loss: 5716.2808 - mae: 5716.2808\n",
            "Epoch 85/200\n",
            "34/34 [==============================] - 0s 4ms/step - loss: 5689.1616 - mae: 5689.1616\n",
            "Epoch 86/200\n",
            "34/34 [==============================] - 0s 4ms/step - loss: 5652.8379 - mae: 5652.8379\n",
            "Epoch 87/200\n",
            "34/34 [==============================] - 0s 4ms/step - loss: 5614.6855 - mae: 5614.6855\n",
            "Epoch 88/200\n",
            "34/34 [==============================] - 0s 5ms/step - loss: 5577.4512 - mae: 5577.4512\n",
            "Epoch 89/200\n",
            "34/34 [==============================] - 0s 4ms/step - loss: 5536.0273 - mae: 5536.0273\n",
            "Epoch 90/200\n",
            "34/34 [==============================] - 0s 5ms/step - loss: 5492.6250 - mae: 5492.6250\n",
            "Epoch 91/200\n",
            "34/34 [==============================] - 0s 5ms/step - loss: 5454.1836 - mae: 5454.1836\n",
            "Epoch 92/200\n",
            "34/34 [==============================] - 0s 4ms/step - loss: 5403.1377 - mae: 5403.1377\n",
            "Epoch 93/200\n",
            "34/34 [==============================] - 0s 4ms/step - loss: 5358.5317 - mae: 5358.5317\n",
            "Epoch 94/200\n",
            "34/34 [==============================] - 0s 4ms/step - loss: 5309.7817 - mae: 5309.7817\n",
            "Epoch 95/200\n",
            "34/34 [==============================] - 0s 4ms/step - loss: 5255.6904 - mae: 5255.6904\n",
            "Epoch 96/200\n",
            "34/34 [==============================] - 0s 4ms/step - loss: 5209.1650 - mae: 5209.1650\n",
            "Epoch 97/200\n",
            "34/34 [==============================] - 0s 4ms/step - loss: 5152.2065 - mae: 5152.2065\n",
            "Epoch 98/200\n",
            "34/34 [==============================] - 0s 4ms/step - loss: 5087.3281 - mae: 5087.3281\n",
            "Epoch 99/200\n",
            "34/34 [==============================] - 0s 4ms/step - loss: 5026.7881 - mae: 5026.7881\n",
            "Epoch 100/200\n",
            "34/34 [==============================] - 0s 5ms/step - loss: 4969.1675 - mae: 4969.1675\n",
            "Epoch 101/200\n",
            "34/34 [==============================] - 0s 4ms/step - loss: 4895.4287 - mae: 4895.4287\n",
            "Epoch 102/200\n",
            "34/34 [==============================] - 0s 3ms/step - loss: 4819.1040 - mae: 4819.1040\n",
            "Epoch 103/200\n",
            "34/34 [==============================] - 0s 3ms/step - loss: 4751.1094 - mae: 4751.1094\n",
            "Epoch 104/200\n",
            "34/34 [==============================] - 0s 3ms/step - loss: 4668.4204 - mae: 4668.4204\n",
            "Epoch 105/200\n",
            "34/34 [==============================] - 0s 3ms/step - loss: 4579.6782 - mae: 4579.6782\n",
            "Epoch 106/200\n",
            "34/34 [==============================] - 0s 3ms/step - loss: 4496.7007 - mae: 4496.7007\n",
            "Epoch 107/200\n",
            "34/34 [==============================] - 0s 3ms/step - loss: 4412.1309 - mae: 4412.1309\n",
            "Epoch 108/200\n",
            "34/34 [==============================] - 0s 3ms/step - loss: 4329.3818 - mae: 4329.3818\n",
            "Epoch 109/200\n",
            "34/34 [==============================] - 0s 3ms/step - loss: 4247.1055 - mae: 4247.1055\n",
            "Epoch 110/200\n",
            "34/34 [==============================] - 0s 3ms/step - loss: 4168.4150 - mae: 4168.4150\n",
            "Epoch 111/200\n",
            "34/34 [==============================] - 0s 3ms/step - loss: 4098.0483 - mae: 4098.0483\n",
            "Epoch 112/200\n",
            "34/34 [==============================] - 0s 3ms/step - loss: 4035.2771 - mae: 4035.2771\n",
            "Epoch 113/200\n",
            "34/34 [==============================] - 0s 3ms/step - loss: 3981.1494 - mae: 3981.1494\n",
            "Epoch 114/200\n",
            "34/34 [==============================] - 0s 3ms/step - loss: 3953.5566 - mae: 3953.5566\n",
            "Epoch 115/200\n",
            "34/34 [==============================] - 0s 3ms/step - loss: 3910.5874 - mae: 3910.5874\n",
            "Epoch 116/200\n",
            "34/34 [==============================] - 0s 3ms/step - loss: 3899.1641 - mae: 3899.1641\n",
            "Epoch 117/200\n",
            "34/34 [==============================] - 0s 3ms/step - loss: 3876.1470 - mae: 3876.1470\n",
            "Epoch 118/200\n",
            "34/34 [==============================] - 0s 3ms/step - loss: 3854.8110 - mae: 3854.8110\n",
            "Epoch 119/200\n",
            "34/34 [==============================] - 0s 3ms/step - loss: 3840.3401 - mae: 3840.3401\n",
            "Epoch 120/200\n",
            "34/34 [==============================] - 0s 3ms/step - loss: 3826.3408 - mae: 3826.3408\n",
            "Epoch 121/200\n",
            "34/34 [==============================] - 0s 3ms/step - loss: 3817.9512 - mae: 3817.9512\n",
            "Epoch 122/200\n",
            "34/34 [==============================] - 0s 3ms/step - loss: 3815.9224 - mae: 3815.9224\n",
            "Epoch 123/200\n",
            "34/34 [==============================] - 0s 3ms/step - loss: 3806.4514 - mae: 3806.4514\n",
            "Epoch 124/200\n",
            "34/34 [==============================] - 0s 3ms/step - loss: 3800.4207 - mae: 3800.4207\n",
            "Epoch 125/200\n",
            "34/34 [==============================] - 0s 3ms/step - loss: 3790.9543 - mae: 3790.9543\n",
            "Epoch 126/200\n",
            "34/34 [==============================] - 0s 3ms/step - loss: 3799.1709 - mae: 3799.1709\n",
            "Epoch 127/200\n",
            "34/34 [==============================] - 0s 3ms/step - loss: 3795.0942 - mae: 3795.0942\n",
            "Epoch 128/200\n",
            "34/34 [==============================] - 0s 3ms/step - loss: 3788.0442 - mae: 3788.0442\n",
            "Epoch 129/200\n",
            "34/34 [==============================] - 0s 3ms/step - loss: 3798.1401 - mae: 3798.1401\n",
            "Epoch 130/200\n",
            "34/34 [==============================] - 0s 3ms/step - loss: 3786.3623 - mae: 3786.3623\n",
            "Epoch 131/200\n",
            "34/34 [==============================] - 0s 3ms/step - loss: 3779.2959 - mae: 3779.2959\n",
            "Epoch 132/200\n",
            "34/34 [==============================] - 0s 3ms/step - loss: 3772.0798 - mae: 3772.0798\n",
            "Epoch 133/200\n",
            "34/34 [==============================] - 0s 3ms/step - loss: 3768.2073 - mae: 3768.2073\n",
            "Epoch 134/200\n",
            "34/34 [==============================] - 0s 3ms/step - loss: 3768.5330 - mae: 3768.5330\n",
            "Epoch 135/200\n",
            "34/34 [==============================] - 0s 3ms/step - loss: 3764.4927 - mae: 3764.4927\n",
            "Epoch 136/200\n",
            "34/34 [==============================] - 0s 3ms/step - loss: 3763.9395 - mae: 3763.9395\n",
            "Epoch 137/200\n",
            "34/34 [==============================] - 0s 3ms/step - loss: 3771.6167 - mae: 3771.6167\n",
            "Epoch 138/200\n",
            "34/34 [==============================] - 0s 3ms/step - loss: 3781.7432 - mae: 3781.7432\n",
            "Epoch 139/200\n",
            "34/34 [==============================] - 0s 3ms/step - loss: 3758.8716 - mae: 3758.8716\n",
            "Epoch 140/200\n",
            "34/34 [==============================] - 0s 3ms/step - loss: 3760.7075 - mae: 3760.7075\n",
            "Epoch 141/200\n",
            "34/34 [==============================] - 0s 4ms/step - loss: 3761.9294 - mae: 3761.9294\n",
            "Epoch 142/200\n",
            "34/34 [==============================] - 0s 3ms/step - loss: 3762.5339 - mae: 3762.5339\n",
            "Epoch 143/200\n",
            "34/34 [==============================] - 0s 3ms/step - loss: 3752.2131 - mae: 3752.2131\n",
            "Epoch 144/200\n",
            "34/34 [==============================] - 0s 3ms/step - loss: 3748.2732 - mae: 3748.2732\n",
            "Epoch 145/200\n",
            "34/34 [==============================] - 0s 3ms/step - loss: 3749.0166 - mae: 3749.0166\n",
            "Epoch 146/200\n",
            "34/34 [==============================] - 0s 3ms/step - loss: 3751.8354 - mae: 3751.8354\n",
            "Epoch 147/200\n",
            "34/34 [==============================] - 0s 3ms/step - loss: 3749.4998 - mae: 3749.4998\n",
            "Epoch 148/200\n",
            "34/34 [==============================] - 0s 3ms/step - loss: 3757.1067 - mae: 3757.1067\n",
            "Epoch 149/200\n",
            "34/34 [==============================] - 0s 3ms/step - loss: 3741.8787 - mae: 3741.8787\n",
            "Epoch 150/200\n",
            "34/34 [==============================] - 0s 3ms/step - loss: 3736.7942 - mae: 3736.7942\n",
            "Epoch 151/200\n",
            "34/34 [==============================] - 0s 3ms/step - loss: 3739.4612 - mae: 3739.4612\n",
            "Epoch 152/200\n",
            "34/34 [==============================] - 0s 3ms/step - loss: 3740.8542 - mae: 3740.8542\n",
            "Epoch 153/200\n",
            "34/34 [==============================] - 0s 3ms/step - loss: 3741.0212 - mae: 3741.0212\n",
            "Epoch 154/200\n",
            "34/34 [==============================] - 0s 3ms/step - loss: 3735.6221 - mae: 3735.6221\n",
            "Epoch 155/200\n",
            "34/34 [==============================] - 0s 3ms/step - loss: 3736.2371 - mae: 3736.2371\n",
            "Epoch 156/200\n",
            "34/34 [==============================] - 0s 3ms/step - loss: 3735.0210 - mae: 3735.0210\n",
            "Epoch 157/200\n",
            "34/34 [==============================] - 0s 3ms/step - loss: 3732.0081 - mae: 3732.0081\n",
            "Epoch 158/200\n",
            "34/34 [==============================] - 0s 3ms/step - loss: 3727.8496 - mae: 3727.8496\n",
            "Epoch 159/200\n",
            "34/34 [==============================] - 0s 4ms/step - loss: 3724.3464 - mae: 3724.3464\n",
            "Epoch 160/200\n",
            "34/34 [==============================] - 0s 3ms/step - loss: 3731.4346 - mae: 3731.4346\n",
            "Epoch 161/200\n",
            "34/34 [==============================] - 0s 3ms/step - loss: 3726.9482 - mae: 3726.9482\n",
            "Epoch 162/200\n",
            "34/34 [==============================] - 0s 3ms/step - loss: 3723.7739 - mae: 3723.7739\n",
            "Epoch 163/200\n",
            "34/34 [==============================] - 0s 3ms/step - loss: 3720.6221 - mae: 3720.6221\n",
            "Epoch 164/200\n",
            "34/34 [==============================] - 0s 3ms/step - loss: 3725.3457 - mae: 3725.3457\n",
            "Epoch 165/200\n",
            "34/34 [==============================] - 0s 3ms/step - loss: 3715.6299 - mae: 3715.6299\n",
            "Epoch 166/200\n",
            "34/34 [==============================] - 0s 3ms/step - loss: 3720.6697 - mae: 3720.6697\n",
            "Epoch 167/200\n",
            "34/34 [==============================] - 0s 3ms/step - loss: 3719.5046 - mae: 3719.5046\n",
            "Epoch 168/200\n",
            "34/34 [==============================] - 0s 3ms/step - loss: 3713.3992 - mae: 3713.3992\n",
            "Epoch 169/200\n",
            "34/34 [==============================] - 0s 4ms/step - loss: 3711.6965 - mae: 3711.6965\n",
            "Epoch 170/200\n",
            "34/34 [==============================] - 0s 3ms/step - loss: 3706.4863 - mae: 3706.4863\n",
            "Epoch 171/200\n",
            "34/34 [==============================] - 0s 3ms/step - loss: 3705.9824 - mae: 3705.9824\n",
            "Epoch 172/200\n",
            "34/34 [==============================] - 0s 3ms/step - loss: 3710.2705 - mae: 3710.2705\n",
            "Epoch 173/200\n",
            "34/34 [==============================] - 0s 3ms/step - loss: 3701.9609 - mae: 3701.9609\n",
            "Epoch 174/200\n",
            "34/34 [==============================] - 0s 3ms/step - loss: 3709.8213 - mae: 3709.8213\n",
            "Epoch 175/200\n",
            "34/34 [==============================] - 0s 3ms/step - loss: 3710.1306 - mae: 3710.1306\n",
            "Epoch 176/200\n",
            "34/34 [==============================] - 0s 3ms/step - loss: 3705.7812 - mae: 3705.7812\n",
            "Epoch 177/200\n",
            "34/34 [==============================] - 0s 3ms/step - loss: 3699.0205 - mae: 3699.0205\n",
            "Epoch 178/200\n",
            "34/34 [==============================] - 0s 3ms/step - loss: 3694.2312 - mae: 3694.2312\n",
            "Epoch 179/200\n",
            "34/34 [==============================] - 0s 3ms/step - loss: 3705.3052 - mae: 3705.3052\n",
            "Epoch 180/200\n",
            "34/34 [==============================] - 0s 3ms/step - loss: 3711.1545 - mae: 3711.1545\n",
            "Epoch 181/200\n",
            "34/34 [==============================] - 0s 3ms/step - loss: 3694.5789 - mae: 3694.5789\n",
            "Epoch 182/200\n",
            "34/34 [==============================] - 0s 3ms/step - loss: 3691.8560 - mae: 3691.8560\n",
            "Epoch 183/200\n",
            "34/34 [==============================] - 0s 3ms/step - loss: 3690.0952 - mae: 3690.0952\n",
            "Epoch 184/200\n",
            "34/34 [==============================] - 0s 3ms/step - loss: 3697.7598 - mae: 3697.7598\n",
            "Epoch 185/200\n",
            "34/34 [==============================] - 0s 3ms/step - loss: 3690.6477 - mae: 3690.6477\n",
            "Epoch 186/200\n",
            "34/34 [==============================] - 0s 3ms/step - loss: 3693.1047 - mae: 3693.1047\n",
            "Epoch 187/200\n",
            "34/34 [==============================] - 0s 3ms/step - loss: 3687.6411 - mae: 3687.6411\n",
            "Epoch 188/200\n",
            "34/34 [==============================] - 0s 3ms/step - loss: 3692.8276 - mae: 3692.8276\n",
            "Epoch 189/200\n",
            "34/34 [==============================] - 0s 3ms/step - loss: 3682.9844 - mae: 3682.9844\n",
            "Epoch 190/200\n",
            "34/34 [==============================] - 0s 3ms/step - loss: 3682.3438 - mae: 3682.3438\n",
            "Epoch 191/200\n",
            "34/34 [==============================] - 0s 4ms/step - loss: 3696.9465 - mae: 3696.9465\n",
            "Epoch 192/200\n",
            "34/34 [==============================] - 0s 5ms/step - loss: 3683.0425 - mae: 3683.0425\n",
            "Epoch 193/200\n",
            "34/34 [==============================] - 0s 5ms/step - loss: 3674.2446 - mae: 3674.2446\n",
            "Epoch 194/200\n",
            "34/34 [==============================] - 0s 4ms/step - loss: 3674.2886 - mae: 3674.2886\n",
            "Epoch 195/200\n",
            "34/34 [==============================] - 0s 4ms/step - loss: 3671.9863 - mae: 3671.9863\n",
            "Epoch 196/200\n",
            "34/34 [==============================] - 0s 4ms/step - loss: 3681.2727 - mae: 3681.2727\n",
            "Epoch 197/200\n",
            "34/34 [==============================] - 0s 4ms/step - loss: 3665.4890 - mae: 3665.4890\n",
            "Epoch 198/200\n",
            "34/34 [==============================] - 0s 4ms/step - loss: 3670.7676 - mae: 3670.7676\n",
            "Epoch 199/200\n",
            "34/34 [==============================] - 0s 4ms/step - loss: 3678.4011 - mae: 3678.4011\n",
            "Epoch 200/200\n",
            "34/34 [==============================] - 0s 5ms/step - loss: 3666.5005 - mae: 3666.5005\n"
          ]
        }
      ]
    },
    {
      "cell_type": "code",
      "source": [
        "insurance_model_3.evaluate(X_test, y_test)"
      ],
      "metadata": {
        "colab": {
          "base_uri": "https://localhost:8080/"
        },
        "id": "_p82eLNQQaxG",
        "outputId": "90560242-7e4f-42c0-9626-3ac3dc2702bf"
      },
      "execution_count": null,
      "outputs": [
        {
          "output_type": "stream",
          "name": "stdout",
          "text": [
            "9/9 [==============================] - 0s 3ms/step - loss: 3490.2629 - mae: 3490.2629\n"
          ]
        },
        {
          "output_type": "execute_result",
          "data": {
            "text/plain": [
              "[3490.262939453125, 3490.262939453125]"
            ]
          },
          "metadata": {},
          "execution_count": 78
        }
      ]
    },
    {
      "cell_type": "code",
      "source": [
        "# Plot history ( also known as a loss curve or a training curve)\n",
        "pd.DataFrame(history.history).plot()\n",
        "plt.ylabel(\"loss\")\n",
        "plt.xlabel(\"epochs\")"
      ],
      "metadata": {
        "colab": {
          "base_uri": "https://localhost:8080/",
          "height": 466
        },
        "id": "sPW4wm6NQt4A",
        "outputId": "5c63b637-fd74-4680-8eb3-00ca1170f18d"
      },
      "execution_count": null,
      "outputs": [
        {
          "output_type": "execute_result",
          "data": {
            "text/plain": [
              "Text(0.5, 0, 'epochs')"
            ]
          },
          "metadata": {},
          "execution_count": 79
        },
        {
          "output_type": "display_data",
          "data": {
            "text/plain": [
              "<Figure size 640x480 with 1 Axes>"
            ],
            "image/png": "[encoded data removed]"
          },
          "metadata": {}
        }
      ]
    },
    {
      "cell_type": "markdown",
      "source": [
        "**Question:** How long sould you train for ?\n",
        "\n",
        "It depends. Really... It depends on yhe problem you are working ın. However, many people have asked this question before... so \n",
        "Tensorflow has a solution which is called as the EarlyStopping Callback"
      ],
      "metadata": {
        "id": "1j7EF99XRTEY"
      }
    },
    {
      "cell_type": "markdown",
      "source": [
        "## Preprocessing data (Normalization and Standardization)\n",
        "In terms of scaling values, neural networks tend to prefer normalization.\n",
        "\n",
        "If you are not sure on which to use, you could try both and see which performs better.\n"
      ],
      "metadata": {
        "id": "4X-c4ke7SpFx"
      }
    },
    {
      "cell_type": "code",
      "source": [
        "import pandas as pd\n",
        "import matplotlib.pyplot as plt\n",
        "import tensorflow as tf\n",
        "\n",
        "# Read in the insurance dataframe \n",
        "insurance = pd.read_csv(\"https://raw.githubusercontent.com/stedy/Machine-Learning-with-R-datasets/master/insurance.csv\")\n",
        "insurance"
      ],
      "metadata": {
        "colab": {
          "base_uri": "https://localhost:8080/",
          "height": 423
        },
        "id": "1EsAoou2pFpS",
        "outputId": "30ac74b2-a8bd-4889-b37f-7f0a83a99393"
      },
      "execution_count": null,
      "outputs": [
        {
          "output_type": "execute_result",
          "data": {
            "text/plain": [
              "      age     sex     bmi  children smoker     region      charges\n",
              "0      19  female  27.900         0    yes  southwest  16884.92400\n",
              "1      18    male  33.770         1     no  southeast   1725.55230\n",
              "2      28    male  33.000         3     no  southeast   4449.46200\n",
              "3      33    male  22.705         0     no  northwest  21984.47061\n",
              "4      32    male  28.880         0     no  northwest   3866.85520\n",
              "...   ...     ...     ...       ...    ...        ...          ...\n",
              "1333   50    male  30.970         3     no  northwest  10600.54830\n",
              "1334   18  female  31.920         0     no  northeast   2205.98080\n",
              "1335   18  female  36.850         0     no  southeast   1629.83350\n",
              "1336   21  female  25.800         0     no  southwest   2007.94500\n",
              "1337   61  female  29.070         0    yes  northwest  29141.36030\n",
              "\n",
              "[1338 rows x 7 columns]"
            ],
            "text/html": [
              "\n",
              "  <div id=\"df-f9ee97d1-1fa4-467e-bd3c-9086da093e36\">\n",
              "    <div class=\"colab-df-container\">\n",
              "      <div>\n",
              "<style scoped>\n",
              "    .dataframe tbody tr th:only-of-type {\n",
              "        vertical-align: middle;\n",
              "    }\n",
              "\n",
              "    .dataframe tbody tr th {\n",
              "        vertical-align: top;\n",
              "    }\n",
              "\n",
              "    .dataframe thead th {\n",
              "        text-align: right;\n",
              "    }\n",
              "</style>\n",
              "<table border=\"1\" class=\"dataframe\">\n",
              "  <thead>\n",
              "    <tr style=\"text-align: right;\">\n",
              "      <th></th>\n",
              "      <th>age</th>\n",
              "      <th>sex</th>\n",
              "      <th>bmi</th>\n",
              "      <th>children</th>\n",
              "      <th>smoker</th>\n",
              "      <th>region</th>\n",
              "      <th>charges</th>\n",
              "    </tr>\n",
              "  </thead>\n",
              "  <tbody>\n",
              "    <tr>\n",
              "      <th>0</th>\n",
              "      <td>19</td>\n",
              "      <td>female</td>\n",
              "      <td>27.900</td>\n",
              "      <td>0</td>\n",
              "      <td>yes</td>\n",
              "      <td>southwest</td>\n",
              "      <td>16884.92400</td>\n",
              "    </tr>\n",
              "    <tr>\n",
              "      <th>1</th>\n",
              "      <td>18</td>\n",
              "      <td>male</td>\n",
              "      <td>33.770</td>\n",
              "      <td>1</td>\n",
              "      <td>no</td>\n",
              "      <td>southeast</td>\n",
              "      <td>1725.55230</td>\n",
              "    </tr>\n",
              "    <tr>\n",
              "      <th>2</th>\n",
              "      <td>28</td>\n",
              "      <td>male</td>\n",
              "      <td>33.000</td>\n",
              "      <td>3</td>\n",
              "      <td>no</td>\n",
              "      <td>southeast</td>\n",
              "      <td>4449.46200</td>\n",
              "    </tr>\n",
              "    <tr>\n",
              "      <th>3</th>\n",
              "      <td>33</td>\n",
              "      <td>male</td>\n",
              "      <td>22.705</td>\n",
              "      <td>0</td>\n",
              "      <td>no</td>\n",
              "      <td>northwest</td>\n",
              "      <td>21984.47061</td>\n",
              "    </tr>\n",
              "    <tr>\n",
              "      <th>4</th>\n",
              "      <td>32</td>\n",
              "      <td>male</td>\n",
              "      <td>28.880</td>\n",
              "      <td>0</td>\n",
              "      <td>no</td>\n",
              "      <td>northwest</td>\n",
              "      <td>3866.85520</td>\n",
              "    </tr>\n",
              "    <tr>\n",
              "      <th>...</th>\n",
              "      <td>...</td>\n",
              "      <td>...</td>\n",
              "      <td>...</td>\n",
              "      <td>...</td>\n",
              "      <td>...</td>\n",
              "      <td>...</td>\n",
              "      <td>...</td>\n",
              "    </tr>\n",
              "    <tr>\n",
              "      <th>1333</th>\n",
              "      <td>50</td>\n",
              "      <td>male</td>\n",
              "      <td>30.970</td>\n",
              "      <td>3</td>\n",
              "      <td>no</td>\n",
              "      <td>northwest</td>\n",
              "      <td>10600.54830</td>\n",
              "    </tr>\n",
              "    <tr>\n",
              "      <th>1334</th>\n",
              "      <td>18</td>\n",
              "      <td>female</td>\n",
              "      <td>31.920</td>\n",
              "      <td>0</td>\n",
              "      <td>no</td>\n",
              "      <td>northeast</td>\n",
              "      <td>2205.98080</td>\n",
              "    </tr>\n",
              "    <tr>\n",
              "      <th>1335</th>\n",
              "      <td>18</td>\n",
              "      <td>female</td>\n",
              "      <td>36.850</td>\n",
              "      <td>0</td>\n",
              "      <td>no</td>\n",
              "      <td>southeast</td>\n",
              "      <td>1629.83350</td>\n",
              "    </tr>\n",
              "    <tr>\n",
              "      <th>1336</th>\n",
              "      <td>21</td>\n",
              "      <td>female</td>\n",
              "      <td>25.800</td>\n",
              "      <td>0</td>\n",
              "      <td>no</td>\n",
              "      <td>southwest</td>\n",
              "      <td>2007.94500</td>\n",
              "    </tr>\n",
              "    <tr>\n",
              "      <th>1337</th>\n",
              "      <td>61</td>\n",
              "      <td>female</td>\n",
              "      <td>29.070</td>\n",
              "      <td>0</td>\n",
              "      <td>yes</td>\n",
              "      <td>northwest</td>\n",
              "      <td>29141.36030</td>\n",
              "    </tr>\n",
              "  </tbody>\n",
              "</table>\n",
              "<p>1338 rows × 7 columns</p>\n",
              "</div>\n",
              "      <button class=\"colab-df-convert\" onclick=\"convertToInteractive('df-f9ee97d1-1fa4-467e-bd3c-9086da093e36')\"\n",
              "              title=\"Convert this dataframe to an interactive table.\"\n",
              "              style=\"display:none;\">\n",
              "        \n",
              "  <svg xmlns=\"http://www.w3.org/2000/svg\" height=\"24px\"viewBox=\"0 0 24 24\"\n",
              "       width=\"24px\">\n",
              "    <path d=\"M0 0h24v24H0V0z\" fill=\"none\"/>\n",
              "    <path d=\"M18.56 5.44l.94 2.06.94-2.06 2.06-.94-2.06-.94-.94-2.06-.94 2.06-2.06.94zm-11 1L8.5 8.5l.94-2.06 2.06-.94-2.06-.94L8.5 2.5l-.94 2.06-2.06.94zm10 10l.94 2.06.94-2.06 2.06-.94-2.06-.94-.94-2.06-.94 2.06-2.06.94z\"/><path d=\"M17.41 7.96l-1.37-1.37c-.4-.4-.92-.59-1.43-.59-.52 0-1.04.2-1.43.59L10.3 9.45l-7.72 7.72c-.78.78-.78 2.05 0 2.83L4 21.41c.39.39.9.59 1.41.59.51 0 1.02-.2 1.41-.59l7.78-7.78 2.81-2.81c.8-.78.8-2.07 0-2.86zM5.41 20L4 18.59l7.72-7.72 1.47 1.35L5.41 20z\"/>\n",
              "  </svg>\n",
              "      </button>\n",
              "      \n",
              "  <style>\n",
              "    .colab-df-container {\n",
              "      display:flex;\n",
              "      flex-wrap:wrap;\n",
              "      gap: 12px;\n",
              "    }\n",
              "\n",
              "    .colab-df-convert {\n",
              "      background-color: #E8F0FE;\n",
              "      border: none;\n",
              "      border-radius: 50%;\n",
              "      cursor: pointer;\n",
              "      display: none;\n",
              "      fill: #1967D2;\n",
              "      height: 32px;\n",
              "      padding: 0 0 0 0;\n",
              "      width: 32px;\n",
              "    }\n",
              "\n",
              "    .colab-df-convert:hover {\n",
              "      background-color: #E2EBFA;\n",
              "      box-shadow: 0px 1px 2px rgba(60, 64, 67, 0.3), 0px 1px 3px 1px rgba(60, 64, 67, 0.15);\n",
              "      fill: #174EA6;\n",
              "    }\n",
              "\n",
              "    [theme=dark] .colab-df-convert {\n",
              "      background-color: #3B4455;\n",
              "      fill: #D2E3FC;\n",
              "    }\n",
              "\n",
              "    [theme=dark] .colab-df-convert:hover {\n",
              "      background-color: #434B5C;\n",
              "      box-shadow: 0px 1px 3px 1px rgba(0, 0, 0, 0.15);\n",
              "      filter: drop-shadow(0px 1px 2px rgba(0, 0, 0, 0.3));\n",
              "      fill: #FFFFFF;\n",
              "    }\n",
              "  </style>\n",
              "\n",
              "      <script>\n",
              "        const buttonEl =\n",
              "          document.querySelector('#df-f9ee97d1-1fa4-467e-bd3c-9086da093e36 button.colab-df-convert');\n",
              "        buttonEl.style.display =\n",
              "          google.colab.kernel.accessAllowed ? 'block' : 'none';\n",
              "\n",
              "        async function convertToInteractive(key) {\n",
              "          const element = document.querySelector('#df-f9ee97d1-1fa4-467e-bd3c-9086da093e36');\n",
              "          const dataTable =\n",
              "            await google.colab.kernel.invokeFunction('convertToInteractive',\n",
              "                                                     [key], {});\n",
              "          if (!dataTable) return;\n",
              "\n",
              "          const docLinkHtml = 'Like what you see? Visit the ' +\n",
              "            '<a target=\"_blank\" href=https://colab.research.google.com/notebooks/data_table.ipynb>data table notebook</a>'\n",
              "            + ' to learn more about interactive tables.';\n",
              "          element.innerHTML = '';\n",
              "          dataTable['output_type'] = 'display_data';\n",
              "          await google.colab.output.renderOutput(dataTable, element);\n",
              "          const docLink = document.createElement('div');\n",
              "          docLink.innerHTML = docLinkHtml;\n",
              "          element.appendChild(docLink);\n",
              "        }\n",
              "      </script>\n",
              "    </div>\n",
              "  </div>\n",
              "  "
            ]
          },
          "metadata": {},
          "execution_count": 1
        }
      ]
    },
    {
      "cell_type": "markdown",
      "source": [
        "To preaper our data , We can borrow a few classes from Sci-kit learn"
      ],
      "metadata": {
        "id": "EIX7mHhVl3I3"
      }
    },
    {
      "cell_type": "code",
      "source": [
        "from sklearn.compose import make_column_transformer\n",
        "from sklearn.preprocessing import MinMaxScaler , OneHotEncoder\n",
        "from sklearn.model_selection import train_test_split\n",
        "# Create a column transformer\n",
        "ct = make_column_transformer(\n",
        "    (MinMaxScaler(), [\"age\", \"bmi\", \"children\"]),\n",
        "    (OneHotEncoder(handle_unknown=\"ignore\"),[\"sex\", \"smoker\", \"region\"])\n",
        ")\n",
        "# Create X & Y values\n",
        "X = insurance.drop(\"charges\", axis=1)\n",
        "y = insurance[\"charges\"]\n",
        "\n",
        "\n",
        "# Build our train and test sets\n",
        "X_train, X_test, y_train, y_test = train_test_split(X,y,test_size=0.2,random_state=42)\n",
        "\n",
        "# Fit the column transformer to our training data \n",
        "ct.fit(X_train)\n",
        "#Transform training and test data with normalization (MinMaxScaler) and OneHotEncoder\n",
        "X_train_normal = ct.transform(X_train)\n",
        "X_test_normal = ct.transform(X_test)      "
      ],
      "metadata": {
        "id": "ZaSGMbB8p7RQ"
      },
      "execution_count": null,
      "outputs": []
    },
    {
      "cell_type": "code",
      "source": [
        "# What does our data look like now ?\n",
        "X_train.loc[0]"
      ],
      "metadata": {
        "colab": {
          "base_uri": "https://localhost:8080/"
        },
        "id": "mYUoMxJBsWg3",
        "outputId": "0e1b7b6c-1fd0-4c69-8a01-11b02c8a7075"
      },
      "execution_count": null,
      "outputs": [
        {
          "output_type": "execute_result",
          "data": {
            "text/plain": [
              "age                19\n",
              "sex            female\n",
              "bmi              27.9\n",
              "children            0\n",
              "smoker            yes\n",
              "region      southwest\n",
              "Name: 0, dtype: object"
            ]
          },
          "metadata": {},
          "execution_count": 3
        }
      ]
    },
    {
      "cell_type": "code",
      "source": [
        "X_train_normal[0]"
      ],
      "metadata": {
        "colab": {
          "base_uri": "https://localhost:8080/"
        },
        "id": "NXs8Ga7Qsdqw",
        "outputId": "ab38f94b-650a-47a2-f7bc-f69953d6309c"
      },
      "execution_count": null,
      "outputs": [
        {
          "output_type": "execute_result",
          "data": {
            "text/plain": [
              "array([0.60869565, 0.10734463, 0.4       , 1.        , 0.        ,\n",
              "       1.        , 0.        , 0.        , 1.        , 0.        ,\n",
              "       0.        ])"
            ]
          },
          "metadata": {},
          "execution_count": 4
        }
      ]
    },
    {
      "cell_type": "code",
      "source": [
        "X_train.shape, X_train_normal.shape"
      ],
      "metadata": {
        "colab": {
          "base_uri": "https://localhost:8080/"
        },
        "id": "OBFVdZESsxeB",
        "outputId": "82adba0c-377f-4bbd-9a3c-5d4968709bd3"
      },
      "execution_count": null,
      "outputs": [
        {
          "output_type": "execute_result",
          "data": {
            "text/plain": [
              "((1070, 6), (1070, 11))"
            ]
          },
          "metadata": {},
          "execution_count": 5
        }
      ]
    },
    {
      "cell_type": "markdown",
      "source": [
        "Beautiful ! Our data has been normalized and one hot encoded. Now Lets build a neural network model onit and see how it goes."
      ],
      "metadata": {
        "id": "ezemQRPis_Ng"
      }
    },
    {
      "cell_type": "code",
      "source": [
        "tf.random.set_seed(42)\n",
        "insurance_model_4 = tf.keras.Sequential([\n",
        "    tf.keras.layers.Dense(100),\n",
        "    tf.keras.layers.Dense(10),\n",
        "    tf.keras.layers.Dense(1),\n",
        "    \n",
        "])\n",
        "insurance_model_4.compile(loss = tf.keras.losses.mae,\n",
        "              optimizer = tf.keras.optimizers.Adam(learning_rate=0.02),\n",
        "              metrics=[\"mae\"])\n",
        "insurance_model_4.fit(X_train_normal, y_train, epochs=100)"
      ],
      "metadata": {
        "colab": {
          "base_uri": "https://localhost:8080/"
        },
        "id": "haX7Lw6ytOmb",
        "outputId": "3b300d1f-6419-423f-f7a2-0b237eb75e86"
      },
      "execution_count": null,
      "outputs": [
        {
          "output_type": "stream",
          "name": "stdout",
          "text": [
            "Epoch 1/100\n",
            "34/34 [==============================] - 5s 3ms/step - loss: 12738.0967 - mae: 12738.0967\n",
            "Epoch 2/100\n",
            "34/34 [==============================] - 0s 3ms/step - loss: 8315.9375 - mae: 8315.9375\n",
            "Epoch 3/100\n",
            "34/34 [==============================] - 0s 3ms/step - loss: 7286.0791 - mae: 7286.0791\n",
            "Epoch 4/100\n",
            "34/34 [==============================] - 0s 3ms/step - loss: 5992.4697 - mae: 5992.4697\n",
            "Epoch 5/100\n",
            "34/34 [==============================] - 0s 3ms/step - loss: 4227.1758 - mae: 4227.1758\n",
            "Epoch 6/100\n",
            "34/34 [==============================] - 0s 3ms/step - loss: 3670.2791 - mae: 3670.2791\n",
            "Epoch 7/100\n",
            "34/34 [==============================] - 0s 4ms/step - loss: 3638.1580 - mae: 3638.1580\n",
            "Epoch 8/100\n",
            "34/34 [==============================] - 0s 3ms/step - loss: 3610.8604 - mae: 3610.8604\n",
            "Epoch 9/100\n",
            "34/34 [==============================] - 0s 3ms/step - loss: 3574.0781 - mae: 3574.0781\n",
            "Epoch 10/100\n",
            "34/34 [==============================] - 0s 3ms/step - loss: 3560.7734 - mae: 3560.7734\n",
            "Epoch 11/100\n",
            "34/34 [==============================] - 0s 3ms/step - loss: 3526.6794 - mae: 3526.6794\n",
            "Epoch 12/100\n",
            "34/34 [==============================] - 0s 3ms/step - loss: 3562.3633 - mae: 3562.3633\n",
            "Epoch 13/100\n",
            "34/34 [==============================] - 0s 3ms/step - loss: 3496.0212 - mae: 3496.0212\n",
            "Epoch 14/100\n",
            "34/34 [==============================] - 0s 3ms/step - loss: 3548.9111 - mae: 3548.9111\n",
            "Epoch 15/100\n",
            "34/34 [==============================] - 0s 3ms/step - loss: 3521.3645 - mae: 3521.3645\n",
            "Epoch 16/100\n",
            "34/34 [==============================] - 0s 3ms/step - loss: 3508.0183 - mae: 3508.0183\n",
            "Epoch 17/100\n",
            "34/34 [==============================] - 0s 3ms/step - loss: 3535.9888 - mae: 3535.9888\n",
            "Epoch 18/100\n",
            "34/34 [==============================] - 0s 3ms/step - loss: 3488.7170 - mae: 3488.7170\n",
            "Epoch 19/100\n",
            "34/34 [==============================] - 0s 4ms/step - loss: 3554.3792 - mae: 3554.3792\n",
            "Epoch 20/100\n",
            "34/34 [==============================] - 0s 3ms/step - loss: 3513.8848 - mae: 3513.8848\n",
            "Epoch 21/100\n",
            "34/34 [==============================] - 0s 3ms/step - loss: 3504.5295 - mae: 3504.5295\n",
            "Epoch 22/100\n",
            "34/34 [==============================] - 0s 3ms/step - loss: 3503.8625 - mae: 3503.8625\n",
            "Epoch 23/100\n",
            "34/34 [==============================] - 0s 3ms/step - loss: 3513.4504 - mae: 3513.4504\n",
            "Epoch 24/100\n",
            "34/34 [==============================] - 0s 3ms/step - loss: 3529.7969 - mae: 3529.7969\n",
            "Epoch 25/100\n",
            "34/34 [==============================] - 0s 3ms/step - loss: 3535.3875 - mae: 3535.3875\n",
            "Epoch 26/100\n",
            "34/34 [==============================] - 0s 4ms/step - loss: 3518.2739 - mae: 3518.2739\n",
            "Epoch 27/100\n",
            "34/34 [==============================] - 0s 4ms/step - loss: 3515.4568 - mae: 3515.4568\n",
            "Epoch 28/100\n",
            "34/34 [==============================] - 0s 3ms/step - loss: 3530.6816 - mae: 3530.6816\n",
            "Epoch 29/100\n",
            "34/34 [==============================] - 0s 3ms/step - loss: 3525.2188 - mae: 3525.2188\n",
            "Epoch 30/100\n",
            "34/34 [==============================] - 0s 3ms/step - loss: 3497.3560 - mae: 3497.3560\n",
            "Epoch 31/100\n",
            "34/34 [==============================] - 0s 3ms/step - loss: 3515.2175 - mae: 3515.2175\n",
            "Epoch 32/100\n",
            "34/34 [==============================] - 0s 3ms/step - loss: 3523.6719 - mae: 3523.6719\n",
            "Epoch 33/100\n",
            "34/34 [==============================] - 0s 3ms/step - loss: 3519.0396 - mae: 3519.0396\n",
            "Epoch 34/100\n",
            "34/34 [==============================] - 0s 3ms/step - loss: 3520.3257 - mae: 3520.3257\n",
            "Epoch 35/100\n",
            "34/34 [==============================] - 0s 3ms/step - loss: 3493.1191 - mae: 3493.1191\n",
            "Epoch 36/100\n",
            "34/34 [==============================] - 0s 3ms/step - loss: 3548.9351 - mae: 3548.9351\n",
            "Epoch 37/100\n",
            "34/34 [==============================] - 0s 3ms/step - loss: 3495.1965 - mae: 3495.1965\n",
            "Epoch 38/100\n",
            "34/34 [==============================] - 0s 3ms/step - loss: 3521.4751 - mae: 3521.4751\n",
            "Epoch 39/100\n",
            "34/34 [==============================] - 0s 3ms/step - loss: 3507.2214 - mae: 3507.2214\n",
            "Epoch 40/100\n",
            "34/34 [==============================] - 0s 3ms/step - loss: 3543.2910 - mae: 3543.2910\n",
            "Epoch 41/100\n",
            "34/34 [==============================] - 0s 4ms/step - loss: 3506.9390 - mae: 3506.9390\n",
            "Epoch 42/100\n",
            "34/34 [==============================] - 0s 3ms/step - loss: 3516.0024 - mae: 3516.0024\n",
            "Epoch 43/100\n",
            "34/34 [==============================] - 0s 3ms/step - loss: 3501.8489 - mae: 3501.8489\n",
            "Epoch 44/100\n",
            "34/34 [==============================] - 0s 3ms/step - loss: 3509.4968 - mae: 3509.4968\n",
            "Epoch 45/100\n",
            "34/34 [==============================] - 0s 3ms/step - loss: 3482.0752 - mae: 3482.0752\n",
            "Epoch 46/100\n",
            "34/34 [==============================] - 0s 3ms/step - loss: 3510.2434 - mae: 3510.2434\n",
            "Epoch 47/100\n",
            "34/34 [==============================] - 0s 3ms/step - loss: 3514.0491 - mae: 3514.0491\n",
            "Epoch 48/100\n",
            "34/34 [==============================] - 0s 3ms/step - loss: 3502.5217 - mae: 3502.5217\n",
            "Epoch 49/100\n",
            "34/34 [==============================] - 0s 4ms/step - loss: 3516.9551 - mae: 3516.9551\n",
            "Epoch 50/100\n",
            "34/34 [==============================] - 0s 6ms/step - loss: 3515.9768 - mae: 3515.9768\n",
            "Epoch 51/100\n",
            "34/34 [==============================] - 0s 5ms/step - loss: 3503.8015 - mae: 3503.8015\n",
            "Epoch 52/100\n",
            "34/34 [==============================] - 0s 5ms/step - loss: 3496.6111 - mae: 3496.6111\n",
            "Epoch 53/100\n",
            "34/34 [==============================] - 0s 5ms/step - loss: 3510.5620 - mae: 3510.5620\n",
            "Epoch 54/100\n",
            "34/34 [==============================] - 0s 4ms/step - loss: 3515.1968 - mae: 3515.1968\n",
            "Epoch 55/100\n",
            "34/34 [==============================] - 0s 5ms/step - loss: 3538.9424 - mae: 3538.9424\n",
            "Epoch 56/100\n",
            "34/34 [==============================] - 0s 5ms/step - loss: 3506.2876 - mae: 3506.2876\n",
            "Epoch 57/100\n",
            "34/34 [==============================] - 0s 4ms/step - loss: 3508.0024 - mae: 3508.0024\n",
            "Epoch 58/100\n",
            "34/34 [==============================] - 0s 5ms/step - loss: 3505.8953 - mae: 3505.8953\n",
            "Epoch 59/100\n",
            "34/34 [==============================] - 0s 5ms/step - loss: 3492.7332 - mae: 3492.7332\n",
            "Epoch 60/100\n",
            "34/34 [==============================] - 0s 5ms/step - loss: 3525.5837 - mae: 3525.5837\n",
            "Epoch 61/100\n",
            "34/34 [==============================] - 0s 4ms/step - loss: 3518.7117 - mae: 3518.7117\n",
            "Epoch 62/100\n",
            "34/34 [==============================] - 0s 5ms/step - loss: 3519.2896 - mae: 3519.2896\n",
            "Epoch 63/100\n",
            "34/34 [==============================] - 0s 5ms/step - loss: 3502.8606 - mae: 3502.8606\n",
            "Epoch 64/100\n",
            "34/34 [==============================] - 0s 5ms/step - loss: 3496.6177 - mae: 3496.6177\n",
            "Epoch 65/100\n",
            "34/34 [==============================] - 0s 5ms/step - loss: 3499.5229 - mae: 3499.5229\n",
            "Epoch 66/100\n",
            "34/34 [==============================] - 0s 5ms/step - loss: 3517.3794 - mae: 3517.3794\n",
            "Epoch 67/100\n",
            "34/34 [==============================] - 0s 5ms/step - loss: 3511.6396 - mae: 3511.6396\n",
            "Epoch 68/100\n",
            "34/34 [==============================] - 0s 5ms/step - loss: 3494.3191 - mae: 3494.3191\n",
            "Epoch 69/100\n",
            "34/34 [==============================] - 0s 5ms/step - loss: 3500.6399 - mae: 3500.6399\n",
            "Epoch 70/100\n",
            "34/34 [==============================] - 0s 5ms/step - loss: 3506.8225 - mae: 3506.8225\n",
            "Epoch 71/100\n",
            "34/34 [==============================] - 0s 5ms/step - loss: 3496.6770 - mae: 3496.6770\n",
            "Epoch 72/100\n",
            "34/34 [==============================] - 0s 4ms/step - loss: 3495.4126 - mae: 3495.4126\n",
            "Epoch 73/100\n",
            "34/34 [==============================] - 0s 5ms/step - loss: 3545.9021 - mae: 3545.9021\n",
            "Epoch 74/100\n",
            "34/34 [==============================] - 0s 4ms/step - loss: 3514.5701 - mae: 3514.5701\n",
            "Epoch 75/100\n",
            "34/34 [==============================] - 0s 3ms/step - loss: 3497.2039 - mae: 3497.2039\n",
            "Epoch 76/100\n",
            "34/34 [==============================] - 0s 3ms/step - loss: 3523.4221 - mae: 3523.4221\n",
            "Epoch 77/100\n",
            "34/34 [==============================] - 0s 3ms/step - loss: 3498.1484 - mae: 3498.1484\n",
            "Epoch 78/100\n",
            "34/34 [==============================] - 0s 4ms/step - loss: 3495.0938 - mae: 3495.0938\n",
            "Epoch 79/100\n",
            "34/34 [==============================] - 0s 3ms/step - loss: 3514.1948 - mae: 3514.1948\n",
            "Epoch 80/100\n",
            "34/34 [==============================] - 0s 3ms/step - loss: 3534.3662 - mae: 3534.3662\n",
            "Epoch 81/100\n",
            "34/34 [==============================] - 0s 3ms/step - loss: 3526.8799 - mae: 3526.8799\n",
            "Epoch 82/100\n",
            "34/34 [==============================] - 0s 3ms/step - loss: 3516.2664 - mae: 3516.2664\n",
            "Epoch 83/100\n",
            "34/34 [==============================] - 0s 4ms/step - loss: 3512.5320 - mae: 3512.5320\n",
            "Epoch 84/100\n",
            "34/34 [==============================] - 0s 3ms/step - loss: 3557.4485 - mae: 3557.4485\n",
            "Epoch 85/100\n",
            "34/34 [==============================] - 0s 3ms/step - loss: 3507.0237 - mae: 3507.0237\n",
            "Epoch 86/100\n",
            "34/34 [==============================] - 0s 3ms/step - loss: 3502.2175 - mae: 3502.2175\n",
            "Epoch 87/100\n",
            "34/34 [==============================] - 0s 3ms/step - loss: 3494.8782 - mae: 3494.8782\n",
            "Epoch 88/100\n",
            "34/34 [==============================] - 0s 3ms/step - loss: 3500.8079 - mae: 3500.8079\n",
            "Epoch 89/100\n",
            "34/34 [==============================] - 0s 3ms/step - loss: 3503.3218 - mae: 3503.3218\n",
            "Epoch 90/100\n",
            "34/34 [==============================] - 0s 4ms/step - loss: 3505.5095 - mae: 3505.5095\n",
            "Epoch 91/100\n",
            "34/34 [==============================] - 0s 3ms/step - loss: 3498.5396 - mae: 3498.5396\n",
            "Epoch 92/100\n",
            "34/34 [==============================] - 0s 3ms/step - loss: 3537.6475 - mae: 3537.6475\n",
            "Epoch 93/100\n",
            "34/34 [==============================] - 0s 3ms/step - loss: 3510.7820 - mae: 3510.7820\n",
            "Epoch 94/100\n",
            "34/34 [==============================] - 0s 3ms/step - loss: 3500.8862 - mae: 3500.8862\n",
            "Epoch 95/100\n",
            "34/34 [==============================] - 0s 3ms/step - loss: 3514.5991 - mae: 3514.5991\n",
            "Epoch 96/100\n",
            "34/34 [==============================] - 0s 3ms/step - loss: 3516.9246 - mae: 3516.9246\n",
            "Epoch 97/100\n",
            "34/34 [==============================] - 0s 3ms/step - loss: 3522.2568 - mae: 3522.2568\n",
            "Epoch 98/100\n",
            "34/34 [==============================] - 0s 3ms/step - loss: 3503.2502 - mae: 3503.2502\n",
            "Epoch 99/100\n",
            "34/34 [==============================] - 0s 4ms/step - loss: 3533.5532 - mae: 3533.5532\n",
            "Epoch 100/100\n",
            "34/34 [==============================] - 0s 3ms/step - loss: 3505.8994 - mae: 3505.8994\n"
          ]
        },
        {
          "output_type": "execute_result",
          "data": {
            "text/plain": [
              "<keras.callbacks.History at 0x7fb3b001fdf0>"
            ]
          },
          "metadata": {},
          "execution_count": 6
        }
      ]
    },
    {
      "cell_type": "code",
      "source": [
        "# Evaluate our insurance model trained on normalized data\n",
        "insurance_model_4.evaluate(X_test_normal, y_test)\n"
      ],
      "metadata": {
        "colab": {
          "base_uri": "https://localhost:8080/"
        },
        "id": "joXNX7pTvnWu",
        "outputId": "4a8b2524-737e-4aca-bf78-326db7f3a3bd"
      },
      "execution_count": null,
      "outputs": [
        {
          "output_type": "stream",
          "name": "stdout",
          "text": [
            "9/9 [==============================] - 0s 3ms/step - loss: 3166.1609 - mae: 3166.1609\n"
          ]
        },
        {
          "output_type": "execute_result",
          "data": {
            "text/plain": [
              "[3166.160888671875, 3166.160888671875]"
            ]
          },
          "metadata": {},
          "execution_count": 16
        }
      ]
    },
    {
      "cell_type": "code",
      "source": [
        "y_pred = insurance_model_4.predict(X_test_normal)\n",
        "y_pred"
      ],
      "metadata": {
        "colab": {
          "base_uri": "https://localhost:8080/"
        },
        "id": "Bb7SUth1kpnU",
        "outputId": "d23f0a0a-79f5-4d91-d13f-28ac6845f6c8"
      },
      "execution_count": null,
      "outputs": [
        {
          "output_type": "stream",
          "name": "stdout",
          "text": [
            "9/9 [==============================] - 0s 3ms/step\n"
          ]
        },
        {
          "output_type": "execute_result",
          "data": {
            "text/plain": [
              "array([[ 9192.002  ],\n",
              "       [ 6022.9893 ],\n",
              "       [44332.84   ],\n",
              "       [ 9219.775  ],\n",
              "       [32329.588  ],\n",
              "       [ 5595.122  ],\n",
              "       [ 1186.1063 ],\n",
              "       [13385.395  ],\n",
              "       [ 3565.4656 ],\n",
              "       [10150.821  ],\n",
              "       [35512.55   ],\n",
              "       [ 7748.583  ],\n",
              "       [ 4284.8335 ],\n",
              "       [40838.28   ],\n",
              "       [43300.51   ],\n",
              "       [40552.926  ],\n",
              "       [10564.721  ],\n",
              "       [40446.973  ],\n",
              "       [ 8689.287  ],\n",
              "       [38801.09   ],\n",
              "       [ 3858.9822 ],\n",
              "       [ 7859.1836 ],\n",
              "       [  660.52386],\n",
              "       [ 3061.3796 ],\n",
              "       [10777.213  ],\n",
              "       [11150.068  ],\n",
              "       [12075.524  ],\n",
              "       [ 4827.6387 ],\n",
              "       [ 9786.963  ],\n",
              "       [  637.57855],\n",
              "       [ 8072.878  ],\n",
              "       [11641.029  ],\n",
              "       [ 2044.1891 ],\n",
              "       [ 5118.2876 ],\n",
              "       [ 2871.0588 ],\n",
              "       [ 8729.73   ],\n",
              "       [ 1772.0914 ],\n",
              "       [ 7734.583  ],\n",
              "       [41425.87   ],\n",
              "       [37090.793  ],\n",
              "       [ 2893.411  ],\n",
              "       [ 2394.2625 ],\n",
              "       [11441.067  ],\n",
              "       [11473.334  ],\n",
              "       [ 5628.518  ],\n",
              "       [11444.279  ],\n",
              "       [ 3015.819  ],\n",
              "       [ 3496.8455 ],\n",
              "       [39743.01   ],\n",
              "       [ 5227.8994 ],\n",
              "       [13176.045  ],\n",
              "       [  986.50903],\n",
              "       [ 8007.418  ],\n",
              "       [  963.46484],\n",
              "       [10852.502  ],\n",
              "       [10450.412  ],\n",
              "       [ 4092.6692 ],\n",
              "       [36765.902  ],\n",
              "       [11453.074  ],\n",
              "       [10913.902  ],\n",
              "       [12708.005  ],\n",
              "       [ 5580.8447 ],\n",
              "       [13153.754  ],\n",
              "       [ 8134.257  ],\n",
              "       [10536.94   ],\n",
              "       [ 4106.1025 ],\n",
              "       [33589.695  ],\n",
              "       [10572.162  ],\n",
              "       [ 3152.3481 ],\n",
              "       [ 1885.8322 ],\n",
              "       [ 7139.846  ],\n",
              "       [ 9796.056  ],\n",
              "       [ 9082.807  ],\n",
              "       [ 7045.989  ],\n",
              "       [ 8250.793  ],\n",
              "       [ 5758.782  ],\n",
              "       [ 4800.286  ],\n",
              "       [11082.394  ],\n",
              "       [ 4570.1885 ],\n",
              "       [ 8832.105  ],\n",
              "       [ 1316.921  ],\n",
              "       [43665.105  ],\n",
              "       [ 5217.965  ],\n",
              "       [35030.47   ],\n",
              "       [34233.883  ],\n",
              "       [40749.367  ],\n",
              "       [ 5024.172  ],\n",
              "       [10769.389  ],\n",
              "       [ 8670.184  ],\n",
              "       [11070.326  ],\n",
              "       [14287.7705 ],\n",
              "       [43887.195  ],\n",
              "       [40462.582  ],\n",
              "       [ 5232.034  ],\n",
              "       [36326.844  ],\n",
              "       [ 7313.2266 ],\n",
              "       [35737.37   ],\n",
              "       [ 1691.3702 ],\n",
              "       [36379.484  ],\n",
              "       [ 6476.086  ],\n",
              "       [ 4751.0234 ],\n",
              "       [  979.0371 ],\n",
              "       [ 7179.9805 ],\n",
              "       [11836.671  ],\n",
              "       [12172.283  ],\n",
              "       [ 1265.2336 ],\n",
              "       [ 8284.187  ],\n",
              "       [40499.473  ],\n",
              "       [  740.9155 ],\n",
              "       [41370.098  ],\n",
              "       [  789.6073 ],\n",
              "       [ 3914.2375 ],\n",
              "       [12575.852  ],\n",
              "       [37315.22   ],\n",
              "       [10127.893  ],\n",
              "       [ 1433.9861 ],\n",
              "       [12145.042  ],\n",
              "       [39051.406  ],\n",
              "       [ 6835.757  ],\n",
              "       [ 2466.922  ],\n",
              "       [ 6294.734  ],\n",
              "       [ 7921.172  ],\n",
              "       [11667.232  ],\n",
              "       [ 2491.5427 ],\n",
              "       [ 4391.926  ],\n",
              "       [ 8256.896  ],\n",
              "       [ 8261.906  ],\n",
              "       [ 9692.248  ],\n",
              "       [12069.791  ],\n",
              "       [ 2517.369  ],\n",
              "       [ 4657.786  ],\n",
              "       [ 6472.728  ],\n",
              "       [ 6550.836  ],\n",
              "       [ 9047.287  ],\n",
              "       [ 6433.8193 ],\n",
              "       [11903.242  ],\n",
              "       [ 5350.726  ],\n",
              "       [37784.043  ],\n",
              "       [39641.32   ],\n",
              "       [37665.223  ],\n",
              "       [ 5873.1094 ],\n",
              "       [10418.862  ],\n",
              "       [ 2997.34   ],\n",
              "       [11367.942  ],\n",
              "       [ 2271.1353 ],\n",
              "       [40189.09   ],\n",
              "       [ 5491.371  ],\n",
              "       [ 4149.5957 ],\n",
              "       [11435.768  ],\n",
              "       [ 5265.7104 ],\n",
              "       [43069.38   ],\n",
              "       [ 2507.7395 ],\n",
              "       [ 1163.474  ],\n",
              "       [36479.91   ],\n",
              "       [ 7439.708  ],\n",
              "       [ 5586.8916 ],\n",
              "       [12839.922  ],\n",
              "       [ 9015.8125 ],\n",
              "       [32517.28   ],\n",
              "       [38546.363  ],\n",
              "       [12934.343  ],\n",
              "       [ 1726.2716 ],\n",
              "       [13056.268  ],\n",
              "       [ 2203.336  ],\n",
              "       [ 2981.3794 ],\n",
              "       [ 8067.632  ],\n",
              "       [44074.145  ],\n",
              "       [42693.305  ],\n",
              "       [39531.902  ],\n",
              "       [ 2626.4678 ],\n",
              "       [ 8903.928  ],\n",
              "       [ 6805.2197 ],\n",
              "       [ 7285.4873 ],\n",
              "       [ 4506.126  ],\n",
              "       [ 1683.2308 ],\n",
              "       [39520.332  ],\n",
              "       [31615.506  ],\n",
              "       [13249.075  ],\n",
              "       [36238.98   ],\n",
              "       [11227.723  ],\n",
              "       [44368.707  ],\n",
              "       [ 2084.5852 ],\n",
              "       [ 8416.487  ],\n",
              "       [ 5545.5083 ],\n",
              "       [ 4845.6855 ],\n",
              "       [ 3020.9563 ],\n",
              "       [ 4414.836  ],\n",
              "       [ 3819.2476 ],\n",
              "       [ 9778.359  ],\n",
              "       [10524.129  ],\n",
              "       [ 3191.7375 ],\n",
              "       [ 1499.0294 ],\n",
              "       [ 2266.5603 ],\n",
              "       [35959.145  ],\n",
              "       [12643.359  ],\n",
              "       [ 9909.869  ],\n",
              "       [ 1667.2279 ],\n",
              "       [11739.881  ],\n",
              "       [ 1362.7745 ],\n",
              "       [ 8987.178  ],\n",
              "       [ 3016.396  ],\n",
              "       [40804.324  ],\n",
              "       [ 5243.208  ],\n",
              "       [ 1794.4579 ],\n",
              "       [32866.68   ],\n",
              "       [34224.934  ],\n",
              "       [ 9148.004  ],\n",
              "       [ 3074.5417 ],\n",
              "       [ 9018.637  ],\n",
              "       [ 2558.0286 ],\n",
              "       [11557.152  ],\n",
              "       [11392.287  ],\n",
              "       [10549.998  ],\n",
              "       [33681.727  ],\n",
              "       [ 6957.0557 ],\n",
              "       [ 4600.9824 ],\n",
              "       [ 5275.392  ],\n",
              "       [12874.67   ],\n",
              "       [11823.088  ],\n",
              "       [ 6086.209  ],\n",
              "       [ 2344.2527 ],\n",
              "       [ 8194.277  ],\n",
              "       [ 7583.304  ],\n",
              "       [39457.188  ],\n",
              "       [ 2044.8536 ],\n",
              "       [34429.438  ],\n",
              "       [  582.2251 ],\n",
              "       [ 1181.9352 ],\n",
              "       [ 9710.805  ],\n",
              "       [11278.359  ],\n",
              "       [ 1748.624  ],\n",
              "       [ 9401.967  ],\n",
              "       [ 4179.1104 ],\n",
              "       [37942.285  ],\n",
              "       [ 9679.008  ],\n",
              "       [ 9124.283  ],\n",
              "       [ 3810.9622 ],\n",
              "       [ 6895.993  ],\n",
              "       [39694.438  ],\n",
              "       [ 1864.7898 ],\n",
              "       [12044.752  ],\n",
              "       [35394.066  ],\n",
              "       [ 3338.8748 ],\n",
              "       [ 3510.3616 ],\n",
              "       [  923.0512 ],\n",
              "       [ 3048.5593 ],\n",
              "       [ 4054.3394 ],\n",
              "       [ 4523.27   ],\n",
              "       [12706.781  ],\n",
              "       [  555.16345],\n",
              "       [ 1275.9196 ],\n",
              "       [ 7583.7607 ],\n",
              "       [ 3201.5784 ],\n",
              "       [11440.717  ],\n",
              "       [ 2016.9484 ],\n",
              "       [ 3357.383  ],\n",
              "       [11388.885  ],\n",
              "       [ 3570.5574 ],\n",
              "       [ 8956.785  ],\n",
              "       [ 6144.258  ],\n",
              "       [ 8170.3    ],\n",
              "       [12181.469  ],\n",
              "       [34045.062  ],\n",
              "       [43812.04   ],\n",
              "       [11681.896  ],\n",
              "       [ 6708.373  ],\n",
              "       [42420.52   ],\n",
              "       [10047.492  ]], dtype=float32)"
            ]
          },
          "metadata": {},
          "execution_count": 18
        }
      ]
    },
    {
      "cell_type": "code",
      "source": [],
      "metadata": {
        "id": "rRu5kojxi-Lh"
      },
      "execution_count": null,
      "outputs": []
    },
    {
      "cell_type": "code",
      "source": [
        "X[\"age\"].plot(kind=\"hist\")"
      ],
      "metadata": {
        "colab": {
          "base_uri": "https://localhost:8080/",
          "height": 447
        },
        "id": "NFfIArhAl4qq",
        "outputId": "824be74d-d680-4222-bfd5-79ce7f62e8df"
      },
      "execution_count": null,
      "outputs": [
        {
          "output_type": "execute_result",
          "data": {
            "text/plain": [
              "<Axes: ylabel='Frequency'>"
            ]
          },
          "metadata": {},
          "execution_count": 82
        },
        {
          "output_type": "display_data",
          "data": {
            "text/plain": [
              "<Figure size 640x480 with 1 Axes>"
            ],
            "image/png": "[encoded data removed]"
          },
          "metadata": {}
        }
      ]
    },
    {
      "cell_type": "code",
      "source": [
        "X[\"bmi\"].plot(kind=\"hist\")"
      ],
      "metadata": {
        "colab": {
          "base_uri": "https://localhost:8080/",
          "height": 447
        },
        "id": "owpcibSCncmg",
        "outputId": "844c9065-966f-4bc5-9265-a5aa2885fd93"
      },
      "execution_count": null,
      "outputs": [
        {
          "output_type": "execute_result",
          "data": {
            "text/plain": [
              "<Axes: ylabel='Frequency'>"
            ]
          },
          "metadata": {},
          "execution_count": 83
        },
        {
          "output_type": "display_data",
          "data": {
            "text/plain": [
              "<Figure size 640x480 with 1 Axes>"
            ],
            "image/png": "[encoded data removed]"
          },
          "metadata": {}
        }
      ]
    },
    {
      "cell_type": "code",
      "source": [
        "X[\"children\"].value_counts()"
      ],
      "metadata": {
        "colab": {
          "base_uri": "https://localhost:8080/"
        },
        "id": "CqqBvRSLniZD",
        "outputId": "1ae359dc-f278-426d-eabb-dc871df5dc86"
      },
      "execution_count": null,
      "outputs": [
        {
          "output_type": "execute_result",
          "data": {
            "text/plain": [
              "0    574\n",
              "1    324\n",
              "2    240\n",
              "3    157\n",
              "4     25\n",
              "5     18\n",
              "Name: children, dtype: int64"
            ]
          },
          "metadata": {},
          "execution_count": 84
        }
      ]
    },
    {
      "cell_type": "code",
      "source": [],
      "metadata": {
        "id": "f-VJF5uznpDJ"
      },
      "execution_count": null,
      "outputs": []
    }
  ]
}