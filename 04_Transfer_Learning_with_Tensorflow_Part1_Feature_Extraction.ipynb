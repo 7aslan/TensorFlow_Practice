{
  "nbformat": 4,
  "nbformat_minor": 0,
  "metadata": {
    "colab": {
      "provenance": [],
      "gpuType": "T4",
      "authorship_tag": "ABX9TyP33rFVek+kjGthLgU0b6Pl",
      "include_colab_link": true
    },
    "kernelspec": {
      "name": "python3",
      "display_name": "Python 3"
    },
    "language_info": {
      "name": "python"
    },
    "accelerator": "GPU"
  },
  "cells": [
    {
      "cell_type": "markdown",
      "metadata": {
        "id": "view-in-github",
        "colab_type": "text"
      },
      "source": [
        "<a href=\"https://colab.research.google.com/github/7aslan/TensorFlow_Practice/blob/main/Transfer_Learning_with_Tensorflow_Part1_Feature_Extraction.ipynb\" target=\"_parent\"><img src=\"https://colab.research.google.com/assets/colab-badge.svg\" alt=\"Open In Colab\"/></a>"
      ]
    },
    {
      "cell_type": "markdown",
      "source": [
        "#What we're going to cover\n",
        "\n",
        "We're going to go through the following with TensorFlow:\n",
        "\n",
        "    Introduce transfer learning (a way to beat all of our old self-built models)\n",
        "    Using a smaller dataset to experiment faster (10% of training samples of 10 classes of food)\n",
        "    Build a transfer learning feature extraction model using TensorFlow Hub\n",
        "    Introduce the TensorBoard callback to track model training results\n",
        "    Compare model results using TensorBoard\n"
      ],
      "metadata": {
        "id": "-vOT6hYNBqJQ"
      }
    },
    {
      "cell_type": "code",
      "source": [
        "# Add timestamp\n",
        "import datetime\n",
        "print(f\"Notebook last run(end-to-end):{datetime.datetime.now()}\")"
      ],
      "metadata": {
        "colab": {
          "base_uri": "https://localhost:8080/"
        },
        "id": "VYqJbwtfEVLt",
        "outputId": "ea3ac2da-a39e-49e4-d743-7dd88da98151"
      },
      "execution_count": 1,
      "outputs": [
        {
          "output_type": "stream",
          "name": "stdout",
          "text": [
            "Notebook last run(end-to-end):2023-08-01 12:28:43.484026\n"
          ]
        }
      ]
    },
    {
      "cell_type": "code",
      "source": [
        "!nvidia-smi"
      ],
      "metadata": {
        "colab": {
          "base_uri": "https://localhost:8080/"
        },
        "id": "ZRWVNfh7EkPo",
        "outputId": "4dc273f1-0f09-4a50-f5a3-a7198d2cf518"
      },
      "execution_count": 1,
      "outputs": [
        {
          "output_type": "stream",
          "name": "stdout",
          "text": [
            "Tue Aug  1 12:29:47 2023       \n",
            "+-----------------------------------------------------------------------------+\n",
            "| NVIDIA-SMI 525.105.17   Driver Version: 525.105.17   CUDA Version: 12.0     |\n",
            "|-------------------------------+----------------------+----------------------+\n",
            "| GPU  Name        Persistence-M| Bus-Id        Disp.A | Volatile Uncorr. ECC |\n",
            "| Fan  Temp  Perf  Pwr:Usage/Cap|         Memory-Usage | GPU-Util  Compute M. |\n",
            "|                               |                      |               MIG M. |\n",
            "|===============================+======================+======================|\n",
            "|   0  Tesla T4            Off  | 00000000:00:04.0 Off |                    0 |\n",
            "| N/A   41C    P8     9W /  70W |      0MiB / 15360MiB |      0%      Default |\n",
            "|                               |                      |                  N/A |\n",
            "+-------------------------------+----------------------+----------------------+\n",
            "                                                                               \n",
            "+-----------------------------------------------------------------------------+\n",
            "| Processes:                                                                  |\n",
            "|  GPU   GI   CI        PID   Type   Process name                  GPU Memory |\n",
            "|        ID   ID                                                   Usage      |\n",
            "|=============================================================================|\n",
            "|  No running processes found                                                 |\n",
            "+-----------------------------------------------------------------------------+\n"
          ]
        }
      ]
    },
    {
      "cell_type": "markdown",
      "source": [
        "Transfer learning often allows you to get great results with less data.\n",
        "\n",
        "But don't just take my word for it. Let's download a subset of the data we've been using, namely 10% of the training data from the 10_food_classes dataset and use it to train a food image classifier on."
      ],
      "metadata": {
        "id": "3KN-ytvjEq7x"
      }
    },
    {
      "cell_type": "markdown",
      "source": [
        "# Download and become one with data\n"
      ],
      "metadata": {
        "id": "dY_nGe0KGAA7"
      }
    },
    {
      "cell_type": "code",
      "source": [
        "# GEt data(10% of labels)\n",
        "import zipfile\n",
        " #Download data\n",
        "!wget https://storage.googleapis.com/ztm_tf_course/food_vision/10_food_classes_10_percent.zip\n",
        "\n",
        "# Unzip the downloaded file\n",
        "zip_ref = zipfile.ZipFile(\"10_food_classes_10_percent.zip\",\"r\")\n",
        "zip_ref.extractall()\n",
        "zip_ref.close()"
      ],
      "metadata": {
        "colab": {
          "base_uri": "https://localhost:8080/"
        },
        "id": "80g5GTwsGEVd",
        "outputId": "51008cb3-0ebe-4b44-9243-ab7b01870d5a"
      },
      "execution_count": 3,
      "outputs": [
        {
          "output_type": "stream",
          "name": "stdout",
          "text": [
            "--2023-08-01 12:37:12--  https://storage.googleapis.com/ztm_tf_course/food_vision/10_food_classes_10_percent.zip\n",
            "Resolving storage.googleapis.com (storage.googleapis.com)... 172.253.118.128, 74.125.200.128, 74.125.68.128, ...\n",
            "Connecting to storage.googleapis.com (storage.googleapis.com)|172.253.118.128|:443... connected.\n",
            "HTTP request sent, awaiting response... 200 OK\n",
            "Length: 168546183 (161M) [application/zip]\n",
            "Saving to: ‘10_food_classes_10_percent.zip.1’\n",
            "\n",
            "10_food_classes_10_ 100%[===================>] 160.74M  23.9MB/s    in 8.0s    \n",
            "\n",
            "2023-08-01 12:37:20 (20.0 MB/s) - ‘10_food_classes_10_percent.zip.1’ saved [168546183/168546183]\n",
            "\n"
          ]
        }
      ]
    },
    {
      "cell_type": "code",
      "source": [
        "# How many images  are in each folder ?\n",
        "import os\n",
        "# Walk through 10 percent data directory and list numbers of files\n",
        "for dirpath, dirnames, filenames in os.walk(\"10_food_classes_10_percent\"):\n",
        "  print(f\"There are {len(dirnames)} directories and {len(filenames)} images in '{dirpath}'.\")"
      ],
      "metadata": {
        "colab": {
          "base_uri": "https://localhost:8080/"
        },
        "id": "wRYyuFk6GeTX",
        "outputId": "ad654142-7b73-4665-f2c9-a7703573afb0"
      },
      "execution_count": 4,
      "outputs": [
        {
          "output_type": "stream",
          "name": "stdout",
          "text": [
            "There are 2 directories and 0 images in '10_food_classes_10_percent'.\n",
            "There are 10 directories and 0 images in '10_food_classes_10_percent/train'.\n",
            "There are 0 directories and 75 images in '10_food_classes_10_percent/train/steak'.\n",
            "There are 0 directories and 75 images in '10_food_classes_10_percent/train/grilled_salmon'.\n",
            "There are 0 directories and 75 images in '10_food_classes_10_percent/train/ramen'.\n",
            "There are 0 directories and 75 images in '10_food_classes_10_percent/train/ice_cream'.\n",
            "There are 0 directories and 75 images in '10_food_classes_10_percent/train/hamburger'.\n",
            "There are 0 directories and 75 images in '10_food_classes_10_percent/train/sushi'.\n",
            "There are 0 directories and 75 images in '10_food_classes_10_percent/train/chicken_curry'.\n",
            "There are 0 directories and 75 images in '10_food_classes_10_percent/train/fried_rice'.\n",
            "There are 0 directories and 75 images in '10_food_classes_10_percent/train/pizza'.\n",
            "There are 0 directories and 75 images in '10_food_classes_10_percent/train/chicken_wings'.\n",
            "There are 10 directories and 0 images in '10_food_classes_10_percent/test'.\n",
            "There are 0 directories and 250 images in '10_food_classes_10_percent/test/steak'.\n",
            "There are 0 directories and 250 images in '10_food_classes_10_percent/test/grilled_salmon'.\n",
            "There are 0 directories and 250 images in '10_food_classes_10_percent/test/ramen'.\n",
            "There are 0 directories and 250 images in '10_food_classes_10_percent/test/ice_cream'.\n",
            "There are 0 directories and 250 images in '10_food_classes_10_percent/test/hamburger'.\n",
            "There are 0 directories and 250 images in '10_food_classes_10_percent/test/sushi'.\n",
            "There are 0 directories and 250 images in '10_food_classes_10_percent/test/chicken_curry'.\n",
            "There are 0 directories and 250 images in '10_food_classes_10_percent/test/fried_rice'.\n",
            "There are 0 directories and 250 images in '10_food_classes_10_percent/test/pizza'.\n",
            "There are 0 directories and 250 images in '10_food_classes_10_percent/test/chicken_wings'.\n"
          ]
        }
      ]
    },
    {
      "cell_type": "markdown",
      "source": [
        "\n",
        "\n",
        "Notice how each of the training directories now has 75 images rather than 750 images. This is key to demonstrating how well transfer learning can perform with less labelled images.\n",
        "\n",
        "The test directories still have the same amount of images. This means we'll be training on less data but evaluating our models on the same amount of test data.\n"
      ],
      "metadata": {
        "id": "w9sVG1ejHP-W"
      }
    },
    {
      "cell_type": "markdown",
      "source": [
        "# Creating Data Loaders"
      ],
      "metadata": {
        "id": "qOFiZZNCHc4g"
      }
    },
    {
      "cell_type": "markdown",
      "source": [
        "Now we've downloaded the data, let's use the ImageDataGenerator class along with the flow_from_directory method to load in our images."
      ],
      "metadata": {
        "id": "m7Id2dZWHfNA"
      }
    },
    {
      "cell_type": "code",
      "source": [
        "from tensorflow.keras.preprocessing.image import ImageDataGenerator\n",
        "IMAGE_SHAPE = (224,224)\n",
        "BATCH_SIZE = 32\n",
        "train_dir = \"10_food_classes_10_percent/train/\"\n",
        "test_dir = \"10_food_classes_10_percent/test/\"\n",
        "\n",
        "train_datagen = ImageDataGenerator(rescale=1/255.)\n",
        "test_datagen = ImageDataGenerator(rescale = 1/255.)\n",
        "print(\"Trained Images: \")\n",
        "train_data_10_percent = train_datagen.flow_from_directory(train_dir,\n",
        "                                                          target_size = IMAGE_SHAPE,\n",
        "                                                          batch_size = BATCH_SIZE,\n",
        "                                                          class_mode =\"categorical\")\n",
        "print(\"Tested Image:\")\n",
        "test_data = test_datagen.flow_from_directory(test_dir,\n",
        "                                             target_size = IMAGE_SHAPE,\n",
        "                                             batch_size = BATCH_SIZE,\n",
        "                                             class_mode = \"categorical\")"
      ],
      "metadata": {
        "colab": {
          "base_uri": "https://localhost:8080/"
        },
        "id": "RJR0uTNoHkm7",
        "outputId": "82e1149c-86ce-4677-f011-c9ddac9efafb"
      },
      "execution_count": 6,
      "outputs": [
        {
          "output_type": "stream",
          "name": "stdout",
          "text": [
            "Trained Images: \n",
            "Found 750 images belonging to 10 classes.\n",
            "Tested Image:\n",
            "Found 2500 images belonging to 10 classes.\n"
          ]
        }
      ]
    },
    {
      "cell_type": "markdown",
      "source": [
        "# Setting Up Callbacks"
      ],
      "metadata": {
        "id": "c7izF7DSIvJm"
      }
    },
    {
      "cell_type": "markdown",
      "source": [
        "Before we build a model, there's an important concept we're going to get familiar with because it's going to play a key role in our future model building experiments.\n",
        "\n",
        "And that concept is callbacks.\n",
        "\n",
        "Callbacks are extra functionality you can add to your models to be performed during or after training. Some of the most popular callbacks include:\n",
        "\n",
        "    Experiment tracking with TensorBoard - log the performance of multiple models and then view and compare these models in a visual way on TensorBoard (a dashboard for inspecting neural network parameters). Helpful to compare the results of different models on your data.\n",
        "    Model checkpointing - save your model as it trains so you can stop training if needed and come back to continue off where you left. Helpful if training takes a long time and can't be done in one sitting.\n",
        "    Early stopping - leave your model training for an arbitrary amount of time and have it stop training automatically when it ceases to improve. Helpful when you've got a large dataset and don't know how long training will take.\n",
        "\n",
        "We'll explore each of these overtime but for this notebook, we'll see how the TensorBoard callback can be used.\n",
        "\n",
        "The TensorBoard callback can be accessed using tf.keras.callbacks.TensorBoard().\n",
        "\n",
        "Its main functionality is saving a model's training performance metrics to a specified log_dir.\n",
        "\n",
        "By default, logs are recorded every epoch using the update_freq='epoch' parameter. This is a good default since tracking model performance too often can slow down model training.\n",
        "\n",
        "To track our modelling experiments using TensorBoard, let's create a function which creates a TensorBoard callback for us.\n",
        "\n",
        "    🔑 Note: We create a function for creating a TensorBoard callback because as we'll see later on, each model needs its own TensorBoard callback instance (so the function will create a new one each time it's run).\n"
      ],
      "metadata": {
        "id": "F0_BCPRSI4kQ"
      }
    },
    {
      "cell_type": "code",
      "source": [
        "import datetime\n",
        "import tensorflow\n",
        "def create_tensorboard_callback(dir_name, experiment_name):\n",
        "  log_dir = dir_name + \"/\" + experiment_name + \"/\" + datetime.datetime.now().strftime(\"%Y%m%d-%H%M%S\")\n",
        "  tensorboard_callback = tf.keras.callbacks.TensorBoard(\n",
        "      log_dir = log_dir\n",
        "  )\n",
        "  print(f\"Saving Tensorboard log files to : {log_dir}\")\n",
        "  return tensorboard_callback\n",
        ""
      ],
      "metadata": {
        "id": "_jB3bS5hJSuZ"
      },
      "execution_count": 33,
      "outputs": []
    },
    {
      "cell_type": "markdown",
      "source": [
        "In our case, our function saves a model's performance logs to a directory named [dir_name]/[experiment_name]/[current_timestamp], where:\n",
        "\n",
        "    dir_name is the overall logs directory\n",
        "    experiment_name is the particular experiment\n",
        "    current_timestamp is the time the experiment started based on Python's datetime.datetime().now()\n",
        "\n",
        "    🔑 Note: Depending on your use case, the above experimenting tracking naming method may work or you might require something more specific. The good news is, the TensorBoard callback makes it easy to track modelling logs as long as you specify where to track them. So you can get as creative as you like with how you name your experiments, just make sure you or your team can understand them.\n"
      ],
      "metadata": {
        "id": "VPNmuVeoKTq-"
      }
    },
    {
      "cell_type": "markdown",
      "source": [
        "#TensorFlow Hub\n",
        "\n",
        "Creating models using\n",
        "\n",
        "In the past we've used TensorFlow to create our own models layer by layer from scratch.\n",
        "\n",
        "Now we're going to do a similar process, except the majority of our model's layers are going to come from TensorFlow Hub.\n",
        "\n",
        "In fact, we're going to use two models from TensorFlow Hub:\n",
        "\n",
        "    ResNetV2 - a state of the art computer vision model architecture from 2016.\n",
        "    EfficientNet - a state of the art computer vision architecture from 2019.\n",
        "\n",
        "State of the art means that at some point, both of these models have achieved the lowest error rate on ImageNet (ILSVRC-2012-CLS), the gold standard of computer vision benchmarks."
      ],
      "metadata": {
        "id": "NoAS9xWbMTAZ"
      }
    },
    {
      "cell_type": "markdown",
      "source": [
        "\n",
        "    \"As is\" transfer learning is when you take a pretrained model as it is and apply it to your task without any changes.\n",
        "\n",
        "    For example, many computer vision models are pretrained on the ImageNet dataset which contains 1000 different classes of images. This means passing a single image to this model will produce 1000 different prediction probability values (1 for each class).\n",
        "        This is helpful if you have 1000 classes of image you'd like to classify and they're all the same as the ImageNet classes, however, it's not helpful if you want to classify only a small subset of classes (such as 10 different kinds of food). Model's with \"/classification\" in their name on TensorFlow Hub provide this kind of functionality.\n",
        "\n",
        "    Feature extraction transfer learning is when you take the underlying patterns (also called weights) a pretrained model has learned and adjust its outputs to be more suited to your problem.\n",
        "\n",
        "    For example, say the pretrained model you were using had 236 different layers (EfficientNetB0 has 236 layers), but the top layer outputs 1000 classes because it was pretrained on ImageNet. To adjust this to your own problem, you might remove the original activation layer and replace it with your own but with the right number of output classes. The important part here is that only the top few layers become trainable, the rest remain frozen.\n",
        "        This way all the underlying patterns remain in the rest of the layers and you can utilise them for your own problem. This kind of transfer learning is very helpful when your data is similar to the data a model has been pretrained on.\n",
        "\n",
        "    Fine-tuning transfer learning is when you take the underlying patterns (also called weights) of a pretrained model and adjust (fine-tune) them to your own problem.\n",
        "        This usually means training some, many or all of the layers in the pretrained model. This is useful when you've got a large dataset (e.g. 100+ images per class) where your data is slightly different to the data the original model was trained on.\n",
        "\n",
        "A common workflow is to \"freeze\" all of the learned patterns in the bottom layers of a pretrained model so they're untrainable. And then train the top 2-3 layers of so the pretrained model can adjust its outputs to your custom data (feature extraction).\n",
        "\n",
        "After you've trained the top 2-3 layers, you can then gradually \"unfreeze\" more and more layers and run the training process on your own data to further fine-tune the pretrained model.\n",
        "\n"
      ],
      "metadata": {
        "id": "alKBgk-MMYKe"
      }
    },
    {
      "cell_type": "markdown",
      "source": [
        "\n",
        "\n",
        "    🤔 Question: Why train only the top 2-3 layers in feature extraction?\n",
        "\n",
        "The lower a layer is in a computer vision model as in, the closer it is to the input layer, the larger the features it learn. For example, a bottom layer in a computer vision model to identify images of cats or dogs might learn the outline of legs, where as, layers closer to the output might learn the shape of teeth. Often, you'll want the larger features (learned patterns are also called features) to remain, since these are similar for both animals, where as, the differences remain in the more fine-grained features.\n",
        "\n"
      ],
      "metadata": {
        "id": "oVvv7ZpmOLWd"
      }
    },
    {
      "cell_type": "code",
      "source": [
        "import tensorflow as tf\n",
        "import tensorflow_hub as hub\n",
        "from tensorflow.keras import layers\n"
      ],
      "metadata": {
        "id": "8WLK6GnnOPXA"
      },
      "execution_count": 9,
      "outputs": []
    },
    {
      "cell_type": "markdown",
      "source": [
        "Now we'll get the feature vector URLs of two common computer vision architectures, EfficientNetB0 (2019) and ResNetV250 (2016) from TensorFlow Hub using the steps above.\n",
        "\n",
        "We're getting both of these because we're going to compare them to see which performs better on our data.\n",
        "\n",
        "    🔑 Note: Comparing different model architecture performance on the same data is a very common practice. The simple reason is because you want to know which model performs best for your problem.\n",
        "\n",
        "    Update: As of 14 August 2021, EfficientNet V2 pretrained models are available on TensorFlow Hub. The original code in this notebook uses EfficientNet V1, it has been left unchanged. In my experiments with this dataset, V1 outperforms V2. Best to experiment with your own data and see what suits you"
      ],
      "metadata": {
        "id": "EBJBgPB5OcJh"
      }
    },
    {
      "cell_type": "code",
      "source": [
        "# ResNet50 V2 Feature vector\n",
        "resnet_url = \"https://tfhub.dev/google/imagenet/resnet_v2_50/feature_vector/4\"\n",
        "# Original : EfficentNetB0 feature vector (version 1)\n",
        "efficientnet_url = \"https://tfhub.dev/tensorflow/efficientnet/b0/feature-vector/1\"\n"
      ],
      "metadata": {
        "id": "SJihwL7JOh0L"
      },
      "execution_count": 10,
      "outputs": []
    },
    {
      "cell_type": "markdown",
      "source": [
        "These URLs link to a saved pretrained model on TensorFlow Hub.\n",
        "\n",
        "When we use them in our model, the model will automatically be downloaded for us to use.\n",
        "\n",
        "To do this, we can use the KerasLayer() model inside the TensorFlow hub library.\n",
        "\n",
        "Since we're going to be comparing two models, to save ourselves code, we'll create a function create_model(). This function will take a model's TensorFlow Hub URL, instatiate a Keras Sequential model with the appropriate number of output layers and return the model"
      ],
      "metadata": {
        "id": "ofyvg-ZgQuv4"
      }
    },
    {
      "cell_type": "code",
      "source": [
        "def create_model(model_url, num_classes=10):\n",
        "  \"\"\"Takes a TensorFlow Hub URL and creates a Keras Sequential model with it.\n",
        "\n",
        "  Args:\n",
        "    model_url (str): A TensorFlow Hub feature extraction URL.\n",
        "    num_classes (int): Number of output neurons in output layer,\n",
        "      should be equal to number of target classes, default 10.\n",
        "\n",
        "  Returns:\n",
        "    An uncompiled Keras Sequential model with model_url as feature\n",
        "    extractor layer and Dense output layer with num_classes outputs.\"\"\"\n",
        "    # Download a pretrained model and save it as a keras layer\n",
        "  fetaure_extractor_layer = hub.KerasLayer(model_url,\n",
        "                                            trainable=False,  # Freeze the underlying patterns\n",
        "                                            name= 'feature_extraction_layer',\n",
        "                                            input_shape=IMAGE_SHAPE+(3,))  # define the input image shape\n",
        "\n",
        "    #Create our own model\n",
        "  model = tf.keras.Sequential([\n",
        "      fetaure_extractor_layer,  # use the feature extraction layer as the base\n",
        "      layers.Dense(num_classes,activation=\"softmax\",name=\"output_layer\")  # Create our own output layer\n",
        "    ])\n",
        "\n",
        "  return model"
      ],
      "metadata": {
        "id": "ww1es3lwQvkX"
      },
      "execution_count": 15,
      "outputs": []
    },
    {
      "cell_type": "markdown",
      "source": [
        "\n",
        "\n",
        "Great! Now we've got a function for creating a model, we'll use it to first create a model using the ResNetV250 architecture as our feature extraction layer.\n",
        "\n",
        "Once the model is instantiated, we'll compile it using categorical_crossentropy as our loss function, the Adam optimizer and accuracy as our metric.\n"
      ],
      "metadata": {
        "id": "4goQM9DzSAtO"
      }
    },
    {
      "cell_type": "code",
      "source": [
        "# Create model\n",
        "resnet_model=create_model(resnet_url, num_classes = train_data_10_percent.num_classes)\n",
        "\n",
        "# Compile\n",
        "resnet_model.compile(loss=\"categorical_crossentropy\",\n",
        "                     optimizer=\"Adam\",\n",
        "                     metrics=[\"accuracy\"])"
      ],
      "metadata": {
        "id": "OJHBUxahSQ0l"
      },
      "execution_count": 16,
      "outputs": []
    },
    {
      "cell_type": "markdown",
      "source": [
        "Beautiful. Time to fit the model.\n",
        "\n",
        "We've got the training data ready in train_data_10_percent as well as the test data saved as test_data.\n",
        "\n",
        "But before we call the fit function, there's one more thing we're going to add, a callback. More specifically, a TensorBoard callback so we can track the performance of our model on TensorBoard.\n",
        "\n",
        "We can add a callback to our model by using the callbacks parameter in the fit function.\n",
        "\n",
        "In our case, we'll pass the callbacks parameter the create_tensorboard_callback() we created earlier with some specific inputs so we know what experiments we're running.\n",
        "\n",
        "Let's keep this experiment short and train for 5 epochs."
      ],
      "metadata": {
        "id": "e671TeuZSlS5"
      }
    },
    {
      "cell_type": "code",
      "source": [
        "resnet_history = resnet_model.fit(train_data_10_percent,\n",
        "                                  epochs=5,\n",
        "                                  steps_per_epoch=len(train_data_10_percent),\n",
        "                                  validation_data=test_data,\n",
        "                                  validation_steps=len(test_data),\n",
        "                                  # Add Tensorboard callback to model(callbacks paremeter takes a list)\n",
        "                                  callbacks=[create_tensorboard_callback(dir_name=\"tensorflow_hub\", #save experiment logs here\n",
        "                                                                         experiment_name=\"resnet50v2\")] )#name of log files"
      ],
      "metadata": {
        "colab": {
          "base_uri": "https://localhost:8080/"
        },
        "id": "cHt0i5ZJTVNM",
        "outputId": "5b2e7dfa-86d4-4243-8a22-6ec6df444e86"
      },
      "execution_count": 34,
      "outputs": [
        {
          "output_type": "stream",
          "name": "stdout",
          "text": [
            "Saving Tensorboard log files to : tensorflow_hub/resnet50v2/20230801-134331\n",
            "Epoch 1/5\n",
            "24/24 [==============================] - 27s 573ms/step - loss: 1.9378 - accuracy: 0.3680 - val_loss: 1.1969 - val_accuracy: 0.6248\n",
            "Epoch 2/5\n",
            "24/24 [==============================] - 11s 477ms/step - loss: 0.8807 - accuracy: 0.7507 - val_loss: 0.8517 - val_accuracy: 0.7340\n",
            "Epoch 3/5\n",
            "24/24 [==============================] - 11s 487ms/step - loss: 0.5892 - accuracy: 0.8373 - val_loss: 0.7572 - val_accuracy: 0.7564\n",
            "Epoch 4/5\n",
            "24/24 [==============================] - 11s 481ms/step - loss: 0.4581 - accuracy: 0.8947 - val_loss: 0.7051 - val_accuracy: 0.7760\n",
            "Epoch 5/5\n",
            "24/24 [==============================] - 11s 481ms/step - loss: 0.3567 - accuracy: 0.9200 - val_loss: 0.6907 - val_accuracy: 0.7780\n"
          ]
        }
      ]
    },
    {
      "cell_type": "markdown",
      "source": [
        "\n",
        "\n",
        "Wow!\n",
        "\n",
        "It seems that after only 5 epochs, the ResNetV250 feature extraction model was able to blow any of the architectures we made out of the water, achieving around 90% accuracy on the training set and nearly 80% accuracy on the test set...with only 10 percent of the training images!\n",
        "\n",
        "That goes to show the power of transfer learning. And it's one of the main reasons whenever you're trying to model your own datasets, you should look into what pretrained models already exist.\n",
        "\n",
        "Let's check out our model's training curves using our plot_loss_curves function.\n"
      ],
      "metadata": {
        "id": "EkJ5TxdNUFt_"
      }
    },
    {
      "cell_type": "code",
      "source": [
        "# If you wana do , you could really turn this into a helper function to load in with a helper.py script\n",
        "import matplotlib.pyplot as plt\n",
        "# Plot the validation and and training data seperately\n",
        "def plot_loss_curves(history):\n",
        "  \"\"\"REturns seperate loss curves dor trraining and validation metrcis\n",
        "  \"\"\"\n",
        "  loss=history.history[\"loss\"]\n",
        "  val_loss=history.history[\"val_loss\"]\n",
        "  accuracy = history.history[\"accuracy\"]\n",
        "  val_accuracy=history.history[\"val_accuracy\"]\n",
        "\n",
        "  epochs = range(len(history.history[\"loss\"]))\n",
        "\n",
        "  # Plot the loss\n",
        "  plt.plot(epochs, loss, label=\"training_loss\")\n",
        "  plt.plot(epochs, val_loss, label=\"val_loss\")\n",
        "  plt.title(\"loss\")\n",
        "  plt.xlabel(\"epochs\")\n",
        "  plt.legend()\n",
        "\n",
        "\n",
        "  # Plot accuracy\n",
        "  plt.figure()\n",
        "  plt.plot(epochs, accuracy, label=\"training_accuracy\")\n",
        "  plt.plot(epochs, val_accuracy, label=(\"val_accuracy\"))\n",
        "  plt.title(\"accuracy\")\n",
        "  plt.xlabel(\"epochs\")\n",
        "  plt.legend();"
      ],
      "metadata": {
        "id": "k_ywj9rHWTSO"
      },
      "execution_count": 40,
      "outputs": []
    },
    {
      "cell_type": "code",
      "source": [
        "plot_loss_curves(resnet_history)"
      ],
      "metadata": {
        "colab": {
          "base_uri": "https://localhost:8080/",
          "height": 927
        },
        "id": "GQoovAfVX0aj",
        "outputId": "4c654728-1c08-41bf-cfb0-01a0ab7bf7b0"
      },
      "execution_count": 41,
      "outputs": [
        {
          "output_type": "display_data",
          "data": {
            "text/plain": [
              "<Figure size 640x480 with 1 Axes>"
            ],
            "image/png": "[encoded data removed]"
          },
          "metadata": {}
        },
        {
          "output_type": "display_data",
          "data": {
            "text/plain": [
              "<Figure size 640x480 with 1 Axes>"
            ],
            "image/png": "[encoded data removed]"
          },
          "metadata": {}
        }
      ]
    },
    {
      "cell_type": "code",
      "source": [
        "# Summary of our model ?\n",
        "resnet_model.summary()"
      ],
      "metadata": {
        "colab": {
          "base_uri": "https://localhost:8080/"
        },
        "id": "5eTJcPKKX81x",
        "outputId": "b099a619-9bc4-424c-c38e-bfcece5f2766"
      },
      "execution_count": 42,
      "outputs": [
        {
          "output_type": "stream",
          "name": "stdout",
          "text": [
            "Model: \"sequential\"\n",
            "_________________________________________________________________\n",
            " Layer (type)                Output Shape              Param #   \n",
            "=================================================================\n",
            " feature_extraction_layer (K  (None, 2048)             23564800  \n",
            " erasLayer)                                                      \n",
            "                                                                 \n",
            " output_layer (Dense)        (None, 10)                20490     \n",
            "                                                                 \n",
            "=================================================================\n",
            "Total params: 23,585,290\n",
            "Trainable params: 20,490\n",
            "Non-trainable params: 23,564,800\n",
            "_________________________________________________________________\n"
          ]
        }
      ]
    },
    {
      "cell_type": "markdown",
      "source": [
        "You can see the power of TensorFlow Hub here. The feature extraction layer has 23,564,800 parameters which are prelearned patterns the model has already learned on the ImageNet dataset. Since we set trainable=False, these patterns remain frozen (non-trainable) during training.\n",
        "\n",
        "This means during training the model updates the 20,490 parameters in the output layer to suit our dataset.\n",
        "\n",
        "Okay, we've trained a ResNetV250 model, time to do the same with EfficientNetB0 model.\n",
        "\n",
        "The setup will be the exact same as before, except for the model_url parameter in the create_model() function and the experiment_name parameter in the create_tensorboard_callback() function."
      ],
      "metadata": {
        "id": "h-Bf_WkmYPY7"
      }
    },
    {
      "cell_type": "code",
      "source": [
        "# Create model\n",
        "efficientnet_model= create_model(model_url = efficientnet_url, # use efficientnetb0 tensorflow hub url\n",
        "                                 num_classes = train_data_10_percent.num_classes)\n",
        "# Compile the model\n",
        "efficientnet_model.compile(loss=\"categorical_crossentropy\",\n",
        "                          optimizer=tf.keras.optimizers.Adam(),\n",
        "                          metrics=[\"accuracy\"])\n",
        "# Fit the model\n",
        "efficientnet_history = efficientnet_model.fit(train_data_10_percent,\n",
        "                                              epochs=5,\n",
        "                                              steps_per_epoch=len(train_data_10_percent),\n",
        "                                              validation_data=test_data,\n",
        "                                              validation_steps=len(test_data,),\n",
        "                                              callbacks=[create_tensorboard_callback(dir_name=\"tensorflow_hub\",\n",
        "                                                                                     experiment_name=\"efficientnetb0\")])"
      ],
      "metadata": {
        "colab": {
          "base_uri": "https://localhost:8080/"
        },
        "id": "211aqlmkYp2z",
        "outputId": "6d66ae2b-2546-43b7-da14-d830214ce3b6"
      },
      "execution_count": 45,
      "outputs": [
        {
          "output_type": "stream",
          "name": "stdout",
          "text": [
            "Saving Tensorboard log files to : tensorflow_hub/efficientnetb0/20230801-140300\n",
            "Epoch 1/5\n",
            "24/24 [==============================] - 25s 565ms/step - loss: 1.8848 - accuracy: 0.4173 - val_loss: 1.3252 - val_accuracy: 0.7256\n",
            "Epoch 2/5\n",
            "24/24 [==============================] - 11s 471ms/step - loss: 1.0703 - accuracy: 0.7573 - val_loss: 0.8805 - val_accuracy: 0.8164\n",
            "Epoch 3/5\n",
            "24/24 [==============================] - 11s 492ms/step - loss: 0.7643 - accuracy: 0.8347 - val_loss: 0.7039 - val_accuracy: 0.8424\n",
            "Epoch 4/5\n",
            "24/24 [==============================] - 11s 467ms/step - loss: 0.6139 - accuracy: 0.8653 - val_loss: 0.6143 - val_accuracy: 0.8500\n",
            "Epoch 5/5\n",
            "24/24 [==============================] - 12s 506ms/step - loss: 0.5176 - accuracy: 0.8947 - val_loss: 0.5602 - val_accuracy: 0.8632\n"
          ]
        }
      ]
    },
    {
      "cell_type": "markdown",
      "source": [
        "With a couple of lines of code we're able to leverage state of the art models and adjust them to our own use case.\n",
        "\n",
        "Let's check out the loss curves."
      ],
      "metadata": {
        "id": "nEiMVp2JZ-pr"
      }
    },
    {
      "cell_type": "code",
      "source": [
        "plot_loss_curves(efficientnet_history)"
      ],
      "metadata": {
        "colab": {
          "base_uri": "https://localhost:8080/",
          "height": 927
        },
        "id": "mPQO3w_ZamB6",
        "outputId": "1ee60936-8dd7-41f5-aa59-8200db28046c"
      },
      "execution_count": 47,
      "outputs": [
        {
          "output_type": "display_data",
          "data": {
            "text/plain": [
              "<Figure size 640x480 with 1 Axes>"
            ],
            "image/png": "[encoded data removed]"
          },
          "metadata": {}
        },
        {
          "output_type": "display_data",
          "data": {
            "text/plain": [
              "<Figure size 640x480 with 1 Axes>"
            ],
            "image/png": "[encoded data removed]"
          },
          "metadata": {}
        }
      ]
    },
    {
      "cell_type": "code",
      "source": [
        "efficientnet_model.summary()"
      ],
      "metadata": {
        "colab": {
          "base_uri": "https://localhost:8080/"
        },
        "id": "8XJhTx0raqaG",
        "outputId": "84223e9f-aa38-4705-cfc2-71a19d41f5a5"
      },
      "execution_count": 48,
      "outputs": [
        {
          "output_type": "stream",
          "name": "stdout",
          "text": [
            "Model: \"sequential_3\"\n",
            "_________________________________________________________________\n",
            " Layer (type)                Output Shape              Param #   \n",
            "=================================================================\n",
            " feature_extraction_layer (K  (None, 1280)             4049564   \n",
            " erasLayer)                                                      \n",
            "                                                                 \n",
            " output_layer (Dense)        (None, 10)                12810     \n",
            "                                                                 \n",
            "=================================================================\n",
            "Total params: 4,062,374\n",
            "Trainable params: 12,810\n",
            "Non-trainable params: 4,049,564\n",
            "_________________________________________________________________\n"
          ]
        }
      ]
    },
    {
      "cell_type": "markdown",
      "source": [
        "It seems despite having over four times less parameters (4,049,564 vs. 23,564,800) than the ResNet50V2 extraction layer, the EfficientNetB0 feature extraction layer yields better performance. Now it's clear where the \"efficient\" name came from."
      ],
      "metadata": {
        "id": "-I9VGhfca3Ij"
      }
    },
    {
      "cell_type": "markdown",
      "source": [
        "# Comparing models uing TensorBoard"
      ],
      "metadata": {
        "id": "IgkDC72gbgxw"
      }
    },
    {
      "cell_type": "markdown",
      "source": [
        "\n",
        "Comparing models using TensorBoard\n",
        "\n",
        "Alright, even though we've already compared the performance of our two models by looking at the accuracy scores. But what if you had more than two models?\n",
        "\n",
        "That's where an experiment tracking tool like TensorBoard (preinstalled in Google Colab) comes in.\n",
        "\n",
        "The good thing is, since we set up a TensorBoard callback, all of our model's training logs have been saved automatically. To visualize them, we can upload the results to TensorBoard.dev.\n",
        "\n",
        "Uploading your results to TensorBoard.dev enables you to track and share multiple different modelling experiments. So if you needed to show someone your results, you could send them a link to your TensorBoard.dev as well as the accompanying Colab notebook.\n",
        "\n",
        "    🔑 Note: These experiments are public, do not upload sensitive data. You can delete experiments if needed.\n"
      ],
      "metadata": {
        "id": "4e19lM-ibk2H"
      }
    },
    {
      "cell_type": "code",
      "source": [
        "# Upload TensorBoard  dev records\n",
        "!tensorboard dev upload --logdir ./tensorflow_hub/ \\\n",
        "--name \"EfficientNetB0 vs. ResNet50V2\" \\\n",
        "--description \"Comparing two different TF Hub feature extraction models arhitectures using 10% of training images \"\\\n",
        "--one_shot"
      ],
      "metadata": {
        "colab": {
          "base_uri": "https://localhost:8080/"
        },
        "id": "jw_uF6y2bmzV",
        "outputId": "6600db71-575f-4b83-b567-e4322a1241e3"
      },
      "execution_count": 55,
      "outputs": [
        {
          "output_type": "stream",
          "name": "stdout",
          "text": [
            "2023-08-01 15:05:29.787838: W tensorflow/compiler/tf2tensorrt/utils/py_utils.cc:38] TF-TRT Warning: Could not find TensorRT\n",
            "\n",
            "New experiment created. View your TensorBoard at: https://tensorboard.dev/experiment/NMG0syL5Qw2KPj1JpslHag/\n",
            "\n",
            "\u001b[1m[2023-08-01T15:05:32]\u001b[0m Started scanning logdir.\n",
            "\u001b[1m[2023-08-01T15:05:36]\u001b[0m Total uploaded: 60 scalars, 0 tensors, 2 binary objects (5.7 MB)\n",
            "\u001b[1m[2023-08-01T15:05:36]\u001b[0m Done scanning logdir.\n",
            "\n",
            "\n",
            "Done. View your TensorBoard at https://tensorboard.dev/experiment/NMG0syL5Qw2KPj1JpslHag/\n"
          ]
        }
      ]
    },
    {
      "cell_type": "code",
      "source": [
        "# Check out the experiments:\n",
        "! tensorboard dev list"
      ],
      "metadata": {
        "colab": {
          "base_uri": "https://localhost:8080/"
        },
        "id": "4u17zBfcf2Yv",
        "outputId": "99ad1e7d-8b06-4f0d-f7ba-3795e0e74d4a"
      },
      "execution_count": 56,
      "outputs": [
        {
          "output_type": "stream",
          "name": "stdout",
          "text": [
            "2023-08-01 15:05:46.229137: W tensorflow/compiler/tf2tensorrt/utils/py_utils.cc:38] TF-TRT Warning: Could not find TensorRT\n",
            "https://tensorboard.dev/experiment/NMG0syL5Qw2KPj1JpslHag/\n",
            "\tName                 EfficientNetB0 vs. ResNet50V2\n",
            "\tDescription          Comparing two different TF Hub feature extraction models arhitectures using 10% of training images \n",
            "\tId                   NMG0syL5Qw2KPj1JpslHag\n",
            "\tCreated              2023-08-01 15:05:32 (16 seconds ago)\n",
            "\tUpdated              2023-08-01 15:05:36 (12 seconds ago)\n",
            "\tRuns                 4\n",
            "\tTags                 5\n",
            "\tScalars              60\n",
            "\tTensor bytes         0\n",
            "\tBinary object bytes  5938654\n",
            "https://tensorboard.dev/experiment/krH6EtYcR5GW4n1IEKzcWw/\n",
            "\tName                 EfficientNetB0 vs. ResNet50V2\n",
            "\tDescription          Comparing two different TF Hub feature extraction models arhitectures using 10% of training images \n",
            "\tId                   krH6EtYcR5GW4n1IEKzcWw\n",
            "\tCreated              2023-08-01 15:04:51 (57 seconds ago)\n",
            "\tUpdated              2023-08-01 15:04:56 (52 seconds ago)\n",
            "\tRuns                 4\n",
            "\tTags                 5\n",
            "\tScalars              60\n",
            "\tTensor bytes         0\n",
            "\tBinary object bytes  5938654\n",
            "https://tensorboard.dev/experiment/F74rV2KaTvGMfEUW3bVOpw/\n",
            "\tName                 EfficientNetB0 vs. ResNet50V2\n",
            "\tDescription          Comparing two different TF Hub feature extraction models arhitectures using 10% of training images \n",
            "\tId                   F74rV2KaTvGMfEUW3bVOpw\n",
            "\tCreated              2023-08-01 14:32:24 (33 minutes ago)\n",
            "\tUpdated              2023-08-01 14:32:27 (33 minutes ago)\n",
            "\tRuns                 4\n",
            "\tTags                 5\n",
            "\tScalars              60\n",
            "\tTensor bytes         0\n",
            "\tBinary object bytes  5938654\n",
            "Total: 3 experiment(s)\n"
          ]
        }
      ]
    },
    {
      "cell_type": "code",
      "source": [
        "!tensorboard dev delete --experiment_id krH6EtYcR5GW4n1IEKzcWw\n",
        "!tensorboard dev delete --experiment_id NMG0syL5Qw2KPj1JpslHag"
      ],
      "metadata": {
        "colab": {
          "base_uri": "https://localhost:8080/"
        },
        "id": "6L--7WKWnTmp",
        "outputId": "4b783ebc-31ea-499d-c81f-e6f4acc0af70"
      },
      "execution_count": 57,
      "outputs": [
        {
          "output_type": "stream",
          "name": "stdout",
          "text": [
            "2023-08-01 15:07:55.375233: W tensorflow/compiler/tf2tensorrt/utils/py_utils.cc:38] TF-TRT Warning: Could not find TensorRT\n",
            "Deleted experiment krH6EtYcR5GW4n1IEKzcWw.\n",
            "2023-08-01 15:08:01.310686: W tensorflow/compiler/tf2tensorrt/utils/py_utils.cc:38] TF-TRT Warning: Could not find TensorRT\n",
            "Deleted experiment NMG0syL5Qw2KPj1JpslHag.\n"
          ]
        }
      ]
    },
    {
      "cell_type": "code",
      "source": [
        "!tensorboard dev list"
      ],
      "metadata": {
        "colab": {
          "base_uri": "https://localhost:8080/"
        },
        "id": "kapqW9TEpCe1",
        "outputId": "0cce30ac-7c04-4f63-e172-6267a290305a"
      },
      "execution_count": 58,
      "outputs": [
        {
          "output_type": "stream",
          "name": "stdout",
          "text": [
            "2023-08-01 15:08:24.838966: W tensorflow/compiler/tf2tensorrt/utils/py_utils.cc:38] TF-TRT Warning: Could not find TensorRT\n",
            "https://tensorboard.dev/experiment/F74rV2KaTvGMfEUW3bVOpw/\n",
            "\tName                 EfficientNetB0 vs. ResNet50V2\n",
            "\tDescription          Comparing two different TF Hub feature extraction models arhitectures using 10% of training images \n",
            "\tId                   F74rV2KaTvGMfEUW3bVOpw\n",
            "\tCreated              2023-08-01 14:32:24 (36 minutes ago)\n",
            "\tUpdated              2023-08-01 14:32:27 (36 minutes ago)\n",
            "\tRuns                 4\n",
            "\tTags                 5\n",
            "\tScalars              60\n",
            "\tTensor bytes         0\n",
            "\tBinary object bytes  5938654\n",
            "Total: 1 experiment(s)\n"
          ]
        }
      ]
    },
    {
      "cell_type": "code",
      "source": [],
      "metadata": {
        "id": "-RgEecokpJWr"
      },
      "execution_count": null,
      "outputs": []
    }
  ]
}
